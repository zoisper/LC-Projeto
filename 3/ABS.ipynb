{
 "cells": [
  {
   "cell_type": "markdown",
   "id": "893807d5",
   "metadata": {},
   "source": [
    "# **TP3 - Grupo 4**\n",
    "Pedro Paulo Costa Pereira - A88062\n",
    "\n",
    "Tiago André Oliveira Leite - A91693"
   ]
  },
  {
   "cell_type": "markdown",
   "id": "8e6d06e0",
   "metadata": {},
   "source": [
    "# **Problema - Sistema de Travgem ABS**\n",
    "No contexto do sistema de travagem ABS (“Anti-Lock Breaking System”), pretende-se construir um autómato híbrido que descreva o sistema e que  possa ser usado para verificar as suas propriedades dinâmicas.\n",
    "\n",
    "    \n",
    "1. A componente discreta do autómato contém os modos:  `Start`,  `Free`,  `Stopping`, `Blocked`, e `Stopped`. No modo `Free`  não existe qualquer força de travagem; no modo `Stopping` aplica-se a força de travagem alta; no modo `Blocked` as rodas estão bloqueadas em relação ao corpo mas o veículo  desloca-se; no modo `Stopped` o veículo está imobilizado.\n",
    "\n",
    "\n",
    "2. A componente contínua  do autómato usa variáveis contínuas $\\,V,v\\,$$ para descrever a  `velocidade do corpo`  do veículo em relação ao solo e a `velocidade linear das rodas` também em relação ao solo. \n",
    "    Assume-se que o sistema de travagem exerce uma força de atrito  nos travões proporcional à diferença das duas velocidades.  A dinâmica contínua está descrita  abaixo no bloco Equaçoes de Fluxo.\n",
    "\n",
    "\n",
    "3. Os “switchs” (“jumps”) são a componente de projeto deste trabalho; cabe ao aluno definir quais devem ser estas  condições de modo a que o sistema tenha um comportamento desejável: imobilize-se depressa e não “derrape” muito.\n",
    "\n",
    "\n",
    "4. Faça\n",
    "    1. Defina um autómato híbrido que descreva a dinâmica do sistema segundo as notas abaixo indicadas e com os “switchs” por si escolhidos.\n",
    "    2. Modele em lógica temporal linear LT  propriedades que caracterizam o comportamento desejável do sistema. Nomeadamente \n",
    "        1. ”o veículo imobiliza-se completamente em menos de $t$ segundos” \n",
    "        2. “a velocidade $V$ diminui sempre com o tempo”.\n",
    "    3. Codifique em SMT’s o modelo que definiu em a.\n",
    "    4. Codifique a verificação das propriedades temporais que definiu em b.\n",
    "\n",
    "**Equações de Fluxo** \n",
    "\n",
    "1. Durante  a travagem não existe qualquer  força no sistema excepto as forças de atrito. Quando uma superfície se desloca em relação à outra, a força de atrito  é proporcional à força de compressão entre elas. \n",
    "2. No contacto rodas/solo o atrito é constante porque a força de compressão é o peso; tem-se $f = a\\cdot P$ sendo  $a$ a constante de atrito e $P$ o peso. Ambos são fixos e independentes do modo.\n",
    "3. No contacto corpo/rodas,  a força de compressão é a força de travagem que aqui se assume como proporcional à diferença de velocidades  $F =  c\\cdot (V-v)$.  A  constante de proporcionalidade $c$ depende do modo: é elevada no modo `Stopping` e baixa nos outros.\n",
    "4. Existe um atrito no contacto corpo/ar  que é aproximado por uma constante positiva $\\,b$.\n",
    "5. As equações que traduzem a dinâmica  do sistema são, em todos os modo excepto `Blocked`,\n",
    "\n",
    "$$\\begin{array}{c} \\dot{V} & = & - c\\cdot(V-v) - b\\\\ \\dot{v} & = & -a\\cdot P  + c\\cdot(V-v) \\end{array}$$   \n",
    "\n",
    "e , no modo `Blocked`,  a dinâmica do sistema é  regida por\n",
    "\n",
    "$$\n",
    "\\begin{array}{c} (V = v) \\;\\land\\; (\\,\\dot{V}\\,=\\, -a\\cdot P - b\\,) \\end{array} $$\n",
    "\n",
    "\n",
    "6. Tanto no modo `Blocked`  como no modo `Free`  existe um “timer” que impede que se permaneça nesses modo mais do que $\\,\\tau\\,$segundos. Os $\\mathsf{jumps}(V,v,t,V',v',t')\\,$ com origem nesses modos devem forçar esta condição.\n",
    "7. No instante inicial assume-se $\\,V = v\\,=\\,V_0$  ,  em que a velocidade $V_0$ é o “input” do problema."
   ]
  },
  {
   "cell_type": "code",
   "execution_count": null,
   "id": "1ee08fbb",
   "metadata": {},
   "outputs": [],
   "source": [
    "!pip install z3-solver"
   ]
  },
  {
   "cell_type": "code",
   "execution_count": null,
   "id": "96d80af7",
   "metadata": {},
   "outputs": [],
   "source": [
    "from z3 import *\n",
    "\n",
    "Mode, (INIT,ON,OFF) = EnumSort('Mode', ('START','FREE','STOPPING', 'BLOCKED','STOPPED'))"
   ]
  },
  {
   "cell_type": "code",
   "execution_count": 13,
   "id": "64c7f0c8",
   "metadata": {},
   "outputs": [],
   "source": [
    "def declare(i):\n",
    "    s = {}\n",
    "    s['t'] = Real('t'+str(i)) # tempo\n",
    "    s['v'] = Real('v'+str(i)) # velociadae veiculo\n",
    "    s['r'] = Real('r'+str(i)) # velocidade rodas\n",
    "    s['m'] = Const('m'+str(i),Mode) # modo\n",
    "    return s"
   ]
  },
  {
   "cell_type": "code",
   "execution_count": 12,
   "id": "d2500486",
   "metadata": {},
   "outputs": [],
   "source": [
    "def init(s, v_inicial):\n",
    "    return And(s['t'] == 0, s['v'] == v_inicial, s['r'] == v_inicial, s['m'] == START) "
   ]
  },
  {
   "cell_type": "code",
   "execution_count": 18,
   "id": "074e6a15",
   "metadata": {},
   "outputs": [],
   "source": [
    "def trans(s,p):\n",
    "    \n",
    "    start2free = And()\n",
    "    start2stopping = And()\n",
    "    start2blocked = And()\n",
    "    \n",
    "    free2stopping  =  And()\n",
    "    free2stopped = And()\n",
    "    free2free = And()\n",
    "    \n",
    "    stopping2free = And()\n",
    "    stopping2blocked = And()\n",
    "    stoppin2stopped = And()\n",
    "    stopping2stopping = And()\n",
    "    \n",
    "    blocked2stopped = And()\n",
    "    blocked2free = And()\n",
    "    blocked2stopping = And()\n",
    "    \n",
    "    stopped2stopped = And()\n",
    "    stopped2free = And()\n",
    "    \n",
    "    \n",
    "    \n",
    "    return Or(start2free, start2stopping, start2blocked,\n",
    "              free2stopping, free2stopped, free2free,\n",
    "              stopping2free, stopping2blocked, stoppin2stopped, stopping2stopping,\n",
    "              blocked2stopped, blocked2free, blocked2stopping,\n",
    "              stopped2stopped, stopped2free)"
   ]
  },
  {
   "cell_type": "code",
   "execution_count": null,
   "id": "545727e0",
   "metadata": {},
   "outputs": [],
   "source": [
    "def gera_traco(declare,init,trans,v_inicial, k):\n",
    "    s = Solver()\n",
    "    traco = {}\n",
    "    for i in range(k):\n",
    "        traco[i] = decalre(i)\n",
    "    s.add(init(traco[0],v_inicial))\n",
    "    for i in range(k-1):\n",
    "        s.add(trans(traco[i],traco[i+1]))\n",
    "    status = s.check()\n",
    "    if status == sat:\n",
    "        m = s.model()\n",
    "        for i in range(k):\n",
    "            print(i)\n",
    "            for v in traco[i]:\n",
    "                if traco[i][v].sort == RealSort():\n",
    "                    print(v,'=', float(m[traco[i][v]].numerator_as_long())/float(m[traco[i][v]].denominator_as_long()))\n",
    "                else:\n",
    "                    print(v,\"=\",m[traco[i][v]])\n",
    "    elif status == unsat:\n",
    "        print(\"Não ha execuções possiveis\")\n",
    "    else:\n",
    "        print(\"Resultado impossivel de obter!\")"
   ]
  },
  {
   "cell_type": "code",
   "execution_count": 21,
   "id": "c763a544",
   "metadata": {},
   "outputs": [],
   "source": [
    "def bmc_always(declare,init,trans,v_inicial,inv,k):\n",
    "    for i in range(1, k+1):\n",
    "        s = Solver()\n",
    "        traco = {}\n",
    "        for i in range(k):\n",
    "            traco[i] = declare(i)\n",
    "        s.add(init(traco[0], v_inical))\n",
    "        for i in range(k-1):\n",
    "            s.add(trans(traco[i],traco[i+1]))\n",
    "        s.add(Not(inv(traco[k-1])))\n",
    "        status = s.check()\n",
    "        if status == sat:\n",
    "            m = s.model()\n",
    "            for i in range(k):\n",
    "                print(i)\n",
    "                for v in traco[i]:\n",
    "                    if traco[i][v].sort() == RealSort():\n",
    "                        print(v,'=', float(m[traco[i][v]].numerator_as_long())/float(m[traco[i][v]].denominator_as_long()))\n",
    "                    else:\n",
    "                        print(v,\"=\",m[traco[i][v]])\n",
    "            return\n",
    "    print(\"A propriedade pode ser verdade...\")"
   ]
  }
 ],
 "metadata": {
  "kernelspec": {
   "display_name": "Python 3 (ipykernel)",
   "language": "python",
   "name": "python3"
  },
  "language_info": {
   "codemirror_mode": {
    "name": "ipython",
    "version": 3
   },
   "file_extension": ".py",
   "mimetype": "text/x-python",
   "name": "python",
   "nbconvert_exporter": "python",
   "pygments_lexer": "ipython3",
   "version": "3.8.10"
  }
 },
 "nbformat": 4,
 "nbformat_minor": 5
}
