{
 "cells": [
  {
   "cell_type": "markdown",
   "id": "8408af6e",
   "metadata": {},
   "source": [
    "# **TP4 - Grupo 4**\n",
    "Pedro Paulo Costa Pereira - A88062\n",
    "\n",
    "Tiago André Oliveira Leite - A91693"
   ]
  },
  {
   "cell_type": "code",
   "execution_count": 3,
   "id": "9caf0b16",
   "metadata": {},
   "outputs": [],
   "source": [
    "from z3 import *"
   ]
  },
  {
   "cell_type": "markdown",
   "id": "9896c590",
   "metadata": {},
   "source": [
    "# **Problema - Correção de Programas**\n",
    "\n",
    "Considere o seguinte programa, em Python anotado, para multiplicação de dois inteiros de precisão limitada a 16 bits.  \n",
    "\n",
    "```python\n",
    "assume m >= 0 and n >= 0 and r == 0 and x == m and y == n \n",
    "\n",
    "0: while y > 0:\n",
    "1:    if y & 1 == 1: \n",
    "          y , r  = y-1 , r+x\n",
    "2:    x , y = x<<1  ,  y>>1\n",
    "3: assert r == m * n\n",
    "\n",
    "```"
   ]
  },
  {
   "cell_type": "markdown",
   "id": "bde321d7",
   "metadata": {},
   "source": [
    "#### Variaveis Globais\n",
    "- A variavel Bits vai representar o tamanho de cada bitvector.\n",
    "- A variavel Limite vai definir qual o maior número que um bitvector pode conter por forma a evitar overflow."
   ]
  },
  {
   "cell_type": "code",
   "execution_count": 4,
   "id": "133808db",
   "metadata": {},
   "outputs": [],
   "source": [
    "Bits = 16\n",
    "Limite = 8190"
   ]
  },
  {
   "cell_type": "markdown",
   "id": "ac95b043",
   "metadata": {},
   "source": [
    "#### Função que declara as variaveis de cada estado\n",
    "\n",
    "As variáveis são guardadas guardadas num dicionario $s$.\n",
    "Sendo que representam:\n",
    "- $s['m']$ ⟶ um bitvector com o valor inicial de x;\n",
    "- $s['n']$ ⟶ um bitvector com o valor inicial de y;\n",
    "- $s['x']$ ⟶ um bitvector com o valor de x;\n",
    "- $s['y']$ ⟶ um bitvector com o valor de y;\n",
    "- $s['r']$ ⟶ um bitvector com o valor de r;\n",
    "- $s['pc']$ ⟶ um bitvector com o valor do program counter;"
   ]
  },
  {
   "cell_type": "code",
   "execution_count": 1,
   "id": "5d3fc1ea",
   "metadata": {},
   "outputs": [],
   "source": [
    "def declare(i):\n",
    "    s = {}\n",
    "    s['m'] = BitVec('m'+str(i),Bits)\n",
    "    s['n'] = BitVec('n'+str(i), Bits)\n",
    "    s['x'] = BitVec('x'+str(i), Bits)\n",
    "    s['y'] = BitVec('y'+str(i), Bits)\n",
    "    s['r'] = BitVec('r'+str(i), Bits)\n",
    "    s['pc'] = BitVec('pc'+str(i), Bits)\n",
    "    \n",
    "    return s"
   ]
  },
  {
   "cell_type": "markdown",
   "id": "4afb389b",
   "metadata": {},
   "source": [
    "#### Função que adiciona as restrições do estado inicial \n",
    "\n",
    "As restrições no estado inicial são:\n",
    "- $m \\ge 0 \\quad \\land\\ \\quad n \\ge 0 \\quad \\land\\ \\quad r = 0 \\quad \\land\\ \\quad x = m \\quad \\land\\ \\quad y = n \\quad \\land\\ \\quad pc = 0$"
   ]
  },
  {
   "cell_type": "code",
   "execution_count": 2,
   "id": "e7f79505",
   "metadata": {},
   "outputs": [],
   "source": [
    "def init(s):\n",
    "    return And(s['m'] >= 0,s['m']<Limite, s['n'] >= 0,s['n']<Limite, s['r'] == 0, s['x'] == s['m'], s['y'] == s['n'], s['pc'] == 0) "
   ]
  },
  {
   "cell_type": "markdown",
   "id": "dd03cc18",
   "metadata": {},
   "source": [
    "#### Função que adiciona as restrições associadas a cada transição\n",
    "As restrições associadas a cada transição são:\n",
    "\n",
    "- $t_0 \\rightarrow t_1 \\equiv m = m' \\land n = n' \\land x = x' \\land y = y' \\land y >0 \\land pc = 0 \\land pc' = 1 \\land r = r'$\n",
    "\n",
    "- $t_0 \\rightarrow t_3 \\equiv m = m' \\land n = n' \\land x = x' \\land y = y' \\land y \\le 0 \\land pc = 0 \\land pc' = 3 \\land r' = r + x$\n",
    "\n",
    "- $t_1 \\rightarrow t_2 \\equiv m = m' \\land n = n' \\land x = x' \\land y' = y - 1 \\land y \\ \\& \\ 1 = 1  \\land pc = 1 \\land pc' = 2 \\land r' = r + x'$ <br>\n",
    "$\\qquad \\qquad \\qquad \\qquad \\qquad \\qquad \\qquad \\vee$ <br>\n",
    "$\\qquad \\qquad m = m' \\land n = n' \\land x = x' \\land y = y' \\land y \\ \\& \\ 1 = 0 \\land pc = 1 \\land pc' = 2 \\land r = r'$ \n",
    "\n",
    "\n",
    "- $t_2 \\rightarrow t_0 \\equiv m = m' \\land n = n' \\land x' = x << 1 \\land y' = y >> 1  \\land pc = 2 \\land pc' = 0 \\land r = r'$\n",
    "\n",
    "\n",
    "- $t_3 \\rightarrow t_3 \\equiv m = m' \\land n = n' \\land x = x' \\land y = y' \\land pc = 3 \\land pc' = 3 \\land r = r'$\n",
    "\n",
    "Seja $\\ trans = [X_0,..,X_{i}]$, o conjunto de todas as transições definidas em cima.<br>\n",
    "\n",
    "O resultado final é:\n",
    "- $\\bigvee_{i \\ \\in \\ trans} X_i$"
   ]
  },
  {
   "cell_type": "code",
   "execution_count": 328,
   "id": "50faa9ff",
   "metadata": {},
   "outputs": [],
   "source": [
    "def trans(s,p):\n",
    "    t01 = And(s['m']==p['m'], s['n']==p['n'], s['x']==p['x'], s['y']==p['y'],\n",
    "              s['y']>0,s['pc']==0, p['pc']==1, s['r'] == p['r'])\n",
    "    t03 = And(s['m']==p['m'], s['n']==p['n'], s['x']==p['x'], s['y']==p['y'],\n",
    "              s['y']<=0,s['pc']==0, p['pc']==3, s['r'] == p['r'])\n",
    "    \n",
    "    t12a = And(s['m']==p['m'], s['n']==p['n'], s['x']==p['x'], p['y']==s['y']-1,\n",
    "              s['y'] & 1 == 1,s['pc']==1, p['pc']==2, p['r'] == s['r']+s['x'])\n",
    "    \n",
    "    t12b = And(s['m']==p['m'], s['n']==p['n'], s['x']==p['x'], s['y']==p['y'],\n",
    "              s['y'] & 1 == 0,s['pc']==1, p['pc']==2, s['r'] == p['r'])\n",
    "    \n",
    "    t12 = Or(t12a, t12b)\n",
    "    \n",
    "    t20 = And(s['m']==p['m'], s['n']==p['n'], p['x']==s['x']<<1, p['y']==s['y']>>1,\n",
    "              s['pc']==2, p['pc']==0, s['r'] == p['r'])\n",
    "    \n",
    "    t33 = And(s['m']==p['m'], s['n']==p['n'], s['x']==p['x'], s['y']==p['y'],\n",
    "              s['pc']==3, p['pc']==3, s['r'] == p['r'])\n",
    "    \n",
    "    return Or(t01, t03, t12, t20, t33)"
   ]
  },
  {
   "cell_type": "markdown",
   "id": "533c2ba8",
   "metadata": {},
   "source": [
    "#### Função que gera um traço de execução do sistema com k estados\n",
    "\n",
    "A função vai simular, atravês do solver Z3, uma execução do sistema com **k** estados, $[E_0 .. E_{k-1}]$, e **k-1** transições, com as restrições codificadas anteriormente. Sendo $E_0$ o estado inicial. \n",
    "\n",
    "Caso o sistema seja satisfazivel, vão ser imprimidas, estado a estado, os valores das variáveis do sistema."
   ]
  },
  {
   "cell_type": "code",
   "execution_count": 329,
   "id": "d6cdc3a8",
   "metadata": {},
   "outputs": [],
   "source": [
    "def gera_traco(declare,init,trans, k):\n",
    "    s = Solver()\n",
    "    traco = {}\n",
    "    for i in range(k):\n",
    "        traco[i] = declare(i)\n",
    "    s.add(init(traco[0]))\n",
    "    test = []\n",
    "    for i in range(k-1):\n",
    "        s.add(trans(traco[i],traco[i+1]))\n",
    "    status = s.check()\n",
    "    if status == sat:\n",
    "        m = s.model()\n",
    "        for i in range(k):\n",
    "            for v in traco[i]:\n",
    "                print(v,\"=\",m[traco[i][v]])\n",
    "            print('')\n",
    "    elif status == unsat:\n",
    "        print(\"Não ha execuções possiveis\")\n",
    "    else:\n",
    "        print(\"Resultado impossivel de obter!\")"
   ]
  },
  {
   "cell_type": "code",
   "execution_count": 330,
   "id": "0eb5b886",
   "metadata": {},
   "outputs": [
    {
     "name": "stdout",
     "output_type": "stream",
     "text": [
      "m = 5461\n",
      "n = 0\n",
      "x = 5461\n",
      "y = 0\n",
      "r = 0\n",
      "pc = 0\n",
      "\n",
      "m = 5461\n",
      "n = 0\n",
      "x = 5461\n",
      "y = 0\n",
      "r = 0\n",
      "pc = 3\n",
      "\n",
      "m = 5461\n",
      "n = 0\n",
      "x = 5461\n",
      "y = 0\n",
      "r = 0\n",
      "pc = 3\n",
      "\n",
      "m = 5461\n",
      "n = 0\n",
      "x = 5461\n",
      "y = 0\n",
      "r = 0\n",
      "pc = 3\n",
      "\n",
      "m = 5461\n",
      "n = 0\n",
      "x = 5461\n",
      "y = 0\n",
      "r = 0\n",
      "pc = 3\n",
      "\n",
      "m = 5461\n",
      "n = 0\n",
      "x = 5461\n",
      "y = 0\n",
      "r = 0\n",
      "pc = 3\n",
      "\n",
      "m = 5461\n",
      "n = 0\n",
      "x = 5461\n",
      "y = 0\n",
      "r = 0\n",
      "pc = 3\n",
      "\n",
      "m = 5461\n",
      "n = 0\n",
      "x = 5461\n",
      "y = 0\n",
      "r = 0\n",
      "pc = 3\n",
      "\n",
      "m = 5461\n",
      "n = 0\n",
      "x = 5461\n",
      "y = 0\n",
      "r = 0\n",
      "pc = 3\n",
      "\n",
      "m = 5461\n",
      "n = 0\n",
      "x = 5461\n",
      "y = 0\n",
      "r = 0\n",
      "pc = 3\n",
      "\n"
     ]
    }
   ],
   "source": [
    "gera_traco(declare,init,trans, 10)"
   ]
  },
  {
   "cell_type": "markdown",
   "id": "7128ef0e",
   "metadata": {},
   "source": [
    "## 1. Provar por indução a terminação deste programa"
   ]
  },
  {
   "cell_type": "markdown",
   "id": "57a30a0e",
   "metadata": {},
   "source": [
    "Para provar que o programa termina temos que encontrar um variante, que respeite as seguintes propriedades:\n",
    "- O variante nunca é negativo, ou seja, $V(s) \\ge 0$\n",
    "- O variante descresce sempre (estritamente) ou atinge o valor 0, ou seja, $\\forall s' . \\mathit{trans}(s,s') \\rightarrow V(s') < V(s) \\vee V(s') = 0$\n",
    "- Quando o variante é 0 verifica-se necessariamente $pc = 4$, ou seja, $GV(s)=0 \\rightarrow s['pc'] = 4$.\n"
   ]
  },
  {
   "cell_type": "markdown",
   "id": "ebb9ceb7",
   "metadata": {},
   "source": [
    "#### Função que prova uma propriedade por indução"
   ]
  },
  {
   "cell_type": "code",
   "execution_count": 331,
   "id": "807b7c3b",
   "metadata": {},
   "outputs": [],
   "source": [
    "def induction_always(declare,init,trans,prop):\n",
    "    s = Solver()\n",
    "    state = declare(0)\n",
    "    s.add(init(state))\n",
    "    s.add(Not(prop(state)))\n",
    "    status = s.check()\n",
    "    assert(status != unknown)\n",
    "    if (status == sat):\n",
    "        print(\"Não é verdade no estado inicial\")\n",
    "        m = s.model()\n",
    "        for v in state:\n",
    "            print(v, '=', m[state[v]])\n",
    "        return\n",
    "    \n",
    "    s = Solver()\n",
    "    pre = declare(0)\n",
    "    pos = declare(1)\n",
    "    s.add(init(pre))\n",
    "    s.add(prop(pre))\n",
    "    s.add(trans(pre,pos))\n",
    "    s.add(Not(prop(pos)))\n",
    "    status = s.check()\n",
    "    assert(status != unknown)\n",
    "    if (status == sat):\n",
    "        print(\"Não é possivel provar o passo indutivo no estado\")\n",
    "        m = s.model()\n",
    "        print('pre')\n",
    "        for v in pre:\n",
    "            print(v, '=', m[pre[v]])\n",
    "        print('pos')\n",
    "        for v in pos:\n",
    "            print(v, '=', m[pre[v]])\n",
    "        return\n",
    "    print(\"A propriedade é valida!\")"
   ]
  },
  {
   "cell_type": "markdown",
   "id": "3efe478e",
   "metadata": {},
   "source": [
    "### Variante"
   ]
  },
  {
   "cell_type": "code",
   "execution_count": 332,
   "id": "4d366231",
   "metadata": {},
   "outputs": [],
   "source": [
    "def variante(state):\n",
    "    return 3*state['y']-state['pc']+3"
   ]
  },
  {
   "cell_type": "markdown",
   "id": "a798a758",
   "metadata": {},
   "source": [
    "### Propriedades do variante"
   ]
  },
  {
   "cell_type": "markdown",
   "id": "3fa3bdf2",
   "metadata": {},
   "source": [
    "#### Nâo negativo"
   ]
  },
  {
   "cell_type": "code",
   "execution_count": 333,
   "id": "355e8c42",
   "metadata": {},
   "outputs": [],
   "source": [
    "def naonegativo(state):\n",
    "    return variante(state) >=0"
   ]
  },
  {
   "cell_type": "code",
   "execution_count": 334,
   "id": "dede208c",
   "metadata": {},
   "outputs": [
    {
     "name": "stdout",
     "output_type": "stream",
     "text": [
      "A propriedade é valida!\n"
     ]
    }
   ],
   "source": [
    "induction_always(declare,init,trans, naonegativo)"
   ]
  },
  {
   "cell_type": "markdown",
   "id": "4207e13c",
   "metadata": {},
   "source": [
    "#### Descrescente"
   ]
  },
  {
   "cell_type": "code",
   "execution_count": 335,
   "id": "7730dd0e",
   "metadata": {},
   "outputs": [],
   "source": [
    "def decrescente(state):\n",
    "    proximo = declare(-1)\n",
    "    decresce = variante(proximo) < variante(state) \n",
    "    zero = variante(proximo) == 0\n",
    "    formula = Implies(trans(state,proximo),Or(zero,decresce))\n",
    "    return (ForAll(list(proximo.values()),formula))"
   ]
  },
  {
   "cell_type": "code",
   "execution_count": 336,
   "id": "a6d3d727",
   "metadata": {},
   "outputs": [
    {
     "name": "stdout",
     "output_type": "stream",
     "text": [
      "A propriedade é valida!\n"
     ]
    }
   ],
   "source": [
    "induction_always(declare,init,trans,decrescente)"
   ]
  },
  {
   "cell_type": "markdown",
   "id": "c1d948de",
   "metadata": {},
   "source": [
    "#### Util"
   ]
  },
  {
   "cell_type": "code",
   "execution_count": 337,
   "id": "43862777",
   "metadata": {},
   "outputs": [],
   "source": [
    "def utilidade(state):\n",
    "    return (Implies(variante(state) == 0, state['pc'] == 3))"
   ]
  },
  {
   "cell_type": "code",
   "execution_count": 338,
   "id": "d8386e42",
   "metadata": {},
   "outputs": [
    {
     "name": "stdout",
     "output_type": "stream",
     "text": [
      "A propriedade é valida!\n"
     ]
    }
   ],
   "source": [
    "induction_always(declare,init,trans,utilidade)"
   ]
  },
  {
   "cell_type": "markdown",
   "id": "1b9c946c",
   "metadata": {},
   "source": [
    "## 2. Correção total"
   ]
  },
  {
   "cell_type": "markdown",
   "id": "14c2ff54",
   "metadata": {},
   "source": [
    "### a. Forma recursiva do programa codificado em LPA (linguagem de programas anotados).\n",
    "\n",
    "$P \\equiv$ assume  $\\phi$ ;  $W$ ; assert $\\varphi$<br>\n",
    "\n",
    "$\\phi \\equiv  m \\ge 0 \\ \\ \\land\\ \\ \\ n \\ge 0  \\ \\ \\land\\ \\ \\ x = m \\ \\ \\land\\ \\ \\ y = n \\ \\ \\land\\ \\ \\ r = 0$ <br>\n",
    "\n",
    "$\\varphi \\equiv  r = m \\ \\ \\times  \\ \\ n$ <br>\n",
    "\n",
    "$W \\equiv$ assume $b$;  $S$;  $W$ || assume $\\neg b$; skip<br>\n",
    "\n",
    "$b \\equiv y > 0$ <br>\n",
    "\n",
    "$S \\equiv$ assume$(y \\ \\& \\ 1 = 1)$; $y \\leftarrow y-1$; $r \\leftarrow r + x; C$ || assume $\\neg(y \\ \\& \\ 1 = 1)$; $C$<br>\n",
    "\n",
    "$C \\equiv x \\leftarrow x << 1$ ; $y \\leftarrow y >> 1$ <br>\n"
   ]
  },
  {
   "cell_type": "markdown",
   "id": "f642b5be",
   "metadata": {},
   "source": [
    "### b. Invariante mais fraco que assegura a correção do programa.\n",
    "\n",
    "Para provar a correção do programa temos que encontrar um invariante de ciclo, $\\theta$, que respeite as seguintes propriedades:\n",
    "- Inicialização, ou seja, $\\phi \\rightarrow \\theta$;\n",
    "- Preservação, ou seja, $W \\land\\ \\theta  \\rightarrow \\theta$;\n",
    "- Utilidade, ou seja, $\\neg b \\land\\ \\theta \\rightarrow \\varphi$;\n",
    "\n",
    "Um cadidato a invariante de ciclo pode ser:\n",
    "\n",
    "$\\theta \\equiv \\ m \\ \\times \\ n \\ = \\ r \\ + \\ x \\ \\times \\ y \\ \\land\\ y \\ge 0 \\ \\land\\ n \\ge y \\land\\ n \\ge 0 \\land\\ m \\ge 0$\n"
   ]
  },
  {
   "cell_type": "markdown",
   "id": "cd5e2fbe",
   "metadata": {},
   "source": [
    "#### Função que prova as propriedades"
   ]
  },
  {
   "cell_type": "code",
   "execution_count": 292,
   "id": "47d3a09e",
   "metadata": {},
   "outputs": [],
   "source": [
    "def prove(f):\n",
    "    s = Solver()\n",
    "    s.add(Not(f))\n",
    "    c = s.check()\n",
    "    if c == unsat:\n",
    "        print(\"A propriedade é válida!\")\n",
    "    elif c == sat:\n",
    "        print(\"A propriedade é inválida!\")\n",
    "        print(s.model())\n",
    "    else:\n",
    "        print(\"Resultado desconhecido\")"
   ]
  },
  {
   "cell_type": "markdown",
   "id": "54b9220b",
   "metadata": {},
   "source": [
    "#### Variaveis"
   ]
  },
  {
   "cell_type": "code",
   "execution_count": 293,
   "id": "536967d9",
   "metadata": {},
   "outputs": [],
   "source": [
    "m, n, r, x, y = BitVecs('m n r x y',Bits)"
   ]
  },
  {
   "cell_type": "markdown",
   "id": "830a2632",
   "metadata": {},
   "source": [
    "#### Invariante"
   ]
  },
  {
   "cell_type": "code",
   "execution_count": 294,
   "id": "8a74f7f8",
   "metadata": {},
   "outputs": [],
   "source": [
    "invariante = And(x*y+r==m*n,y>=0, n>=y,m>=0,n>=0)"
   ]
  },
  {
   "cell_type": "markdown",
   "id": "70a55a85",
   "metadata": {},
   "source": [
    "#### Inicialização"
   ]
  },
  {
   "cell_type": "code",
   "execution_count": 295,
   "id": "f0de8452",
   "metadata": {},
   "outputs": [
    {
     "name": "stdout",
     "output_type": "stream",
     "text": [
      "A propriedade é válida!\n"
     ]
    }
   ],
   "source": [
    "pre = And(m>=0,n>=0,r==0,x==m,y==n)\n",
    "prove(Implies(pre,invariante))"
   ]
  },
  {
   "cell_type": "markdown",
   "id": "2e2dc8f6",
   "metadata": {},
   "source": [
    "#### Preservação"
   ]
  },
  {
   "cell_type": "code",
   "execution_count": 296,
   "id": "e5768fab",
   "metadata": {},
   "outputs": [
    {
     "name": "stdout",
     "output_type": "stream",
     "text": [
      "A propriedade é válida!\n"
     ]
    }
   ],
   "source": [
    "vcthen = Implies(y & 1 == 1, substitute (substitute(substitute(substitute(invariante,(y,y>>1)),(x,x<<1)),(r,r+x)),(y,y-1)))\n",
    "vcelse = Implies(y & 1 == 0, substitute (substitute(invariante,(y,y>>1)),(x,x<<1)))\n",
    "cycle = And(vcthen,vcelse)\n",
    "prove(Implies(And(invariante,cycle),invariante))"
   ]
  },
  {
   "cell_type": "markdown",
   "id": "74572876",
   "metadata": {},
   "source": [
    "#### Utilidade"
   ]
  },
  {
   "cell_type": "code",
   "execution_count": 297,
   "id": "d9813abf",
   "metadata": {},
   "outputs": [
    {
     "name": "stdout",
     "output_type": "stream",
     "text": [
      "A propriedade é válida!\n"
     ]
    }
   ],
   "source": [
    "not_b = y==0\n",
    "pos = r==m*n\n",
    "prove(Implies(And(not_b,invariante),pos))"
   ]
  },
  {
   "cell_type": "markdown",
   "id": "f5a18949",
   "metadata": {},
   "source": [
    "### c. Unfold com parametro limite N para provar correção do progrma.\n",
    "\n",
    "Para provar a correção por unfold com um parametro limite **N**, temos que \"esticar\" **(unfold)** a execução do ciclo numa aproximação formada por uma sequência finita, numero finito, de execuções do “corpo do ciclo”.\n",
    "\n",
    "Ora, sendo **N** o parametro limite e uma vez que em cada execução do ciclo existe uma sequencia de no máximo 4 estados, sabemos entao que o ciclo vai executar um número finito de vezes. Portanto, podemos definir um número maximo de $4 \\times N + 1$ estados.   \n",
    "\n",
    "Assim sendo, para provar o invariante, vamos gerar um traço de execução do programa com $4 \\times N + 1$ estados,$[S_0 .. S_{k}]$com, onde serão acrescentadas a seguinte restrição:<br>\n",
    "- $S_0['m'] < N \\ \\land\\ \\ S_0['n'] < N $ <br>\n",
    "- $\\neg \\theta (S_k)$\n",
    "\n",
    "Por fim utilizamos o solver do z3 para realizar o traço de execução e caso o **status** seja **unsat** isso significa que o programa está correto."
   ]
  },
  {
   "cell_type": "markdown",
   "id": "8757d5ee",
   "metadata": {},
   "source": [
    "#### Pré-condição"
   ]
  },
  {
   "cell_type": "code",
   "execution_count": 339,
   "id": "4e970d98",
   "metadata": {},
   "outputs": [],
   "source": [
    "def pre(s,N):\n",
    "    return And(s['m'] >= 0,s['m']<N, s['n'] >= 0,s['n']<N, s['r'] == 0, s['x'] == s['m'], s['y'] == s['n'], s['pc'] == 0)"
   ]
  },
  {
   "cell_type": "markdown",
   "id": "12c80e1b",
   "metadata": {},
   "source": [
    "#### Condição do ciclo"
   ]
  },
  {
   "cell_type": "code",
   "execution_count": 348,
   "id": "c865aea6",
   "metadata": {},
   "outputs": [],
   "source": [
    "def b(s):\n",
    "    return Or(s['y'] > 0,And(s['y']==0,s['r']==s['m']*s['n']))"
   ]
  },
  {
   "cell_type": "markdown",
   "id": "0622f193",
   "metadata": {},
   "source": [
    "#### Pós-condição"
   ]
  },
  {
   "cell_type": "code",
   "execution_count": 349,
   "id": "8ce365a1",
   "metadata": {},
   "outputs": [],
   "source": [
    "def pos(s):\n",
    "    return And(s['r'] == s['m']*s['n'])"
   ]
  },
  {
   "cell_type": "markdown",
   "id": "c00f5d24",
   "metadata": {},
   "source": [
    "#### Função que prova a correção do programa por unfold"
   ]
  },
  {
   "cell_type": "code",
   "execution_count": 356,
   "id": "7d57e99b",
   "metadata": {},
   "outputs": [],
   "source": [
    "def unfold(declare,pre,trans,b,pos,N):\n",
    "    k = N*3 + 1\n",
    "    s = Solver()\n",
    "    traco = {}\n",
    "    for i in range(k):\n",
    "        traco[i] = declare(i)\n",
    "    s.add(pre(traco[0],N))\n",
    "    for i in range(k-1):\n",
    "        s.add(trans(traco[i],traco[i+1]))\n",
    "        if i%3 == 0:\n",
    "            s.add(b(traco[i]))\n",
    "    s.add(Not(pos(traco[k-1])))\n",
    "    status = s.check()\n",
    "    if status == sat:\n",
    "        m = s.model()\n",
    "        for i in range(k):\n",
    "            print(i)\n",
    "            for v in traco[i]:\n",
    "                print(v, \"=\", m[traco[i][v]])\n",
    "        return\n",
    "    print(\"O programa está correto!\")\n",
    "    "
   ]
  },
  {
   "cell_type": "code",
   "execution_count": 357,
   "id": "030255c3",
   "metadata": {
    "scrolled": true
   },
   "outputs": [
    {
     "name": "stdout",
     "output_type": "stream",
     "text": [
      "O programa está correto!\n"
     ]
    }
   ],
   "source": [
    "unfold(declare,pre,trans,b,pos,20)"
   ]
  },
  {
   "cell_type": "markdown",
   "id": "4c2ce038",
   "metadata": {},
   "source": [
    "#### Função que prova a correção do programa por unfold usando a função prove"
   ]
  },
  {
   "cell_type": "code",
   "execution_count": 352,
   "id": "3071f49b",
   "metadata": {},
   "outputs": [],
   "source": [
    "def unfold_prove(declare,pre,trans,b,pos,N):\n",
    "    k = N*3 +1\n",
    "    traco = {}\n",
    "    for i in range(k):\n",
    "        traco[i] = declare(i)\n",
    "    pre_condition = pre(traco[0],N)\n",
    "    cycle = []\n",
    "    for i in range(k-1):\n",
    "        cycle.append(trans(traco[i],traco[i+1]))\n",
    "        if i%3 == 0:\n",
    "            cycle.append(b(traco[i]))\n",
    "    cycle = And(cycle)\n",
    "    pos_condition = ((pos(traco[k-1])))\n",
    "    formula = Implies(And(pre_condition,cycle),pos_condition)\n",
    "    prove(formula)\n",
    "    \n",
    "    "
   ]
  },
  {
   "cell_type": "code",
   "execution_count": 353,
   "id": "8b7b9e95",
   "metadata": {
    "scrolled": true
   },
   "outputs": [
    {
     "name": "stdout",
     "output_type": "stream",
     "text": [
      "A propriedade é válida!\n"
     ]
    }
   ],
   "source": [
    "unfold_prove(declare,pre,trans,b,pos,20)"
   ]
  }
 ],
 "metadata": {
  "kernelspec": {
   "display_name": "Python 3 (ipykernel)",
   "language": "python",
   "name": "python3"
  },
  "language_info": {
   "codemirror_mode": {
    "name": "ipython",
    "version": 3
   },
   "file_extension": ".py",
   "mimetype": "text/x-python",
   "name": "python",
   "nbconvert_exporter": "python",
   "pygments_lexer": "ipython3",
   "version": "3.8.10"
  }
 },
 "nbformat": 4,
 "nbformat_minor": 5
}
