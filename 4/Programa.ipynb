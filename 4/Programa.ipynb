{
 "cells": [
  {
   "cell_type": "markdown",
   "id": "8408af6e",
   "metadata": {},
   "source": [
    "# **TP4 - Grupo 4**\n",
    "Pedro Paulo Costa Pereira - A88062\n",
    "\n",
    "Tiago André Oliveira Leite - A91693"
   ]
  },
  {
   "cell_type": "code",
   "execution_count": 1,
   "id": "9caf0b16",
   "metadata": {},
   "outputs": [],
   "source": [
    "from z3 import *"
   ]
  },
  {
   "cell_type": "markdown",
   "id": "9896c590",
   "metadata": {},
   "source": [
    "# **Problema - Correção de Programas**\n",
    "\n",
    "Considere o seguinte programa, em Python anotado, para multiplicação de dois inteiros de precisão limitada a 16 bits.  \n",
    "\n",
    "```python\n",
    "assume m >= 0 and n >= 0 and r == 0 and x == m and y == n \n",
    "\n",
    "0: while y > 0:\n",
    "1:    if y & 1 == 1: \n",
    "2:            y , r  = y-1 , r+x\n",
    "3:    x , y = x<<1  ,  y>>1\n",
    "4: assert r == m * n\n",
    "\n",
    "```"
   ]
  },
  {
   "cell_type": "markdown",
   "id": "bde321d7",
   "metadata": {},
   "source": [
    "## Variaveis Globais"
   ]
  },
  {
   "cell_type": "code",
   "execution_count": 296,
   "id": "133808db",
   "metadata": {},
   "outputs": [],
   "source": [
    "Bits = 16\n",
    "Limite = 8190"
   ]
  },
  {
   "cell_type": "markdown",
   "id": "ac95b043",
   "metadata": {},
   "source": [
    "### Função que declara as variaveis de cada estado\n",
    "\n",
    "As variáveis são guardadas guardadas num dicionario $s$.\n",
    "Sendo que representam:\n",
    "> $s['m']$ ⟶ um bitvector com o valor inicial de x;<br>\n",
    "> $s['n']$ ⟶ um bitvector com o valor inicial de y;<br>\n",
    "> $s['x']$ ⟶ um bitvector com o valor de x;<br>\n",
    "> $s['y']$ ⟶ um bitvector com o valor de y;<br>\n",
    "> $s['r']$ ⟶ um bitvector com o valor de r;<br>\n",
    "> $s['pc']$ ⟶ um bitvector com o valor do program counter;<br>"
   ]
  },
  {
   "cell_type": "code",
   "execution_count": 317,
   "id": "1177809b",
   "metadata": {},
   "outputs": [],
   "source": [
    "def declare(i):\n",
    "    s = {}\n",
    "    s['m'] = BitVec('m'+str(i),Bits)\n",
    "    s['n'] = BitVec('n'+str(i), Bits)\n",
    "    s['x'] = BitVec('x'+str(i), Bits)\n",
    "    s['y'] = BitVec('y'+str(i), Bits)\n",
    "    s['r'] = BitVec('r'+str(i), Bits)\n",
    "    s['pc'] = BitVec('pc'+str(i), Bits)\n",
    "    \n",
    "    return s"
   ]
  },
  {
   "cell_type": "markdown",
   "id": "59c0f9eb",
   "metadata": {},
   "source": [
    "### Função que adiciona as restrições do estado inicial\n",
    "\n",
    "As restrições no estado inicial são:\n",
    "> $m \\ge 0 \\quad \\land\\ \\quad n \\ge 0 \\quad \\land\\ \\quad r = 0 \\quad \\land\\ \\quad x = m \\quad \\land\\ \\quad y = n \\quad \\land\\ \\quad pc = 0 $"
   ]
  },
  {
   "cell_type": "code",
   "execution_count": 318,
   "id": "e7f79505",
   "metadata": {},
   "outputs": [],
   "source": [
    "def init(s):\n",
    "    return And(s['m'] >= 0,s['m']<Limite, s['n'] >= 0,s['n']<Limite, s['r'] == 0, s['x'] == s['m'], s['y'] == s['n'], s['pc'] == 0) "
   ]
  },
  {
   "cell_type": "markdown",
   "id": "22db43c3",
   "metadata": {},
   "source": [
    "### Função que adiciona as restrições associadas a cada transição"
   ]
  },
  {
   "cell_type": "code",
   "execution_count": 319,
   "id": "50faa9ff",
   "metadata": {},
   "outputs": [],
   "source": [
    "def trans(s,p):\n",
    "    t01 = And(s['m']==p['m'], s['n']==p['n'], s['x']==p['x'], s['y']==p['y'],\n",
    "              s['y']>0,s['pc']==0, p['pc']==1, s['r'] == p['r'])\n",
    "    \n",
    "    t12 = And(s['m']==p['m'], s['n']==p['n'], s['x']==p['x'], s['y']==p['y'],\n",
    "              s['y'] & 1 == 1,s['pc']==1, p['pc']==2, s['r'] == p['r'])\n",
    "    \n",
    "    t23 = And(s['m']==p['m'], s['n']==p['n'], s['x']==p['x'], p['y']==s['y']-1,\n",
    "              s['pc']==2, p['pc']==3, p['r'] == s['r']+s['x'])\n",
    "    \n",
    "    t13 = And(s['m']==p['m'], s['n']==p['n'], s['x']==p['x'], s['y']==p['y'],\n",
    "              s['y'] & 1 != 1,s['pc']==1, p['pc']==3, s['r'] == p['r'])\n",
    "    \n",
    "    t30 = And(s['m']==p['m'], s['n']==p['n'], p['x']==s['x']<<1, p['y']==s['y']>>1,\n",
    "              s['pc']==3, p['pc']==0, s['r'] == p['r'])\n",
    "    \n",
    "    t04 = And(s['m']==p['m'], s['n']==p['n'], s['x']==p['x'], s['y']==p['y'],\n",
    "              s['y']<=0,s['pc']==0, p['pc']==4, s['r'] == p['r'])\n",
    "    \n",
    "    t44 = And(s['m']==p['m'], s['n']==p['n'], s['x']==p['x'], s['y']==p['y'],\n",
    "              s['pc']==4, p['pc']==4, s['r'] == p['r'])\n",
    "    \n",
    "    return Or(t01, t12, t23, t13, t30, t04, t44)"
   ]
  },
  {
   "cell_type": "markdown",
   "id": "533c2ba8",
   "metadata": {},
   "source": [
    "### Função que gera um traço de execução do sistema com k estados\n",
    "\n",
    "A função vai simular, atravês do solver Z3, uma execução do sistema com **k** estados, $[E_0 .. E_{k-1}]$, e **k-1** transições, com as restrições codificadas anteriormente. Sendo $E_0$ o estado inicial. \n",
    "\n",
    "Caso o sistema seja satisfazivel, vão ser imprimidas, estado a estado, os valores das variáveis do sistema."
   ]
  },
  {
   "cell_type": "code",
   "execution_count": 258,
   "id": "d6cdc3a8",
   "metadata": {},
   "outputs": [],
   "source": [
    "def gera_traco(declare,init,trans, k):\n",
    "    s = Solver()\n",
    "    traco = {}\n",
    "    for i in range(k):\n",
    "        traco[i] = declare(i)\n",
    "    s.add(init(traco[0]))\n",
    "    for i in range(k-1):\n",
    "        s.add(trans(traco[i],traco[i+1]))\n",
    "    status = s.check()\n",
    "    if status == sat:\n",
    "        m = s.model()\n",
    "        for i in range(k):\n",
    "            for v in traco[i]:\n",
    "                if traco[i][v].sort() == RealSort():\n",
    "                    print(v,'=', float(m[traco[i][v]].numerator_as_long())/float(m[traco[i][v]].denominator_as_long()))\n",
    "                else:\n",
    "                    print(v,\"=\",m[traco[i][v]])\n",
    "            print('')\n",
    "    elif status == unsat:\n",
    "        print(\"Não ha execuções possiveis\")\n",
    "    else:\n",
    "        print(\"Resultado impossivel de obter!\")"
   ]
  },
  {
   "cell_type": "code",
   "execution_count": 268,
   "id": "0eb5b886",
   "metadata": {},
   "outputs": [
    {
     "name": "stdout",
     "output_type": "stream",
     "text": [
      "m = 3303\n",
      "n = 3680\n",
      "x = 3303\n",
      "y = 3680\n",
      "r = 0\n",
      "pc = 0\n",
      "\n",
      "m = 3303\n",
      "n = 3680\n",
      "x = 3303\n",
      "y = 3680\n",
      "r = 0\n",
      "pc = 1\n",
      "\n",
      "m = 3303\n",
      "n = 3680\n",
      "x = 3303\n",
      "y = 3680\n",
      "r = 0\n",
      "pc = 3\n",
      "\n",
      "m = 3303\n",
      "n = 3680\n",
      "x = 6606\n",
      "y = 1840\n",
      "r = 0\n",
      "pc = 0\n",
      "\n",
      "m = 3303\n",
      "n = 3680\n",
      "x = 6606\n",
      "y = 1840\n",
      "r = 0\n",
      "pc = 1\n",
      "\n",
      "m = 3303\n",
      "n = 3680\n",
      "x = 6606\n",
      "y = 1840\n",
      "r = 0\n",
      "pc = 3\n",
      "\n",
      "m = 3303\n",
      "n = 3680\n",
      "x = 13212\n",
      "y = 920\n",
      "r = 0\n",
      "pc = 0\n",
      "\n",
      "m = 3303\n",
      "n = 3680\n",
      "x = 13212\n",
      "y = 920\n",
      "r = 0\n",
      "pc = 1\n",
      "\n",
      "m = 3303\n",
      "n = 3680\n",
      "x = 13212\n",
      "y = 920\n",
      "r = 0\n",
      "pc = 3\n",
      "\n",
      "m = 3303\n",
      "n = 3680\n",
      "x = 26424\n",
      "y = 460\n",
      "r = 0\n",
      "pc = 0\n",
      "\n",
      "m = 3303\n",
      "n = 3680\n",
      "x = 26424\n",
      "y = 460\n",
      "r = 0\n",
      "pc = 1\n",
      "\n",
      "m = 3303\n",
      "n = 3680\n",
      "x = 26424\n",
      "y = 460\n",
      "r = 0\n",
      "pc = 3\n",
      "\n",
      "m = 3303\n",
      "n = 3680\n",
      "x = 52848\n",
      "y = 230\n",
      "r = 0\n",
      "pc = 0\n",
      "\n",
      "m = 3303\n",
      "n = 3680\n",
      "x = 52848\n",
      "y = 230\n",
      "r = 0\n",
      "pc = 1\n",
      "\n",
      "m = 3303\n",
      "n = 3680\n",
      "x = 52848\n",
      "y = 230\n",
      "r = 0\n",
      "pc = 3\n",
      "\n",
      "m = 3303\n",
      "n = 3680\n",
      "x = 40160\n",
      "y = 115\n",
      "r = 0\n",
      "pc = 0\n",
      "\n",
      "m = 3303\n",
      "n = 3680\n",
      "x = 40160\n",
      "y = 115\n",
      "r = 0\n",
      "pc = 1\n",
      "\n",
      "m = 3303\n",
      "n = 3680\n",
      "x = 40160\n",
      "y = 115\n",
      "r = 0\n",
      "pc = 2\n",
      "\n",
      "m = 3303\n",
      "n = 3680\n",
      "x = 40160\n",
      "y = 114\n",
      "r = 40160\n",
      "pc = 3\n",
      "\n",
      "m = 3303\n",
      "n = 3680\n",
      "x = 14784\n",
      "y = 57\n",
      "r = 40160\n",
      "pc = 0\n",
      "\n"
     ]
    }
   ],
   "source": [
    "gera_traco(declare,init,trans, 20)"
   ]
  },
  {
   "cell_type": "markdown",
   "id": "7128ef0e",
   "metadata": {},
   "source": [
    "## Provar por indução a terminação deste programa"
   ]
  },
  {
   "cell_type": "markdown",
   "id": "ebb9ceb7",
   "metadata": {},
   "source": [
    "### Função que prova uma propriedade atraves por indução"
   ]
  },
  {
   "cell_type": "code",
   "execution_count": 377,
   "id": "807b7c3b",
   "metadata": {},
   "outputs": [],
   "source": [
    "def induction_always(declare,init,trans,prop):\n",
    "    s = Solver()\n",
    "    state = declare(0)\n",
    "    s.add(init(state))\n",
    "    s.add(Not(prop(state)))\n",
    "    status = s.check()\n",
    "    assert(status != unknown)\n",
    "    if (status == sat):\n",
    "        print(\"Não é verdade no estado inicial\")\n",
    "        m = s.model()\n",
    "        for v in state:\n",
    "            print(v, '=', m[state[v]])\n",
    "        return\n",
    "    \n",
    "    s = Solver()\n",
    "    pre = declare(0)\n",
    "    pos = declare(1)\n",
    "    s.add(init(pre))\n",
    "    s.add(prop(pre))\n",
    "    s.add(trans(pre,pos))\n",
    "    s.add(Not(prop(pos)))\n",
    "    status = s.check()\n",
    "    assert(status != unknown)\n",
    "    if (status == sat):\n",
    "        print(\"Não é possivel provar o passo indutivo no estado\")\n",
    "        m = s.model()\n",
    "        print('pre')\n",
    "        for v in pre:\n",
    "            print(v, '=', m[pre[v]])\n",
    "        print('pos')\n",
    "        for v in pos:\n",
    "            print(v, '=', m[pre[v]])\n",
    "        return\n",
    "    print(\"A propriedade é valida!\")"
   ]
  },
  {
   "cell_type": "markdown",
   "id": "b3cdeb8e",
   "metadata": {},
   "source": [
    "### Função que prova uma propriedade por k-indução"
   ]
  },
  {
   "cell_type": "markdown",
   "id": "a798a758",
   "metadata": {},
   "source": [
    "### Propriedades do variante"
   ]
  },
  {
   "cell_type": "markdown",
   "id": "3efe478e",
   "metadata": {},
   "source": [
    "#### Variante"
   ]
  },
  {
   "cell_type": "code",
   "execution_count": 378,
   "id": "4d366231",
   "metadata": {},
   "outputs": [],
   "source": [
    "def variante(state):\n",
    "    return 4*state['y']-state['pc']+4"
   ]
  },
  {
   "cell_type": "markdown",
   "id": "3fa3bdf2",
   "metadata": {},
   "source": [
    "#### Nâo negativo"
   ]
  },
  {
   "cell_type": "code",
   "execution_count": 379,
   "id": "355e8c42",
   "metadata": {},
   "outputs": [],
   "source": [
    "def naonegativo(state):\n",
    "    return variante(state) >=0"
   ]
  },
  {
   "cell_type": "code",
   "execution_count": 380,
   "id": "dede208c",
   "metadata": {},
   "outputs": [
    {
     "name": "stdout",
     "output_type": "stream",
     "text": [
      "A propriedade é valida!\n"
     ]
    }
   ],
   "source": [
    "induction_always(declare,init,trans, naonegativo)"
   ]
  },
  {
   "cell_type": "markdown",
   "id": "4207e13c",
   "metadata": {},
   "source": [
    "#### Descrescente"
   ]
  },
  {
   "cell_type": "code",
   "execution_count": 381,
   "id": "7730dd0e",
   "metadata": {},
   "outputs": [],
   "source": [
    "def decrescente(state):\n",
    "    proximo = declare(-1)\n",
    "    decresce = 4*proximo['y'] + 4 -proximo['pc'] < 4*state['y'] + 4 - state['pc']\n",
    "    zero = 4*proximo['y'] + 4 - proximo['pc'] == 0\n",
    "    formula = Implies(trans(state,proximo),Or(zero,decresce))\n",
    "    return (ForAll(list(proximo.values()),formula))"
   ]
  },
  {
   "cell_type": "code",
   "execution_count": 382,
   "id": "a6d3d727",
   "metadata": {},
   "outputs": [
    {
     "name": "stdout",
     "output_type": "stream",
     "text": [
      "A propriedade é valida!\n"
     ]
    }
   ],
   "source": [
    "induction_always(declare,init,trans,decrescente)"
   ]
  },
  {
   "cell_type": "markdown",
   "id": "c1d948de",
   "metadata": {},
   "source": [
    "#### Util"
   ]
  },
  {
   "cell_type": "code",
   "execution_count": 383,
   "id": "43862777",
   "metadata": {},
   "outputs": [],
   "source": [
    "def utilidade(state):\n",
    "    return (Implies(state['y'] + 4 - state['pc'] == 0, state['pc'] == 4))"
   ]
  },
  {
   "cell_type": "code",
   "execution_count": 384,
   "id": "d8386e42",
   "metadata": {},
   "outputs": [
    {
     "name": "stdout",
     "output_type": "stream",
     "text": [
      "A propriedade é valida!\n"
     ]
    }
   ],
   "source": [
    "induction_always(declare,init,trans,utilidade)"
   ]
  },
  {
   "cell_type": "code",
   "execution_count": null,
   "id": "d910be5a",
   "metadata": {},
   "outputs": [],
   "source": []
  }
 ],
 "metadata": {
  "kernelspec": {
   "display_name": "Python 3 (ipykernel)",
   "language": "python",
   "name": "python3"
  },
  "language_info": {
   "codemirror_mode": {
    "name": "ipython",
    "version": 3
   },
   "file_extension": ".py",
   "mimetype": "text/x-python",
   "name": "python",
   "nbconvert_exporter": "python",
   "pygments_lexer": "ipython3",
   "version": "3.8.10"
  }
 },
 "nbformat": 4,
 "nbformat_minor": 5
}
