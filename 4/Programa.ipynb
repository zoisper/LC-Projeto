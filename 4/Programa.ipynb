{
 "cells": [
  {
   "cell_type": "markdown",
   "id": "8408af6e",
   "metadata": {},
   "source": [
    "# **TP4 - Grupo 4**\n",
    "Pedro Paulo Costa Pereira - A88062\n",
    "\n",
    "Tiago André Oliveira Leite - A91693"
   ]
  },
  {
   "cell_type": "code",
   "execution_count": 1,
   "id": "9caf0b16",
   "metadata": {},
   "outputs": [],
   "source": [
    "from z3 import *"
   ]
  },
  {
   "cell_type": "markdown",
   "id": "9896c590",
   "metadata": {},
   "source": [
    "# **Problema - Correção de Programas**\n",
    "\n",
    "Considere o seguinte programa, em Python anotado, para multiplicação de dois inteiros de precisão limitada a 16 bits.  \n",
    "\n",
    "```python\n",
    "assume m >= 0 and n >= 0 and r == 0 and x == m and y == n \n",
    "\n",
    "0: while y > 0:\n",
    "1:    if y & 1 == 1: \n",
    "2:            y , r  = y-1 , r+x\n",
    "3:    x , y = x<<1  ,  y>>1\n",
    "4: assert r == m * n\n",
    "\n",
    "```"
   ]
  },
  {
   "cell_type": "markdown",
   "id": "bde321d7",
   "metadata": {},
   "source": [
    "#### Variaveis Globais"
   ]
  },
  {
   "cell_type": "code",
   "execution_count": 2,
   "id": "133808db",
   "metadata": {},
   "outputs": [],
   "source": [
    "Bits = 16\n",
    "Limite = 8190"
   ]
  },
  {
   "cell_type": "markdown",
   "id": "ac95b043",
   "metadata": {},
   "source": [
    "#### Função que declara as variaveis de cada estado\n",
    "\n",
    "As variáveis são guardadas guardadas num dicionario $s$.\n",
    "Sendo que representam:\n",
    "- $s['m']$ ⟶ um bitvector com o valor inicial de x;<br>\n",
    "- $s['n']$ ⟶ um bitvector com o valor inicial de y;<br>\n",
    "- $s['x']$ ⟶ um bitvector com o valor de x;<br>\n",
    "- $s['y']$ ⟶ um bitvector com o valor de y;<br>\n",
    "- $s['r']$ ⟶ um bitvector com o valor de r;<br>\n",
    "- $s['pc']$ ⟶ um bitvector com o valor do program counter;<br>"
   ]
  },
  {
   "cell_type": "code",
   "execution_count": 172,
   "id": "1177809b",
   "metadata": {},
   "outputs": [],
   "source": [
    "def declare(i):\n",
    "    s = {}\n",
    "    s['m'] = BitVec('m'+str(i),Bits)\n",
    "    s['n'] = BitVec('n'+str(i), Bits)\n",
    "    s['x'] = BitVec('x'+str(i), Bits)\n",
    "    s['y'] = BitVec('y'+str(i), Bits)\n",
    "    s['r'] = BitVec('r'+str(i), Bits)\n",
    "    s['pc'] = BitVec('pc'+str(i), Bits)\n",
    "    \n",
    "    return s"
   ]
  },
  {
   "cell_type": "markdown",
   "id": "59c0f9eb",
   "metadata": {},
   "source": [
    "#### Função que adiciona as restrições do estado inicial\n",
    "\n",
    "As restrições no estado inicial são:\n",
    "- $m \\ge 0 \\quad \\land\\ \\quad n \\ge 0 \\quad \\land\\ \\quad r = 0 \\quad \\land\\ \\quad x = m \\quad \\land\\ \\quad y = n \\quad \\land\\ \\quad pc = 0 $"
   ]
  },
  {
   "cell_type": "code",
   "execution_count": 4,
   "id": "e7f79505",
   "metadata": {},
   "outputs": [],
   "source": [
    "def init(s):\n",
    "    return And(s['m'] >= 0,s['m']<Limite, s['n'] >= 0,s['n']<Limite, s['r'] == 0, s['x'] == s['m'], s['y'] == s['n'], s['pc'] == 0) "
   ]
  },
  {
   "cell_type": "markdown",
   "id": "22db43c3",
   "metadata": {},
   "source": [
    "#### Função que adiciona as restrições associadas a cada transição"
   ]
  },
  {
   "cell_type": "code",
   "execution_count": 111,
   "id": "50faa9ff",
   "metadata": {},
   "outputs": [],
   "source": [
    "def trans(s,p):\n",
    "    t01 = And(s['m']==p['m'], s['n']==p['n'], s['x']==p['x'], s['y']==p['y'],\n",
    "              s['y']>0,s['pc']==0, p['pc']==1, s['r'] == p['r'])\n",
    "    \n",
    "    t12 = And(s['m']==p['m'], s['n']==p['n'], s['x']==p['x'], s['y']==p['y'],\n",
    "              s['y'] & 1 == 1,s['pc']==1, p['pc']==2, s['r'] == p['r'])\n",
    "    \n",
    "    t23 = And(s['m']==p['m'], s['n']==p['n'], s['x']==p['x'], p['y']==s['y']-1,\n",
    "              s['pc']==2, p['pc']==3, p['r'] == s['r']+s['x'])\n",
    "    \n",
    "    t13 = And(s['m']==p['m'], s['n']==p['n'], s['x']==p['x'], s['y']==p['y'],\n",
    "              s['y'] & 1 != 1,s['pc']==1, p['pc']==3, s['r'] == p['r'])\n",
    "    \n",
    "    t30 = And(s['m']==p['m'], s['n']==p['n'], p['x']==s['x']<<1, p['y']==s['y']>>1,\n",
    "              s['pc']==3, p['pc']==0, s['r'] == p['r'])\n",
    "    \n",
    "    t04 = And(s['m']==p['m'], s['n']==p['n'], s['x']==p['x'], s['y']==p['y'],\n",
    "              s['y']<=0,s['pc']==0, p['pc']==4, s['r'] == p['r'])\n",
    "    \n",
    "    t44 = And(s['m']==p['m'], s['n']==p['n'], s['x']==p['x'], s['y']==p['y'],\n",
    "              s['pc']==4, p['pc']==4, s['r'] == p['r'])\n",
    "    \n",
    "    return Or(t01, t12, t23, t13, t30, t04, t44)"
   ]
  },
  {
   "cell_type": "markdown",
   "id": "533c2ba8",
   "metadata": {},
   "source": [
    "#### Função que gera um traço de execução do sistema com k estados\n",
    "\n",
    "A função vai simular, atravês do solver Z3, uma execução do sistema com **k** estados, $[E_0 .. E_{k-1}]$, e **k-1** transições, com as restrições codificadas anteriormente. Sendo $E_0$ o estado inicial. \n",
    "\n",
    "Caso o sistema seja satisfazivel, vão ser imprimidas, estado a estado, os valores das variáveis do sistema."
   ]
  },
  {
   "cell_type": "code",
   "execution_count": 6,
   "id": "d6cdc3a8",
   "metadata": {},
   "outputs": [],
   "source": [
    "def gera_traco(declare,init,trans, k):\n",
    "    s = Solver()\n",
    "    traco = {}\n",
    "    for i in range(k):\n",
    "        traco[i] = declare(i)\n",
    "    s.add(init(traco[0]))\n",
    "    for i in range(k-1):\n",
    "        s.add(trans(traco[i],traco[i+1]))\n",
    "    status = s.check()\n",
    "    if status == sat:\n",
    "        m = s.model()\n",
    "        for i in range(k):\n",
    "            for v in traco[i]:\n",
    "                if traco[i][v].sort() == RealSort():\n",
    "                    print(v,'=', float(m[traco[i][v]].numerator_as_long())/float(m[traco[i][v]].denominator_as_long()))\n",
    "                else:\n",
    "                    print(v,\"=\",m[traco[i][v]])\n",
    "            print('')\n",
    "    elif status == unsat:\n",
    "        print(\"Não ha execuções possiveis\")\n",
    "    else:\n",
    "        print(\"Resultado impossivel de obter!\")"
   ]
  },
  {
   "cell_type": "code",
   "execution_count": 7,
   "id": "0eb5b886",
   "metadata": {},
   "outputs": [
    {
     "name": "stdout",
     "output_type": "stream",
     "text": [
      "m = 4095\n",
      "n = 2560\n",
      "x = 4095\n",
      "y = 2560\n",
      "r = 0\n",
      "pc = 0\n",
      "\n",
      "m = 4095\n",
      "n = 2560\n",
      "x = 4095\n",
      "y = 2560\n",
      "r = 0\n",
      "pc = 1\n",
      "\n",
      "m = 4095\n",
      "n = 2560\n",
      "x = 4095\n",
      "y = 2560\n",
      "r = 0\n",
      "pc = 3\n",
      "\n",
      "m = 4095\n",
      "n = 2560\n",
      "x = 8190\n",
      "y = 1280\n",
      "r = 0\n",
      "pc = 0\n",
      "\n",
      "m = 4095\n",
      "n = 2560\n",
      "x = 8190\n",
      "y = 1280\n",
      "r = 0\n",
      "pc = 1\n",
      "\n",
      "m = 4095\n",
      "n = 2560\n",
      "x = 8190\n",
      "y = 1280\n",
      "r = 0\n",
      "pc = 3\n",
      "\n",
      "m = 4095\n",
      "n = 2560\n",
      "x = 16380\n",
      "y = 640\n",
      "r = 0\n",
      "pc = 0\n",
      "\n",
      "m = 4095\n",
      "n = 2560\n",
      "x = 16380\n",
      "y = 640\n",
      "r = 0\n",
      "pc = 1\n",
      "\n",
      "m = 4095\n",
      "n = 2560\n",
      "x = 16380\n",
      "y = 640\n",
      "r = 0\n",
      "pc = 3\n",
      "\n",
      "m = 4095\n",
      "n = 2560\n",
      "x = 32760\n",
      "y = 320\n",
      "r = 0\n",
      "pc = 0\n",
      "\n",
      "m = 4095\n",
      "n = 2560\n",
      "x = 32760\n",
      "y = 320\n",
      "r = 0\n",
      "pc = 1\n",
      "\n",
      "m = 4095\n",
      "n = 2560\n",
      "x = 32760\n",
      "y = 320\n",
      "r = 0\n",
      "pc = 3\n",
      "\n",
      "m = 4095\n",
      "n = 2560\n",
      "x = 65520\n",
      "y = 160\n",
      "r = 0\n",
      "pc = 0\n",
      "\n",
      "m = 4095\n",
      "n = 2560\n",
      "x = 65520\n",
      "y = 160\n",
      "r = 0\n",
      "pc = 1\n",
      "\n",
      "m = 4095\n",
      "n = 2560\n",
      "x = 65520\n",
      "y = 160\n",
      "r = 0\n",
      "pc = 3\n",
      "\n",
      "m = 4095\n",
      "n = 2560\n",
      "x = 65504\n",
      "y = 80\n",
      "r = 0\n",
      "pc = 0\n",
      "\n",
      "m = 4095\n",
      "n = 2560\n",
      "x = 65504\n",
      "y = 80\n",
      "r = 0\n",
      "pc = 1\n",
      "\n",
      "m = 4095\n",
      "n = 2560\n",
      "x = 65504\n",
      "y = 80\n",
      "r = 0\n",
      "pc = 3\n",
      "\n",
      "m = 4095\n",
      "n = 2560\n",
      "x = 65472\n",
      "y = 40\n",
      "r = 0\n",
      "pc = 0\n",
      "\n",
      "m = 4095\n",
      "n = 2560\n",
      "x = 65472\n",
      "y = 40\n",
      "r = 0\n",
      "pc = 1\n",
      "\n"
     ]
    }
   ],
   "source": [
    "gera_traco(declare,init,trans, 20)"
   ]
  },
  {
   "cell_type": "markdown",
   "id": "7128ef0e",
   "metadata": {},
   "source": [
    "## 1. Provar por indução a terminação deste programa"
   ]
  },
  {
   "cell_type": "markdown",
   "id": "57a30a0e",
   "metadata": {},
   "source": [
    "Para provar que o programa termina temos que encontrar um variante, que respeite as seguintes propriedades:\n",
    "- O variante nunca é negativo, ou seja, $G\\ (V(s) \\ge 0)$\n",
    "- O variante descresce sempre (estritamente) ou atinge o valor 0, ou seja, $G\\ (\\forall s' . \\mathit{trans}(s,s') \\rightarrow (V(s') < V(s) \\vee V(s') = 0))$\n",
    "- Quando o variante é 0 verifica-se necessariamente $pc = 4$, ou seja, $G\\ (V(s)=0 \\rightarrow s['pc'] = 4)$.\n"
   ]
  },
  {
   "cell_type": "markdown",
   "id": "ebb9ceb7",
   "metadata": {},
   "source": [
    "#### Função que prova uma propriedade atraves por indução"
   ]
  },
  {
   "cell_type": "code",
   "execution_count": 171,
   "id": "807b7c3b",
   "metadata": {},
   "outputs": [],
   "source": [
    "def induction_always(declare,init,trans,prop):\n",
    "    s = Solver()\n",
    "    state = declare(0)\n",
    "    s.add(init(state))\n",
    "    s.add(Not(prop(state)))\n",
    "    status = s.check()\n",
    "    assert(status != unknown)\n",
    "    if (status == sat):\n",
    "        print(\"Não é verdade no estado inicial\")\n",
    "        m = s.model()\n",
    "        for v in state:\n",
    "            print(v, '=', m[state[v]])\n",
    "        return\n",
    "    \n",
    "    s = Solver()\n",
    "    pre = declare(0)\n",
    "    pos = declare(1)\n",
    "    s.add(init(pre))\n",
    "    s.add(prop(pre))\n",
    "    s.add(trans(pre,pos))\n",
    "    s.add(Not(prop(pos)))\n",
    "    status = s.check()\n",
    "    assert(status != unknown)\n",
    "    if (status == sat):\n",
    "        print(\"Não é possivel provar o passo indutivo no estado\")\n",
    "        m = s.model()\n",
    "        print('pre')\n",
    "        for v in pre:\n",
    "            print(v, '=', m[pre[v]])\n",
    "        print('pos')\n",
    "        for v in pos:\n",
    "            print(v, '=', m[pre[v]])\n",
    "        return\n",
    "    print(\"A propriedade é valida!\")"
   ]
  },
  {
   "cell_type": "markdown",
   "id": "a798a758",
   "metadata": {},
   "source": [
    "### Propriedades do variante"
   ]
  },
  {
   "cell_type": "markdown",
   "id": "3efe478e",
   "metadata": {},
   "source": [
    "#### Variante"
   ]
  },
  {
   "cell_type": "code",
   "execution_count": 9,
   "id": "4d366231",
   "metadata": {},
   "outputs": [],
   "source": [
    "def variante(state):\n",
    "    return 4*state['y']-state['pc']+4"
   ]
  },
  {
   "cell_type": "markdown",
   "id": "3fa3bdf2",
   "metadata": {},
   "source": [
    "#### Nâo negativo"
   ]
  },
  {
   "cell_type": "code",
   "execution_count": 10,
   "id": "355e8c42",
   "metadata": {},
   "outputs": [],
   "source": [
    "def naonegativo(state):\n",
    "    return variante(state) >=0"
   ]
  },
  {
   "cell_type": "code",
   "execution_count": 11,
   "id": "dede208c",
   "metadata": {},
   "outputs": [
    {
     "name": "stdout",
     "output_type": "stream",
     "text": [
      "A propriedade é valida!\n"
     ]
    }
   ],
   "source": [
    "induction_always(declare,init,trans, naonegativo)"
   ]
  },
  {
   "cell_type": "markdown",
   "id": "4207e13c",
   "metadata": {},
   "source": [
    "#### Descrescente"
   ]
  },
  {
   "cell_type": "code",
   "execution_count": 12,
   "id": "7730dd0e",
   "metadata": {},
   "outputs": [],
   "source": [
    "def decrescente(state):\n",
    "    proximo = declare(-1)\n",
    "    decresce = variante(proximo) < variante(state)\n",
    "    zero = variante(proximo) == 0\n",
    "    formula = Implies(trans(state,proximo),Or(zero,decresce))\n",
    "    return (ForAll(list(proximo.values()),formula))"
   ]
  },
  {
   "cell_type": "code",
   "execution_count": 13,
   "id": "a6d3d727",
   "metadata": {},
   "outputs": [
    {
     "name": "stdout",
     "output_type": "stream",
     "text": [
      "A propriedade é valida!\n"
     ]
    }
   ],
   "source": [
    "induction_always(declare,init,trans,decrescente)"
   ]
  },
  {
   "cell_type": "markdown",
   "id": "c1d948de",
   "metadata": {},
   "source": [
    "#### Util"
   ]
  },
  {
   "cell_type": "code",
   "execution_count": 14,
   "id": "43862777",
   "metadata": {},
   "outputs": [],
   "source": [
    "def utilidade(state):\n",
    "    return (Implies(variante(state) == 0, state['pc'] == 4))"
   ]
  },
  {
   "cell_type": "code",
   "execution_count": 15,
   "id": "d8386e42",
   "metadata": {},
   "outputs": [
    {
     "name": "stdout",
     "output_type": "stream",
     "text": [
      "A propriedade é valida!\n"
     ]
    }
   ],
   "source": [
    "induction_always(declare,init,trans,utilidade)"
   ]
  },
  {
   "cell_type": "markdown",
   "id": "1b9c946c",
   "metadata": {},
   "source": [
    "## 2. Correção total"
   ]
  },
  {
   "cell_type": "markdown",
   "id": "ee13924d",
   "metadata": {},
   "source": [
    "### a. Forma recursiva do programa codificado em LPA (linguagem de programas anotados).\n",
    "\n",
    "$P \\equiv$ assume  $\\phi$ ;  $W$ ; assert $\\varphi$ ; skip <br>\n",
    "\n",
    "$\\phi \\equiv  m \\ge 0 \\ \\ \\land\\ \\ \\ n \\ge 0  \\ \\ \\land\\ \\ \\ x = m \\ \\ \\land\\ \\ \\ y = n \\ \\ \\land\\ \\ \\ r = 0$ <br>\n",
    "\n",
    "$\\varphi \\equiv  r = m \\ \\ x  \\ \\ n$ <br>\n",
    "\n",
    "$W \\equiv$ assume $b$;  $S$;  $W$ || assume $\\neg b$;<br>\n",
    "\n",
    "$b \\equiv y > 0$ <br>\n",
    "\n",
    "$S \\equiv$ {assume( $y \\ \\& \\ 1 = 1)$; $y \\leftarrow y-1$; $r \\leftarrow r + x$ || skip}; $C$<br>\n",
    "\n",
    "$C \\equiv x \\leftarrow x << 1$ ; $y \\leftarrow y >> 1$ <br>\n"
   ]
  },
  {
   "cell_type": "markdown",
   "id": "6ade1826",
   "metadata": {},
   "source": [
    "### b. Invariante mais fraco que assegura a correção do programa.\n",
    "\n",
    "Para provar a correção do programa temos que encontrar um invariante de ciclo, $\\theta$, que respeite as seguintes propriedades:\n",
    "- Inicialização, ou seja, $\\phi \\rightarrow \\theta$;\n",
    "- Preservação, ou seja, $W \\land\\ \\theta  \\rightarrow \\theta$;\n",
    "- Utilidade, ou seja, $\\neg b \\land\\ \\theta \\rightarrow \\varphi$;\n",
    "\n",
    "Um cadidato a invariante de ciclo pode ser:\n",
    "\n",
    "$\\theta \\equiv \\ m \\ \\times \\ n \\ = \\ r \\ + \\ x \\ \\times \\ y \\ \\land\\ y \\ge 0 \\ \\land\\ n \\ge y \\land\\ n \\ge 0 \\land\\ m \\ge 0$\n"
   ]
  },
  {
   "cell_type": "markdown",
   "id": "54b9220b",
   "metadata": {},
   "source": [
    "#### Variaveis"
   ]
  },
  {
   "cell_type": "code",
   "execution_count": 141,
   "id": "536967d9",
   "metadata": {},
   "outputs": [],
   "source": [
    "m, n, r, x, y = BitVecs('m n r x y',Bits)"
   ]
  },
  {
   "cell_type": "markdown",
   "id": "830a2632",
   "metadata": {},
   "source": [
    "#### Invariante"
   ]
  },
  {
   "cell_type": "code",
   "execution_count": 168,
   "id": "8a74f7f8",
   "metadata": {},
   "outputs": [],
   "source": [
    "invariante = And(x*y+r==m*n,y>=0, n>=y,m>=0,n>=0)"
   ]
  },
  {
   "cell_type": "markdown",
   "id": "cd5e2fbe",
   "metadata": {},
   "source": [
    "#### Função que prova as propriedades"
   ]
  },
  {
   "cell_type": "code",
   "execution_count": 148,
   "id": "47d3a09e",
   "metadata": {},
   "outputs": [],
   "source": [
    "def prove(f):\n",
    "    s = Solver()\n",
    "    s.add(Not(f))\n",
    "    c = s.check()\n",
    "    if c == unsat:\n",
    "        print(\"válido\")\n",
    "    elif c == sat:\n",
    "        print(\"inválido\")\n",
    "        print(s.model())\n",
    "    else:\n",
    "        print(\"desconhecido\")"
   ]
  },
  {
   "cell_type": "markdown",
   "id": "70a55a85",
   "metadata": {},
   "source": [
    "#### Inicialização"
   ]
  },
  {
   "cell_type": "code",
   "execution_count": 156,
   "id": "f0de8452",
   "metadata": {},
   "outputs": [
    {
     "name": "stdout",
     "output_type": "stream",
     "text": [
      "válido\n"
     ]
    }
   ],
   "source": [
    "prove(Implies(And(m>=0,n>=0,r==0,x==m,y==n),invariante))"
   ]
  },
  {
   "cell_type": "markdown",
   "id": "2e2dc8f6",
   "metadata": {},
   "source": [
    "#### Preservação"
   ]
  },
  {
   "cell_type": "code",
   "execution_count": 170,
   "id": "e5768fab",
   "metadata": {},
   "outputs": [
    {
     "name": "stdout",
     "output_type": "stream",
     "text": [
      "válido\n"
     ]
    }
   ],
   "source": [
    "#pre = And(y>0,invariante)\n",
    "pre = And(y>0,n<=20,m<=20,invariante)\n",
    "vcthen = Implies(y & 1 == 1, substitute (substitute(substitute(substitute(invariante,(y,y>>1)),(x,x<<1)),(r,r+x)),(y,y-1)))\n",
    "vcelse = Implies(y & 1 == 0, substitute (substitute(invariante,(y,y>>1)),(x,x<<1)))\n",
    "prove(Implies(pre,And(vcthen,vcelse)))"
   ]
  },
  {
   "cell_type": "markdown",
   "id": "74572876",
   "metadata": {},
   "source": [
    "#### Utilidade"
   ]
  },
  {
   "cell_type": "code",
   "execution_count": 157,
   "id": "d9813abf",
   "metadata": {},
   "outputs": [
    {
     "name": "stdout",
     "output_type": "stream",
     "text": [
      "válido\n"
     ]
    }
   ],
   "source": [
    "prove(Implies(And(y==0,invariante),r==m*n))"
   ]
  },
  {
   "cell_type": "markdown",
   "id": "3e73ef38",
   "metadata": {},
   "source": [
    "### c. Unfold com parametro limite N para provar correção do progrma.\n",
    "\n",
    "Para provar a correção por unfold com um parametro limite **N**, temos que \"esticar\" **(unfold)** a execução do ciclo numa aproximação formada por uma sequência finita, numero finito, de execuções do “corpo do ciclo”.\n",
    "\n",
    "Ora, sendo **N** o parametro limite e uma vez que em cada execução do ciclo existe uma sequencia de no máximo 4 estados, sabemos entao que o ciclo vai executar um número finito de vezes. Portanto, podemos definir um número maximo de $4 \\times N + 1$ estados.   \n",
    "\n",
    "Assim sendo, para provar o invariante, vamos gerar um traço de execução do programa com $4 \\times N + 1$ estados,$[S_0 .. S_{k}]$com, onde serão acrescentadas a seguinte restrição:<br>\n",
    "- $S_0['m'] < N \\ \\land\\ \\ S_0['n'] < N $ <br>\n",
    "- $\\neg \\theta (S_k)$\n",
    "\n",
    "Por fim utilizamos o solver do z3 para realizar o traço de execução e caso o **status** seja **unsat** isso significa que o programa está correto."
   ]
  },
  {
   "cell_type": "markdown",
   "id": "0622f193",
   "metadata": {},
   "source": [
    "#### Invariante"
   ]
  },
  {
   "cell_type": "code",
   "execution_count": 134,
   "id": "4e970d98",
   "metadata": {},
   "outputs": [],
   "source": [
    "def inv(s):\n",
    "    return And(s['m']*s['n'] == s['x']*s['y'] + s['r'], s['y']>=0, s['n']>=s['y'],s['n']>=0,s['m']>=0)"
   ]
  },
  {
   "cell_type": "markdown",
   "id": "c00f5d24",
   "metadata": {},
   "source": [
    "#### Função que prova a correção do programa por unfold"
   ]
  },
  {
   "cell_type": "code",
   "execution_count": 139,
   "id": "7d57e99b",
   "metadata": {},
   "outputs": [],
   "source": [
    "def unfold(declare,init,trans,prop,N):\n",
    "    k = N*4 +1\n",
    "    s = Solver()\n",
    "    traco = {}\n",
    "    for i in range(k):\n",
    "        traco[i] = declare(i)\n",
    "    s.add(init(traco[0]))\n",
    "    s.add(And(traco[0]['m']<N,traco[0]['m']<N))\n",
    "    for i in range(k-1):\n",
    "        s.add(trans(traco[i],traco[i+1]))\n",
    "    s.add(Not(prop(traco[k-1])))\n",
    "    status = s.check()\n",
    "    if status == sat:\n",
    "        m = s.model()\n",
    "        for i in range(k):\n",
    "            print(i)\n",
    "            for v in traco[i]:\n",
    "                print(v, \"=\", m[trace[i][v]])\n",
    "        return\n",
    "    print(\"O programa está correto\")\n",
    "    "
   ]
  },
  {
   "cell_type": "code",
   "execution_count": 140,
   "id": "030255c3",
   "metadata": {},
   "outputs": [
    {
     "name": "stdout",
     "output_type": "stream",
     "text": [
      "O programa está correto\n"
     ]
    }
   ],
   "source": [
    "unfold(declare,pre,trans,inv,20)"
   ]
  }
 ],
 "metadata": {
  "kernelspec": {
   "display_name": "Python 3 (ipykernel)",
   "language": "python",
   "name": "python3"
  },
  "language_info": {
   "codemirror_mode": {
    "name": "ipython",
    "version": 3
   },
   "file_extension": ".py",
   "mimetype": "text/x-python",
   "name": "python",
   "nbconvert_exporter": "python",
   "pygments_lexer": "ipython3",
   "version": "3.8.10"
  }
 },
 "nbformat": 4,
 "nbformat_minor": 5
}
