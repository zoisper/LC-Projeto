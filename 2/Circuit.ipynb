{
 "cells": [
  {
   "cell_type": "markdown",
   "id": "ecc267a3",
   "metadata": {},
   "source": [
    "# **TP - Grupo 4**\n",
    "Pedro Paulo Costa Pereira - A88062\n",
    "\n",
    "Tiago André Oliveira Leite - A91693"
   ]
  },
  {
   "cell_type": "markdown",
   "id": "7cee8a9c",
   "metadata": {},
   "source": [
    "# **Problema  - Circuito**"
   ]
  },
  {
   "cell_type": "code",
   "execution_count": 1,
   "id": "0055b987",
   "metadata": {},
   "outputs": [],
   "source": [
    "import networkx as nx\n",
    "from ortools.linear_solver import pywraplp\n",
    "import random"
   ]
  },
  {
   "cell_type": "code",
   "execution_count": 70,
   "id": "1be39dbd",
   "metadata": {},
   "outputs": [],
   "source": [
    "def circuit_generator(I,Alpha):\n",
    "    \n",
    "    num_xors = 1#random.randint(0,I)\n",
    "    num_nots = 1#random.randint(0,I)\n",
    "    num_ands = int ((2*num_xors + 2*num_nots + I +1 )*Alpha // (1 - 2*Alpha))\n",
    "    num_middle = num_xors + num_nots + num_ands -1\n",
    "    total = I + num_xors + num_nots + num_ands + num_middle\n",
    "    \n",
    "    inputs = [i for i in range(I)]\n",
    "    middle = [(I+i) for i in range(num_middle)]\n",
    "    xors = [(I+num_middle+i) for i in range(num_xors)]\n",
    "    nots = [(I+num_middle+num_xors+i) for i in range(num_nots)]\n",
    "    ands = [(I+num_middle + num_xors+ num_nots + i) for i in range(num_ands)]\n",
    "    \n",
    "    G = nx.DiGraph()\n",
    "    G.add_nodes_from(inputs,color=1)\n",
    "    G.add_nodes_from(middle,color=2)\n",
    "    G.add_nodes_from(xors, gate=\"XOR\",color=3)\n",
    "    G.add_nodes_from(nots, gate=\"NOT\",color=4)\n",
    "    G.add_nodes_from(ands, gates=\"AND\", color=5)\n",
    "    G.add_node(total,color=6)\n",
    "    \n",
    "    \n",
    "    gates = xors + nots + ands \n",
    "    wires = [total] + middle\n",
    "    \n",
    "    orla = []\n",
    "    orla.append(total)\n",
    "    while orla:\n",
    "        x = orla.pop()\n",
    "        candidates = []\n",
    "        if x in wires:\n",
    "            candidates = [g for g in gates if (G.degree[g] == 0 and not nx.has_path(G,g,x))]\n",
    "            if candidates:\n",
    "                random.shuffle(candidates)\n",
    "                selected = candidates.pop(0)\n",
    "                G.add_edge(x,selected)\n",
    "                orla.append(selected)\n",
    "        else:\n",
    "            candidates = [w for w in wires if not nx.has_path(G,w,x)]\n",
    "            if candidates:\n",
    "                random.shuffle(candidates)\n",
    "                if x in nots:\n",
    "                    selected = candidates.pop(0)\n",
    "                    G.add_edge(x,selected)\n",
    "                    orla.append(selected)\n",
    "                elif len(candidates)>1:\n",
    "                    for i in range(random.randint(2,len(candidates))):\n",
    "                        selected = candidates.pop(0)\n",
    "                        G.add_edge(x,selected)\n",
    "                        orla.append(selected)\n",
    "    \n",
    "    unconected = [g for g in gates if G.out_degree(g) == 0]\n",
    "    \n",
    "    for g in unconected:\n",
    "        candidates = [i for i in inputs]\n",
    "        random.shuffle(candidates)\n",
    "        if g in nots:\n",
    "            selected = candidates.pop(0)\n",
    "            G.add_edge(g,selected)\n",
    "        else:\n",
    "            for i in range(random.randint(2,len(candidates))):\n",
    "                selected = candidates.pop(0)\n",
    "                G.add_edge(g,selected)\n",
    "            \n",
    "        \n",
    "                    \n",
    "                   \n",
    "             \n",
    "        \n",
    "    \n",
    "    \n",
    "    nx.draw(G, with_labels = True,node_size=1000, pos=nx.planar_layout(G), node_color=[G.nodes[n]['color'] for n in G])\n",
    "    \n",
    "    \n",
    "    return G\n",
    "    \n",
    "    \n",
    "    "
   ]
  },
  {
   "cell_type": "code",
   "execution_count": 71,
   "id": "e1fff1f2",
   "metadata": {
    "scrolled": true
   },
   "outputs": [
    {
     "data": {
      "image/png": "[encoded data removed]",
      "text/plain": [
       "<Figure size 432x288 with 1 Axes>"
      ]
     },
     "metadata": {},
     "output_type": "display_data"
    }
   ],
   "source": [
    "G = circuit_generator(2,0.2)"
   ]
  },
  {
   "cell_type": "code",
   "execution_count": null,
   "id": "73c917e9",
   "metadata": {},
   "outputs": [],
   "source": []
  },
  {
   "cell_type": "code",
   "execution_count": null,
   "id": "9979aefd",
   "metadata": {},
   "outputs": [],
   "source": []
  }
 ],
 "metadata": {
  "kernelspec": {
   "display_name": "Python 3 (ipykernel)",
   "language": "python",
   "name": "python3"
  },
  "language_info": {
   "codemirror_mode": {
    "name": "ipython",
    "version": 3
   },
   "file_extension": ".py",
   "mimetype": "text/x-python",
   "name": "python",
   "nbconvert_exporter": "python",
   "pygments_lexer": "ipython3",
   "version": "3.8.10"
  }
 },
 "nbformat": 4,
 "nbformat_minor": 5
}
