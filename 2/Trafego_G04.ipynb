{
  "nbformat": 4,
  "nbformat_minor": 0,
  "metadata": {
    "colab": {
      "name": "Trafego-G04.ipynb",
      "provenance": [],
      "collapsed_sections": []
    },
    "kernelspec": {
      "name": "python3",
      "display_name": "Python 3"
    },
    "language_info": {
      "name": "python"
    }
  },
  "cells": [
    {
      "cell_type": "markdown",
      "metadata": {
        "id": "w6BS80owUd_t"
      },
      "source": [
        "# **TP2 - Grupo 4**\n",
        "Pedro Paulo Costa Pereira - A88062\n",
        "\n",
        "Tiago André Oliveira Leite - A91693"
      ]
    },
    {
      "cell_type": "markdown",
      "metadata": {
        "id": "K_abdqCEUyt1"
      },
      "source": [
        "# **Problema 1 - Sistema de Tráfego**\n",
        "Um sistema de tráfego é representado por um grafo orientado ligado. Os nodos denotam pontos de acesso e os arcos denotam vias de comunicação só com um sentido. \n",
        "\n",
        "> O grafo tem de ser ligado o que significa que entre cada par de nodos $\\langle n_1,n_2 \\rangle$ tem de existir um caminho $n_1 \\leadsto n_2$ e um caminho $n_2\\leadsto n_1$. \n",
        "\n",
        "1. Gerar aleatoriamente um tal grafo com $N=32$ nodos. Cada nodo tem um número aleatório de descendentes no intervalo $1..3$ cujos destinos são distintos entre si do nodo origem.\n",
        "2. Pretende-se fazer manutenção interrompendo determinadas vias. Determinar **o maior número de vias** que é possível remover mantendo o grafo ligado."
      ]
    },
    {
      "cell_type": "code",
      "metadata": {
        "id": "DVmmfTQaXExH"
      },
      "source": [
        "import networkx as nx\n",
        "from ortools.linear_solver import pywraplp\n",
        "import random"
      ],
      "execution_count": null,
      "outputs": []
    },
    {
      "cell_type": "markdown",
      "metadata": {
        "id": "tT7urT_UWMH4"
      },
      "source": [
        "## **Funções para gerar aleatoriamente um digrafo ligado**\n",
        "\n",
        "Primeiramente, vamos começar declarando duas variáveis globais:\n",
        "\n",
        "`NUM_NODES` é o número de nodos do digrafo;\n",
        "\n",
        "`MAX_OUT_DEGREE` é o número máximo de descendentes de cada nodo."
      ]
    },
    {
      "cell_type": "code",
      "metadata": {
        "id": "SFtt-e1VUVst"
      },
      "source": [
        "NUM_NODES = 32 \n",
        "MAX_OUT_DEGREE = 3"
      ],
      "execution_count": null,
      "outputs": []
    },
    {
      "cell_type": "markdown",
      "metadata": {
        "id": "9KBKBhs8YXjb"
      },
      "source": [
        "### Método 1\n",
        "Esta estratégia consiste em, basicamente, manter sempre o grafo orientado (ou digrafo) $G$ ligado à medida que se vão adicionando arestas.\n",
        "\n",
        "Em primeiro lugar, inserimos todos os nodos $n_1, n_2, ..., n_j$ em $G$. De seguida, selecionamos de forma aleatória dois nodos, aos quais chamaremos $s$ e $d$, e adicionamos as arestas $(s, d)$ e $(d, s)$ a $G$. Agora, vamos ligar cada um dos nodos restantes de $G$ de uma forma aleatória, mas mantendo sempre $G$ ligado.\n",
        "\n",
        "Portanto, selecionamos um nodo $n$ cujo grau de saída é igual a $0$ e dois nodos $s, d$ que já se encontram na parte de $G$ que está ligada. Aqui podemos encontrar dois casos:\n",
        "\n",
        "1. O grau de saída de $s$ é igual a `MAX_OUT_DEGREE`. Então, selecionamos outro nodo $d$ (que seja sucessor de $s$), removemos a aresta $(s, d)$ e colocamos as arestas $(s, n)$ e $(n, d)$.\n",
        "\n",
        "2. O grau de saída de $s$ é menor que `MAX_OUT_DEGREE`. Então, escolhe-se à sorte entre duas opções: colocar as arestas $(s, n)$ e $(n, s)$ ou realizar o mesmo processo realizado para o caso (1).\n",
        "\n",
        "Por fim, selecionamos cada nodo cujo grau de saída ainda é menor que `MAX_OUT_DEGREE` e colocamos um número $$0 \\leq n \\leq \\mbox{MAX_OUT_DEGREE - G.out_degree(nodo)}$$ de arestas aleatórias, partindo deste nodo.\n",
        "\n",
        "\n",
        "\n"
      ]
    },
    {
      "cell_type": "code",
      "metadata": {
        "id": "S08bgXuMmH0S"
      },
      "source": [
        "def graph_generator():\n",
        "    G = nx.DiGraph()\n",
        "\n",
        "    nodes = [n for n in range(1,NUM_NODES+1)]\n",
        "    choosen = []\n",
        "    G.add_nodes_from(nodes)\n",
        "    random.shuffle(nodes)\n",
        "    \n",
        "    s = random.choice(nodes)\n",
        "    nodes.remove(s)\n",
        "    choosen.append(s)\n",
        "    d = random.choice(nodes)\n",
        "    nodes.remove(d)\n",
        "    choosen.append(d)\n",
        "    \n",
        "    G.add_edge(s,d)\n",
        "    G.add_edge(d,s)\n",
        "    \n",
        "    while nodes:\n",
        "        to_add = random.choice(nodes)\n",
        "        nodes.remove(to_add)\n",
        "        s = random.choice(choosen)\n",
        "        d = random.choice(choosen)\n",
        "        if G.out_degree(s) == MAX_OUT_DEGREE or random.choice([0,1]):\n",
        "            d = random.choice(list(G.successors(s)))\n",
        "            G.remove_edge(s,d)\n",
        "            G.add_edge(s,to_add)\n",
        "            G.add_edge(to_add,d)\n",
        "        else:\n",
        "            G.add_edge(s,to_add)\n",
        "            G.add_edge(to_add,s)\n",
        "        choosen.append(to_add)\n",
        "    \n",
        "    nodes = [n for n in G.nodes() if G.out_degree(n)<MAX_OUT_DEGREE]\n",
        "    while nodes:\n",
        "        s = nodes.pop()\n",
        "        r = random.randint(0,MAX_OUT_DEGREE - G.out_degree(s))\n",
        "        candidates = [n for n in G.nodes() if n != s]\n",
        "        for i in range(r):\n",
        "            d = random.choice(candidates)\n",
        "            candidates.remove(d)\n",
        "            G.add_edge(s,d)\n",
        "            \n",
        "    return G"
      ],
      "execution_count": null,
      "outputs": []
    },
    {
      "cell_type": "markdown",
      "metadata": {
        "id": "EIrODpD9nJUW"
      },
      "source": [
        "### Método 2\n",
        "Neste método, mais simples que o anterior, criamos o digrafo $G$, adicionamos todos os nodos $n_1, n_2, ..., n_j$ e criamos um ciclo, ou seja, colocamos as arestas $(n_1, n_2), (n_2, n_3), ..., (n_{j-1}, n_j)$ e $(n_j, n_1)$.\n",
        "\n",
        "Nota-se que, nesse ponto, todos os nodos têm grau de saída igual a $1$.\n",
        "\n",
        "Por fim, iteramos por todos os nodos e adicionamos um número $$0 \\leq n \\leq \\mbox{MAX_OUT_DEGREE - 1}$$ de arestas aleatórias, partindo deste nodo.\n"
      ]
    },
    {
      "cell_type": "code",
      "metadata": {
        "id": "UQpXL9ZZq3CA"
      },
      "source": [
        "def graph_generator_simple():\n",
        "    G = nx.DiGraph()\n",
        "\n",
        "    nodes = [v for v in range(1,NUM_NODES+1)]\n",
        "    G.add_nodes_from(nodes)\n",
        "    random.shuffle(nodes)\n",
        "\n",
        "    for i in range(len(nodes)-1):\n",
        "        G.add_edge(nodes[i], nodes[i+1])\n",
        "    G.add_edge(nodes[len(nodes)-1],nodes[0])\n",
        "\n",
        "    for n in nodes:\n",
        "        candidates = [v for v in nodes if v != n]\n",
        "        random.shuffle(candidates)\n",
        "        num_adj = random.randint(0,MAX_OUT_DEGREE-1)\n",
        "        for i in range(num_adj):\n",
        "            G.add_edge(n, candidates[i])\n",
        "    return G"
      ],
      "execution_count": null,
      "outputs": []
    },
    {
      "cell_type": "markdown",
      "metadata": {
        "id": "SmaqVC9Aq6Nr"
      },
      "source": [
        "## **Função para gerar subgrafo orientado ligado de G com número mínimo de arestas**\n",
        "\n",
        "Para gerar um subdigrafo $S$ ligado com um número mínimo de arestas a partir de $G$, vamos utilizar um *solver* SCIP, ao qual chamaremos `solver`, e dois dicionários $A$ e $P$, onde vamos armazenar as variáveis do *solver*.\n",
        "\n",
        "Sendo $E$ o conjunto de arestas de $G$, a variável $A_e$, com $e \\in E$ representa a presença de $e$ em $S$, ou seja,\n",
        "$$A_e = 1 \\quad \\mbox{se e só se} \\quad e \\in V_S$$\n",
        "onde $V_S$ é o conjunto de nodos de $S$.\n",
        "\n",
        "Admitamos que $C_{s, d}$ é uma lista de todos os caminhos de $s$ para $d$ em $G$, e que um caminho é uma lista de arestas (logo, $C_{s, d}$ é uma lista de listas). A variável $P_{s, d, i}$ representa a existência do caminho $C_{s, d}[i]$ em $S$, com $0 \\leq i < \\mbox{len}(C_{s, d})$, ou seja, \n",
        "$$P_{s, d, i} = 1 \\quad \\mbox{se e só se} \\quad \\forall_{e \\in C_{s, d}[i]} \\cdot e \\in E_S$$\n",
        "onde $E_S$ é o conjunto de arestas de $S$.\n",
        "\n",
        "**Nota:** para verificar que um digrafo é ligado, basta garantir que existe pelo menos um caminho de um nodo $s$ para todos os outros nodos e que, de cada um dos outros nodos, existe pelo menos um caminho para $s$."
      ]
    },
    {
      "cell_type": "markdown",
      "metadata": {
        "id": "1JHjbU7MFixe"
      },
      "source": [
        "### Restrições\n",
        "\n",
        "Temos, agora, que adicionar as restrições ao *solver*.\n",
        "\n",
        "Chamaremos $s$ ao nodo a partir do qual terá de existir um caminho para todos os outros e $D$ ao conjunto formado por todos os outros nodos.\n",
        "\n",
        "As restrições que adicionaremos ao *solver* são:\n",
        "\n",
        "1. Um caminho $i$ de $s$ para $d \\in D$ não pode existir em $S$ se alguma aresta $e \\in C_{s,d}[i]$ não existir em $S$, ou seja, o valor de $A_e$ nunca será menor que o valor de $P_{s, d, i}$.\n",
        "\n",
        "$$\\forall_{d \\in D,\\ 0 \\leq i < n,\\ e \\in C_{s,d}[i]} \\cdot P_{s, d, i} \\leq A_e \\mbox{, onde } n = \\mbox{len}(C_{s,d})$$\n",
        "\n",
        "\n",
        "2. De modo análogo ao raciocínio da restrição (1), um caminho $i$ de $d \\in D$ para $s$ não pode existir em $S$ se alguma aresta $e \\in C_{d,s}[i]$ não existir em $S$.\n",
        "\n",
        "$$\\forall_{d \\in D,\\ 0 \\leq i < n,\\ e \\in C_{d, s}[i]} \\cdot P_{d, s, i} \\leq A_e \\mbox{, onde } n = \\mbox{len}(C_{d,s})$$\n",
        "\n",
        "3. Para qualquer $d \\in D$, há de existir pelo menos um caminho de $s$ para $d$ e um caminho de $d$ para $s$.\n",
        "\n",
        "$$\\sum_{0 \\leq i < n} P_{s,d,i} \\geq 1 \\mbox{, onde } n = \\mbox{len}(C_{s,d})$$\n",
        "\n",
        "$$\\sum_{0 \\leq i < n} P_{d,s,i} \\geq 1 \\mbox{, onde } n = \\mbox{len}(C_{d,s})$$\n",
        "\n",
        "Para finalizar, temos que declarar a função objetivo. Como queremos que $S$ tenha o menor número possível de arestas, o objetivo é minimizar $\\sum_{e \\in E} A_e$."
      ]
    },
    {
      "cell_type": "code",
      "metadata": {
        "id": "hBWyuOcy5_LG"
      },
      "source": [
        "def sub_graph_generator(G):\n",
        "    solver = pywraplp.Solver.CreateSolver('SCIP')\n",
        "    \n",
        "    A = {}\n",
        "    for edge in G.edges():\n",
        "        A[edge] = solver.BoolVar('%i%i' %edge)\n",
        "    \n",
        "    nodes = [e for e in G.nodes()]\n",
        "    s = nodes.pop(0)\n",
        "    \n",
        "    P = {}\n",
        "    \n",
        "    #garantir que de s conseguimos chegar a todos os outros nodos d e de todos os nodos d chegamos a s\n",
        "    for d in nodes:\n",
        "        #garantir que ha caminho de s para d\n",
        "        paths = list(nx.all_simple_edge_paths(G, s, d))\n",
        "        N = len(paths)\n",
        "        for i in range(N):\n",
        "            P[(s,d,i)] = solver.BoolVar('%i%i%i' %(s,d,i))\n",
        "            for edge in paths[i]:\n",
        "                solver.Add(P[(s,d,i)] <= A[edge])\n",
        "        solver.Add(sum([P[(s,d,i)] for i in range(N)])>=1)\n",
        "        \n",
        "        #garantir que ha caminho de d para s\n",
        "        \n",
        "        paths = list(nx.all_simple_edge_paths(G, d, s))\n",
        "        N = len(paths)\n",
        "        for i in range(N):\n",
        "            P[(d,s,i)] = solver.BoolVar('%i%i%i' %(d,s,i))\n",
        "            for edge in paths[i]:\n",
        "                solver.Add(P[(d,s,i)] <= A[edge])\n",
        "        solver.Add(sum([P[(d,s,i)] for i in range(N)])>=1)\n",
        "            \n",
        "        \n",
        "    \n",
        "    solver.Minimize(sum([A[edge] for edge in G.edges]))\n",
        "    status = solver.Solve()\n",
        "    if status == pywraplp.Solver.OPTIMAL:\n",
        "        S = nx.DiGraph()\n",
        "        S.add_nodes_from(G.nodes())\n",
        "        for edge in A:\n",
        "            if A[edge].solution_value() == 1:\n",
        "                S.add_edge(edge[0],edge[1])\n",
        "        return S\n",
        "    else:\n",
        "        print(\"Sem solução\")"
      ],
      "execution_count": null,
      "outputs": []
    }
  ]
}