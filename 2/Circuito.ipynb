{
 "cells": [
  {
   "cell_type": "markdown",
   "id": "ecc267a3",
   "metadata": {},
   "source": [
    "# **TP - Grupo 4**\n",
    "Pedro Paulo Costa Pereira - A88062\n",
    "\n",
    "Tiago André Oliveira Leite - A91693"
   ]
  },
  {
   "cell_type": "markdown",
   "id": "7cee8a9c",
   "metadata": {},
   "source": [
    "# **Problema  - Circuito**"
   ]
  },
  {
   "cell_type": "code",
   "execution_count": 1,
   "id": "0055b987",
   "metadata": {},
   "outputs": [],
   "source": [
    "import networkx as nx\n",
    "from ortools.linear_solver import pywraplp\n",
    "import random"
   ]
  },
  {
   "cell_type": "code",
   "execution_count": 169,
   "id": "ca2cb597",
   "metadata": {},
   "outputs": [],
   "source": [
    "def circuit_generator(I,Alpha):\n",
    "    num_xors = random.randint(0,I)\n",
    "    num_nots = random.randint(0,I)\n",
    "    num_ors = random.randint(0,I)\n",
    "    num_ands = int((num_xors + num_nots + num_ors) * Alpha / (1-Alpha))\n",
    "    G = nx.DiGraph()\n",
    "    total = 0\n",
    "    \n",
    "    for n in range(I):\n",
    "        G.add_node(n,type=\"INPUT\",val=0,color=1)\n",
    "    \n",
    "    total += I\n",
    "    \n",
    "    for n in range(num_xors):\n",
    "        G.add_node(total+n,type=\"XOR\",val=0,color=2)\n",
    "    \n",
    "    total += num_xors\n",
    "    \n",
    "    for n in range(num_nots):\n",
    "        G.add_node(total+n,type=\"NOT\",val=0,color=3)\n",
    "    \n",
    "    total += num_nots\n",
    "    \n",
    "    \n",
    "    for n in range(num_ors):\n",
    "        G.add_node(total+n,type=\"OR\",val=0,color=4)\n",
    "    \n",
    "    total += num_ors\n",
    "    \n",
    "    for n in range(num_ands):\n",
    "        G.add_node(total+n,type=\"AND\",val=0,color=5)\n",
    "    \n",
    "    total+= num_ands\n",
    "    \n",
    "    num_gates = total - I\n",
    "    \n",
    "    for n in range(num_gates):\n",
    "        G.add_node(total+n,type=\"WIRE\",val=0,color=6)\n",
    "    \n",
    "    gates = [n for n in G.nodes() if G.nodes[n]['type'] != 'INPUT' and G.nodes[n]['type'] != 'WIRE']\n",
    "    wires = [n for n in G.nodes() if G.nodes[n]['type'] == 'WIRE']\n",
    "    random.shuffle(gates)\n",
    "    gates_info = {}\n",
    "    \n",
    "    for edge in zip(gates,wires):\n",
    "        G.add_edge(*edge)\n",
    "        gates_info[edge[0]] = {'type':G.nodes[edge[0]]['type'] ,'output':edge[1],'level':float('inf')}\n",
    "    \n",
    "    output = random.choice(gates)\n",
    "    G.nodes[gates_info[output]['output']]['type'] = 'OUTPUT'\n",
    "    gates_info[output]['level'] = 1\n",
    "    orla = [output]\n",
    "    while orla:\n",
    "        x = orla.pop(0)\n",
    "        candidates = [g for g in gates_info if gates_info[g]['level'] > gates_info[x]['level']]\n",
    "        if candidates:\n",
    "            random.shuffle(candidates)\n",
    "            if gates_info[x]['type'] == 'NOT':\n",
    "                selected = candidates.pop(0)\n",
    "                gates_info[selected]['level'] = gates_info[x]['level'] +1 \n",
    "                G.add_edge(gates_info[selected]['output'],x)\n",
    "                orla.append(selected)\n",
    "            elif len(candidates)>1:\n",
    "                for i in range(random.randint(2,len(candidates))):\n",
    "                    selected = candidates.pop(0)\n",
    "                    gates_info[selected]['level'] = gates_info[x]['level'] +1 \n",
    "                    G.add_edge(gates_info[selected]['output'],x)\n",
    "                    orla.append(selected)\n",
    "    \n",
    "    \n",
    "    unconected = [n for n in gates if G.out_degree[n] == 0]\n",
    "    for x in unconected:\n",
    "        candidates = [n for n in gates if n not in unconected and G.nodes[i]['type'] != 'NOT']\n",
    "        selected = random.choice(candidates)\n",
    "        G.add_edge(gates_info[x]['output'],selected)\n",
    "            \n",
    "        \n",
    "    \n",
    "    unconected = [n for n in gates if G.in_degree[n] == 0]\n",
    "    \n",
    "    for x in unconected:\n",
    "        candidates = [i for i in G.nodes() if G.nodes[i]['type'] == 'INPUT']\n",
    "        random.shuffle(candidates)\n",
    "        if gates_info[x]['type'] == 'NOT':\n",
    "            selected = candidates.pop(0)\n",
    "            G.add_edge(selected,x)\n",
    "        else:\n",
    "            for i in range(random.randint(1,len(candidates))):\n",
    "                selected = candidates.pop(0)\n",
    "                G.add_edge(selected,x)\n",
    "    \n",
    "      \n",
    "        \n",
    "    return G\n",
    "    \n",
    "    "
   ]
  },
  {
   "cell_type": "code",
   "execution_count": 173,
   "id": "545c7c80",
   "metadata": {},
   "outputs": [
    {
     "data": {
      "image/png": "[encoded data removed]",
      "text/plain": [
       "<Figure size 432x288 with 1 Axes>"
      ]
     },
     "metadata": {},
     "output_type": "display_data"
    }
   ],
   "source": [
    "G = circuit_generator(2,0.4)\n",
    "nx.draw(G, with_labels = True, node_size=1000,pos=nx.planar_layout(G), node_color=[G.nodes[n]['color'] for n in G])"
   ]
  },
  {
   "cell_type": "code",
   "execution_count": 14,
   "id": "9979aefd",
   "metadata": {},
   "outputs": [],
   "source": [
    "def calculate_aux(G, node):\n",
    "    if G.nodes[node]['type'] == 'INPUT':\n",
    "        return G.nodes[node]['val']\n",
    "    elif G.nodes[node]['type'] == 'OUTPUT' or G.nodes[node]['type'] == \"WIRE\" :\n",
    "        next_node = list(G.edges(node))[0][1]\n",
    "        return calculate_aux(G,next_node)\n",
    "    elif G.nodes[node]['type'] == 'NOT':\n",
    "        next_node = list(G.edges(node))[0][1]\n",
    "        return  not calculate_aux(G,next_node)\n",
    "    elif G.nodes[node]['type'] == 'AND':\n",
    "        next_nodes = [a[1] for a in list(G.edges(node))]\n",
    "        result = [calculate_aux(G,a) for a in next_nodes]\n",
    "        return all(result)\n",
    "    else:\n",
    "        next_nodes = [a[1] for a in list(G.edges(node))]\n",
    "        result = [calculate_aux(G,a) for a in next_nodes]\n",
    "        return any(result)\n",
    "            \n",
    "\n",
    "\n",
    "def calculate(G,values):\n",
    "    inputs = [v for v in G if G.nodes[v]['type'] == 'INPUT']\n",
    "    for v in range(len(inputs)):\n",
    "        G.nodes[inputs[v]]['val'] = values[v]\n",
    "    output = len(G) -1\n",
    "    return calculate_aux(G,output)\n",
    "\n",
    "    "
   ]
  },
  {
   "cell_type": "code",
   "execution_count": 15,
   "id": "4eb172c7",
   "metadata": {},
   "outputs": [
    {
     "data": {
      "text/plain": [
       "True"
      ]
     },
     "execution_count": 15,
     "metadata": {},
     "output_type": "execute_result"
    }
   ],
   "source": [
    "calculate(G,[1,1])"
   ]
  },
  {
   "cell_type": "code",
   "execution_count": 175,
   "id": "6ecc9a6f",
   "metadata": {},
   "outputs": [
    {
     "name": "stdout",
     "output_type": "stream",
     "text": [
      "1\n"
     ]
    }
   ],
   "source": [
    "print(G.out_degree[9])"
   ]
  },
  {
   "cell_type": "code",
   "execution_count": null,
   "id": "9db8b556",
   "metadata": {},
   "outputs": [],
   "source": []
  }
 ],
 "metadata": {
  "kernelspec": {
   "display_name": "Python 3 (ipykernel)",
   "language": "python",
   "name": "python3"
  },
  "language_info": {
   "codemirror_mode": {
    "name": "ipython",
    "version": 3
   },
   "file_extension": ".py",
   "mimetype": "text/x-python",
   "name": "python",
   "nbconvert_exporter": "python",
   "pygments_lexer": "ipython3",
   "version": "3.8.10"
  }
 },
 "nbformat": 4,
 "nbformat_minor": 5
}
