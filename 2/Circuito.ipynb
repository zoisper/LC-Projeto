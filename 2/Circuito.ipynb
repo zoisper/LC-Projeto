{
 "cells": [
  {
   "cell_type": "markdown",
   "id": "ecc267a3",
   "metadata": {
    "id": "ecc267a3"
   },
   "source": [
    "# **TP 2 - Grupo 4**\n",
    "Pedro Paulo Costa Pereira - A88062\n",
    "\n",
    "Tiago André Oliveira Leite - A91693"
   ]
  },
  {
   "cell_type": "markdown",
   "id": "7cee8a9c",
   "metadata": {
    "id": "7cee8a9c"
   },
   "source": [
    "# **Problema 2  - Circuito**"
   ]
  },
  {
   "cell_type": "markdown",
   "id": "d2c6dd4c",
   "metadata": {
    "id": "d2c6dd4c"
   },
   "source": [
    "$\\quad$Considere-se um circuito booleano $\\,\\mathcal{C}\\,$ com $\\,n\\,$ “wires” de “input” e um único “wire” de output.\n",
    "* O circuito é descrito num digrafo com uma classe de nodos representando “gates” e a segunda classe representando “wires” . \n",
    "* Cada nodo contém um campo val cujo conteúdo descreve a semântica desse nodo; para os “wires” o campo val  contém uma variável SCIP; para as “gates” o campo val  contém uma marca bo conjunto and, or,  xor e not,   que indica o tipo de “gate”. \n",
    "* Com exceção de not , que é um operador unário, todas as restantes “gates” têm um número arbitrário de “inputs” e um único “output”.\n",
    "* No grafo os arcos com origem numa determinada “gate”  têm destino nos “wires” que são “input” dessa “gate”. Cada “wire” que não é “input” é origem de um único arco que tem como destino a “gate” do qual esse “wire” é “output”.\n",
    "* A semântica das várias “gates” é expressa em relações na Aritmética Linear Inteira, tal como está descrita em +Capítulo 2: Programação com Restrições (#LIA)\n",
    "\n",
    "$\\quad$a. Escreva um programa que, a partir do número $\\,n\\,$ de “inputs”  e de um parâmetro positivo $\\,\\gamma\\ll 1\\,$ como argumentos,  gere aleatoriamente circuitos com “gates” or, and e not  em que o número de and's é  $\\,\\gamma\\ast\\,$ (número total de nodos).<br>\n",
    "\n",
    "$\\quad$b. Escreva um programa Python que leia um circuito arbitrário descrito pelo digrafo anterior e formule as restrições (em Programação Inteira) que descrevem as várias “gates” do circuito.<br>\n",
    "\n",
    "$\\quad$c. Usando os dois programas anteriores e o sistema SCIP:<br> \n",
    "$\\qquad$c1. Escreva um programa que determine um vetor de “inputs”   $\\,x\\in\\{0,1\\}^n\\,$ aceite pelo circuito (i.e. o respetivo output é $1$).<br>\n",
    "$\\qquad$c2. Determine o vetor $x'\\neq x$ , também aceite pelo circuito, que está mais próximo de $x$."
   ]
  },
  {
   "cell_type": "code",
   "execution_count": 1,
   "id": "0055b987",
   "metadata": {
    "id": "0055b987",
    "outputId": "ce3abd2c-7968-40ce-8c26-261da374ca93"
   },
   "outputs": [],
   "source": [
    "import networkx as nx\n",
    "from ortools.linear_solver import pywraplp\n",
    "import random"
   ]
  },
  {
   "cell_type": "markdown",
   "id": "a9d9f940",
   "metadata": {
    "id": "a9d9f940"
   },
   "source": [
    "## **Função que gera circuitos aleatoriamente**\n",
    "\n",
    "Primeiramente, foram selecionados aleatoriamente os números de gates *xor*, *or* e *not*, e o número de gates *and* com base no valor de $\\gamma$ de forma que $\\#\\mbox{and} = \\gamma \\ \\times \\ (\\#\\mbox{xor} \\times \\#\\mbox{or} \\times \\#\\mbox{not} \\times \\#\\mbox{and})$\n",
    "\n",
    "De seguida, foi criado um digrafo ao qual adicionamos os nodos que representam os \"inputs\", as \"gates\" e os \"wires\" (que são os \"outputs\" de cada \"gate\").\n",
    "\n",
    "Para cada \"gate\" foi adicionado um \"wire\" e uma aresta da \"gate\" para tal \"wire\". Todos os nodos foram etiquetados de forma a identificar sua função no circuito (`\"INPUT\", \"AND\", \"NOT\", \"OR\", \"XOR\", \"WIRE\", \"OUTPUT\"`). As \"gates\" e seus respetivos \"outputs\" foram, ainda, etiquetadas com o nível a que pertencem no circuito, de forma a auxiliar na construção do mesmo.\n",
    "\n",
    "Para ligar as várias \"gates\", foi utilizada uma técnica similar à travessia de grafos, usando uma `orla`, cujo primeiro elemento é a \"gate\" que está ligada ao \"wire\" identificado como \"output\" do circuito. Após selecionar e remover o nodo $g_1$ mais antigo da `orla` há dois casos:\n",
    "\n",
    "1. $g_1$ é um \"NOT\". Então, é criada uma aresta $(w, g_1)$, onde $w$ é uma \"wire\", \"output\" de uma \"gate\" de nível superior ao de $g_1$ escolhida de forma aleatória.\n",
    "\n",
    "2. $g_1$ não é um \"NOT\". Então, são criadas $n$ de arestas $(w_2, g_1), \\dotsc, (w_n, g_1)$, onde $2 \\leq n \\leq \\mbox{número de \"gates\" de nível superior}$, e, para cada $2 \\leq i \\leq n$, $w_i$ é um \"wire\", \"output\" de uma \"gate\" de nível superior ao de $g_1$ escolhida de forma aleatória.\n",
    "\n",
    "Todas as \"gates\" selecionadas neste passo são adicionadas à `orla` e o processo termina quando a `orla` fica vazia.\n",
    "\n",
    "Como deste processo podem resultar \"wires\" que não se encontram ligados ao circuito, é realizado um ciclo para estabelecer as ligações necessárias para que o circuito faça sentido. Além disso, são ligados os nodos de \"inputs\", à sorte, às \"gates\" cujo grau de incidência é igual a $0$, no caso de \"gates\" *not*, ou $< 2$ para as restantes \"gates\"."
   ]
  },
  {
   "cell_type": "code",
   "execution_count": 76,
   "id": "ca2cb597",
   "metadata": {
    "id": "ca2cb597"
   },
   "outputs": [],
   "source": [
    "def circuit_generator(I,Gamma):\n",
    "    \n",
    "    if Gamma != 1:\n",
    "        num_xors = random.randint(0,I)\n",
    "        num_nots = random.randint(0,I)\n",
    "        num_ors = random.randint(0,I)\n",
    "        num_ands = int((num_xors + num_nots + num_ors) * Gamma / (1-Gamma))\n",
    "    else:\n",
    "        num_xors = 0\n",
    "        num_nots = 0\n",
    "        num_ors = 0\n",
    "        num_ands = 1\n",
    "        \n",
    "    G = nx.DiGraph()\n",
    "    total = 0\n",
    "    \n",
    "    #adicionar e etiquetar aos varios nodos do grafo\n",
    "    \n",
    "    for n in range(I):\n",
    "        G.add_node(n,type=\"INPUT\",val=None)\n",
    "    \n",
    "    total += I\n",
    "    \n",
    "    for n in range(num_xors):\n",
    "        G.add_node(total+n,type=\"XOR\")\n",
    "    \n",
    "    total += num_xors\n",
    "    \n",
    "    for n in range(num_nots):\n",
    "        G.add_node(total+n,type=\"NOT\")\n",
    "    \n",
    "    total += num_nots\n",
    "    \n",
    "    \n",
    "    for n in range(num_ors):\n",
    "        G.add_node(total+n,type=\"OR\")\n",
    "    \n",
    "    total += num_ors\n",
    "    \n",
    "    for n in range(num_ands):\n",
    "        G.add_node(total+n,type=\"AND\")\n",
    "    \n",
    "    total+= num_ands\n",
    "    \n",
    "    num_gates = total - I\n",
    "    \n",
    "    for n in range(num_gates):\n",
    "        G.add_node(total+n,type=\"WIRE\",val=None)\n",
    "    \n",
    "    gates = [n for n in G.nodes() if G.nodes[n]['type'] != 'INPUT' and G.nodes[n]['type'] != 'WIRE']\n",
    "    wires = [n for n in G.nodes() if G.nodes[n]['type'] == 'WIRE']\n",
    "    random.shuffle(gates)\n",
    "    gates_info = {}\n",
    "    \n",
    "    # ligar cada gate ao seu wire de output \n",
    "    \n",
    "    for edge in zip(gates,wires):\n",
    "        G.add_edge(*edge)\n",
    "        gates_info[edge[0]] = {'type':G.nodes[edge[0]]['type'] ,'output':edge[1],'level':float('inf')}\n",
    "    \n",
    "    output = random.choice(gates)\n",
    "    G.nodes[gates_info[output]['output']]['type'] = 'OUTPUT'\n",
    "    gates_info[output]['level'] = 1\n",
    "    \n",
    "    #criar o circuito ligando as varias gates\n",
    "    \n",
    "    orla = [output]\n",
    "    while orla:\n",
    "        x = orla.pop(0)\n",
    "        candidates = [g for g in gates_info if gates_info[g]['level'] > gates_info[x]['level']]\n",
    "        if candidates:\n",
    "            random.shuffle(candidates)\n",
    "            if gates_info[x]['type'] == 'NOT':\n",
    "                selected = candidates.pop(0)\n",
    "                gates_info[selected]['level'] = gates_info[x]['level'] +1 \n",
    "                G.add_edge(gates_info[selected]['output'],x)\n",
    "                orla.append(selected)\n",
    "            elif len(candidates)>1:\n",
    "                for i in range(random.randint(2,len(candidates))):\n",
    "                    selected = candidates.pop(0)\n",
    "                    gates_info[selected]['level'] = gates_info[x]['level'] +1 \n",
    "                    G.add_edge(gates_info[selected]['output'],x)\n",
    "                    orla.append(selected)\n",
    "\n",
    "            \n",
    "    # ligar gates que não se encontram ligadas ao circuito, ou seja, o grau de saida do nodo de output é 0\n",
    "    \n",
    "    unconected = [n for n in gates if G.out_degree[gates_info[n]['output']] == 0 and G.nodes[gates_info[n]['output']]['type']!= 'OUTPUT']\n",
    "    for x in unconected:\n",
    "        candidates = [n for n in gates if n not in unconected and G.nodes[n]['type'] != 'NOT']\n",
    "        selected = random.choice(candidates)\n",
    "        G.add_edge(gates_info[x]['output'],selected)\n",
    "    \n",
    "    # ligar gates cujo grau de incidencia é 0 aos nodos de input do circuito\n",
    "    \n",
    "    unconected = [n for n in gates if G.in_degree[n] == 0]\n",
    "    \n",
    "    for x in unconected:\n",
    "        candidates = [i for i in G.nodes() if G.nodes[i]['type'] == 'INPUT']\n",
    "        random.shuffle(candidates)\n",
    "        if gates_info[x]['type'] == 'NOT':\n",
    "            selected = candidates.pop(0)\n",
    "            G.add_edge(selected,x)\n",
    "        else:\n",
    "            for i in range(random.randint(1,len(candidates))):\n",
    "                selected = candidates.pop(0)\n",
    "                G.add_edge(selected,x)\n",
    "                \n",
    "    # ligar gates NOT, XOR, AND cujo grau de incidenci é 1 aos nodos de input do circuito\n",
    "    \n",
    "    unconected = [n for n in gates if G.in_degree[n] == 1 and (G.nodes[n]['type'] == 'OR' or G.nodes[n]['type'] == 'XOR' or G.nodes[n]['type'] == 'AND')]\n",
    "    for x in unconected:   \n",
    "        candidates = [i for i in G.nodes() if G.nodes[i]['type'] == 'INPUT' and (i,x) not in G.edges()]\n",
    "        selected = random.choice(candidates)\n",
    "        G.add_edge(selected,x)\n",
    "        \n",
    "    # ligar nodos de input do circuito que ainde encontram desconectados a gates com aridade superior a 1\n",
    "    \n",
    "    unconected = [n for n in G if G.nodes[n]['type'] == 'INPUT' and G.out_degree(n) == 0]\n",
    "    for x in unconected:\n",
    "        candidates = [i for i in gates if G.nodes[i]['type'] != 'NOT']\n",
    "        selected = random.choice(candidates)\n",
    "        G.add_edge(x,selected)\n",
    "    \n",
    "\n",
    "    return G"
   ]
  },
  {
   "cell_type": "markdown",
   "id": "3a19ce72",
   "metadata": {
    "id": "3a19ce72"
   },
   "source": [
    "## **Formular as restrições que descrevem as \"gates\" do circuito**\n",
    "\n",
    "Para formular as restrições, utilizaremos um *solver* SCIP, ao qual chamaremos `solver`, e um dicionário $X$ para guardar as variáveis binárias correspondentes aos nodos dos tipos `\"INPUT\"`, `\"WIRE\"` e `\"OUTPUT\"`. Criaremos, também, uma variável inteira $T$ para auxiliar no caso das \"gates\" do tipo `\"XOR\"`.\n",
    "\n",
    "A primeira coisa a ser feita é inverter o circuito, ou seja, o \"output\" do circuito, que estava no primeiro nível até agora, deve estar no último nível.\n",
    "\n",
    "De seguida, iteramos por todos os nodos dos tipos `\"WIRE\"` e `\"OUTPUT\"`. Para cada nodo $n$ destes, identificamos a que nodo $f$ o $n$ se encontra ligado, ou seja, a \"gate\" $f$ da qual $n$ é \"output\". Também criamos a lista $L$ que contém todos os nodos aos quais $f$ se encontra ligado (em outras palavras, $L$ é a lista de \"inputs\" de $f$).\n",
    "\n",
    "Finalmente, temos quatro casos:\n",
    "\n",
    "1. $f$ é do tipo `\"AND\"`. Então, $X_n = 1 \\  \\mbox{se e só se} \\  \\forall_{i \\in L} \\cdot X_i = 1$, ou seja,\n",
    "\n",
    ">$\\forall_{i \\in L} \\cdot X_i \\geq X_n \\quad \\land \\quad \\sum_{i \\in L} X_i < \\mbox{len}(L) + X_n$\n",
    "\n",
    "2. $f$ é do tipo `\"NOT\"`. Então, $L$ tem um único elemento $i$ e $(X_i = 0 \\Rightarrow X_n = 1) \\ \\land \\ (X_i = 1 \\Rightarrow X_n = 0)$, ou seja, \n",
    "\n",
    ">$X_n = 1 - X_i$\n",
    "\n",
    "3. $f$ é do tipo `\"OR\"`. Então, $X_n = 1 \\  \\mbox{se e só se} \\ \\exists_{i \\in L} \\cdot X_i = 1$, ou seja,\n",
    "\n",
    ">$\\forall_{i \\in L} \\cdot X_i \\leq X_n \\quad \\land \\quad \\sum_{i \\in L} X_i \\geq X_n$\n",
    "\n",
    "4. $f$ é do tipo `\"XOR\"`. Então, $X_n = 1 \\ \\mbox{se e só se} \\ \\sum_{i \\in L} X_i \\ \\mbox{é impar}$, ou seja,\n",
    "\n",
    ">$X_n = (\\sum_{i \\in L} X_i) - 2 \\times T$, para algum $T \\in \\mathbb{N} \\ \\cup \\{0\\}$.\n",
    "\n",
    ">**Nota:** como $T$ é uma variável inteira do *solver*, o mesmo procura um valor entre $[0, +\\infty[$ até que o valor de $X_n$ seja $0$ ou $1$.\n",
    "\n",
    "A função retorna o `solver` e o dicionário $X$."
   ]
  },
  {
   "cell_type": "code",
   "execution_count": 12,
   "id": "6c035b8e",
   "metadata": {
    "id": "6c035b8e"
   },
   "outputs": [],
   "source": [
    "def add_restrictions(G):\n",
    "    G = G.reverse()\n",
    "    solver = pywraplp.Solver.CreateSolver('SCIP')\n",
    "    variables = [n for n in G.nodes() if G.nodes[n]['type']=='INPUT' or G.nodes[n]['type']=='WIRE' or G.nodes[n]['type']=='OUTPUT']\n",
    "    X = {}\n",
    "    for n in variables:\n",
    "        X[n] = solver.BoolVar(str(n))\n",
    "    wires = [n for n in G if G.nodes[n]['type']=='WIRE' or G.nodes[n]['type']=='OUTPUT']\n",
    "    for n in wires:\n",
    "        father = list(G.neighbors(n)).pop()\n",
    "        father_input = list(G.neighbors(father))\n",
    "        if G.nodes[father]['type'] == \"OR\":\n",
    "            solver.Add(sum([X[i] for i in father_input]) >= X[n])\n",
    "            for i in father_input:\n",
    "                solver.Add(X[n] >= X[i])\n",
    "        elif G.nodes[father]['type'] == \"AND\":\n",
    "            solver.Add(sum([X[i] for i in father_input]) <= X[n] + len(father_input) -1)\n",
    "            for i in father_input:\n",
    "                solver.Add(X[n] <= X[i])\n",
    "        elif G.nodes[father]['type'] == \"NOT\":\n",
    "            solver.Add(X[n] == 1 - X[father_input[0]])\n",
    "        elif G.nodes[father]['type'] == \"XOR\":\n",
    "            T = solver.IntVar(0,solver.infinity(),\"XOR\"+str(father))\n",
    "            solver.Add(X[n] == sum([X[i] for i in father_input]) - 2*T)\n",
    "    return solver, X"
   ]
  },
  {
   "cell_type": "markdown",
   "id": "6eef7d61",
   "metadata": {
    "id": "6eef7d61"
   },
   "source": [
    "## Função que calcula vetor de input $x$ aceite pelo circuito"
   ]
  },
  {
   "cell_type": "markdown",
   "id": "fb68c582",
   "metadata": {
    "id": "fb68c582"
   },
   "source": [
    "$\\quad$ Para calcular o temos que adicionar mais duas restrições ao solver. Seja **I** a lista dos nodos \"INPUT\" do circuito e **o** o nodo \"OUTPUT\" do circuito, então:<br>\n",
    "$\\quad$ Minimizamos $\\sum_{i \\in I} i$.<br>\n",
    "$\\quad$ $X[o] == 1$.\n"
   ]
  },
  {
   "cell_type": "code",
   "execution_count": 13,
   "id": "beb1130a",
   "metadata": {
    "id": "beb1130a"
   },
   "outputs": [],
   "source": [
    "def calculate_input(G):\n",
    "    solver,X = add_restrictions(G)\n",
    "    output = [n for n in G if G.nodes[n]['type'] == 'OUTPUT'].pop()\n",
    "    inputs = [n for n in G if G.nodes[n]['type'] == 'INPUT']\n",
    "    solver.Add(X[output] == 1)\n",
    "    solver.Minimize(sum([X[n] for n in inputs]))\n",
    "    status = solver.Solve()\n",
    "    if status == pywraplp.Solver.OPTIMAL:\n",
    "        result = [round(X[i].solution_value()) for i in inputs]\n",
    "        return result\n",
    "    else:\n",
    "        print(\"Sem Solução\")\n",
    "        return None\n",
    "    \n",
    "    "
   ]
  },
  {
   "cell_type": "markdown",
   "id": "28e8bcb5",
   "metadata": {
    "id": "28e8bcb5"
   },
   "source": [
    "## Função que calcula o vetor de input $x'\\neq x$ aceite pelo circuito e mais proximo de $x$"
   ]
  },
  {
   "cell_type": "markdown",
   "id": "ae09b687",
   "metadata": {
    "id": "ae09b687"
   },
   "source": [
    "$\\quad$ Esta função para alem do circuito recebe o vetor de input $x$ aceite pelo circuito. Para calcular o vetor $x' \\neq x$ mais próximo de $x$ que é aceite pelo circuito, temos que criar um dicionario ***E*** que vai armazenar variaveis binarias. O número de elementos de **E** é igual ao comprimento do vetor $x$. Também serão ultilizadas variaveis auxiliares do tipo inteiro às quais daremos o nome de **T**. Por uma questão de facilitação da leitura chamaremos de **A** ao vetor de inputs $x$ aceite pelo circuito e **N** o seu comprimento. Seja **I** a lista dos nodos \"INPUT\" do circuito, então:<br>\n",
    "$\\quad$ $\\forall_{n \\ \\in \\ [1..N]} \\ X[I[n]] == E[n] + A[n] - 2 \\times T \\quad ∧\\quad  0 \\le T \\le +\\infty $<br>\n",
    "$\\quad$ $\\sum_{e \\ \\in \\ E} e \\ge 1$<br>\n",
    "$\\quad$ Minimizamos $\\sum_{e \\ \\in \\ E} e$.<br>\n",
    "\n"
   ]
  },
  {
   "cell_type": "code",
   "execution_count": 14,
   "id": "201ec7b0",
   "metadata": {
    "id": "201ec7b0"
   },
   "outputs": [],
   "source": [
    "def next_solution(G,S):\n",
    "    if not S:\n",
    "        print(\"Sem Solução\")\n",
    "        return None\n",
    "    solver,X = add_restrictions(G)\n",
    "    E = {}\n",
    "    output = [n for n in G if G.nodes[n]['type'] == 'OUTPUT'].pop()\n",
    "    inputs = [n for n in G if G.nodes[n]['type'] == 'INPUT']\n",
    "    solver.Add(X[output] == 1)\n",
    "    solver.Minimize(sum([X[n] for n in inputs]))\n",
    "    for i in range(len(inputs)):\n",
    "        E[i] = solver.BoolVar(\"e\"+str(i))\n",
    "        T = solver.IntVar(0,solver.infinity(),\"T\"+str(i))\n",
    "        solver.Add(E[i] + S[i] == X[inputs[i]] + 2*T )\n",
    "    solver.Add(sum([E[n] for n in E]) >=1)\n",
    "    solver.Minimize(sum([E[n] for n in E]))\n",
    "    \n",
    "    status = solver.Solve()\n",
    "    \n",
    "    if status == pywraplp.Solver.OPTIMAL:\n",
    "        result = [round(X[i].solution_value()) for i in inputs]\n",
    "        return result\n",
    "    else:\n",
    "        print(\"Sem Solução\")\n",
    "        return None\n",
    "    "
   ]
  },
  {
   "cell_type": "markdown",
   "id": "d914712f",
   "metadata": {
    "id": "28e8bcb5"
   },
   "source": [
    "## Função que imprime circuito"
   ]
  },
  {
   "cell_type": "code",
   "execution_count": 105,
   "id": "89647e58",
   "metadata": {},
   "outputs": [],
   "source": [
    "def draw_circuit(C):\n",
    "    pos = nx.nx_pydot.graphviz_layout(C)\n",
    "    labels = {}\n",
    "    colors = [None for n in C.nodes]\n",
    "    for n in C:\n",
    "        if C.nodes[n]['type'] == 'INPUT':\n",
    "            labels[n] = str(n)\n",
    "            colors[n] = \"turquoise\"\n",
    "        elif C.nodes[n]['type'] == 'OUTPUT':\n",
    "            labels[n] = 'OUT'\n",
    "            colors[n] = \"pink\"\n",
    "        elif C.nodes[n]['type'] == 'XOR':\n",
    "            labels[n] = 'XOR'\n",
    "            colors[n] = \"orange\"\n",
    "        elif C.nodes[n]['type'] == 'NOT':\n",
    "            labels[n] = 'NOT'\n",
    "            colors[n] = \"red\"\n",
    "        elif C.nodes[n]['type'] == 'OR':\n",
    "            labels[n] = 'OR'\n",
    "            colors[n] = \"green\"\n",
    "        elif C.nodes[n]['type'] == 'AND':\n",
    "            labels[n] = 'AND'\n",
    "            colors[n] = \"yellow\"\n",
    "        else:\n",
    "            labels[n] = \"W\"\n",
    "            colors[n] = \"grey\"\n",
    "            \n",
    "    nx.draw(C, pos = pos, with_labels = True, labels = labels,font_size=8, node_size=700, node_color=colors)\n",
    "            "
   ]
  },
  {
   "cell_type": "markdown",
   "id": "ea1c443c",
   "metadata": {
    "id": "ea1c443c"
   },
   "source": [
    "## Exemplo 1"
   ]
  },
  {
   "cell_type": "code",
   "execution_count": 113,
   "id": "90f4cf62",
   "metadata": {
    "id": "90f4cf62",
    "outputId": "b9b8a5cb-6fff-46a6-9b2f-b6391f2154e6"
   },
   "outputs": [
    {
     "name": "stdout",
     "output_type": "stream",
     "text": [
      "Vetor de input aceite pelo circuito : [0, 0]\n",
      "Vetor de input aceite seguinte: [1, 1]\n"
     ]
    },
    {
     "data": {
      "image/png": "[encoded data removed]",
      "text/plain": [
       "<Figure size 432x288 with 1 Axes>"
      ]
     },
     "metadata": {},
     "output_type": "display_data"
    }
   ],
   "source": [
    "C = circuit_generator(2,0.2)\n",
    "S = calculate_input(C)\n",
    "NS = next_solution(C,S)\n",
    "draw_circuit(C)\n",
    "print(\"Vetor de input aceite pelo circuito :\",S)\n",
    "print(\"Vetor de input aceite seguinte:\", NS)"
   ]
  },
  {
   "cell_type": "markdown",
   "id": "c9d00c47",
   "metadata": {
    "id": "c9d00c47"
   },
   "source": [
    "## Exemplo 2"
   ]
  },
  {
   "cell_type": "code",
   "execution_count": 114,
   "id": "4256100e",
   "metadata": {
    "id": "4256100e",
    "outputId": "feb85dfc-de77-41f2-ea87-efabc416fac2"
   },
   "outputs": [
    {
     "name": "stdout",
     "output_type": "stream",
     "text": [
      "Vetor de input aceite pelo circuito : [1, 0]\n",
      "Vetor de input aceite seguinte: [1, 1]\n"
     ]
    },
    {
     "data": {
      "image/png": "[encoded data removed]",
      "text/plain": [
       "<Figure size 432x288 with 1 Axes>"
      ]
     },
     "metadata": {},
     "output_type": "display_data"
    }
   ],
   "source": [
    "C = circuit_generator(2,0.4)\n",
    "S = calculate_input(C)\n",
    "NS = next_solution(C,S)\n",
    "draw_circuit(C)\n",
    "print(\"Vetor de input aceite pelo circuito :\",S)\n",
    "print(\"Vetor de input aceite seguinte:\", NS)"
   ]
  },
  {
   "cell_type": "markdown",
   "id": "af0c572e",
   "metadata": {
    "id": "af0c572e"
   },
   "source": [
    "## Exemplo 3"
   ]
  },
  {
   "cell_type": "code",
   "execution_count": 117,
   "id": "057dc0e4",
   "metadata": {
    "id": "057dc0e4",
    "outputId": "80069e3b-61dc-4dc2-cdd2-a1acb5536262"
   },
   "outputs": [
    {
     "name": "stdout",
     "output_type": "stream",
     "text": [
      "Vetor de input aceite pelo circuito : [0, 0, 0]\n",
      "Vetor de input aceite seguinte: [1, 0, 0]\n"
     ]
    },
    {
     "data": {
      "image/png": "[encoded data removed]",
      "text/plain": [
       "<Figure size 432x288 with 1 Axes>"
      ]
     },
     "metadata": {},
     "output_type": "display_data"
    }
   ],
   "source": [
    "C = circuit_generator(3,0.2)\n",
    "S = calculate_input(C)\n",
    "NS = next_solution(C,S)\n",
    "draw_circuit(C)\n",
    "print(\"Vetor de input aceite pelo circuito :\",S)\n",
    "print(\"Vetor de input aceite seguinte:\", NS)"
   ]
  },
  {
   "cell_type": "markdown",
   "id": "fcb1d0e0",
   "metadata": {
    "id": "af0c572e"
   },
   "source": [
    "## Exemplo 4"
   ]
  },
  {
   "cell_type": "code",
   "execution_count": 118,
   "id": "c1ccb0bc",
   "metadata": {
    "id": "057dc0e4",
    "outputId": "80069e3b-61dc-4dc2-cdd2-a1acb5536262"
   },
   "outputs": [
    {
     "name": "stdout",
     "output_type": "stream",
     "text": [
      "Sem Solução\n",
      "Vetor de input aceite pelo circuito : [1, 1, 1]\n",
      "Vetor de input aceite seguinte: None\n"
     ]
    },
    {
     "data": {
      "image/png": "[encoded data removed]",
      "text/plain": [
       "<Figure size 432x288 with 1 Axes>"
      ]
     },
     "metadata": {},
     "output_type": "display_data"
    }
   ],
   "source": [
    "C = circuit_generator(3,1)\n",
    "S = calculate_input(C)\n",
    "NS = next_solution(C,S)\n",
    "draw_circuit(C)\n",
    "print(\"Vetor de input aceite pelo circuito :\",S)\n",
    "print(\"Vetor de input aceite seguinte:\", NS)"
   ]
  }
 ],
 "metadata": {
  "colab": {
   "collapsed_sections": [],
   "name": "Circuito.ipynb",
   "provenance": []
  },
  "kernelspec": {
   "display_name": "Python 3 (ipykernel)",
   "language": "python",
   "name": "python3"
  },
  "language_info": {
   "codemirror_mode": {
    "name": "ipython",
    "version": 3
   },
   "file_extension": ".py",
   "mimetype": "text/x-python",
   "name": "python",
   "nbconvert_exporter": "python",
   "pygments_lexer": "ipython3",
   "version": "3.8.10"
  }
 },
 "nbformat": 4,
 "nbformat_minor": 5
}
