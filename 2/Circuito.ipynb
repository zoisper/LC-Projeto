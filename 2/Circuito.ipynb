{
 "cells": [
  {
   "cell_type": "markdown",
   "id": "ecc267a3",
   "metadata": {},
   "source": [
    "# **TP - Grupo 4**\n",
    "Pedro Paulo Costa Pereira - A88062\n",
    "\n",
    "Tiago André Oliveira Leite - A91693"
   ]
  },
  {
   "cell_type": "markdown",
   "id": "7cee8a9c",
   "metadata": {},
   "source": [
    "# **Problema 2  - Circuito**"
   ]
  },
  {
   "cell_type": "markdown",
   "id": "d2c6dd4c",
   "metadata": {},
   "source": [
    "$\\quad$Considere-se um circuito booleano $\\,\\mathcal{C}\\,$ com $\\,n\\,$ “wires” de “input” e um único “wire” de output.\n",
    "    - O circuito é descrito num bi-grafo com uma classe de nodos representando “gates” e a segunda classe representando “wires” . \n",
    "    - Cada nodo contém um campo val cujo conteúdo descreve a semântica desse nodo; para os “wires” o campo val  contém uma variável SCIP; para as “gates” o campo val  contém uma marca bo conjunto and, or,  xor e not,   que indica o tipo de “gate”. \n",
    "    - Com exceção de not , que é um operador unário, todas as restantes “gates” têm um número arbitrário de “inputs” e um único “output”.\n",
    "    - No grafo os arcos com origem numa determinada “gate”  têm destino nos “wires” que são “input” dessa “gate”. Cada “wire” que não é “input” é origem de um único arco que tem como destino a “gate” do qual esse “wire” é “output”.\n",
    "    - A semântica das várias “gates” é expressa em relações na Aritmética Linear Inteira, tal como está descrita em +Capítulo 2: Programação com Restrições (#LIA)\n",
    "\n",
    "$\\quad$a. Escreva um programa que, a partir do número $\\,n\\,$ de “inputs”  e de um parâmetro positivo $\\,\\gamma\\ll 1\\,$ como argumentos,  gere aleatoriamente circuitos com “gates” or, and e not  em que o número de and's é  $\\,\\gamma\\ast\\,$ (número total de nodos).<br>\n",
    "\n",
    "$\\quad$b. Escreva um programa Python que leia um circuito arbitrário descrito pelo bi-grafo anterior e formule as restrições (em Programação Inteira) que descrevem as várias “gates” do circuito.<br>\n",
    "\n",
    "$\\quad$c. Usando os dois programas anteriores e o sistema SCIP:<br> \n",
    "$\\qquad$c1. Escreva um programa que determine um vetor de “inputs”   $\\,x\\in\\{0,1\\}^n\\,$ aceite pelo circuito (i.e. o respetivo output é $1$).<br>\n",
    "$\\qquad$c2. Determine o vetor $x'\\neq x$ , também aceite pelo circuito, que está mais próximo de $x$."
   ]
  },
  {
   "cell_type": "code",
   "execution_count": 1,
   "id": "0055b987",
   "metadata": {},
   "outputs": [],
   "source": [
    "import networkx as nx\n",
    "from ortools.linear_solver import pywraplp\n",
    "import random"
   ]
  },
  {
   "cell_type": "markdown",
   "id": "a9d9f940",
   "metadata": {},
   "source": [
    "## Função que gera circuito"
   ]
  },
  {
   "cell_type": "markdown",
   "id": "a7f59a7b",
   "metadata": {},
   "source": [
    "$\\quad$Pare gerar o circuito, em primeiro lugar foram calculados o número de gates \"XOR\", \"OR\", e \"NOT\" de forma aleatoria e o número de gates \"AND\" com base no do valor de $\\gamma$ . De seguida foi criado um bi-grafo ao qual adicionamos os nodos  que representam os \"inputs\" e as \"gates\" assim como os \"wires\" que vão representar o \"output\" de cada gate. Por cada \"gate\" foi adicionado um \"wire\" e uma aresta dessa gate para o respetivo \"wire\". Todos o nodos foram etiquetados de forma a identificar qual a sua função no circuito. As etiquetas utilizadas foram:<br>\n",
    "$\\quad$- \"INPUT\",<br> \n",
    "$\\quad$- \"AND\",<br>\n",
    "$\\quad$- \"NOT\",<br>\n",
    "$\\quad$- \"OR\",<br>\n",
    "$\\quad$- \"XOR\",<br>\n",
    "$\\quad$- \"WIRE\",<br>\n",
    "$\\quad$- \"OUTPUT\";<br>\n",
    "$\\quad$As \"gates\" tambem foram etiquetadas com o nínel a que pertenciam no circuito assim como qual o nodo (\"wire\") de output, de forma a auxiliar na construção do circuito.<br>\n",
    "Para ligar as varias gates foi feito um genero de travessia, usando para tal uma \"orla\" cujo primeiro elemento é a gate que está ligada ao \"wire\" identificado como \"output\" do circuito. Após selecionar e remover o nodo mais antigo da \"orla\" havia duas opções:<br>\n",
    "$\\quad$ - Se a gate **g1** for um \"NOT\" é escolhida de forma aleatoria uma gate **g2** com um nivel superior ao de **g1** sendo depois criada uma aresta (g2,g1).<br>\n",
    "$\\quad$ - Se a gate **$g$** não for um \"NOT\" são escolhidas de forma aleatoria varias gates **g2..gn** com nivel superior ao de **g1** sendo depois criadas as arestas (g2,g1)...(gn,g1).<br>\n",
    "$\\quad$Todas as gates selecionadas de forma aleatoria no passo anterior são adicionadas à \"orla\". O processo termina quando a \"orla\" fica vazia. Como no processo anterior podem resultar \"gates\" que nao se encontram ligadas ao circuito, são realiazos alguns ciclos de forma a ligar todas a \"gates de forma a que o circuito faça \"sentido\".\n",
    "$\\quad$Por fim, são ligados os nodos de \"INPUT\" ao circuito de forma aleatória às gates cujo grau de incidencia é 0 no caso de gates \"NOT\" ou $<2$ no caso das restantes \"gates\".\n",
    "\n",
    "\n"
   ]
  },
  {
   "cell_type": "code",
   "execution_count": 2,
   "id": "ca2cb597",
   "metadata": {},
   "outputs": [],
   "source": [
    "def circuit_generator(I,Alpha):\n",
    "    num_xors = random.randint(0,I)\n",
    "    num_nots = random.randint(0,I)\n",
    "    num_ors = random.randint(0,I)\n",
    "    num_ands = int((num_xors + num_nots + num_ors) * Alpha / (1-Alpha))\n",
    "    G = nx.DiGraph()\n",
    "    total = 0\n",
    "    \n",
    "    #adicionar e etiquetar aos varios nodos do grafo\n",
    "    \n",
    "    for n in range(I):\n",
    "        G.add_node(n,type=\"INPUT\",val=None,color=1)\n",
    "    \n",
    "    total += I\n",
    "    \n",
    "    for n in range(num_xors):\n",
    "        G.add_node(total+n,type=\"XOR\",color=2)\n",
    "    \n",
    "    total += num_xors\n",
    "    \n",
    "    for n in range(num_nots):\n",
    "        G.add_node(total+n,type=\"NOT\",color=3)\n",
    "    \n",
    "    total += num_nots\n",
    "    \n",
    "    \n",
    "    for n in range(num_ors):\n",
    "        G.add_node(total+n,type=\"OR\",color=4)\n",
    "    \n",
    "    total += num_ors\n",
    "    \n",
    "    for n in range(num_ands):\n",
    "        G.add_node(total+n,type=\"AND\",color=5)\n",
    "    \n",
    "    total+= num_ands\n",
    "    \n",
    "    num_gates = total - I\n",
    "    \n",
    "    for n in range(num_gates):\n",
    "        G.add_node(total+n,type=\"WIRE\",val=None,color=6)\n",
    "    \n",
    "    gates = [n for n in G.nodes() if G.nodes[n]['type'] != 'INPUT' and G.nodes[n]['type'] != 'WIRE']\n",
    "    wires = [n for n in G.nodes() if G.nodes[n]['type'] == 'WIRE']\n",
    "    random.shuffle(gates)\n",
    "    gates_info = {}\n",
    "    \n",
    "    # ligar cada gate ao seu wire de output \n",
    "    \n",
    "    for edge in zip(gates,wires):\n",
    "        G.add_edge(*edge)\n",
    "        gates_info[edge[0]] = {'type':G.nodes[edge[0]]['type'] ,'output':edge[1],'level':float('inf')}\n",
    "    \n",
    "    output = random.choice(gates)\n",
    "    G.nodes[gates_info[output]['output']]['type'] = 'OUTPUT'\n",
    "    gates_info[output]['level'] = 1\n",
    "    \n",
    "    #criar o circuito ligando as varias gates\n",
    "    \n",
    "    orla = [output]\n",
    "    while orla:\n",
    "        x = orla.pop(0)\n",
    "        candidates = [g for g in gates_info if gates_info[g]['level'] > gates_info[x]['level']]\n",
    "        if candidates:\n",
    "            random.shuffle(candidates)\n",
    "            if gates_info[x]['type'] == 'NOT':\n",
    "                selected = candidates.pop(0)\n",
    "                gates_info[selected]['level'] = gates_info[x]['level'] +1 \n",
    "                G.add_edge(gates_info[selected]['output'],x)\n",
    "                orla.append(selected)\n",
    "            elif len(candidates)>1:\n",
    "                for i in range(random.randint(2,len(candidates))):\n",
    "                    selected = candidates.pop(0)\n",
    "                    gates_info[selected]['level'] = gates_info[x]['level'] +1 \n",
    "                    G.add_edge(gates_info[selected]['output'],x)\n",
    "                    orla.append(selected)\n",
    "\n",
    "            \n",
    "    # ligar gates que não se encontram ligadas ao circuito, ou seja, o grau de saida do nodo de output é 0\n",
    "    \n",
    "    unconected = [n for n in gates if G.out_degree[gates_info[n]['output']] == 0 and G.nodes[gates_info[n]['output']]['type']!= 'OUTPUT']\n",
    "    for x in unconected:\n",
    "        candidates = [n for n in gates if n not in unconected and G.nodes[n]['type'] != 'NOT']\n",
    "        selected = random.choice(candidates)\n",
    "        G.add_edge(gates_info[x]['output'],selected)\n",
    "    \n",
    "    # ligar gates cujo grau de incidencia é 0 aos nodos de input do circuito\n",
    "    \n",
    "    unconected = [n for n in gates if G.in_degree[n] == 0]\n",
    "    \n",
    "    for x in unconected:\n",
    "        candidates = [i for i in G.nodes() if G.nodes[i]['type'] == 'INPUT']\n",
    "        random.shuffle(candidates)\n",
    "        if gates_info[x]['type'] == 'NOT':\n",
    "            selected = candidates.pop(0)\n",
    "            G.add_edge(selected,x)\n",
    "        else:\n",
    "            for i in range(random.randint(1,len(candidates))):\n",
    "                selected = candidates.pop(0)\n",
    "                G.add_edge(selected,x)\n",
    "                \n",
    "    # ligar gates NOT, XOR, AND cujo grau de incidenci é 1 aos nodos de input do circuito\n",
    "    \n",
    "    unconected = [n for n in gates if G.in_degree[n] == 1 and (G.nodes[n]['type'] == 'OR' or G.nodes[n]['type'] == 'XOR' or G.nodes[n]['type'] == 'AND')]\n",
    "    for x in unconected:   \n",
    "        candidates = [i for i in G.nodes() if G.nodes[i]['type'] == 'INPUT' and (i,x) not in G.edges()]\n",
    "        selected = random.choice(candidates)\n",
    "        G.add_edge(selected,x)\n",
    "        \n",
    "    # ligar nodos de input do circuito que ainde encontram desconectados a gates com aridade superior a 1\n",
    "    \n",
    "    unconected = [n for n in G if G.nodes[n]['type'] == 'INPUT' and G.out_degree(n) == 0]\n",
    "    for x in unconected:\n",
    "        candidates = [i for i in gates if G.nodes[i]['type'] != 'NOT']\n",
    "        selected = random.choice(candidates)\n",
    "        G.add_edge(x,selected)\n",
    "    \n",
    "    \n",
    "    \n",
    "    \n",
    "      \n",
    "        \n",
    "    return G\n",
    "    \n",
    "    "
   ]
  },
  {
   "cell_type": "code",
   "execution_count": 97,
   "id": "90f4cf62",
   "metadata": {},
   "outputs": [
    {
     "name": "stdout",
     "output_type": "stream",
     "text": [
      "0 INPUT\n",
      "1 INPUT\n",
      "2 XOR\n",
      "3 OR\n",
      "4 OR\n",
      "5 OUTPUT\n",
      "6 WIRE\n",
      "7 WIRE\n"
     ]
    },
    {
     "data": {
      "image/png": "[encoded data removed]",
      "text/plain": [
       "<Figure size 432x288 with 1 Axes>"
      ]
     },
     "metadata": {},
     "output_type": "display_data"
    }
   ],
   "source": [
    "G = circuit_generator(2,0.2)\n",
    "nx.draw(G, with_labels = True, node_size=500, node_color=[G.nodes[n]['color'] for n in G])\n",
    "for g in G:\n",
    "    print(g,G.nodes[g]['type'])"
   ]
  },
  {
   "cell_type": "markdown",
   "id": "3a19ce72",
   "metadata": {},
   "source": [
    "## Função que formula as restriçoes que descrevem as \"gates\" do circuito"
   ]
  },
  {
   "cell_type": "markdown",
   "id": "e6d4d7f6",
   "metadata": {},
   "source": [
    "$\\quad$ Para formular as restrições temos que criar um Solver **solver** e um dicionario **X** onde vão ser guardadas as  variaveis SCIP, de tipo binario, correspondentes aos nodos \"INPUT\", \"WIRE\" e \"OUTPUT\" do circuito. No caso dos \"XORs\" será também criada uma variavel **T** do tipo inteiro. <br>\n",
    "$\\quad$ Para adicionar as restriçoes em primeiro lugar envertemos o circuito. De seguida iteramos por cada um dos nodos pertencentes ao tipo \"WIRE\" e \"OUTPUT\". Por cada nodo **n** da lista anterior, indentificamos qual o nodo **f** ao qual **n** se encontra ligado, o que no circuito não invertido é o \"pai\", ou seja, a \"gate\" da qual é **n**\"output\" e também recolhemos a lista **L** de todos os nodos aos quais **f** se encontra ligado, o que no circuito não invertido são os nodos de \"input\" dessa \"gate. De seguida procedemos à formulação das restriçoes que vão depender do tipo de \"gate\" ao qual **f** pertence.<br>\n",
    "$\\quad$ Se **f** for do tipo \"AND\":<br>\n",
    "$\\qquad$ $\\forall i \\in L ,\\ i \\ge X[n] \\quad ∧\\quad \\sum i \\le X[n] -1 + len(L)$<br>\n",
    "$\\quad$ Se **f** for do tipo \"NOT\":<br>\n",
    "$\\qquad$ $X[n] == 1 - L[0]$<br>\n",
    "$\\quad$ Se **f** for do tipo \"OR\":<br>\n",
    "$\\qquad$ $\\forall i \\in L ,\\ i \\le X[n] \\quad ∧\\quad \\sum i \\ge X[n]$<br>\n",
    "$\\quad$ Se **f** for do tipo \"XOR\":<br>\n",
    "$\\qquad$ $X[n] == \\sum_{i \\in L} i - 2 \\times T \\quad ∧\\quad  0 \\le T \\le +\\infty $<br>\n",
    "$\\quad$ A função retorna o Solver e o dicionario X onde estão armazenadas as variaveis.\n"
   ]
  },
  {
   "cell_type": "code",
   "execution_count": 57,
   "id": "6c035b8e",
   "metadata": {},
   "outputs": [],
   "source": [
    "def add_restrictions(G):\n",
    "    G = G.reverse()\n",
    "    solver = pywraplp.Solver.CreateSolver('SCIP')\n",
    "    variables = [n for n in G.nodes() if G.nodes[n]['type']=='INPUT' or G.nodes[n]['type']=='WIRE' or G.nodes[n]['type']=='OUTPUT']\n",
    "    X = {}\n",
    "    for n in variables:\n",
    "        X[n] = solver.BoolVar(str(n))\n",
    "    wires = [n for n in G if G.nodes[n]['type']=='WIRE' or G.nodes[n]['type']=='OUTPUT']\n",
    "    for n in wires:\n",
    "        father = list(G.neighbors(n)).pop()\n",
    "        father_input = list(G.neighbors(father))\n",
    "        if G.nodes[father]['type'] == \"OR\":\n",
    "            solver.Add(sum([X[i] for i in father_input]) >= X[n])\n",
    "            for i in father_input:\n",
    "                solver.Add(X[n] >= X[i])\n",
    "        elif G.nodes[father]['type'] == \"AND\":\n",
    "            solver.Add(sum([X[i] for i in father_input]) <= X[n] + len(father_input) -1)\n",
    "            for i in father_input:\n",
    "                solver.Add(X[n] <= X[i])\n",
    "        elif G.nodes[father]['type'] == \"NOT\":\n",
    "            solver.Add(X[n] == 1 - X[father_input[0]])\n",
    "        elif G.nodes[father]['type'] == \"XOR\":\n",
    "            T = solver.IntVar(0,solver.infinity(),\"XOR\"+str(father))\n",
    "            solver.Add(X[n] == sum([X[i] for i in father_input]) - 2*T)\n",
    "    return solver, X\n",
    "        \n",
    "            \n",
    "            \n",
    "        \n",
    "    "
   ]
  },
  {
   "cell_type": "markdown",
   "id": "6eef7d61",
   "metadata": {},
   "source": [
    "## Função que calcula vetor de input $x$ aceite peloo circuito"
   ]
  },
  {
   "cell_type": "markdown",
   "id": "fb68c582",
   "metadata": {},
   "source": [
    "$\\quad$ Para calcular o temos que adicionar mais duas restrições ao solver. Seja **I** a lista dos nodos \"INPUT\" do circuito e **o** o nodo \"OUTPUT\" do circuito, então:<br>\n",
    "$\\quad$ Minimizamos $\\sum_{i \\in I} i$.<br>\n",
    "$\\quad$ $X[o] == 1$.\n"
   ]
  },
  {
   "cell_type": "code",
   "execution_count": 81,
   "id": "beb1130a",
   "metadata": {},
   "outputs": [],
   "source": [
    "def calculate_input(G):\n",
    "    solver,X = add_restrictions(G)\n",
    "    output = [n for n in G if G.nodes[n]['type'] == 'OUTPUT'].pop()\n",
    "    inputs = [n for n in G if G.nodes[n]['type'] == 'INPUT']\n",
    "    solver.Add(X[output] == 1)\n",
    "    solver.Minimize(sum([X[n] for n in inputs]))\n",
    "    status = solver.Solve()\n",
    "    if status == pywraplp.Solver.OPTIMAL:\n",
    "        result = [round(X[i].solution_value()) for i in inputs]\n",
    "        return result\n",
    "    else:\n",
    "        print(\"Sem Solução\")\n",
    "        return None\n",
    "    \n",
    "    "
   ]
  },
  {
   "cell_type": "code",
   "execution_count": 98,
   "id": "875a29db",
   "metadata": {},
   "outputs": [
    {
     "name": "stdout",
     "output_type": "stream",
     "text": [
      "[0, 1]\n"
     ]
    }
   ],
   "source": [
    "S = calculate_input(G)\n",
    "print(S)"
   ]
  },
  {
   "cell_type": "markdown",
   "id": "28e8bcb5",
   "metadata": {},
   "source": [
    "## Função que calcula o vetor de input $x'\\neq x$ aceite pelo circuito e mais proximo de $x$"
   ]
  },
  {
   "cell_type": "markdown",
   "id": "ae09b687",
   "metadata": {},
   "source": [
    "$\\quad$ Esta função para alem do circuito recebe o vetor de input $x$ aceite pelo circuito. Para calcular o vetor $x' \\neq x$ mais próximo de $x$ que é aceite pelo circuito, temos que criar um dicionario ***E*** que vai armazenar variaveis binarias. O número de elementos de **E** é igual ao comprimento do vetor $x$. Também serão ultilizadas variaveis auxiliares do tipo inteiro às quais daremos o nome de **T**. Por uma questão de facilitação da leitura chamaremos de **A** ao vetor de inputs $x$ aceite pelo circuito e **N** o seu comprimento. Seja **I** a lista dos nodos \"INPUT\" do circuito, então:<br>\n",
    "$\\quad$ $\\forall_{n \\ \\in \\ [1..N]} \\ X[I[n]] == E[n] + A[n] - 2 \\times T \\quad ∧\\quad  0 \\le T \\le +\\infty $<br>\n",
    "$\\quad$ $\\sum_{e \\ \\in \\ E} e \\ge 1$<br>\n",
    "$\\quad$ Minimizamos $\\sum_{e \\ \\in \\ E} e$.<br>\n",
    "\n"
   ]
  },
  {
   "cell_type": "code",
   "execution_count": 3,
   "id": "201ec7b0",
   "metadata": {},
   "outputs": [],
   "source": [
    "def next_solution(G,S):\n",
    "    solver,X = add_restrictions(G)\n",
    "    E = {}\n",
    "    output = [n for n in G if G.nodes[n]['type'] == 'OUTPUT'].pop()\n",
    "    inputs = [n for n in G if G.nodes[n]['type'] == 'INPUT']\n",
    "    solver.Add(X[output] == 1)\n",
    "    solver.Minimize(sum([X[n] for n in inputs]))\n",
    "    for i in range(len(inputs)):\n",
    "        E[i] = solver.BoolVar(\"e\"+str(i))\n",
    "        T = solver.IntVar(0,solver.infinity(),\"T\"+str(i))\n",
    "        solver.Add(E[i] + S[i] == X[inputs[i]] + 2*T )\n",
    "    solver.Add(sum([E[n] for n in E]) >=1)\n",
    "    solver.Minimize(sum([E[n] for n in E]))\n",
    "    \n",
    "    status = solver.Solve()\n",
    "    \n",
    "    if status == pywraplp.Solver.OPTIMAL:\n",
    "        result = [round(X[i].solution_value()) for i in inputs]\n",
    "        return result\n",
    "    else:\n",
    "        print(\"Sem Solução\")\n",
    "        return None\n",
    "    "
   ]
  },
  {
   "cell_type": "code",
   "execution_count": 100,
   "id": "72c75838",
   "metadata": {},
   "outputs": [
    {
     "data": {
      "text/plain": [
       "[1, 1]"
      ]
     },
     "execution_count": 100,
     "metadata": {},
     "output_type": "execute_result"
    }
   ],
   "source": [
    "next_solution(G,S)"
   ]
  },
  {
   "cell_type": "code",
   "execution_count": null,
   "id": "cc6dfcc3",
   "metadata": {},
   "outputs": [],
   "source": []
  }
 ],
 "metadata": {
  "kernelspec": {
   "display_name": "Python 3 (ipykernel)",
   "language": "python",
   "name": "python3"
  },
  "language_info": {
   "codemirror_mode": {
    "name": "ipython",
    "version": 3
   },
   "file_extension": ".py",
   "mimetype": "text/x-python",
   "name": "python",
   "nbconvert_exporter": "python",
   "pygments_lexer": "ipython3",
   "version": "3.8.10"
  }
 },
 "nbformat": 4,
 "nbformat_minor": 5
}
