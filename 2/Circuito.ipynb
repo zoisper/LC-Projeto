{
 "cells": [
  {
   "cell_type": "markdown",
   "id": "ecc267a3",
   "metadata": {},
   "source": [
    "# **TP - Grupo 4**\n",
    "Pedro Paulo Costa Pereira - A88062\n",
    "\n",
    "Tiago André Oliveira Leite - A91693"
   ]
  },
  {
   "cell_type": "markdown",
   "id": "7cee8a9c",
   "metadata": {},
   "source": [
    "# **Problema  - Circuito**"
   ]
  },
  {
   "cell_type": "code",
   "execution_count": 3,
   "id": "0055b987",
   "metadata": {},
   "outputs": [],
   "source": [
    "import networkx as nx\n",
    "from ortools.linear_solver import pywraplp\n",
    "import random"
   ]
  },
  {
   "cell_type": "code",
   "execution_count": 4,
   "id": "ca2cb597",
   "metadata": {},
   "outputs": [],
   "source": [
    "def circuit_generator(I,Alpha):\n",
    "    num_xors = random.randint(0,I)\n",
    "    num_nots = random.randint(0,I)\n",
    "    num_ors = random.randint(0,I)\n",
    "    num_ands = int((num_xors + num_nots + num_ors) * Alpha / (1-Alpha))\n",
    "    G = nx.DiGraph()\n",
    "    total = 0\n",
    "    \n",
    "    for n in range(I):\n",
    "        G.add_node(n,type=\"INPUT\",val=None,color=1)\n",
    "    \n",
    "    total += I\n",
    "    \n",
    "    for n in range(num_xors):\n",
    "        G.add_node(total+n,type=\"XOR\",color=2)\n",
    "    \n",
    "    total += num_xors\n",
    "    \n",
    "    for n in range(num_nots):\n",
    "        G.add_node(total+n,type=\"NOT\",color=3)\n",
    "    \n",
    "    total += num_nots\n",
    "    \n",
    "    \n",
    "    for n in range(num_ors):\n",
    "        G.add_node(total+n,type=\"OR\",color=4)\n",
    "    \n",
    "    total += num_ors\n",
    "    \n",
    "    for n in range(num_ands):\n",
    "        G.add_node(total+n,type=\"AND\",color=5)\n",
    "    \n",
    "    total+= num_ands\n",
    "    \n",
    "    num_gates = total - I\n",
    "    \n",
    "    for n in range(num_gates):\n",
    "        G.add_node(total+n,type=\"WIRE\",val=None,color=6)\n",
    "    \n",
    "    gates = [n for n in G.nodes() if G.nodes[n]['type'] != 'INPUT' and G.nodes[n]['type'] != 'WIRE']\n",
    "    wires = [n for n in G.nodes() if G.nodes[n]['type'] == 'WIRE']\n",
    "    random.shuffle(gates)\n",
    "    gates_info = {}\n",
    "    \n",
    "    for edge in zip(gates,wires):\n",
    "        G.add_edge(*edge)\n",
    "        gates_info[edge[0]] = {'type':G.nodes[edge[0]]['type'] ,'output':edge[1],'level':float('inf')}\n",
    "    \n",
    "    output = random.choice(gates)\n",
    "    G.nodes[gates_info[output]['output']]['type'] = 'OUTPUT'\n",
    "    gates_info[output]['level'] = 1\n",
    "    orla = [output]\n",
    "    while orla:\n",
    "        x = orla.pop(0)\n",
    "        candidates = [g for g in gates_info if gates_info[g]['level'] > gates_info[x]['level']]\n",
    "        if candidates:\n",
    "            random.shuffle(candidates)\n",
    "            if gates_info[x]['type'] == 'NOT':\n",
    "                selected = candidates.pop(0)\n",
    "                gates_info[selected]['level'] = gates_info[x]['level'] +1 \n",
    "                G.add_edge(gates_info[selected]['output'],x)\n",
    "                orla.append(selected)\n",
    "            elif len(candidates)>1:\n",
    "                for i in range(random.randint(2,len(candidates))):\n",
    "                    selected = candidates.pop(0)\n",
    "                    gates_info[selected]['level'] = gates_info[x]['level'] +1 \n",
    "                    G.add_edge(gates_info[selected]['output'],x)\n",
    "                    orla.append(selected)\n",
    "\n",
    "            \n",
    "        \n",
    "    unconected = [n for n in gates if G.out_degree[gates_info[n]['output']] == 0 and G.nodes[gates_info[n]['output']]['type']!= 'OUTPUT']\n",
    "    for x in unconected:\n",
    "        candidates = [n for n in gates if n not in unconected and G.nodes[n]['type'] != 'NOT']\n",
    "        selected = random.choice(candidates)\n",
    "        G.add_edge(gates_info[x]['output'],selected)\n",
    "    \n",
    "    unconected = [n for n in gates if G.in_degree[n] == 0]\n",
    "    \n",
    "    for x in unconected:\n",
    "        candidates = [i for i in G.nodes() if G.nodes[i]['type'] == 'INPUT']\n",
    "        random.shuffle(candidates)\n",
    "        if gates_info[x]['type'] == 'NOT':\n",
    "            selected = candidates.pop(0)\n",
    "            G.add_edge(selected,x)\n",
    "        else:\n",
    "            for i in range(random.randint(1,len(candidates))):\n",
    "                selected = candidates.pop(0)\n",
    "                G.add_edge(selected,x)\n",
    "    \n",
    "    unconected = [n for n in gates if G.in_degree[n] == 1 and (G.nodes[n]['type'] == 'OR' or G.nodes[n]['type'] == 'XOR' or G.nodes[n]['type'] == 'AND')]\n",
    "    for x in unconected:   \n",
    "        candidates = [i for i in G.nodes() if G.nodes[i]['type'] == 'INPUT' and (i,x) not in G.edges()]\n",
    "        selected = random.choice(candidates)\n",
    "        G.add_edge(selected,x)\n",
    "        \n",
    "    \n",
    "    unconected = [n for n in G if G.nodes[n]['type'] == 'INPUT' and G.out_degree(n) == 0]\n",
    "    for x in unconected:\n",
    "        candidates = [i for i in gates if G.nodes[i]['type'] != 'NOT']\n",
    "        selected = random.choice(candidates)\n",
    "        G.add_edge(x,selected)\n",
    "    \n",
    "    \n",
    "    \n",
    "    \n",
    "      \n",
    "        \n",
    "    return G\n",
    "    \n",
    "    "
   ]
  },
  {
   "cell_type": "code",
   "execution_count": 44,
   "id": "90f4cf62",
   "metadata": {},
   "outputs": [
    {
     "name": "stdout",
     "output_type": "stream",
     "text": [
      "0 INPUT\n",
      "1 INPUT\n",
      "2 NOT\n",
      "3 OR\n",
      "4 AND\n",
      "5 OUTPUT\n",
      "6 WIRE\n",
      "7 WIRE\n"
     ]
    },
    {
     "data": {
      "image/png": "[encoded data removed]",
      "text/plain": [
       "<Figure size 432x288 with 1 Axes>"
      ]
     },
     "metadata": {},
     "output_type": "display_data"
    }
   ],
   "source": [
    "G = circuit_generator(2,0.4)\n",
    "nx.draw(G, with_labels = True, node_size=500, node_color=[G.nodes[n]['color'] for n in G])\n",
    "for g in G:\n",
    "    print(g,G.nodes[g]['type'])"
   ]
  },
  {
   "cell_type": "code",
   "execution_count": 37,
   "id": "3a80b4f9",
   "metadata": {},
   "outputs": [],
   "source": [
    "def add_restrictions(G):\n",
    "    G = G.reverse()\n",
    "    solver = pywraplp.Solver.CreateSolver('SCIP')\n",
    "    variables = [n for n in G.nodes() if G.nodes[n]['type']=='INPUT' or G.nodes[n]['type']=='WIRE' or G.nodes[n]['type']=='OUTPUT']\n",
    "    X = {}\n",
    "    for n in variables:\n",
    "        X[n] = solver.BoolVar(str(n))\n",
    "    wires = [n for n in G if G.nodes[n]['type']=='WIRE' or G.nodes[n]['type']=='OUTPUT']\n",
    "    for n in wires:\n",
    "        father = list(G.neighbors(n)).pop()\n",
    "        father_input = list(G.neighbors(father))\n",
    "        if G.nodes[father]['type'] == \"OR\":\n",
    "            solver.Add(sum([X[i] for i in father_input]) >= X[n])\n",
    "            for i in father_input:\n",
    "                solver.Add(X[n] >= X[i])\n",
    "        elif G.nodes[father]['type'] == \"AND\":\n",
    "            solver.Add(sum([X[i] for i in father_input]) <= X[n] + len(father_input) -1)\n",
    "            for i in father_input:\n",
    "                solver.Add(X[n] <= X[i])\n",
    "        elif G.nodes[father]['type'] == \"NOT\":\n",
    "            solver.Add(X[n] == 1 - X[father_input[0]])\n",
    "        elif G.nodes[father]['type'] == \"XOR\":\n",
    "            T = solver.IntVar(0,solver.infinity(),\"XOR\"+str(father))\n",
    "            solver.Add(X[n] == sum([X[i] for i in father_input]) - 2*T)\n",
    "    return solver, X\n",
    "        \n",
    "            \n",
    "            \n",
    "        \n",
    "    "
   ]
  },
  {
   "cell_type": "code",
   "execution_count": 39,
   "id": "beb1130a",
   "metadata": {},
   "outputs": [],
   "source": [
    "def calculate_input(G):\n",
    "    solver,X = add_restrictions(G)\n",
    "    output = [n for n in G if G.nodes[n]['type'] == 'OUTPUT'].pop()\n",
    "    inputs = [n for n in G if G.nodes[n]['type'] == 'INPUT']\n",
    "    solver.Add(X[output] == 1)\n",
    "    status = solver.Solve()\n",
    "    if status == pywraplp.Solver.OPTIMAL:\n",
    "        result = [round(X[i].solution_value()) for i in inputs]\n",
    "        return result\n",
    "    else:\n",
    "        print(\"Sem Solução\")\n",
    "        return None\n",
    "    \n",
    "    "
   ]
  },
  {
   "cell_type": "code",
   "execution_count": 45,
   "id": "875a29db",
   "metadata": {},
   "outputs": [
    {
     "data": {
      "text/plain": [
       "[1, 0]"
      ]
     },
     "execution_count": 45,
     "metadata": {},
     "output_type": "execute_result"
    }
   ],
   "source": [
    "calculate_input(G)"
   ]
  },
  {
   "cell_type": "code",
   "execution_count": null,
   "id": "8e1bc756",
   "metadata": {},
   "outputs": [],
   "source": []
  }
 ],
 "metadata": {
  "kernelspec": {
   "display_name": "Python 3 (ipykernel)",
   "language": "python",
   "name": "python3"
  },
  "language_info": {
   "codemirror_mode": {
    "name": "ipython",
    "version": 3
   },
   "file_extension": ".py",
   "mimetype": "text/x-python",
   "name": "python",
   "nbconvert_exporter": "python",
   "pygments_lexer": "ipython3",
   "version": "3.8.10"
  }
 },
 "nbformat": 4,
 "nbformat_minor": 5
}
