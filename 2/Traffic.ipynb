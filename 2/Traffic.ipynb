{
 "cells": [
  {
   "cell_type": "markdown",
   "id": "4f394056",
   "metadata": {},
   "source": [
    "# **TP - Grupo 4**\n",
    "Pedro Paulo Costa Pereira - A88062\n",
    "\n",
    "Tiago André Oliveira Leite - A91693"
   ]
  },
  {
   "cell_type": "markdown",
   "id": "c2a16416",
   "metadata": {},
   "source": [
    "# **Problema 1 - Sistema de Tráfego**"
   ]
  },
  {
   "cell_type": "code",
   "execution_count": 4,
   "id": "6aaa7aa2",
   "metadata": {},
   "outputs": [],
   "source": [
    "import networkx as nx\n",
    "from ortools.linear_solver import pywraplp\n",
    "import random"
   ]
  },
  {
   "cell_type": "markdown",
   "id": "c81c1ad7",
   "metadata": {},
   "source": [
    "### Função para gerar digrafo conexo"
   ]
  },
  {
   "cell_type": "code",
   "execution_count": 2,
   "id": "b99e1fad",
   "metadata": {},
   "outputs": [],
   "source": [
    "def graph_generator(N):\n",
    "    G = nx.DiGraph()\n",
    "\n",
    "    nodes = [v for v in range(1,N+1)]\n",
    "    G.add_nodes_from(nodes)\n",
    "    random.shuffle(nodes)\n",
    "\n",
    "    for i in range(len(nodes)-1):\n",
    "        G.add_edge(nodes[i], nodes[i+1])\n",
    "    G.add_edge(nodes[len(nodes)-1],nodes[0])\n",
    "\n",
    "    for n in nodes:\n",
    "        candidates = [v for v in nodes if v != n]\n",
    "        random.shuffle(candidates)\n",
    "        num_adj = random.randint(1,2)\n",
    "        for i in range(num_adj):\n",
    "            G.add_edge(n, candidates[i])\n",
    "    return G"
   ]
  },
  {
   "cell_type": "code",
   "execution_count": 40,
   "id": "522aac87",
   "metadata": {},
   "outputs": [],
   "source": [
    "def graph_generator():\n",
    "    G = nx.DiGraph()\n",
    "\n",
    "    nodes = [v for v in range(1,33)]\n",
    "    choosen = []\n",
    "    G.add_nodes_from(nodes)\n",
    "    random.shuffle(nodes)\n",
    "    \n",
    "    s = random.choice(nodes)\n",
    "    nodes.remove(s)\n",
    "    choosen.append(s)\n",
    "    d = random.choice(nodes)\n",
    "    nodes.remove(d)\n",
    "    choosen.append(d)\n",
    "    \n",
    "    G.add_edge(s,d)\n",
    "    G.add_edge(d,s)\n",
    "    \n",
    "    while nodes:\n",
    "        to_add = random.choice(nodes)\n",
    "        nodes.remove(to_add)\n",
    "        s = random.choice(choosen)\n",
    "        d = random.choice(choosen)\n",
    "        if G.out_degree(s) == 3 or random.choice([0,1]):\n",
    "            d = random.choice(list(G.successors(s)))\n",
    "            G.remove_edge(s,d)\n",
    "            G.add_edge(s,to_add)\n",
    "            G.add_edge(to_add,d)\n",
    "        else:\n",
    "            G.add_edge(s,to_add)\n",
    "            G.add_edge(to_add,s)\n",
    "        choosen.append(to_add)\n",
    "            \n",
    "            \n",
    "        \n",
    "    \n",
    "    \n",
    "    \n",
    "    return G"
   ]
  },
  {
   "cell_type": "code",
   "execution_count": 41,
   "id": "5501d67b",
   "metadata": {},
   "outputs": [
    {
     "data": {
      "image/png": "[encoded data removed]",
      "text/plain": [
       "<Figure size 432x288 with 1 Axes>"
      ]
     },
     "metadata": {},
     "output_type": "display_data"
    }
   ],
   "source": [
    "G = graph_generator()\n",
    "nx.draw(G, with_labels = True)"
   ]
  },
  {
   "cell_type": "code",
   "execution_count": 10,
   "id": "11883062",
   "metadata": {},
   "outputs": [
    {
     "data": {
      "text/plain": [
       "False"
      ]
     },
     "execution_count": 10,
     "metadata": {},
     "output_type": "execute_result"
    }
   ],
   "source": [
    "nx.is_strongly_connected(G)"
   ]
  },
  {
   "cell_type": "markdown",
   "id": "270e12e4",
   "metadata": {},
   "source": [
    "### Função para gerar subdigrafo conexo minimal"
   ]
  },
  {
   "cell_type": "code",
   "execution_count": 55,
   "id": "7204e9ea",
   "metadata": {},
   "outputs": [],
   "source": [
    "def sub_graph_generator(G):\n",
    "    solver = pywraplp.Solver.CreateSolver('SCIP')\n",
    "    \n",
    "    A = {}\n",
    "    \n",
    "    for edge in G.edges():\n",
    "        A[edge] = solver.BoolVar('%i%i' %edge)\n",
    "    \n",
    "    \n",
    "    \n",
    "    nodes = [e for e in G.nodes()]\n",
    "    s = nodes.pop(0)\n",
    "    \n",
    "    P = {}\n",
    "    \n",
    "    #garantir que de s conseguimos chegar a todo o d e de todo o d chegamos a s\n",
    "    \n",
    "    for d in nodes:\n",
    "        \n",
    "        #garantir que ha caminho de s para d\n",
    "        paths = list(nx.all_simple_edge_paths(G, s, d))\n",
    "        N = len(paths)\n",
    "        for i in range(N):\n",
    "            P[(s,d,i)] = solver.BoolVar('%i%i%i' %(s,d,i))\n",
    "            for edge in paths[i]:\n",
    "                solver.Add(P[(s,d,i)] <= A[edge])\n",
    "        solver.Add(sum([P[(s,d,i)] for i in range(N)])>=1)\n",
    "        \n",
    "        #garantir que ha caminho de d para s\n",
    "        paths = list(nx.all_simple_edge_paths(G, d, s))\n",
    "        N = len(paths)\n",
    "        for i in range(N):\n",
    "            P[(d,s,i)] = solver.BoolVar('%i%i%i' %(d,s,i))\n",
    "            for edge in paths[i]:\n",
    "                solver.Add(P[(d,s,i)] <= A[edge])\n",
    "        solver.Add(sum([P[(d,s,i)] for i in range(N)])>=1)\n",
    "            \n",
    "        \n",
    "    \n",
    "    solver.Minimize(sum([A[edge] for edge in G.edges]))\n",
    "    status = solver.Solve()\n",
    "    if status == pywraplp.Solver.OPTIMAL:\n",
    "        S = nx.DiGraph()\n",
    "        S.add_nodes_from(G.nodes())\n",
    "        for edge in A:\n",
    "            if A[edge].solution_value() == 1:\n",
    "                S.add_edge(edge[0],edge[1])\n",
    "        return S\n",
    "    else:\n",
    "        print(\"Sem solução\")\n",
    "                \n",
    "                \n",
    "    "
   ]
  },
  {
   "cell_type": "code",
   "execution_count": 56,
   "id": "c3f5fa6d",
   "metadata": {},
   "outputs": [
    {
     "data": {
      "image/png": "[encoded data removed]",
      "text/plain": [
       "<Figure size 432x288 with 1 Axes>"
      ]
     },
     "metadata": {},
     "output_type": "display_data"
    }
   ],
   "source": [
    "S = sub_graph_generator(G)\n",
    "nx.draw(S, with_labels = True)"
   ]
  },
  {
   "cell_type": "markdown",
   "id": "9dc752c1",
   "metadata": {},
   "source": [
    "#### Verificar se é conexo "
   ]
  },
  {
   "cell_type": "code",
   "execution_count": 10,
   "id": "870a152f",
   "metadata": {},
   "outputs": [
    {
     "data": {
      "text/plain": [
       "True"
      ]
     },
     "execution_count": 10,
     "metadata": {},
     "output_type": "execute_result"
    }
   ],
   "source": [
    "nx.is_strongly_connected(S)"
   ]
  },
  {
   "cell_type": "code",
   "execution_count": null,
   "id": "da7e7212",
   "metadata": {},
   "outputs": [],
   "source": []
  }
 ],
 "metadata": {
  "kernelspec": {
   "display_name": "Python 3 (ipykernel)",
   "language": "python",
   "name": "python3"
  },
  "language_info": {
   "codemirror_mode": {
    "name": "ipython",
    "version": 3
   },
   "file_extension": ".py",
   "mimetype": "text/x-python",
   "name": "python",
   "nbconvert_exporter": "python",
   "pygments_lexer": "ipython3",
   "version": "3.8.10"
  }
 },
 "nbformat": 4,
 "nbformat_minor": 5
}
