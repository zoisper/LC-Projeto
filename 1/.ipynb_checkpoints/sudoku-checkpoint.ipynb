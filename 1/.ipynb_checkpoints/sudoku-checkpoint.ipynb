{
 "cells": [
  {
   "cell_type": "markdown",
   "id": "9b2684a4",
   "metadata": {},
   "source": [
    "**Pedro Paulo da Costa Pereira**<br>\n",
    "**Tiago André Oliveira Leite**\n",
    "\n",
    "# Problema 2"
   ]
  },
  {
   "cell_type": "markdown",
   "id": "38623c85",
   "metadata": {},
   "source": [
    "## Sudoku\n",
    "Da definição do jogo “Sudoku” generalizado para a dimensão $N$; o problema tradicional corresponde ao caso $N=3$. O objetivo do Sudoku é preencher uma grelha de $\\,N^2\\times N^2\\,$ com inteiros positivos no intervalo $\\,1$ até $\\,N^2\\,$, satisfazendo as seguintes regras:<br><br>\n",
    "        - Cada inteiro no intervalo $\\,1$ até $\\,N^2\\,$ocorre  só uma vez em cada coluna, linha e secção $\\,N\\times N\\,$.<br><br>\n",
    "        - No início do jogo uma fração $\\,0\\leq \\alpha< 1\\,$ das $\\,N^4\\,$ casas da grelha são preenchidas de forma consistente com a regra anterior."
   ]
  },
  {
   "cell_type": "markdown",
   "id": "1f389e0b",
   "metadata": {},
   "source": [
    "### Variaveis do Problema\n",
    "Para resolver o problema foram utilizadas $\\,N^2\\times N^2\\times N^2\\,$ variavies binarias, que nos premite verificar qual o número que vai ser colocado numa determinada linha e coluna da grelja do sudoku.<br>\n",
    "Assim sendo foi definido o seguinte grupo de variavies:<br>\n",
    "- $\\quad cube_{row,col,depth}$ - variavel que represena o número $depth + 1$ na linha $row$ e na coluna $col$.\n"
   ]
  },
  {
   "cell_type": "markdown",
   "id": "03b57f15",
   "metadata": {},
   "source": [
    "### Restrições\n",
    "- $\\forall_{row,col,row}$  $cube[(row,col,depth)] \\in \\{0,1\\}$<br>\n",
    "- $\\forall_{row,col}\\sum_{depth}$ $cube[(row,col,depth)] == 1$<br>\n",
    "- $\\forall_{row,depth}\\sum_{col}$ $cube[(row,col,depth)] == 1$<br>\n",
    "- $\\forall_{depth,col}\\sum_{row}$ $cube[(row,col,depth)] == 1$\n",
    "- Seja $n$ uma secção  $\\,N\\times N\\,$ do cubo: $\\forall_{n_x,n_y} sum_{depth}$ $cube[(n_x,n_y,depth)] == 1$\n",
    "\n"
   ]
  },
  {
   "cell_type": "code",
   "execution_count": 113,
   "id": "770ac669",
   "metadata": {},
   "outputs": [],
   "source": [
    "import math\n",
    "import random\n",
    "import timeit\n",
    "import time\n",
    "from ortools.linear_solver import pywraplp\n",
    "import matplotlib.pyplot as plt"
   ]
  },
  {
   "cell_type": "markdown",
   "id": "7d3b9341",
   "metadata": {},
   "source": [
    "### Exemplo de sudoku"
   ]
  },
  {
   "cell_type": "markdown",
   "id": "35ef7d69",
   "metadata": {},
   "source": [
    "### Função que imprime a grelha do sudoku"
   ]
  },
  {
   "cell_type": "code",
   "execution_count": 17,
   "id": "7d424a46",
   "metadata": {},
   "outputs": [],
   "source": [
    "def print_sudoku(sudoku):\n",
    "    l = len(sudoku)\n",
    "    n = int(math.sqrt(l))\n",
    "    pad = 1 + l // 10\n",
    "    r = (l + n) * (pad + 1)  +1\n",
    "    for i in range(l):\n",
    "        if i % n == 0:\n",
    "            print(\"-\"*r)\n",
    "        for j in range(l):\n",
    "            if  j % n == 0:\n",
    "                print(\"|\".ljust(pad), end = \" \")\n",
    "            print(f'{sudoku[i][j]}'.ljust(pad), end = \" \")\n",
    "            if  j == l-1:\n",
    "                print(\"|\".ljust(pad), end = \" \")\n",
    "        print('')\n",
    "    print(\"-\" * r)"
   ]
  },
  {
   "cell_type": "markdown",
   "id": "a51210ba",
   "metadata": {},
   "source": [
    "### Função auxiliar que converte o resultado do solver numa matriz"
   ]
  },
  {
   "cell_type": "code",
   "execution_count": 18,
   "id": "d22b6ef2",
   "metadata": {},
   "outputs": [],
   "source": [
    "def converter(cube,dim):\n",
    "    mat = [[0 for a in range(dim)] for b in range(dim) ]\n",
    "    for row in range(dim):\n",
    "        for col in range(dim):\n",
    "            for depth in range(dim):\n",
    "                if cube[(row,col,depth)].solution_value() == 1:\n",
    "                    mat[row][col] = depth + 1\n",
    "    return mat"
   ]
  },
  {
   "cell_type": "markdown",
   "id": "5aeb3e1a",
   "metadata": {},
   "source": [
    "### Função que inicializa a grelha do sudoku\n",
    "Recebe como parametros a dimensão $N$ e a fracção $0 ≤ α < 1$ de casas que não sao preenchidas. Para tal coloca $N$ números aletorios e depois tenta resolver o sudoku. De seguida apaga o número de números necessários para satisfazer α"
   ]
  },
  {
   "cell_type": "code",
   "execution_count": 23,
   "id": "c49d1b6b",
   "metadata": {},
   "outputs": [],
   "source": [
    "def sudoku_generator(N, alpha):\n",
    "    dim = N*N\n",
    "    filled = int(dim * dim * alpha)\n",
    "    num_frequence = filled // 9\n",
    "    num_squares = int(math.sqrt(dim))\n",
    "    solver = pywraplp.Solver.CreateSolver('SCIP')\n",
    "    cube = {}\n",
    "    \n",
    "    \n",
    "    for row in range(dim):\n",
    "        for col in range(dim):\n",
    "            for depth in range(dim):\n",
    "                cube[(row,col,depth)] = solver.BoolVar('%i%i%i' % (row,col,depth))\n",
    "\n",
    "    for row in range(dim):\n",
    "        for col in range(dim):\n",
    "            val = []\n",
    "            for depth in range(dim):\n",
    "                val.append(cube[(row,col,depth)])\n",
    "            solver.Add(sum(val) == 1)\n",
    "\n",
    "    for row in range(dim):\n",
    "        for depth in range(dim):\n",
    "            val = []\n",
    "            for col in range(dim):\n",
    "                val.append(cube[(row,col,depth)])\n",
    "            solver.Add(sum(val) == 1)\n",
    "\n",
    "    for depth in range(dim):\n",
    "        for col in range(dim):\n",
    "            val = []\n",
    "            for row in range(dim):\n",
    "                val.append(cube[(row, col, depth)])\n",
    "            solver.Add(sum(val) == 1)\n",
    "\n",
    "    for i in range(dim):\n",
    "        corner_y = i - i % num_squares\n",
    "        for j in range(dim):\n",
    "            corner_x = j - j % num_squares\n",
    "            for depth in range(dim):\n",
    "                val = []\n",
    "                for row in range(num_squares):\n",
    "                    for col in range(num_squares):\n",
    "                        val.append(cube[corner_y + row, corner_x + col, depth])\n",
    "                solver.Add(sum(val) == 1)\n",
    "\n",
    "    for i in range(3):\n",
    "        randoms = []\n",
    "        row = random.randint(0,dim-1)\n",
    "        col = random.randint(0,dim-1)\n",
    "        depth = random.randint(1, dim - 1)\n",
    "        while (row,col) in randoms:\n",
    "            row = random.randint(0,dim-1)\n",
    "            col = random.randint(0,dim-1)\n",
    "        solver.Add(cube[(row,col,depth)] == 1)\n",
    "    \n",
    "    status = solver.Solve()\n",
    "    if status == pywraplp.Solver.OPTIMAL:\n",
    "        mat = converter(cube, dim)\n",
    "        while(filled > 0):\n",
    "            row = random.randint(0,dim-1)\n",
    "            col = random.randint(0,dim-1)\n",
    "            while mat[row][col] == 0:\n",
    "                row = random.randint(0, dim-1)\n",
    "                col = random.randint(0, dim-1)\n",
    "            mat[row][col] = 0\n",
    "            filled -=1\n",
    "        \n",
    "        return mat\n",
    "    else:\n",
    "        return False"
   ]
  },
  {
   "cell_type": "code",
   "execution_count": 20,
   "id": "df1bdaf6",
   "metadata": {},
   "outputs": [
    {
     "name": "stdout",
     "output_type": "stream",
     "text": [
      "-------------------------\n",
      "| 0 2 9 | 8 6 0 | 0 0 0 | \n",
      "| 0 0 0 | 2 0 3 | 0 9 1 | \n",
      "| 7 4 3 | 0 5 1 | 0 0 0 | \n",
      "-------------------------\n",
      "| 0 1 2 | 7 8 4 | 6 0 5 | \n",
      "| 0 7 0 | 0 3 2 | 0 0 9 | \n",
      "| 5 3 4 | 6 0 9 | 8 2 0 | \n",
      "-------------------------\n",
      "| 2 5 0 | 3 9 0 | 1 7 4 | \n",
      "| 4 0 7 | 1 0 6 | 3 5 0 | \n",
      "| 3 0 1 | 0 7 0 | 9 6 0 | \n",
      "-------------------------\n"
     ]
    }
   ],
   "source": [
    "mat = sudoku_generetor(3,0.4)\n",
    "if mat:\n",
    "    print_sudoku(mat)\n"
   ]
  },
  {
   "cell_type": "markdown",
   "id": "566b0b24",
   "metadata": {},
   "source": [
    "### Outra forma de inicializar o sudoku mas que produz sudokus impossiveis"
   ]
  },
  {
   "cell_type": "code",
   "execution_count": 8,
   "id": "6602ea78",
   "metadata": {},
   "outputs": [],
   "source": [
    "def check(sudoku, row, column, number):\n",
    "    if number in sudoku[row]:\n",
    "        return False\n",
    "    for r in sudoku:\n",
    "        if r[column] == number:\n",
    "            return False\n",
    "    n = int(math.sqrt(len(sudoku)))\n",
    "    r = (row // n) * n\n",
    "    c = (column // n) * n\n",
    "    for i in range(n):\n",
    "        for j in range(n):\n",
    "            if sudoku[r+i][c+j] == number:\n",
    "                return False\n",
    "    return True\n",
    "\n",
    "def sudoku_generator_simple(N, alpha):\n",
    "    dim = N*N\n",
    "    filled = int(dim * dim * alpha)\n",
    "    mat = [[0 for a in range(dim)] for a in range(dim)]\n",
    "    while(filled > 0):\n",
    "        row = random.randint(0,dim-1)\n",
    "        col = random.randint(0,dim-1)\n",
    "        number = random.randint(1, dim - 1)\n",
    "        while(mat[row][col] != 0 or not check(mat,row,col,number)):\n",
    "            row = random.randint(0, dim-1)\n",
    "            col = random.randint(0, dim-1)\n",
    "            number = random.randint(1,dim-1)\n",
    "        mat[row][col] = number\n",
    "        filled -=1\n",
    "\n",
    "    return mat"
   ]
  },
  {
   "cell_type": "markdown",
   "id": "8e447a43",
   "metadata": {},
   "source": [
    "### Função que resolve o sudoku"
   ]
  },
  {
   "cell_type": "code",
   "execution_count": 24,
   "id": "fd6faaaa",
   "metadata": {},
   "outputs": [],
   "source": [
    "def sudoku_solver(sudoku):\n",
    "    solver = pywraplp.Solver.CreateSolver('SCIP')\n",
    "    dim = len(sudoku)\n",
    "    num_squares = int(math.sqrt(dim))\n",
    "    cube = {}\n",
    "\n",
    "    for row in range(dim):\n",
    "        for col in range(dim):\n",
    "            for depth in range(dim):\n",
    "                cube[(row,col,depth)] = solver.BoolVar('%i%i%i' % (row,col,depth))\n",
    "\n",
    "\n",
    "    for row in range(dim):\n",
    "        for col in range(dim):\n",
    "            val = []\n",
    "            for depth in range(dim):\n",
    "                val.append(cube[(row,col,depth)])\n",
    "            solver.Add(sum(val) == 1)\n",
    "\n",
    "    for row in range(dim):\n",
    "        for depth in range(dim):\n",
    "            val = []\n",
    "            for col in range(dim):\n",
    "                val.append(cube[(row,col,depth)])\n",
    "            solver.Add(sum(val) == 1)\n",
    "\n",
    "    for depth in range(dim):\n",
    "        for col in range(dim):\n",
    "            val = []\n",
    "            for row in range(dim):\n",
    "                val.append(cube[(row, col, depth)])\n",
    "            solver.Add(sum(val) == 1)\n",
    "\n",
    "    for i in range(dim):\n",
    "        corner_y = i - i % num_squares\n",
    "        for j in range(dim):\n",
    "            corner_x = j - j % num_squares\n",
    "            for depth in range(dim):\n",
    "                val = []\n",
    "                for row in range(num_squares):\n",
    "                    for col in range(num_squares):\n",
    "                        val.append(cube[corner_y + row, corner_x + col, depth])\n",
    "                solver.Add(sum(val) == 1)\n",
    "\n",
    "    for i in range(dim):\n",
    "        for j in range(dim):\n",
    "            if sudoku[i][j] != 0:\n",
    "                solver.Add(cube[(i,j,sudoku[i][j]-1)] == 1)\n",
    "\n",
    "\n",
    "    status = solver.Solve()\n",
    "    mat = converter(cube, dim)\n",
    "    if status == pywraplp.Solver.OPTIMAL:\n",
    "        return mat\n",
    "    else:\n",
    "        return False"
   ]
  },
  {
   "cell_type": "markdown",
   "id": "489cc6f3",
   "metadata": {},
   "source": [
    "### Testes"
   ]
  },
  {
   "cell_type": "code",
   "execution_count": 54,
   "id": "b93e22e3",
   "metadata": {},
   "outputs": [],
   "source": [
    "def test_sudoku(N, alpha):\n",
    "    mat = sudoku_generator(N, alpha)\n",
    "    print_sudoku(mat)\n",
    "    print(\"\")\n",
    "    mat = sudoku_solver(mat)\n",
    "    if mat:\n",
    "        print_sudoku(mat)\n",
    "    "
   ]
  },
  {
   "cell_type": "code",
   "execution_count": 104,
   "id": "106fb6e7",
   "metadata": {},
   "outputs": [],
   "source": [
    "times = []"
   ]
  },
  {
   "cell_type": "code",
   "execution_count": 106,
   "id": "d96b8a57",
   "metadata": {
    "scrolled": false
   },
   "outputs": [
    {
     "name": "stdout",
     "output_type": "stream",
     "text": [
      "-------------------------\n",
      "| 0 3 9 | 8 7 0 | 0 0 0 | \n",
      "| 8 6 5 | 9 0 2 | 7 0 1 | \n",
      "| 7 4 2 | 5 3 0 | 0 8 6 | \n",
      "-------------------------\n",
      "| 0 8 0 | 0 0 0 | 6 0 9 | \n",
      "| 0 5 4 | 0 1 8 | 3 0 0 | \n",
      "| 6 2 0 | 0 9 7 | 0 0 0 | \n",
      "-------------------------\n",
      "| 0 9 0 | 0 0 4 | 0 0 0 | \n",
      "| 2 7 0 | 1 8 0 | 4 0 0 | \n",
      "| 4 1 0 | 0 5 9 | 0 0 0 | \n",
      "-------------------------\n",
      "\n",
      "-------------------------\n",
      "| 1 3 9 | 8 7 6 | 5 4 2 | \n",
      "| 8 6 5 | 9 4 2 | 7 3 1 | \n",
      "| 7 4 2 | 5 3 1 | 9 8 6 | \n",
      "-------------------------\n",
      "| 3 8 7 | 4 2 5 | 6 1 9 | \n",
      "| 9 5 4 | 6 1 8 | 3 2 7 | \n",
      "| 6 2 1 | 3 9 7 | 8 5 4 | \n",
      "-------------------------\n",
      "| 5 9 3 | 2 6 4 | 1 7 8 | \n",
      "| 2 7 6 | 1 8 3 | 4 9 5 | \n",
      "| 4 1 8 | 7 5 9 | 2 6 3 | \n",
      "-------------------------\n",
      "-------------------------\n",
      "| 0 0 0 | 4 0 6 | 0 3 2 | \n",
      "| 7 0 5 | 0 3 2 | 8 0 0 | \n",
      "| 4 3 2 | 0 0 1 | 0 6 9 | \n",
      "-------------------------\n",
      "| 9 0 0 | 0 2 8 | 0 0 0 | \n",
      "| 8 5 3 | 7 1 4 | 0 2 6 | \n",
      "| 0 2 0 | 3 0 5 | 0 8 7 | \n",
      "-------------------------\n",
      "| 3 8 0 | 0 0 0 | 1 0 0 | \n",
      "| 0 7 0 | 1 4 0 | 2 0 0 | \n",
      "| 0 1 0 | 5 0 0 | 0 0 3 | \n",
      "-------------------------\n",
      "\n",
      "-------------------------\n",
      "| 1 9 8 | 4 5 6 | 7 3 2 | \n",
      "| 7 6 5 | 9 3 2 | 8 1 4 | \n",
      "| 4 3 2 | 8 7 1 | 5 6 9 | \n",
      "-------------------------\n",
      "| 9 4 7 | 6 2 8 | 3 5 1 | \n",
      "| 8 5 3 | 7 1 4 | 9 2 6 | \n",
      "| 6 2 1 | 3 9 5 | 4 8 7 | \n",
      "-------------------------\n",
      "| 3 8 9 | 2 6 7 | 1 4 5 | \n",
      "| 5 7 6 | 1 4 3 | 2 9 8 | \n",
      "| 2 1 4 | 5 8 9 | 6 7 3 | \n",
      "-------------------------\n",
      "-------------------------\n",
      "| 0 9 5 | 0 0 4 | 7 1 8 | \n",
      "| 0 0 1 | 0 8 0 | 0 6 0 | \n",
      "| 6 8 2 | 0 0 0 | 0 3 4 | \n",
      "-------------------------\n",
      "| 0 0 8 | 9 0 2 | 0 5 0 | \n",
      "| 0 0 0 | 5 0 3 | 8 0 0 | \n",
      "| 5 2 0 | 8 4 1 | 6 0 0 | \n",
      "-------------------------\n",
      "| 2 0 0 | 1 5 0 | 0 0 6 | \n",
      "| 0 0 6 | 0 0 0 | 5 0 7 | \n",
      "| 8 5 7 | 4 3 0 | 1 0 2 | \n",
      "-------------------------\n",
      "\n",
      "-------------------------\n",
      "| 3 9 5 | 6 2 4 | 7 1 8 | \n",
      "| 4 7 1 | 3 8 9 | 2 6 5 | \n",
      "| 6 8 2 | 7 1 5 | 9 3 4 | \n",
      "-------------------------\n",
      "| 7 1 8 | 9 6 2 | 4 5 3 | \n",
      "| 9 6 4 | 5 7 3 | 8 2 1 | \n",
      "| 5 2 3 | 8 4 1 | 6 7 9 | \n",
      "-------------------------\n",
      "| 2 4 9 | 1 5 7 | 3 8 6 | \n",
      "| 1 3 6 | 2 9 8 | 5 4 7 | \n",
      "| 8 5 7 | 4 3 6 | 1 9 2 | \n",
      "-------------------------\n"
     ]
    }
   ],
   "source": [
    "times.append(timeit.timeit(stmt='test_sudoku(3,0.5)', setup='from __main__ import test_sudoku',number=3 ))"
   ]
  },
  {
   "cell_type": "code",
   "execution_count": 107,
   "id": "e3da15e2",
   "metadata": {
    "scrolled": false
   },
   "outputs": [
    {
     "name": "stdout",
     "output_type": "stream",
     "text": [
      "-------------------------------------------------------------\n",
      "|  7  0  0  8  |  14 4  15 12 |  6  0  10 13 |  1  2  5  16 |  \n",
      "|  6  0  15 2  |  0  5  16 9  |  0  0  0  0  |  0  4  13 12 |  \n",
      "|  0  0  14 0  |  10 13 6  7  |  12 15 2  1  |  3  8  0  11 |  \n",
      "|  13 0  0  11 |  0  0  2  0  |  0  0  4  16 |  7  14 0  6  |  \n",
      "-------------------------------------------------------------\n",
      "|  0  11 4  7  |  0  10 14 1  |  0  2  5  6  |  13 15 16 3  |  \n",
      "|  10 13 8  3  |  0  0  5  0  |  11 0  15 0  |  6  1  0  0  |  \n",
      "|  16 5  1  14 |  6  0  11 0  |  9  10 7  3  |  2  12 4  0  |  \n",
      "|  12 0  2  0  |  0  0  4  3  |  0  16 13 14 |  0  9  10 5  |  \n",
      "-------------------------------------------------------------\n",
      "|  0  3  0  10 |  9  14 1  11 |  7  0  16 0  |  0  0  2  13 |  \n",
      "|  0  0  9  6  |  16 2  13 5  |  14 0  11 12 |  15 3  0  10 |  \n",
      "|  2  7  0  13 |  0  12 0  10 |  0  6  9  8  |  0  11 1  14 |  \n",
      "|  11 14 0  1  |  15 0  0  6  |  10 0  0  0  |  4  16 12 9  |  \n",
      "-------------------------------------------------------------\n",
      "|  0  0  6  9  |  7  11 0  2  |  16 5  12 15 |  14 13 3  1  |  \n",
      "|  0  2  11 12 |  5  6  9  4  |  0  0  1  0  |  16 7  8  0  |  \n",
      "|  0  15 13 5  |  1  16 8  14 |  2  7  6  9  |  0  10 11 4  |  \n",
      "|  1  10 7  0  |  13 3  12 15 |  4  14 0  11 |  9  0  0  2  |  \n",
      "-------------------------------------------------------------\n",
      "\n",
      "-------------------------------------------------------------\n",
      "|  7  9  3  8  |  14 4  15 12 |  6  11 10 13 |  1  2  5  16 |  \n",
      "|  6  1  15 2  |  11 5  16 9  |  3  8  14 7  |  10 4  13 12 |  \n",
      "|  5  16 14 4  |  10 13 6  7  |  12 15 2  1  |  3  8  9  11 |  \n",
      "|  13 12 10 11 |  3  1  2  8  |  5  9  4  16 |  7  14 15 6  |  \n",
      "-------------------------------------------------------------\n",
      "|  9  11 4  7  |  12 10 14 1  |  8  2  5  6  |  13 15 16 3  |  \n",
      "|  10 13 8  3  |  2  9  5  16 |  11 12 15 4  |  6  1  14 7  |  \n",
      "|  16 5  1  14 |  6  15 11 13 |  9  10 7  3  |  2  12 4  8  |  \n",
      "|  12 6  2  15 |  8  7  4  3  |  1  16 13 14 |  11 9  10 5  |  \n",
      "-------------------------------------------------------------\n",
      "|  15 3  12 10 |  9  14 1  11 |  7  4  16 5  |  8  6  2  13 |  \n",
      "|  8  4  9  6  |  16 2  13 5  |  14 1  11 12 |  15 3  7  10 |  \n",
      "|  2  7  16 13 |  4  12 3  10 |  15 6  9  8  |  5  11 1  14 |  \n",
      "|  11 14 5  1  |  15 8  7  6  |  10 13 3  2  |  4  16 12 9  |  \n",
      "-------------------------------------------------------------\n",
      "|  4  8  6  9  |  7  11 10 2  |  16 5  12 15 |  14 13 3  1  |  \n",
      "|  14 2  11 12 |  5  6  9  4  |  13 3  1  10 |  16 7  8  15 |  \n",
      "|  3  15 13 5  |  1  16 8  14 |  2  7  6  9  |  12 10 11 4  |  \n",
      "|  1  10 7  16 |  13 3  12 15 |  4  14 8  11 |  9  5  6  2  |  \n",
      "-------------------------------------------------------------\n",
      "-------------------------------------------------------------\n",
      "|  0  2  0  4  |  0  6  7  0  |  0  10 11 12 |  13 14 0  16 |  \n",
      "|  0  6  7  8  |  1  2  3  0  |  0  0  15 16 |  9  10 11 0  |  \n",
      "|  9  10 11 0  |  13 0  0  16 |  1  2  3  4  |  0  0  7  8  |  \n",
      "|  13 14 0  16 |  0  0  11 0  |  5  6  7  0  |  1  2  3  4  |  \n",
      "-------------------------------------------------------------\n",
      "|  2  1  4  0  |  0  5  0  0  |  0  9  0  13 |  10 0  16 0  |  \n",
      "|  6  0  8  0  |  2  1  4  3  |  14 15 0  10 |  11 0  0  13 |  \n",
      "|  10 9  12 11 |  14 0  16 15 |  0  1  4  3  |  6  0  8  7  |  \n",
      "|  14 13 0  0  |  10 9  12 0  |  0  0  8  7  |  2  1  4  3  |  \n",
      "-------------------------------------------------------------\n",
      "|  3  4  1  2  |  8  11 5  0  |  0  7  9  14 |  12 16 13 15 |  \n",
      "|  7  8  5  6  |  3  4  1  0  |  12 16 13 15 |  14 11 0  0  |  \n",
      "|  11 12 9  0  |  15 16 13 14 |  0  4  1  2  |  0  0  5  6  |  \n",
      "|  0  0  13 14 |  7  12 9  10 |  8  0  0  0  |  0  4  1  2  |  \n",
      "-------------------------------------------------------------\n",
      "|  4  16 2  1  |  11 3  6  13 |  7  8  10 5  |  0  12 14 0  |  \n",
      "|  8  3  6  5  |  0  7  2  1  |  15 0  0  0  |  0  0  10 0  |  \n",
      "|  12 7  10 9  |  16 15 14 5  |  4  0  0  0  |  8  3  0  1  |  \n",
      "|  0  0  14 13 |  0  0  0  9  |  16 3  6  1  |  4  7  0  5  |  \n",
      "-------------------------------------------------------------\n",
      "\n",
      "-------------------------------------------------------------\n",
      "|  1  2  3  4  |  5  6  7  8  |  9  10 11 12 |  13 14 15 16 |  \n",
      "|  5  6  7  8  |  1  2  3  4  |  13 14 15 16 |  9  10 11 12 |  \n",
      "|  9  10 11 12 |  13 14 15 16 |  1  2  3  4  |  5  6  7  8  |  \n",
      "|  13 14 15 16 |  9  10 11 12 |  5  6  7  8  |  1  2  3  4  |  \n",
      "-------------------------------------------------------------\n",
      "|  2  1  4  3  |  6  5  8  7  |  11 9  12 13 |  10 15 16 14 |  \n",
      "|  6  5  8  7  |  2  1  4  3  |  14 15 16 10 |  11 9  12 13 |  \n",
      "|  10 9  12 11 |  14 13 16 15 |  2  1  4  3  |  6  5  8  7  |  \n",
      "|  14 13 16 15 |  10 9  12 11 |  6  5  8  7  |  2  1  4  3  |  \n",
      "-------------------------------------------------------------\n",
      "|  3  4  1  2  |  8  11 5  6  |  10 7  9  14 |  12 16 13 15 |  \n",
      "|  7  8  5  6  |  3  4  1  2  |  12 16 13 15 |  14 11 9  10 |  \n",
      "|  11 12 9  10 |  15 16 13 14 |  3  4  1  2  |  7  8  5  6  |  \n",
      "|  16 15 13 14 |  7  12 9  10 |  8  11 5  6  |  3  4  1  2  |  \n",
      "-------------------------------------------------------------\n",
      "|  4  16 2  1  |  11 3  6  13 |  7  8  10 5  |  15 12 14 9  |  \n",
      "|  8  3  6  5  |  4  7  2  1  |  15 12 14 9  |  16 13 10 11 |  \n",
      "|  12 7  10 9  |  16 15 14 5  |  4  13 2  11 |  8  3  6  1  |  \n",
      "|  15 11 14 13 |  12 8  10 9  |  16 3  6  1  |  4  7  2  5  |  \n",
      "-------------------------------------------------------------\n",
      "-------------------------------------------------------------\n",
      "|  0  2  0  0  |  5  0  7  8  |  0  10 0  12 |  0  14 15 0  |  \n",
      "|  0  0  7  8  |  1  2  3  4  |  13 0  15 16 |  9  11 0  12 |  \n",
      "|  0  10 11 12 |  13 14 15 16 |  0  3  2  4  |  5  6  7  8  |  \n",
      "|  13 0  15 16 |  0  10 0  12 |  5  0  7  8  |  1  2  0  4  |  \n",
      "-------------------------------------------------------------\n",
      "|  2  1  4  3  |  6  5  8  7  |  0  9  0  11 |  0  0  16 0  |  \n",
      "|  6  5  8  7  |  2  0  4  0  |  14 13 16 15 |  10 9  0  0  |  \n",
      "|  10 0  0  11 |  14 0  0  0  |  0  1  0  5  |  4  7  8  0  |  \n",
      "|  14 13 0  15 |  0  9  12 11 |  4  7  8  6  |  2  1  0  3  |  \n",
      "-------------------------------------------------------------\n",
      "|  3  0  0  2  |  4  8  0  0  |  0  12 0  10 |  15 16 13 0  |  \n",
      "|  0  8  0  6  |  3  7  1  0  |  15 16 13 14 |  11 12 9  10 |  \n",
      "|  11 12 0  0  |  15 16 13 0  |  3  4  1  2  |  7  8  6  5  |  \n",
      "|  15 16 13 14 |  0  12 9  10 |  6  8  5  7  |  3  4  0  0  |  \n",
      "-------------------------------------------------------------\n",
      "|  0  3  2  1  |  8  4  0  5  |  0  0  0  9  |  16 15 14 0  |  \n",
      "|  8  11 6  5  |  0  0  10 0  |  16 2  0  13 |  12 3  4  9  |  \n",
      "|  12 0  0  9  |  16 11 14 13 |  7  15 6  3  |  0  0  0  1  |  \n",
      "|  0  0  14 13 |  12 3  2  0  |  0  5  0  1  |  0  10 11 7  |  \n",
      "-------------------------------------------------------------\n",
      "\n",
      "-------------------------------------------------------------\n",
      "|  1  2  3  4  |  5  6  7  8  |  9  10 11 12 |  13 14 15 16 |  \n",
      "|  5  14 7  8  |  1  2  3  4  |  13 6  15 16 |  9  11 10 12 |  \n",
      "|  9  10 11 12 |  13 14 15 16 |  1  3  2  4  |  5  6  7  8  |  \n",
      "|  13 6  15 16 |  9  10 11 12 |  5  14 7  8  |  1  2  3  4  |  \n",
      "-------------------------------------------------------------\n",
      "|  2  1  4  3  |  6  5  8  7  |  12 9  10 11 |  14 13 16 15 |  \n",
      "|  6  5  8  7  |  2  1  4  3  |  14 13 16 15 |  10 9  12 11 |  \n",
      "|  10 9  12 11 |  14 13 16 15 |  2  1  3  5  |  4  7  8  6  |  \n",
      "|  14 13 16 15 |  10 9  12 11 |  4  7  8  6  |  2  1  5  3  |  \n",
      "-------------------------------------------------------------\n",
      "|  3  7  1  2  |  4  8  5  6  |  11 12 9  10 |  15 16 13 14 |  \n",
      "|  4  8  5  6  |  3  7  1  2  |  15 16 13 14 |  11 12 9  10 |  \n",
      "|  11 12 9  10 |  15 16 13 14 |  3  4  1  2  |  7  8  6  5  |  \n",
      "|  15 16 13 14 |  11 12 9  10 |  6  8  5  7  |  3  4  1  2  |  \n",
      "-------------------------------------------------------------\n",
      "|  7  3  2  1  |  8  4  6  5  |  10 11 12 9  |  16 15 14 13 |  \n",
      "|  8  11 6  5  |  7  15 10 1  |  16 2  14 13 |  12 3  4  9  |  \n",
      "|  12 4  10 9  |  16 11 14 13 |  7  15 6  3  |  8  5  2  1  |  \n",
      "|  16 15 14 13 |  12 3  2  9  |  8  5  4  1  |  6  10 11 7  |  \n",
      "-------------------------------------------------------------\n"
     ]
    }
   ],
   "source": [
    "times.append(timeit.timeit(stmt='test_sudoku(4,0.3)', setup='from __main__ import test_sudoku',number=3 ))"
   ]
  },
  {
   "cell_type": "code",
   "execution_count": 111,
   "id": "c1e6c0af",
   "metadata": {},
   "outputs": [],
   "source": [
    "times[0] /=3\n",
    "times[1] /=3"
   ]
  },
  {
   "cell_type": "markdown",
   "id": "a1833cda",
   "metadata": {},
   "source": [
    "Tempo médio de execução para ($N$ = 3,  α = 0.5) e ($N$ = 4,  α = 0.2)"
   ]
  },
  {
   "cell_type": "code",
   "execution_count": 112,
   "id": "6eb12de4",
   "metadata": {},
   "outputs": [
    {
     "data": {
      "text/plain": [
       "[0.01316967407405577, 0.1304414995184844]"
      ]
     },
     "execution_count": 112,
     "metadata": {},
     "output_type": "execute_result"
    }
   ],
   "source": [
    "times"
   ]
  },
  {
   "cell_type": "code",
   "execution_count": 123,
   "id": "1a40f942",
   "metadata": {},
   "outputs": [
    {
     "data": {
      "text/plain": [
       "9.904686994149225"
      ]
     },
     "execution_count": 123,
     "metadata": {},
     "output_type": "execute_result"
    }
   ],
   "source": [
    "times[1]/times[0]"
   ]
  },
  {
   "cell_type": "markdown",
   "id": "216b4667",
   "metadata": {},
   "source": [
    "### Nota\n",
    "Para N > 4 a função parece nao terminar, o que se deve dever ao facto de as soluções terem complexidade exponencial em N"
   ]
  },
  {
   "cell_type": "code",
   "execution_count": null,
   "id": "4569fe68",
   "metadata": {},
   "outputs": [],
   "source": []
  }
 ],
 "metadata": {
  "kernelspec": {
   "display_name": "Python 3 (ipykernel)",
   "language": "python",
   "name": "python3"
  },
  "language_info": {
   "codemirror_mode": {
    "name": "ipython",
    "version": 3
   },
   "file_extension": ".py",
   "mimetype": "text/x-python",
   "name": "python",
   "nbconvert_exporter": "python",
   "pygments_lexer": "ipython3",
   "version": "3.8.10"
  }
 },
 "nbformat": 4,
 "nbformat_minor": 5
}
