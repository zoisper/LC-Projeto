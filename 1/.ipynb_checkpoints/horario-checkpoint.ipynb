{
 "cells": [
  {
   "cell_type": "code",
   "execution_count": 6,
   "id": "f71ca04a",
   "metadata": {},
   "outputs": [],
   "source": [
    "from z3 import *"
   ]
  },
  {
   "cell_type": "code",
   "execution_count": 167,
   "id": "256dd9b2",
   "metadata": {},
   "outputs": [],
   "source": [
    "def print_horario(model,schedule,reunions, days, slots, rooms, projects, employes):\n",
    "    for slot in slots:\n",
    "        print(f'Hora {slot}', end=\" \")\n",
    "        for day in days:\n",
    "            print(f'Dia {day}', end=\" \")\n",
    "            for project in projects:\n",
    "                for room in rooms:\n",
    "                    if model[reunions[(room,day,slot,project)]] == 1:\n",
    "                        print(f'Sala {room} Projeto {project}', end=\" \")\n",
    "                        for employee in employes:\n",
    "                            if model[schedule[(employee,day,slot,project)]] == 1:\n",
    "                                print(f'E {employee}', end=\" \")\n",
    "        print(\" \")\n",
    "    "
   ]
  },
  {
   "cell_type": "code",
   "execution_count": 168,
   "id": "4419f979",
   "metadata": {},
   "outputs": [],
   "source": [
    "projetos = {}\n",
    "projetos[1] = (1,[1,2,3],1)\n",
    "projetos[2] = (4,[4,5],1)\n",
    "projetos[3] = (3,[3,5,2],1)\n",
    "\n",
    "\n",
    "availability = {}\n",
    "availability[1] = [(a,b) for a in range(1,6) for b in range(1,5)]\n",
    "availability[2] = [(a,b) for a in range(1,6) for b in range(2,6)]\n",
    "availability[3] = [(a,b) for a in range(1,6) for b in range(6,7)]\n",
    "availability[4] = [(a,b) for a in range(1,6) for b in range(4,8)]\n",
    "availability[5] = [(a,b) for a in range(1,6) for b in range(4,8)]\n",
    "\n",
    "num_rooms = 4\n",
    "num_days = 5\n",
    "num_slots = 8\n",
    "num_projects = len(projetos)\n",
    "num_employes = len(availability)"
   ]
  },
  {
   "cell_type": "code",
   "execution_count": 169,
   "id": "e0b6d06c",
   "metadata": {},
   "outputs": [
    {
     "data": {
      "text/html": [
       "<b>sat</b>"
      ],
      "text/plain": [
       "sat"
      ]
     },
     "execution_count": 169,
     "metadata": {},
     "output_type": "execute_result"
    }
   ],
   "source": [
    "rooms = [x for x in range(1,num_rooms+1)]\n",
    "days = [x for x in range(1,num_days+1)]\n",
    "slots = [x for x in range(1,num_slots+1)]\n",
    "projects = [x for x in range(1,num_projects+1)]\n",
    "employes = [x for x in range(1, num_employes+1)]\n",
    "\n",
    "solver = Solver()\n",
    "\n",
    "schedule = {}\n",
    "reunions = {}\n",
    "\n",
    "for employee in employes:\n",
    "    for day in days:\n",
    "        for slot in slots:\n",
    "            for project in projects:\n",
    "                schedule[(employee,day,slot, project)] = Int('%i%i%i%i' %(employee,day,slot,project))\n",
    "                solver.add(schedule[(employee,day,slot, project)] >=0, schedule[(employee,day,slot, project)] <=1 )\n",
    "\n",
    "for room in rooms:\n",
    "    for day in days:\n",
    "        for slot in slots:\n",
    "            for project in projects:\n",
    "                reunions[(room,day,slot, project)] = Int('%i%i%i%i' %(room,day,slot,project))\n",
    "                solver.add(reunions[(room,day,slot, project)] >=0, reunions[(room,day,slot, project)] <=1 )\n",
    "\n",
    "\n",
    "#colaborador so vai quando tem disponibilidade\n",
    "for employee in employes:\n",
    "    for day in days:\n",
    "        for slot in slots:\n",
    "            if (day,slot) not in availability[employee]:\n",
    "                solver.add(Sum([schedule[(employee,day,slot,project)] for project in projects]) == 0)\n",
    "\n",
    "#colaborador so vai as suas reunioes\n",
    "for employee in employes:\n",
    "    for project in projects:\n",
    "        if employee not in projetos[project][1]:\n",
    "            solver.add(Sum( [schedule[(employee,day,slot,project)] for day in days for slot in slots]) == 0)\n",
    "\n",
    "#colaborador so pode estar numa reuniao de projeto no mesmo dia e hora\n",
    "for employee in employes:\n",
    "    for day in days:\n",
    "        for slot in slots:\n",
    "            solver.add(Sum([schedule[(employee,day,slot,project)] for project in projects]) <=1)\n",
    "\n",
    "#no mesmo dia e hora so pode haver uma reuniao na mesma sala\n",
    "for room in rooms:\n",
    "    for day in days:\n",
    "        for slot in slots:\n",
    "            solver.add(Sum([reunions[(room,day,slot,project)] for project in projects]) <=1)\n",
    "\n",
    "#cada projeto tem um numero minimo de reunioes semanais\n",
    "for project in projects:\n",
    "    solver.add(Sum([reunions[(room,day,slot,project)] for room in rooms for day in days for slot in slots]) == projetos[project][2])\n",
    "\n",
    "#reuniao tem que ter lider presente\n",
    "for project in projects:\n",
    "    leader = projetos[project][0]\n",
    "    for day in days:\n",
    "        for slot in slots:\n",
    "            for room in rooms:\n",
    "                solver.add(Implies(reunions[(room,day,slot,project)] == 1, schedule[(leader,day,slot,project)] == 1 ))            \n",
    "\n",
    "#reuniao tem quorum de 50%\n",
    "for project in projects:\n",
    "    quorum = len(projetos[project][1])/2\n",
    "    for day in days:\n",
    "        for slot in slots:\n",
    "            for room in rooms:\n",
    "                solver.add(Implies(reunions[(room,day,slot,project)] == 1, Sum([schedule[(employee,day,slot,project)] for employee in employes]) >= quorum))\n",
    "    \n",
    "solver.check()\n",
    "\n",
    "\n",
    "                    \n",
    "    \n"
   ]
  },
  {
   "cell_type": "code",
   "execution_count": 170,
   "id": "18f6e7a1",
   "metadata": {},
   "outputs": [],
   "source": [
    "model = solver.model()"
   ]
  },
  {
   "cell_type": "code",
   "execution_count": 171,
   "id": "a226cb77",
   "metadata": {},
   "outputs": [
    {
     "name": "stdout",
     "output_type": "stream",
     "text": [
      "Hora 1 Dia 1 Dia 2 Dia 3 Dia 4 Dia 5  \n",
      "Hora 2 Dia 1 Dia 2 Dia 3 Dia 4 Dia 5  \n",
      "Hora 3 Dia 1 Dia 2 Dia 3 Dia 4 Dia 5  \n",
      "Hora 4 Dia 1 Sala 1 Projeto 1 E 1 Dia 2 Dia 3 Dia 4 Sala 4 Projeto 2 E 4 Dia 5  \n",
      "Hora 5 Dia 1 Dia 2 Dia 3 Dia 4 Dia 5  \n",
      "Hora 6 Dia 1 Sala 3 Projeto 3 E 3 Dia 2 Dia 3 Dia 4 Dia 5  \n",
      "Hora 7 Dia 1 Dia 2 Dia 3 Dia 4 Dia 5  \n",
      "Hora 8 Dia 1 Dia 2 Dia 3 Dia 4 Dia 5  \n"
     ]
    }
   ],
   "source": [
    "print_horario(model, schedule, reunions, days, slots, rooms, projects, employes)"
   ]
  },
  {
   "cell_type": "code",
   "execution_count": null,
   "id": "722da0ae",
   "metadata": {},
   "outputs": [],
   "source": []
  },
  {
   "cell_type": "code",
   "execution_count": null,
   "id": "ec73f3aa",
   "metadata": {},
   "outputs": [],
   "source": []
  }
 ],
 "metadata": {
  "kernelspec": {
   "display_name": "Python 3 (ipykernel)",
   "language": "python",
   "name": "python3"
  },
  "language_info": {
   "codemirror_mode": {
    "name": "ipython",
    "version": 3
   },
   "file_extension": ".py",
   "mimetype": "text/x-python",
   "name": "python",
   "nbconvert_exporter": "python",
   "pygments_lexer": "ipython3",
   "version": "3.8.10"
  }
 },
 "nbformat": 4,
 "nbformat_minor": 5
}
