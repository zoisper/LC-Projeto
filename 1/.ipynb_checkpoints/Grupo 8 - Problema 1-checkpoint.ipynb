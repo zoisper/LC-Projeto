{
 "cells": [
  {
   "cell_type": "markdown",
   "metadata": {},
   "source": [
    "**Anabela Pereira - A87990**<br>\n",
    "**André Gonçalves - A87942**\n",
    "\n",
    "# Problema 1"
   ]
  },
  {
   "cell_type": "code",
   "execution_count": 3,
   "metadata": {},
   "outputs": [],
   "source": [
    "from z3 import *"
   ]
  },
  {
   "cell_type": "markdown",
   "metadata": {},
   "source": [
    "## \"Plano de reuniões de projeto de uma \"StartUp\"\"\n",
    "    \n",
    "$(d,t,s,p,c) \\in [0..D\\!-\\!1]\\times[0..T\\!-\\!1]\\times[0..S\\!-\\!1]\\times[0..P\\!-\\!1]\\times[0..C\\!-\\!1]$\n",
    "\n",
    "$$\\forall_{d,t,s,p,c} r[(d,t,s,p,c)] \\in \\{0,1\\}$$\n",
    "\n",
    "$$\n",
    "r_{d,t,s,p,c} == 1 \\quad \\mbox{se e só se} \\quad \\mbox{a reunião para o projeto $p$ foi alocada na sala $s$, no dia $d$, no tempo $t$.}\n",
    "$$\n",
    "\n",
    "O input da função que cria um horário é: uma lista de tuplos $(a,b,c)$ onde $a$ é a lista dos colaboradores, $b$ é o líder e $c$ é o número de reuniões semanais de um projeto, um dicionario dos colaboradores que faz corresponder os \"slots\" em que eles têm disponibelidade para reunir, o número de salas disponíveis, dias e tempo.\n",
    "\n",
    "**Condições**\n",
    "\n",
    "a. O líder tem que estar presente em todas as reuniões do seu projeto.\n",
    "    \n",
    "$$\n",
    "\\forall_c \\cdot \\forall_d \\cdot \\forall_t \\cdot \\forall_s \\cdot \\forall_p \\cdot \\quad r_{d,t,s,p,c} == 1 \\implies  r_{d,t,s,p,p_{lider}} == 1 \n",
    "$$\n",
    "\n",
    "b. Cada projeto tem um respetivo número de reuniões semanais.\n",
    "\n",
    "$$\n",
    "\\forall_p \\cdot \\quad \\sum_{d<D,t<T,s<S} r_{d,t,s,p,p_{lider}} == l[p][2]\n",
    "$$   \n",
    "\n",
    "c. Os colaboradores podem ou não participar dependendo da sua disponibelidade, que é dada por um conjunto de \"slots\" (d,t).\n",
    "    O colaborador só pode estar nas reuniões dos seus projetos.\n",
    "\n",
    "$$\n",
    "\\forall_c \\cdot \\forall_d \\cdot \\forall_t \\cdot \\forall_s \\cdot \\forall_p \\cdot \\quad ((d,t) \\notin CP[c] \\lor c \\notin l[p][0]) \\implies (r_{d,t,s,p,c} == 0)\n",
    "$$\n",
    "\n",
    "**Limitações**\n",
    "\n",
    "d. Cada sala só pode ter, no máximo, uma reunião a acontecer.\n",
    "$$\n",
    "\\forall_s \\cdot \\forall_d \\cdot \\forall_t \\cdot \\quad \\sum_{p<P,c \\in Lideres} r_{d,t,s,p,c} \\leq 1 \n",
    "$$\n",
    "\n",
    "e. Cada reunião só ocupa,no máximo, uma sala. \n",
    "$$\n",
    "\\forall_d \\cdot \\forall_t \\cdot \\forall_p \\cdot \\quad \\sum_{s<S,c \\in Lideres} r_{d,t,s,p,c} \\leq 1 \n",
    "$$\n",
    "\n",
    "**Obrigações**\n",
    "\n",
    "f. As reuniões têm que ter no mínimo 50% dos colaboradores presentes em cada reunião.\n",
    "\n",
    "$$\n",
    "\\forall_p \\cdot \\forall_s \\cdot \\forall_d \\cdot \\forall_t \\cdot \\quad (\\sum_{c<C} r_{d,t,s,p,c} >= 50\\%\\  dos\\ colaboradores \\lor \\sum_{c<C} r_{d,t,s,p,c} == 0) \n",
    "$$\n"
   ]
  },
  {
   "cell_type": "code",
   "execution_count": 4,
   "metadata": {},
   "outputs": [],
   "source": [
    "# Testes\n",
    "\n",
    "sd = [(a,b) for a in range(5) for b in range (8)] # sempre disponivel\n",
    "\n",
    "l1,CD1,S1,D1,T1 = [([0],0,2)],{0:[(1,2),(3,4)]},1,5,8\n",
    "#l1,CD1,S1,D1,T1 = [([0],0,2)],{0:[(0,0),(1,0)]},1,2,1\n",
    "#l1,CD1,S1,D1,T1 = [([0],0,2),([3],3,2)],{0:sd,1:sd,2:sd,3:sd,4:sd},1,5,8\n",
    "#l1,CD1,S1,D1,T1 = [([0,1,2,3,4],2,2),([3],3,3)],{0:sd,1:sd,2:sd,3:sd,4:sd,5:sd},1,5,8\n",
    "#l1,CD1,S1,D1,T1 = [([0,1],1,2),([2,3],2,2)],{0:[(0,0),(0,1),(1,0),(1,1)],1:[(0,0),(0,1)],2:[(0,0),(0,1),(1,0),(1,1)],3:[]},1,2,2\n",
    "#l1,CD1,S1,D1,T1 = [([0,1],1,2),([2,3],2,2)],{0:[(0,0),(0,1)],1:[(1,0),(0,1)],2:[(0,0),(1,1)],3:[(0,0),(1,1)]},1,2,2\n",
    "#l1,CD1,S1,D1,T1 = [([0,1],1,2),([2,3],2,2)],{0:[(1,0),(0,1)],1:[(0,0),(0,1)],2:[(0,0),(1,1)],3:[(0,0),(1,1)]},1,2,2"
   ]
  },
  {
   "cell_type": "code",
   "execution_count": 5,
   "metadata": {
    "scrolled": true
   },
   "outputs": [
    {
     "name": "stdout",
     "output_type": "stream",
     "text": [
      "Projeto 0\n",
      "Dia 1 Tempo 2 Sala 0 Lider 0 Colaboradores [0]\n",
      "Dia 3 Tempo 4 Sala 0 Lider 0 Colaboradores [0]\n"
     ]
    },
    {
     "data": {
      "text/plain": [
       "True"
      ]
     },
     "execution_count": 5,
     "metadata": {},
     "output_type": "execute_result"
    }
   ],
   "source": [
    "def print_horario(D,T,S,P,C,R,m,l):\n",
    "    for p in range(P):\n",
    "        print(\"Projeto\",p)\n",
    "        for d in range(D):\n",
    "            for t in range(T):\n",
    "                for s in range(S):\n",
    "                    i = []\n",
    "                    b=False\n",
    "                    for c in range(C):\n",
    "                        if (m[R[d,t,s,p,c]]==1):\n",
    "                            b = True\n",
    "                            i.append(c)\n",
    "                    if b:\n",
    "                        print(\"Dia\",d,\"Tempo\",t,\"Sala\",s,\"Lider\",l[p][1],\"Colaboradores\",i)\n",
    "\n",
    "def cria_horario (l,CD,S,D,T):\n",
    "    horario = Solver()\n",
    "    \n",
    "    C = len(CD)\n",
    "    P = len(l)\n",
    "    Lideres=set([ i[1] for i in l])\n",
    "    PL={}\n",
    "    \n",
    "    for p in range(P):\n",
    "        _,lider,n_reunioes=l[p]\n",
    "        if lider not in PL:\n",
    "            PL[lider]={}\n",
    "        PL[lider][p]=n_reunioes\n",
    "    \n",
    "    r = {}\n",
    "    for d in range(D):\n",
    "        for t in range(T):\n",
    "            for s in range(S):\n",
    "                for p in range(P):\n",
    "                    for c in range(C):\n",
    "                        r[d,t,s,p,c] = Int(str(d)+\",\"+str(t)+\",\"+str(s)+\",\"+str(p)+\",\"+str(c))\n",
    "                        horario.add(r[d,t,s,p,c]>=0,r[d,t,s,p,c]<=1)\n",
    "                        # c.\n",
    "                        horario.add(Implies(Or((d,t) not in CD[c],c not in l[p][0]),r[d,t,s,p,c]==0))             \n",
    "  \n",
    "    for d in range(D):\n",
    "        for t in range(T):\n",
    "            for s in range(S):\n",
    "                for p in range(P):\n",
    "                    for c in range(C):\n",
    "                        # a.\n",
    "                        horario.add(Implies(r[d,t,s,p,c] == 1,r[d,t,s,p,l[p][1]] == 1))\n",
    "                        \n",
    "    # b.\n",
    "    for p in range(P):\n",
    "            horario.add(Sum([r[d,t,s,p,l[p][1]] for s in range(S) for d in range(D) for t in range(T)]) == l[p][2])\n",
    "    \n",
    "    # f.\n",
    "    for p in range(P):\n",
    "        for d in range(D):\n",
    "            for t in range(T):\n",
    "                for s in range(S):\n",
    "                    i = Sum([r[d,t,s,p,c] for c in range(C)])\n",
    "                    horario.add(Or(i>=((len(l[p][0])/2)+0.5),i==0))\n",
    "    \n",
    "    # d.\n",
    "    for s in range(S):\n",
    "        for d in range(D):\n",
    "            for t in range(T):\n",
    "                horario.add(Sum([r[d,t,s,p,c] for p in range(P) for c in Lideres]) <= 1)\n",
    "    \n",
    "    # e.\n",
    "    for d in range(D):\n",
    "        for t in range(T):\n",
    "            for p in range(P):\n",
    "                horario.add(Sum([r[d,t,s,p,c] for s in range(S) for c in Lideres]) <= 1)\n",
    "        \n",
    "    if horario.check()==sat:\n",
    "        m=horario.model()\n",
    "        print_horario(D,T,S,P,C,r,m,l)\n",
    "        return True\n",
    "    return False\n",
    "                                \n",
    "cria_horario(l1,CD1,S1,D1,T1)"
   ]
  },
  {
   "cell_type": "code",
   "execution_count": null,
   "metadata": {},
   "outputs": [],
   "source": []
  }
 ],
 "metadata": {
  "kernelspec": {
   "display_name": "Python 3 (ipykernel)",
   "language": "python",
   "name": "python3"
  },
  "language_info": {
   "codemirror_mode": {
    "name": "ipython",
    "version": 3
   },
   "file_extension": ".py",
   "mimetype": "text/x-python",
   "name": "python",
   "nbconvert_exporter": "python",
   "pygments_lexer": "ipython3",
   "version": "3.8.10"
  }
 },
 "nbformat": 4,
 "nbformat_minor": 4
}
