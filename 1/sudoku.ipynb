{
 "cells": [
  {
   "cell_type": "markdown",
   "id": "29e8575a",
   "metadata": {},
   "source": [
    "**Pedro Paulo da Costa Pereira - A88062**<br>\n",
    "**Tiago André Oliveira Leite - A91693**"
   ]
  },
  {
   "cell_type": "markdown",
   "id": "616a574e",
   "metadata": {},
   "source": [
    "# <center>TP1 Logica Computacional</center>"
   ]
  },
  {
   "cell_type": "markdown",
   "id": "38623c85",
   "metadata": {},
   "source": [
    "## Problema 2 - Sudoku\n",
    "Da definição do jogo “Sudoku” generalizado para a dimensão $N$; o problema tradicional corresponde ao caso $N=3$. O objetivo do Sudoku é preencher uma grelha de $\\,N^2\\times N^2\\,$ com inteiros positivos no intervalo $\\,1$ até $\\,N^2\\,$, satisfazendo as seguintes regras:<br><br>\n",
    "        - Cada inteiro no intervalo $\\,1$ até $\\,N^2\\,$ocorre  só uma vez em cada coluna, linha e secção $\\,N\\times N\\,$.<br><br>\n",
    "        - No início do jogo uma fração $\\,0\\leq 𝛼< 1\\,$ das $\\,N^4\\,$ casas da grelha são preenchidas de forma consistente com a regra anterior. "
   ]
  },
  {
   "cell_type": "markdown",
   "id": "1f389e0b",
   "metadata": {},
   "source": [
    "### Variaveis do Problema\n",
    "Para resolver o problema foram utilizadas $\\,N^2\\times N^2\\times N^2\\,$ variavies binarias, que nos premite verificar qual o número que vai ser colocado numa determinada linha e coluna da grelja do sudoku.<br>\n",
    "Assim sendo foi definido o seguinte grupo de variavies:<br>\n",
    "- $\\quad cube_{row,col,depth}$ - variavel que represena o número $depth + 1$ na linha $row$ e na coluna $col$.\n"
   ]
  },
  {
   "cell_type": "markdown",
   "id": "03b57f15",
   "metadata": {},
   "source": [
    "### Restrições\n",
    "- $\\forall_{row,col,row}$  $cube[(row,col,depth)] \\in \\{0,1\\}$<br>\n",
    "- $\\forall_{row,col}\\sum_{depth}$ $cube[(row,col,depth)] == 1$<br>\n",
    "- $\\forall_{row,depth}\\sum_{col}$ $cube[(row,col,depth)] == 1$<br>\n",
    "- $\\forall_{depth,col}\\sum_{row}$ $cube[(row,col,depth)] == 1$\n",
    "\n",
    "Seja $n$ uma secção  $\\,N\\times N\\,$ do cubo: <br>\n",
    "- $\\forall_{n_{row},n_{col}}\\sum_{depth}$ $cube[(n_{row},n_{col},depth)] == 1$<br>\n",
    "- $\\forall_{n_{row},depth}\\sum_{n_{row}}$ $cube[(n_{row},n_{col},depth)] == 1$<br>\n",
    "- $\\forall_{depth,n_{col}}\\sum_{n_{row}}$ $cube[(n_{row},n_{col},depth)] == 1$\n",
    "\n"
   ]
  },
  {
   "cell_type": "code",
   "execution_count": 3,
   "id": "770ac669",
   "metadata": {},
   "outputs": [],
   "source": [
    "import math\n",
    "import random\n",
    "import timeit\n",
    "import time\n",
    "from ortools.linear_solver import pywraplp\n",
    "import matplotlib.pyplot as plt"
   ]
  },
  {
   "cell_type": "markdown",
   "id": "7d3b9341",
   "metadata": {},
   "source": [
    "### Exemplo de sudoku"
   ]
  },
  {
   "cell_type": "markdown",
   "id": "35ef7d69",
   "metadata": {},
   "source": [
    "### Função que imprime a grelha do sudoku"
   ]
  },
  {
   "cell_type": "code",
   "execution_count": 4,
   "id": "7d424a46",
   "metadata": {},
   "outputs": [],
   "source": [
    "def print_sudoku(sudoku):\n",
    "    grid = 0 \n",
    "    l = len(sudoku)\n",
    "    n = int(math.sqrt(l))\n",
    "    pad = 1 + l // 10\n",
    "    r = (l + n) * (pad + 1)  +1\n",
    "    if n > 4 and not grid:\n",
    "        for i in range(l):\n",
    "            for j in range(l):\n",
    "                print(f'{sudoku[i][j]}'.ljust(pad), end = \" \")\n",
    "            print('')\n",
    "        return \n",
    "                \n",
    "    for i in range(l):\n",
    "        if i % n == 0:\n",
    "            print(\"-\"*r)\n",
    "        for j in range(l):\n",
    "            if  j % n == 0:\n",
    "                print(\"|\".ljust(pad), end = \" \")\n",
    "            print(f'{sudoku[i][j]}'.ljust(pad), end = \" \")\n",
    "            if  j == l-1:\n",
    "                print(\"|\".ljust(pad), end = \" \")\n",
    "        print('')\n",
    "    print(\"-\" * r)"
   ]
  },
  {
   "cell_type": "markdown",
   "id": "a51210ba",
   "metadata": {},
   "source": [
    "### Função auxiliar que converte o resultado do solver numa matriz"
   ]
  },
  {
   "cell_type": "code",
   "execution_count": 5,
   "id": "d22b6ef2",
   "metadata": {},
   "outputs": [],
   "source": [
    "def converter(cube,dim):\n",
    "    mat = [[0 for a in range(dim)] for b in range(dim) ]\n",
    "    for row in range(dim):\n",
    "        for col in range(dim):\n",
    "            for depth in range(dim):\n",
    "                if cube[(row,col,depth)].solution_value() == 1:\n",
    "                    mat[row][col] = depth + 1\n",
    "    return mat"
   ]
  },
  {
   "cell_type": "markdown",
   "id": "5aeb3e1a",
   "metadata": {},
   "source": [
    "### Função que inicializa a grelha do sudoku\n",
    "Recebe como parametros a dimensão $N$ e a fracção $0 ≤ α < 1$ de casas que sao preenchidas. Para tal coloca $N$ números aletorios e depois tenta resolver o sudoku. De seguida apaga o número de números necessários para satisfazer α"
   ]
  },
  {
   "cell_type": "code",
   "execution_count": 6,
   "id": "c49d1b6b",
   "metadata": {},
   "outputs": [],
   "source": [
    "def sudoku_generator(N, alpha):\n",
    "    dim = N*N\n",
    "    delete = int(dim * dim * (1-alpha))\n",
    "    num_squares = int(math.sqrt(dim))\n",
    "    solver = pywraplp.Solver.CreateSolver('SCIP')\n",
    "    cube = {}\n",
    "    \n",
    "    if alpha == 0:\n",
    "        mat = [[0 for c in range(dim)] for r in range(dim)]\n",
    "        return mat\n",
    "    \n",
    "    \n",
    "    for row in range(dim):\n",
    "        for col in range(dim):\n",
    "            for depth in range(dim):\n",
    "                cube[(row,col,depth)] = solver.BoolVar('%i%i%i' % (row,col,depth))\n",
    "\n",
    "    for row in range(dim):\n",
    "        for col in range(dim):\n",
    "            val = []\n",
    "            for depth in range(dim):\n",
    "                val.append(cube[(row,col,depth)])\n",
    "            solver.Add(sum(val) == 1)\n",
    "\n",
    "    for row in range(dim):\n",
    "        for depth in range(dim):\n",
    "            val = []\n",
    "            for col in range(dim):\n",
    "                val.append(cube[(row,col,depth)])\n",
    "            solver.Add(sum(val) == 1)\n",
    "\n",
    "    for depth in range(dim):\n",
    "        for col in range(dim):\n",
    "            val = []\n",
    "            for row in range(dim):\n",
    "                val.append(cube[(row, col, depth)])\n",
    "            solver.Add(sum(val) == 1)\n",
    "\n",
    "    for i in range(dim):\n",
    "        corner_y = i - i % N\n",
    "        for j in range(dim):\n",
    "            corner_x = j - j % N\n",
    "            for depth in range(dim):\n",
    "                val = []\n",
    "                for row in range(N):\n",
    "                    for col in range(N):\n",
    "                        val.append(cube[corner_y + row, corner_x + col, depth])\n",
    "                solver.Add(sum(val) == 1)\n",
    "\n",
    "    for i in range(N):\n",
    "        randoms = []\n",
    "        row = random.randint(0,dim-1)\n",
    "        col = random.randint(0,dim-1)\n",
    "        depth = random.randint(1, dim - 1)\n",
    "        while (row,col) in randoms:\n",
    "            row = random.randint(0,dim-1)\n",
    "            col = random.randint(0,dim-1)\n",
    "        solver.Add(cube[(row,col,depth)] == 1)\n",
    "    \n",
    "    status = solver.Solve()\n",
    "    if status == pywraplp.Solver.OPTIMAL:\n",
    "        mat = converter(cube, dim)\n",
    "        while(delete > 0):\n",
    "            row = random.randint(0,dim-1)\n",
    "            col = random.randint(0,dim-1)\n",
    "            while mat[row][col] == 0:\n",
    "                row = random.randint(0, dim-1)\n",
    "                col = random.randint(0, dim-1)\n",
    "            mat[row][col] = 0\n",
    "            delete -=1\n",
    "        \n",
    "        return mat\n",
    "    else:\n",
    "        return False"
   ]
  },
  {
   "cell_type": "code",
   "execution_count": 7,
   "id": "df1bdaf6",
   "metadata": {},
   "outputs": [
    {
     "name": "stdout",
     "output_type": "stream",
     "text": [
      "-------------------------\n",
      "| 0 0 0 | 0 8 0 | 0 0 0 | \n",
      "| 0 0 5 | 0 0 3 | 2 0 0 | \n",
      "| 0 0 0 | 0 2 0 | 0 0 0 | \n",
      "-------------------------\n",
      "| 0 9 0 | 0 0 0 | 0 1 6 | \n",
      "| 0 0 0 | 8 0 0 | 0 3 0 | \n",
      "| 0 0 0 | 0 0 2 | 0 0 0 | \n",
      "-------------------------\n",
      "| 0 8 0 | 0 0 9 | 0 0 4 | \n",
      "| 0 0 6 | 0 7 0 | 0 0 0 | \n",
      "| 0 0 0 | 0 0 0 | 0 0 8 | \n",
      "-------------------------\n"
     ]
    }
   ],
   "source": [
    "mat = sudoku_generator(3,0.2)\n",
    "if mat:\n",
    "    print_sudoku(mat)\n"
   ]
  },
  {
   "cell_type": "markdown",
   "id": "566b0b24",
   "metadata": {},
   "source": [
    "### Outra forma mais simples de inicializar o sudoku mas que produz sudokus impossiveis"
   ]
  },
  {
   "cell_type": "code",
   "execution_count": 8,
   "id": "6602ea78",
   "metadata": {},
   "outputs": [],
   "source": [
    "def check(sudoku, row, column, number):\n",
    "    if number in sudoku[row]:\n",
    "        return False\n",
    "    for r in sudoku:\n",
    "        if r[column] == number:\n",
    "            return False\n",
    "    n = int(math.sqrt(len(sudoku)))\n",
    "    r = (row // n) * n\n",
    "    c = (column // n) * n\n",
    "    for i in range(n):\n",
    "        for j in range(n):\n",
    "            if sudoku[r+i][c+j] == number:\n",
    "                return False\n",
    "    return True\n",
    "\n",
    "def sudoku_generator_simple(N, alpha):\n",
    "    dim = N*N\n",
    "    filled = int(dim * dim * alpha)\n",
    "    mat = [[0 for a in range(dim)] for a in range(dim)]\n",
    "    while(filled > 0):\n",
    "        row = random.randint(0,dim-1)\n",
    "        col = random.randint(0,dim-1)\n",
    "        number = random.randint(1, dim - 1)\n",
    "        while(mat[row][col] != 0 or not check(mat,row,col,number)):\n",
    "            row = random.randint(0, dim-1)\n",
    "            col = random.randint(0, dim-1)\n",
    "            number = random.randint(1,dim-1)\n",
    "        mat[row][col] = number\n",
    "        filled -=1\n",
    "\n",
    "    return mat"
   ]
  },
  {
   "cell_type": "code",
   "execution_count": 16,
   "id": "5d2eaa06",
   "metadata": {},
   "outputs": [
    {
     "name": "stdout",
     "output_type": "stream",
     "text": [
      "0   0   0   0   0   4   0   0   1   0   0   0   3   0   0   0   0   0   12  0   0   0   0   0   0   \n",
      "0   0   0   11  0   0   0   0   0   0   17  0   5   0   6   0   0   0   0   0   0   0   8   0   12  \n",
      "0   0   0   0   0   0   21  0   0   22  0   0   7   0   0   0   0   20  10  1   0   0   19  0   0   \n",
      "0   6   0   16  0   0   0   0   9   0   0   0   0   0   0   0   0   0   3   0   0   0   22  5   0   \n",
      "0   0   21  0   0   0   0   0   0   0   0   0   0   0   0   0   0   16  0   14  0   0   0   0   0   \n",
      "0   0   0   24  0   0   0   0   0   0   0   0   0   0   0   8   14  0   0   0   5   0   23  0   20  \n",
      "0   0   0   0   7   0   0   0   0   18  0   0   0   15  0   0   0   0   0   0   8   0   0   3   14  \n",
      "15  0   0   0   0   0   0   19  0   0   0   0   0   0   0   0   1   0   0   0   0   0   0   0   4   \n",
      "0   0   0   21  0   0   24  0   0   0   0   0   0   0   0   23  0   0   0   0   0   0   10  0   0   \n",
      "0   22  1   2   0   0   0   9   14  8   0   0   0   0   0   24  0   0   15  0   0   0   0   0   0   \n",
      "0   0   0   0   0   17  6   0   0   0   0   0   0   5   12  0   0   0   0   0   0   24  21  0   0   \n",
      "21  0   0   0   14  0   22  3   0   0   0   0   0   0   0   9   0   13  1   0   0   2   17  0   0   \n",
      "0   0   0   0   0   0   0   1   0   0   0   23  0   0   0   0   20  0   0   0   0   0   0   0   0   \n",
      "10  0   0   12  0   0   0   0   0   0   0   0   0   0   0   0   11  23  7   0   0   0   0   0   0   \n",
      "0   0   0   0   0   0   0   0   5   0   0   0   0   0   0   0   0   0   0   2   13  0   0   0   0   \n",
      "0   24  0   0   11  0   0   6   0   0   0   0   0   0   0   0   0   0   0   0   20  21  0   9   0   \n",
      "0   5   0   0   22  0   0   0   0   0   0   0   1   0   0   0   0   0   0   0   0   0   0   0   13  \n",
      "6   7   0   0   0   0   0   8   0   0   0   0   0   0   22  0   0   0   0   0   0   0   0   0   0   \n",
      "0   15  2   0   0   0   0   0   0   0   0   0   0   7   0   0   0   0   0   0   0   0   0   0   0   \n",
      "0   0   0   0   0   16  0   0   0   0   0   0   0   0   0   0   0   10  0   23  6   0   0   0   0   \n",
      "0   0   13  0   0   0   2   0   0   0   0   0   16  0   0   0   0   0   0   0   0   0   0   0   0   \n",
      "0   0   0   0   0   0   8   15  0   0   0   0   0   0   0   0   0   14  0   0   0   0   0   0   0   \n",
      "0   4   0   0   0   0   0   0   0   17  10  0   0   0   8   0   0   0   0   9   0   0   0   0   0   \n",
      "0   0   0   20  0   0   0   0   0   0   0   0   0   0   3   0   7   0   0   0   0   0   1   18  0   \n",
      "0   0   0   0   0   18  0   0   0   5   0   20  0   24  0   0   0   8   6   0   0   0   0   11  22  \n"
     ]
    }
   ],
   "source": [
    "mat = sudoku_generator_simple(5,0.2)\n",
    "if mat:\n",
    "    print_sudoku(mat)"
   ]
  },
  {
   "cell_type": "markdown",
   "id": "8e447a43",
   "metadata": {},
   "source": [
    "### Função que resolve o sudoku"
   ]
  },
  {
   "cell_type": "code",
   "execution_count": 12,
   "id": "fd6faaaa",
   "metadata": {},
   "outputs": [],
   "source": [
    "def sudoku_solver(sudoku):\n",
    "    solver = pywraplp.Solver.CreateSolver('SCIP')\n",
    "    dim = len(sudoku)\n",
    "    num_squares = int(math.sqrt(dim))\n",
    "    cube = {}\n",
    "\n",
    "    for row in range(dim):\n",
    "        for col in range(dim):\n",
    "            for depth in range(dim):\n",
    "                cube[(row,col,depth)] = solver.BoolVar('%i%i%i' % (row,col,depth))\n",
    "\n",
    "\n",
    "    for row in range(dim):\n",
    "        for col in range(dim):\n",
    "            val = []\n",
    "            for depth in range(dim):\n",
    "                val.append(cube[(row,col,depth)])\n",
    "            solver.Add(sum(val) == 1)\n",
    "\n",
    "    for row in range(dim):\n",
    "        for depth in range(dim):\n",
    "            val = []\n",
    "            for col in range(dim):\n",
    "                val.append(cube[(row,col,depth)])\n",
    "            solver.Add(sum(val) == 1)\n",
    "\n",
    "    for depth in range(dim):\n",
    "        for col in range(dim):\n",
    "            val = []\n",
    "            for row in range(dim):\n",
    "                val.append(cube[(row, col, depth)])\n",
    "            solver.Add(sum(val) == 1)\n",
    "\n",
    "    for i in range(dim):\n",
    "        corner_y = i - i % num_squares\n",
    "        for j in range(dim):\n",
    "            corner_x = j - j % num_squares\n",
    "            for depth in range(dim):\n",
    "                val = []\n",
    "                for row in range(num_squares):\n",
    "                    for col in range(num_squares):\n",
    "                        val.append(cube[corner_y + row, corner_x + col, depth])\n",
    "                solver.Add(sum(val) == 1)\n",
    "\n",
    "    for i in range(dim):\n",
    "        for j in range(dim):\n",
    "            if sudoku[i][j] != 0:\n",
    "                solver.Add(cube[(i,j,sudoku[i][j]-1)] == 1)\n",
    "\n",
    "\n",
    "    status = solver.Solve()\n",
    "    mat = converter(cube, dim)\n",
    "    if status == pywraplp.Solver.OPTIMAL:\n",
    "        return mat\n",
    "    else:\n",
    "        return False"
   ]
  },
  {
   "cell_type": "markdown",
   "id": "489cc6f3",
   "metadata": {},
   "source": [
    "### Testes"
   ]
  },
  {
   "cell_type": "code",
   "execution_count": 13,
   "id": "b93e22e3",
   "metadata": {},
   "outputs": [],
   "source": [
    "def test_sudoku(N, alpha):\n",
    "    mat = sudoku_generator(N, alpha)\n",
    "    print(\"Sudoku\")\n",
    "    print_sudoku(mat)\n",
    "    print(\"\")\n",
    "    mat = sudoku_solver(mat)\n",
    "    if mat:\n",
    "        print(\"Solução\")\n",
    "        print_sudoku(mat)\n",
    "        print(\"\")\n",
    "    "
   ]
  },
  {
   "cell_type": "code",
   "execution_count": 38,
   "id": "106fb6e7",
   "metadata": {},
   "outputs": [],
   "source": [
    "N = [1,2,3]\n",
    "times = [[0 for n in N] for n in range(4)]"
   ]
  },
  {
   "cell_type": "markdown",
   "id": "7adc4b10",
   "metadata": {},
   "source": [
    "### $\\alpha = 0.0$"
   ]
  },
  {
   "cell_type": "markdown",
   "id": "e5a63183",
   "metadata": {},
   "source": [
    "#### $N = 3$"
   ]
  },
  {
   "cell_type": "code",
   "execution_count": 39,
   "id": "d96b8a57",
   "metadata": {
    "scrolled": false
   },
   "outputs": [
    {
     "name": "stdout",
     "output_type": "stream",
     "text": [
      "Sudoku\n",
      "-------------------------\n",
      "| 0 0 0 | 0 0 0 | 0 0 0 | \n",
      "| 0 0 0 | 0 0 0 | 0 0 0 | \n",
      "| 0 0 0 | 0 0 0 | 0 0 0 | \n",
      "-------------------------\n",
      "| 0 0 0 | 0 0 0 | 0 0 0 | \n",
      "| 0 0 0 | 0 0 0 | 0 0 0 | \n",
      "| 0 0 0 | 0 0 0 | 0 0 0 | \n",
      "-------------------------\n",
      "| 0 0 0 | 0 0 0 | 0 0 0 | \n",
      "| 0 0 0 | 0 0 0 | 0 0 0 | \n",
      "| 0 0 0 | 0 0 0 | 0 0 0 | \n",
      "-------------------------\n",
      "\n",
      "Solução\n",
      "-------------------------\n",
      "| 1 2 3 | 4 5 6 | 8 7 9 | \n",
      "| 8 9 7 | 1 2 3 | 4 5 6 | \n",
      "| 6 4 5 | 7 8 9 | 1 2 3 | \n",
      "-------------------------\n",
      "| 7 1 2 | 3 4 5 | 6 9 8 | \n",
      "| 9 5 6 | 2 1 8 | 3 4 7 | \n",
      "| 4 3 8 | 6 9 7 | 2 1 5 | \n",
      "-------------------------\n",
      "| 5 8 1 | 9 3 2 | 7 6 4 | \n",
      "| 3 7 4 | 5 6 1 | 9 8 2 | \n",
      "| 2 6 9 | 8 7 4 | 5 3 1 | \n",
      "-------------------------\n",
      "\n",
      "Tempo de execução em segundos: 0.08223008699997081\n"
     ]
    }
   ],
   "source": [
    "times[0][0] = timeit.timeit(stmt='test_sudoku(3,0.0)', setup='from __main__ import test_sudoku',number=1 )\n",
    "print(\"Tempo de execução em segundos:\",times[0][0])"
   ]
  },
  {
   "cell_type": "markdown",
   "id": "f74464d1",
   "metadata": {},
   "source": [
    "#### $N = 4$"
   ]
  },
  {
   "cell_type": "code",
   "execution_count": 40,
   "id": "e3da15e2",
   "metadata": {
    "scrolled": false
   },
   "outputs": [
    {
     "name": "stdout",
     "output_type": "stream",
     "text": [
      "Sudoku\n",
      "-------------------------------------------------------------\n",
      "|  0  0  0  0  |  0  0  0  0  |  0  0  0  0  |  0  0  0  0  |  \n",
      "|  0  0  0  0  |  0  0  0  0  |  0  0  0  0  |  0  0  0  0  |  \n",
      "|  0  0  0  0  |  0  0  0  0  |  0  0  0  0  |  0  0  0  0  |  \n",
      "|  0  0  0  0  |  0  0  0  0  |  0  0  0  0  |  0  0  0  0  |  \n",
      "-------------------------------------------------------------\n",
      "|  0  0  0  0  |  0  0  0  0  |  0  0  0  0  |  0  0  0  0  |  \n",
      "|  0  0  0  0  |  0  0  0  0  |  0  0  0  0  |  0  0  0  0  |  \n",
      "|  0  0  0  0  |  0  0  0  0  |  0  0  0  0  |  0  0  0  0  |  \n",
      "|  0  0  0  0  |  0  0  0  0  |  0  0  0  0  |  0  0  0  0  |  \n",
      "-------------------------------------------------------------\n",
      "|  0  0  0  0  |  0  0  0  0  |  0  0  0  0  |  0  0  0  0  |  \n",
      "|  0  0  0  0  |  0  0  0  0  |  0  0  0  0  |  0  0  0  0  |  \n",
      "|  0  0  0  0  |  0  0  0  0  |  0  0  0  0  |  0  0  0  0  |  \n",
      "|  0  0  0  0  |  0  0  0  0  |  0  0  0  0  |  0  0  0  0  |  \n",
      "-------------------------------------------------------------\n",
      "|  0  0  0  0  |  0  0  0  0  |  0  0  0  0  |  0  0  0  0  |  \n",
      "|  0  0  0  0  |  0  0  0  0  |  0  0  0  0  |  0  0  0  0  |  \n",
      "|  0  0  0  0  |  0  0  0  0  |  0  0  0  0  |  0  0  0  0  |  \n",
      "|  0  0  0  0  |  0  0  0  0  |  0  0  0  0  |  0  0  0  0  |  \n",
      "-------------------------------------------------------------\n",
      "\n",
      "Solução\n",
      "-------------------------------------------------------------\n",
      "|  1  2  3  4  |  5  6  7  8  |  9  10 11 12 |  13 14 15 16 |  \n",
      "|  5  6  7  13 |  1  2  3  4  |  8  14 15 16 |  9  10 11 12 |  \n",
      "|  9  10 11 12 |  13 14 15 16 |  1  2  3  4  |  5  6  7  8  |  \n",
      "|  8  14 15 16 |  9  10 11 12 |  5  6  7  13 |  1  2  3  4  |  \n",
      "-------------------------------------------------------------\n",
      "|  4  1  2  3  |  6  5  8  7  |  10 9  12 11 |  14 13 16 15 |  \n",
      "|  6  7  5  14 |  2  1  4  3  |  13 8  16 15 |  12 9  10 11 |  \n",
      "|  10 12 13 9  |  11 16 14 15 |  2  1  4  3  |  6  5  8  7  |  \n",
      "|  15 8  16 11 |  12 9  10 13 |  6  5  14 7  |  2  1  4  3  |  \n",
      "-------------------------------------------------------------\n",
      "|  14 3  1  2  |  4  7  5  6  |  12 15 8  9  |  16 11 13 10 |  \n",
      "|  16 11 4  5  |  3  8  1  2  |  7  13 6  10 |  15 12 9  14 |  \n",
      "|  13 15 12 10 |  16 11 9  14 |  3  4  1  2  |  7  8  5  6  |  \n",
      "|  7  9  8  6  |  15 12 13 10 |  11 16 5  14 |  3  4  1  2  |  \n",
      "-------------------------------------------------------------\n",
      "|  12 16 10 1  |  7  3  2  5  |  4  11 9  6  |  8  15 14 13 |  \n",
      "|  11 13 9  7  |  14 4  12 1  |  15 3  2  8  |  10 16 6  5  |  \n",
      "|  3  5  14 15 |  8  13 6  11 |  16 12 10 1  |  4  7  2  9  |  \n",
      "|  2  4  6  8  |  10 15 16 9  |  14 7  13 5  |  11 3  12 1  |  \n",
      "-------------------------------------------------------------\n",
      "\n",
      "Tempo de execução em segundos: 0.467492626999956\n"
     ]
    }
   ],
   "source": [
    "times[0][1] = timeit.timeit(stmt='test_sudoku(4,0.0)', setup='from __main__ import test_sudoku',number=1)\n",
    "print(\"Tempo de execução em segundos:\",times[0][1])"
   ]
  },
  {
   "cell_type": "markdown",
   "id": "216b4667",
   "metadata": {},
   "source": [
    "#### $N = 5$"
   ]
  },
  {
   "cell_type": "code",
   "execution_count": 50,
   "id": "4569fe68",
   "metadata": {},
   "outputs": [
    {
     "name": "stdout",
     "output_type": "stream",
     "text": [
      "Sudoku\n",
      "0   0   0   0   0   0   0   0   0   0   0   0   0   0   0   0   0   0   0   0   0   0   0   0   0   \n",
      "0   0   0   0   0   0   0   0   0   0   0   0   0   0   0   0   0   0   0   0   0   0   0   0   0   \n",
      "0   0   0   0   0   0   0   0   0   0   0   0   0   0   0   0   0   0   0   0   0   0   0   0   0   \n",
      "0   0   0   0   0   0   0   0   0   0   0   0   0   0   0   0   0   0   0   0   0   0   0   0   0   \n",
      "0   0   0   0   0   0   0   0   0   0   0   0   0   0   0   0   0   0   0   0   0   0   0   0   0   \n",
      "0   0   0   0   0   0   0   0   0   0   0   0   0   0   0   0   0   0   0   0   0   0   0   0   0   \n",
      "0   0   0   0   0   0   0   0   0   0   0   0   0   0   0   0   0   0   0   0   0   0   0   0   0   \n",
      "0   0   0   0   0   0   0   0   0   0   0   0   0   0   0   0   0   0   0   0   0   0   0   0   0   \n",
      "0   0   0   0   0   0   0   0   0   0   0   0   0   0   0   0   0   0   0   0   0   0   0   0   0   \n",
      "0   0   0   0   0   0   0   0   0   0   0   0   0   0   0   0   0   0   0   0   0   0   0   0   0   \n",
      "0   0   0   0   0   0   0   0   0   0   0   0   0   0   0   0   0   0   0   0   0   0   0   0   0   \n",
      "0   0   0   0   0   0   0   0   0   0   0   0   0   0   0   0   0   0   0   0   0   0   0   0   0   \n",
      "0   0   0   0   0   0   0   0   0   0   0   0   0   0   0   0   0   0   0   0   0   0   0   0   0   \n",
      "0   0   0   0   0   0   0   0   0   0   0   0   0   0   0   0   0   0   0   0   0   0   0   0   0   \n",
      "0   0   0   0   0   0   0   0   0   0   0   0   0   0   0   0   0   0   0   0   0   0   0   0   0   \n",
      "0   0   0   0   0   0   0   0   0   0   0   0   0   0   0   0   0   0   0   0   0   0   0   0   0   \n",
      "0   0   0   0   0   0   0   0   0   0   0   0   0   0   0   0   0   0   0   0   0   0   0   0   0   \n",
      "0   0   0   0   0   0   0   0   0   0   0   0   0   0   0   0   0   0   0   0   0   0   0   0   0   \n",
      "0   0   0   0   0   0   0   0   0   0   0   0   0   0   0   0   0   0   0   0   0   0   0   0   0   \n",
      "0   0   0   0   0   0   0   0   0   0   0   0   0   0   0   0   0   0   0   0   0   0   0   0   0   \n",
      "0   0   0   0   0   0   0   0   0   0   0   0   0   0   0   0   0   0   0   0   0   0   0   0   0   \n",
      "0   0   0   0   0   0   0   0   0   0   0   0   0   0   0   0   0   0   0   0   0   0   0   0   0   \n",
      "0   0   0   0   0   0   0   0   0   0   0   0   0   0   0   0   0   0   0   0   0   0   0   0   0   \n",
      "0   0   0   0   0   0   0   0   0   0   0   0   0   0   0   0   0   0   0   0   0   0   0   0   0   \n",
      "0   0   0   0   0   0   0   0   0   0   0   0   0   0   0   0   0   0   0   0   0   0   0   0   0   \n",
      "\n",
      "Solução\n",
      "16  7   23  18  10  19  6   4   11  5   17  21  2   22  9   25  1   24  15  3   13  8   14  20  12  \n",
      "21  20  4   9   12  10  17  2   13  1   24  23  15  16  25  7   14  18  22  8   6   11  19  5   3   \n",
      "15  17  5   14  22  24  7   8   25  23  20  12  6   3   11  16  13  19  21  10  2   1   18  9   4   \n",
      "11  2   24  25  19  3   14  18  15  20  8   1   5   13  4   12  23  9   6   17  21  16  7   22  10  \n",
      "1   8   6   3   13  22  21  16  9   12  7   14  19  18  10  5   20  11  2   4   15  23  17  24  25  \n",
      "17  18  8   19  2   11  25  9   5   13  21  22  10  6   16  23  15  4   7   24  12  14  3   1   20  \n",
      "7   5   15  13  1   12  22  24  6   19  11  2   23  8   18  10  3   16  20  14  4   25  21  17  9   \n",
      "3   6   9   11  4   15  23  21  14  2   25  13  12  20  24  1   19  17  8   18  7   10  22  16  5   \n",
      "25  24  12  10  16  20  4   3   7   8   9   17  1   14  15  21  2   22  13  5   11  19  6   23  18  \n",
      "22  14  20  21  23  18  1   10  17  16  4   19  3   7   5   9   6   25  12  11  8   2   15  13  24  \n",
      "6   13  10  16  3   2   19  15  1   9   12  20  14  25  17  24  7   21  18  22  23  4   5   8   11  \n",
      "20  21  14  22  15  25  11  17  4   6   16  8   18  5   3   19  9   12  23  13  1   24  10  7   2   \n",
      "12  4   18  24  17  13  3   22  20  7   10  15  21  2   23  11  25  8   5   1   16  6   9   14  19  \n",
      "23  19  2   8   11  14  12  5   18  24  13  9   22  1   7   6   10  15  4   16  17  3   20  25  21  \n",
      "9   1   7   5   25  21  8   23  16  10  19  11  24  4   6   20  17  14  3   2   18  22  13  12  15  \n",
      "14  3   1   4   8   16  15  7   19  11  6   24  20  23  21  18  22  10  17  9   25  5   12  2   13  \n",
      "24  9   16  12  7   6   18  13  2   25  1   5   4   19  22  15  8   3   11  21  14  20  23  10  17  \n",
      "19  11  25  2   20  5   10  12  22  17  18  7   13  15  8   4   16  6   14  23  3   9   24  21  1   \n",
      "5   10  17  23  6   4   24  1   21  14  3   25  9   11  2   13  12  20  19  7   22  15  8   18  16  \n",
      "18  22  13  15  21  8   9   20  23  3   14  10  16  17  12  2   24  5   1   25  19  7   11  4   6   \n",
      "13  15  11  17  5   9   16  19  24  18  22  6   7   21  1   14  4   23  25  20  10  12  2   3   8   \n",
      "10  25  22  20  24  7   2   11  3   4   23  16  17  12  19  8   21  13  9   6   5   18  1   15  14  \n",
      "4   12  19  7   18  1   20  14  8   22  5   3   25  9   13  17  11  2   10  15  24  21  16  6   23  \n",
      "2   16  3   6   9   23  13  25  12  21  15  18  8   10  14  22  5   1   24  19  20  17  4   11  7   \n",
      "8   23  21  1   14  17  5   6   10  15  2   4   11  24  20  3   18  7   16  12  9   13  25  19  22  \n",
      "\n",
      "Tempo de execução em segundos: 222.45471793599972\n"
     ]
    }
   ],
   "source": [
    "times[0][2] = timeit.timeit(stmt='test_sudoku(5,0.0)', setup='from __main__ import test_sudoku',number=1)\n",
    "print(\"Tempo de execução em segundos:\",times[0][2])"
   ]
  },
  {
   "cell_type": "markdown",
   "id": "c75ff070",
   "metadata": {},
   "source": [
    "#### Tempos de Execução"
   ]
  },
  {
   "cell_type": "code",
   "execution_count": 51,
   "id": "bbb9b5ca",
   "metadata": {},
   "outputs": [
    {
     "data": {
      "image/png": "[encoded data removed]",
      "text/plain": [
       "<Figure size 432x288 with 1 Axes>"
      ]
     },
     "metadata": {
      "needs_background": "light"
     },
     "output_type": "display_data"
    }
   ],
   "source": [
    "plt.plot(N, times[0])\n",
    "plt.xticks(N)\n",
    "plt.title(\"Tempos de Execução\")\n",
    "plt.ylabel(\"Segundos\")\n",
    "plt.xlabel(\"N\")\n",
    "plt.grid(True)"
   ]
  },
  {
   "cell_type": "markdown",
   "id": "ee117146",
   "metadata": {},
   "source": [
    "### $\\alpha = 0.2$"
   ]
  },
  {
   "cell_type": "markdown",
   "id": "9a8b9b48",
   "metadata": {},
   "source": [
    "#### $N = 3$"
   ]
  },
  {
   "cell_type": "code",
   "execution_count": 41,
   "id": "a8ecd8c3",
   "metadata": {
    "scrolled": false
   },
   "outputs": [
    {
     "name": "stdout",
     "output_type": "stream",
     "text": [
      "Sudoku\n",
      "-------------------------\n",
      "| 1 0 0 | 0 0 0 | 0 0 0 | \n",
      "| 0 0 0 | 1 0 0 | 0 0 0 | \n",
      "| 0 0 0 | 0 5 6 | 0 0 0 | \n",
      "-------------------------\n",
      "| 0 0 0 | 0 0 7 | 0 0 0 | \n",
      "| 0 7 8 | 0 9 0 | 0 4 0 | \n",
      "| 0 0 5 | 0 0 0 | 0 0 0 | \n",
      "-------------------------\n",
      "| 0 0 0 | 8 0 2 | 0 0 6 | \n",
      "| 0 0 0 | 0 0 3 | 0 5 0 | \n",
      "| 8 0 0 | 9 0 0 | 0 0 0 | \n",
      "-------------------------\n",
      "\n",
      "Solução\n",
      "-------------------------\n",
      "| 1 8 6 | 4 7 9 | 3 2 5 | \n",
      "| 5 2 4 | 1 3 8 | 6 7 9 | \n",
      "| 3 9 7 | 2 5 6 | 4 8 1 | \n",
      "-------------------------\n",
      "| 2 4 1 | 5 8 7 | 9 6 3 | \n",
      "| 6 7 8 | 3 9 1 | 5 4 2 | \n",
      "| 9 3 5 | 6 2 4 | 8 1 7 | \n",
      "-------------------------\n",
      "| 7 5 3 | 8 4 2 | 1 9 6 | \n",
      "| 4 1 9 | 7 6 3 | 2 5 8 | \n",
      "| 8 6 2 | 9 1 5 | 7 3 4 | \n",
      "-------------------------\n",
      "\n",
      "Tempo de execução em segundos: 0.14159604899987244\n"
     ]
    }
   ],
   "source": [
    "times[1][0] = timeit.timeit(stmt='test_sudoku(3,0.2)', setup='from __main__ import test_sudoku',number=1 )\n",
    "print(\"Tempo de execução em segundos:\",times[1][0])"
   ]
  },
  {
   "cell_type": "markdown",
   "id": "b0e6fda6",
   "metadata": {},
   "source": [
    "#### $N = 4$"
   ]
  },
  {
   "cell_type": "code",
   "execution_count": 42,
   "id": "0bfff0ea",
   "metadata": {
    "scrolled": false
   },
   "outputs": [
    {
     "name": "stdout",
     "output_type": "stream",
     "text": [
      "Sudoku\n",
      "-------------------------------------------------------------\n",
      "|  0  0  0  4  |  5  0  0  0  |  0  0  0  12 |  0  0  0  16 |  \n",
      "|  0  0  0  0  |  0  2  0  0  |  0  13 0  0  |  0  10 0  0  |  \n",
      "|  0  0  0  0  |  12 13 0  0  |  0  2  0  0  |  0  0  6  0  |  \n",
      "|  12 0  0  0  |  9  0  11 0  |  0  0  0  0  |  0  2  0  0  |  \n",
      "-------------------------------------------------------------\n",
      "|  0  0  0  0  |  6  5  0  0  |  0  0  0  11 |  0  0  0  0  |  \n",
      "|  6  5  0  0  |  2  0  0  0  |  0  0  16 0  |  10 0  0  0  |  \n",
      "|  0  0  0  0  |  0  0  0  0  |  0  0  4  3  |  0  7  0  0  |  \n",
      "|  0  0  0  13 |  0  9  0  0  |  0  0  0  0  |  0  0  4  0  |  \n",
      "-------------------------------------------------------------\n",
      "|  0  0  0  0  |  0  0  0  0  |  0  0  0  0  |  15 0  13 0  |  \n",
      "|  0  8  0  0  |  0  4  0  0  |  15 0  0  0  |  0  0  0  0  |  \n",
      "|  0  11 0  0  |  0  0  0  0  |  3  0  0  0  |  0  8  7  0  |  \n",
      "|  0  0  0  0  |  11 0  0  0  |  0  7  0  0  |  0  4  1  0  |  \n",
      "-------------------------------------------------------------\n",
      "|  0  0  0  0  |  0  0  6  0  |  0  11 0  0  |  0  0  0  0  |  \n",
      "|  0  0  0  0  |  4  12 0  0  |  0  0  0  0  |  0  0  0  9  |  \n",
      "|  0  12 0  8  |  0  0  0  0  |  0  0  0  0  |  0  0  0  0  |  \n",
      "|  0  14 0  10 |  0  0  0  0  |  0  0  0  0  |  0  11 0  0  |  \n",
      "-------------------------------------------------------------\n",
      "\n",
      "Solução\n",
      "-------------------------------------------------------------\n",
      "|  2  13 8  4  |  5  6  1  10 |  9  15 7  12 |  3  14 11 16 |  \n",
      "|  7  6  9  11 |  3  2  4  8  |  5  13 14 16 |  12 10 15 1  |  \n",
      "|  3  16 5  1  |  12 13 14 15 |  11 2  10 8  |  4  9  6  7  |  \n",
      "|  12 15 10 14 |  9  7  11 16 |  1  6  3  4  |  8  2  5  13 |  \n",
      "-------------------------------------------------------------\n",
      "|  1  2  12 3  |  6  5  7  4  |  10 8  9  11 |  14 13 16 15 |  \n",
      "|  6  5  4  9  |  2  11 8  13 |  7  14 16 15 |  10 1  3  12 |  \n",
      "|  8  10 11 16 |  1  14 15 12 |  13 5  4  3  |  6  7  9  2  |  \n",
      "|  14 7  15 13 |  10 9  16 3  |  12 1  2  6  |  11 5  4  8  |  \n",
      "-------------------------------------------------------------\n",
      "|  4  1  2  7  |  8  3  9  5  |  16 12 11 10 |  15 6  13 14 |  \n",
      "|  10 8  3  5  |  7  4  13 1  |  15 9  6  14 |  16 12 2  11 |  \n",
      "|  16 11 13 6  |  14 15 12 2  |  3  4  1  5  |  9  8  7  10 |  \n",
      "|  15 9  14 12 |  11 16 10 6  |  2  7  8  13 |  5  4  1  3  |  \n",
      "-------------------------------------------------------------\n",
      "|  9  4  7  15 |  16 1  6  14 |  8  11 12 2  |  13 3  10 5  |  \n",
      "|  13 3  6  2  |  4  12 5  11 |  14 10 15 1  |  7  16 8  9  |  \n",
      "|  11 12 16 8  |  13 10 2  7  |  4  3  5  9  |  1  15 14 6  |  \n",
      "|  5  14 1  10 |  15 8  3  9  |  6  16 13 7  |  2  11 12 4  |  \n",
      "-------------------------------------------------------------\n",
      "\n",
      "Tempo de execução em segundos: 2.901559233999933\n"
     ]
    }
   ],
   "source": [
    "times[1][1] = timeit.timeit(stmt='test_sudoku(4,0.2)', setup='from __main__ import test_sudoku',number=1)\n",
    "print(\"Tempo de execução em segundos:\",times[1][1])"
   ]
  },
  {
   "cell_type": "markdown",
   "id": "7340d370",
   "metadata": {},
   "source": [
    "#### $N = 5$"
   ]
  },
  {
   "cell_type": "code",
   "execution_count": 52,
   "id": "f30a4e69",
   "metadata": {},
   "outputs": [
    {
     "name": "stdout",
     "output_type": "stream",
     "text": [
      "Sudoku\n",
      "19  25  16  0   0   22  0   0   0   0   0   0   0   0   0   0   2   17  0   0   0   0   11  0   0   \n",
      "0   0   0   0   0   0   0   25  0   6   0   21  9   0   0   0   0   0   0   0   0   0   0   0   0   \n",
      "0   0   0   0   0   0   0   0   0   0   1   0   0   0   0   21  14  19  0   0   0   3   0   0   0   \n",
      "0   0   18  0   0   0   0   0   0   0   0   0   0   0   0   3   13  0   0   8   0   0   0   0   0   \n",
      "0   0   0   0   0   0   0   0   0   0   2   0   0   0   0   0   25  12  0   0   0   0   0   0   8   \n",
      "0   0   14  0   0   0   0   0   0   0   24  0   0   0   0   0   0   8   0   0   0   0   0   1   20  \n",
      "0   0   0   0   0   0   0   6   0   0   4   25  20  0   0   23  0   0   0   11  0   0   14  0   0   \n",
      "4   0   0   0   0   0   0   7   0   0   0   0   0   0   3   0   0   0   0   0   0   0   24  0   0   \n",
      "0   0   0   8   0   12  0   0   0   0   7   0   0   0   0   0   0   0   0   2   0   0   0   0   0   \n",
      "25  0   0   0   0   0   0   0   0   0   0   0   1   5   0   0   12  0   0   0   0   0   0   0   0   \n",
      "5   0   15  0   0   9   0   0   0   18  0   0   4   0   0   0   8   0   0   0   23  12  0   0   0   \n",
      "0   0   0   0   11  0   0   0   0   0   20  0   0   0   0   0   0   0   0   0   0   0   0   0   0   \n",
      "0   0   0   0   10  0   0   0   0   0   0   0   0   1   0   0   17  0   0   0   0   0   0   0   0   \n",
      "14  0   0   0   0   0   0   0   0   0   0   0   0   0   0   0   0   0   0   3   4   7   2   0   0   \n",
      "0   0   0   0   0   0   0   0   0   0   0   0   0   0   0   10  0   0   0   14  0   0   0   0   0   \n",
      "15  0   0   0   0   0   0   12  1   0   0   0   0   6   0   5   0   0   0   19  0   0   0   10  23  \n",
      "0   13  0   0   0   0   0   0   8   21  0   0   7   18  0   0   0   0   0   0   17  0   0   0   5   \n",
      "0   24  0   0   0   0   0   0   0   22  14  0   0   0   0   0   10  0   23  0   15  0   0   0   13  \n",
      "0   0   0   0   0   0   0   0   0   0   0   0   0   0   0   0   0   21  3   4   0   0   12  0   0   \n",
      "0   0   0   0   19  0   0   0   0   0   0   2   0   10  5   0   0   0   0   9   3   0   0   0   0   \n",
      "0   0   0   0   0   0   0   10  0   0   25  0   0   0   0   0   0   0   0   0   2   0   23  11  0   \n",
      "0   0   19  0   0   0   0   21  25  0   0   0   0   0   0   0   0   24  16  0   0   0   0   0   7   \n",
      "0   22  21  0   0   6   4   0   0   0   0   0   0   0   0   0   0   0   0   0   0   0   0   0   0   \n",
      "0   0   0   0   0   0   0   0   0   0   18  0   0   4   21  0   0   0   0   0   20  22  0   0   25  \n",
      "13  0   0   25  0   0   0   0   0   0   0   0   0   14  0   0   0   0   0   0   0   0   21  0   0   \n",
      "\n",
      "Solução\n",
      "19  25  16  9   15  22  24  1   14  13  12  18  8   3   7   20  2   17  5   6   21  10  11  23  4   \n",
      "17  10  24  3   8   11  5   25  12  6   13  21  9   19  4   22  1   18  15  23  7   20  16  14  2   \n",
      "2   6   22  20  7   23  10  15  4   8   1   17  25  24  11  21  14  19  9   16  13  3   18  5   12  \n",
      "11  14  18  4   12  19  21  16  17  2   5   15  6   23  20  3   13  10  7   8   22  1   9   25  24  \n",
      "21  1   23  13  5   18  3   20  7   9   2   10  16  22  14  11  25  12  4   24  6   19  17  15  8   \n",
      "22  11  14  23  13  21  25  4   19  3   24  16  12  2   18  15  6   8   10  17  5   9   7   1   20  \n",
      "18  16  12  21  3   24  2   6   5   1   4   25  20  17  19  23  7   9   13  11  8   15  14  22  10  \n",
      "4   15  20  5   6   10  16  7   23  11  22  8   13  9   3   18  21  14  19  1   25  2   24  12  17  \n",
      "1   9   10  8   24  12  13  17  18  20  7   11  14  21  15  25  16  5   22  2   19  23  3   4   6   \n",
      "25  19  2   7   17  8   14  22  9   15  10  6   1   5   23  4   12  3   24  20  16  11  13  18  21  \n",
      "5   17  15  24  21  9   1   3   20  18  11  14  4   7   13  19  8   6   2   25  23  12  10  16  22  \n",
      "23  7   1   19  11  2   8   13  21  25  20  22  10  15  6   24  4   16  12  18  14  17  5   3   9   \n",
      "16  20  3   18  10  5   12  14  11  4   19  23  2   1   8   9   17  22  21  7   24  13  25  6   15  \n",
      "14  8   6   12  25  17  22  19  10  23  21  24  18  16  9   13  5   15  1   3   4   7   2   20  11  \n",
      "9   4   13  2   22  7   15  24  6   16  17  5   3   25  12  10  23  20  11  14  1   18  8   21  19  \n",
      "15  2   9   16  14  25  7   12  1   24  3   4   21  6   22  5   18  13  17  19  11  8   20  10  23  \n",
      "3   13  4   10  23  20  11  9   8   21  16  12  7   18  1   14  24  2   25  15  17  6   22  19  5   \n",
      "7   24  8   6   18  4   19  5   3   22  14  9   17  20  25  16  10  11  23  12  15  21  1   2   13  \n",
      "20  5   17  11  1   14  18  2   15  10  8   19  23  13  24  6   22  21  3   4   9   25  12  7   16  \n",
      "12  21  25  22  19  13  6   23  16  17  15  2   11  10  5   7   20  1   8   9   3   14  4   24  18  \n",
      "6   3   7   1   20  16  9   10  22  5   25  13  19  12  17  8   15  4   18  21  2   24  23  11  14  \n",
      "8   18  19  17  9   1   23  21  25  14  6   20  5   11  2   12  3   24  16  22  10  4   15  13  7   \n",
      "24  22  21  14  2   6   4   18  13  7   23  1   15  8   16  17  11  25  20  10  12  5   19  9   3   \n",
      "10  12  5   15  16  3   17  11  2   19  18  7   24  4   21  1   9   23  14  13  20  22  6   8   25  \n",
      "13  23  11  25  4   15  20  8   24  12  9   3   22  14  10  2   19  7   6   5   18  16  21  17  1   \n",
      "\n",
      "Tempo de execução em segundos: 316.58976200200004\n"
     ]
    }
   ],
   "source": [
    "times[1][2] = timeit.timeit(stmt='test_sudoku(5,0.2)', setup='from __main__ import test_sudoku',number=1)\n",
    "print(\"Tempo de execução em segundos:\",times[1][2])"
   ]
  },
  {
   "cell_type": "markdown",
   "id": "0ffff40f",
   "metadata": {},
   "source": [
    "#### Tempos de Execução"
   ]
  },
  {
   "cell_type": "code",
   "execution_count": 53,
   "id": "54a1d52b",
   "metadata": {
    "scrolled": true
   },
   "outputs": [
    {
     "data": {
      "image/png": "[encoded data removed]",
      "text/plain": [
       "<Figure size 432x288 with 1 Axes>"
      ]
     },
     "metadata": {
      "needs_background": "light"
     },
     "output_type": "display_data"
    }
   ],
   "source": [
    "plt.plot(N, times[1])\n",
    "plt.xticks(N)\n",
    "plt.title(\"Tempos de Execução\")\n",
    "plt.ylabel(\"Segundos\")\n",
    "plt.xlabel(\"N\")\n",
    "plt.grid(True)"
   ]
  },
  {
   "cell_type": "markdown",
   "id": "21888f75",
   "metadata": {},
   "source": [
    "### $\\alpha = 0.4$"
   ]
  },
  {
   "cell_type": "markdown",
   "id": "6a359994",
   "metadata": {},
   "source": [
    "#### $N = 3$"
   ]
  },
  {
   "cell_type": "code",
   "execution_count": 54,
   "id": "722926b9",
   "metadata": {
    "scrolled": false
   },
   "outputs": [
    {
     "name": "stdout",
     "output_type": "stream",
     "text": [
      "Sudoku\n",
      "-------------------------\n",
      "| 1 0 0 | 0 0 0 | 4 0 0 | \n",
      "| 0 0 0 | 0 3 0 | 7 5 0 | \n",
      "| 0 0 2 | 0 0 0 | 0 8 6 | \n",
      "-------------------------\n",
      "| 9 0 0 | 0 0 0 | 6 1 0 | \n",
      "| 6 0 0 | 0 0 1 | 0 2 5 | \n",
      "| 5 0 0 | 6 8 4 | 3 7 0 | \n",
      "-------------------------\n",
      "| 0 0 0 | 0 5 8 | 0 6 3 | \n",
      "| 0 0 0 | 0 0 9 | 2 4 0 | \n",
      "| 2 0 0 | 3 4 7 | 0 9 0 | \n",
      "-------------------------\n",
      "\n",
      "Solução\n",
      "-------------------------\n",
      "| 1 7 5 | 8 9 6 | 4 3 2 | \n",
      "| 8 6 9 | 4 3 2 | 7 5 1 | \n",
      "| 4 3 2 | 7 1 5 | 9 8 6 | \n",
      "-------------------------\n",
      "| 9 8 7 | 5 2 3 | 6 1 4 | \n",
      "| 6 4 3 | 9 7 1 | 8 2 5 | \n",
      "| 5 2 1 | 6 8 4 | 3 7 9 | \n",
      "-------------------------\n",
      "| 7 9 4 | 2 5 8 | 1 6 3 | \n",
      "| 3 5 8 | 1 6 9 | 2 4 7 | \n",
      "| 2 1 6 | 3 4 7 | 5 9 8 | \n",
      "-------------------------\n",
      "\n",
      "Tempo de execução em segundos: 0.14208463100021618\n"
     ]
    }
   ],
   "source": [
    "times[2][0] = timeit.timeit(stmt='test_sudoku(3,0.4)', setup='from __main__ import test_sudoku',number=1 )\n",
    "print(\"Tempo de execução em segundos:\",times[2][0])"
   ]
  },
  {
   "cell_type": "markdown",
   "id": "2bff3f5b",
   "metadata": {},
   "source": [
    "#### $N = 4$"
   ]
  },
  {
   "cell_type": "code",
   "execution_count": 55,
   "id": "fc2cdd33",
   "metadata": {
    "scrolled": false
   },
   "outputs": [
    {
     "name": "stdout",
     "output_type": "stream",
     "text": [
      "Sudoku\n",
      "-------------------------------------------------------------\n",
      "|  0  7  0  12 |  10 8  0  13 |  0  0  3  0  |  14 16 6  0  |  \n",
      "|  8  0  0  11 |  1  3  0  0  |  0  15 14 6  |  12 13 0  7  |  \n",
      "|  0  14 0  0  |  0  0  7  0  |  12 0  0  11 |  0  15 4  5  |  \n",
      "|  10 0  0  0  |  0  0  11 0  |  0  16 7  0  |  0  0  0  2  |  \n",
      "-------------------------------------------------------------\n",
      "|  0  0  0  0  |  8  0  0  1  |  0  12 11 14 |  6  0  0  0  |  \n",
      "|  12 0  0  0  |  11 0  4  0  |  0  0  0  3  |  0  8  0  0  |  \n",
      "|  0  15 11 0  |  3  0  9  0  |  0  0  0  0  |  10 0  0  1  |  \n",
      "|  0  4  0  0  |  0  12 0  0  |  0  0  9  0  |  0  0  0  0  |  \n",
      "-------------------------------------------------------------\n",
      "|  1  13 8  9  |  0  4  0  0  |  0  3  12 0  |  7  2  11 14 |  \n",
      "|  0  10 0  0  |  0  0  0  7  |  0  0  0  0  |  15 3  16 0  |  \n",
      "|  0  0  0  0  |  13 2  12 8  |  0  0  0  0  |  4  5  1  6  |  \n",
      "|  0  2  7  14 |  0  0  3  11 |  8  0  0  5  |  13 9  12 10 |  \n",
      "-------------------------------------------------------------\n",
      "|  0  0  0  0  |  0  9  0  15 |  0  0  0  0  |  0  6  0  0  |  \n",
      "|  15 8  10 0  |  0  0  6  0  |  0  0  13 0  |  2  14 0  0  |  \n",
      "|  0  5  0  0  |  12 0  14 0  |  0  6  0  0  |  0  0  0  0  |  \n",
      "|  0  6  0  0  |  0  0  0  16 |  0  0  0  12 |  0  0  0  0  |  \n",
      "-------------------------------------------------------------\n",
      "\n",
      "Solução\n",
      "-------------------------------------------------------------\n",
      "|  5  7  4  12 |  10 8  15 13 |  2  9  3  1  |  14 16 6  11 |  \n",
      "|  8  9  2  11 |  1  3  16 4  |  5  15 14 6  |  12 13 10 7  |  \n",
      "|  16 14 1  13 |  2  6  7  9  |  12 10 8  11 |  3  15 4  5  |  \n",
      "|  10 3  6  15 |  14 5  11 12 |  13 16 7  4  |  9  1  8  2  |  \n",
      "-------------------------------------------------------------\n",
      "|  2  16 5  3  |  8  10 13 1  |  15 12 11 14 |  6  7  9  4  |  \n",
      "|  12 1  9  6  |  11 7  4  14 |  10 2  16 3  |  5  8  15 13 |  \n",
      "|  13 15 11 8  |  3  16 9  2  |  4  5  6  7  |  10 12 14 1  |  \n",
      "|  7  4  14 10 |  15 12 5  6  |  1  13 9  8  |  16 11 2  3  |  \n",
      "-------------------------------------------------------------\n",
      "|  1  13 8  9  |  6  4  10 5  |  16 3  12 15 |  7  2  11 14 |  \n",
      "|  4  10 12 5  |  9  14 1  7  |  6  11 2  13 |  15 3  16 8  |  \n",
      "|  3  11 15 16 |  13 2  12 8  |  7  14 10 9  |  4  5  1  6  |  \n",
      "|  6  2  7  14 |  16 15 3  11 |  8  4  1  5  |  13 9  12 10 |  \n",
      "-------------------------------------------------------------\n",
      "|  14 12 13 7  |  5  9  2  15 |  11 8  4  10 |  1  6  3  16 |  \n",
      "|  15 8  10 4  |  7  11 6  3  |  9  1  13 16 |  2  14 5  12 |  \n",
      "|  11 5  16 1  |  12 13 14 10 |  3  6  15 2  |  8  4  7  9  |  \n",
      "|  9  6  3  2  |  4  1  8  16 |  14 7  5  12 |  11 10 13 15 |  \n",
      "-------------------------------------------------------------\n",
      "\n",
      "Tempo de execução em segundos: 2.103557663999709\n"
     ]
    }
   ],
   "source": [
    "times[2][1] = timeit.timeit(stmt='test_sudoku(4,0.4)', setup='from __main__ import test_sudoku',number=1)\n",
    "print(\"Tempo de execução em segundos:\",times[2][1])"
   ]
  },
  {
   "cell_type": "markdown",
   "id": "8beaaa2a",
   "metadata": {},
   "source": [
    "#### $N = 5$"
   ]
  },
  {
   "cell_type": "code",
   "execution_count": 56,
   "id": "6389581f",
   "metadata": {},
   "outputs": [
    {
     "name": "stdout",
     "output_type": "stream",
     "text": [
      "Sudoku\n",
      "0   0   14  3   15  0   0   0   0   0   9   0   0   0   2   0   0   0   0   0   11  8   17  0   0   \n",
      "11  23  0   0   0   0   17  24  0   0   0   15  0   0   0   0   0   5   0   0   12  0   0   0   0   \n",
      "22  0   0   0   0   0   0   0   3   0   0   0   0   11  13  17  4   0   2   0   0   0   0   0   7   \n",
      "0   0   0   0   17  0   0   11  2   0   24  0   10  0   0   12  0   0   0   0   23  0   0   0   6   \n",
      "0   0   0   7   0   0   8   0   0   0   0   0   22  17  20  0   0   16  11  3   14  10  0   21  0   \n",
      "0   14  20  0   0   0   0   0   9   0   0   0   12  19  8   0   0   15  6   2   0   0   23  0   16  \n",
      "0   0   0   22  13  0   0   0   0   0   0   0   0   0   17  23  0   0   0   0   0   11  6   0   0   \n",
      "0   2   12  0   11  6   0   0   23  0   14  0   0   18  25  0   0   17  10  0   0   0   8   22  0   \n",
      "0   8   0   4   0   0   0   0   0   3   6   0   2   15  22  20  5   0   18  11  0   0   0   7   13  \n",
      "0   17  7   25  0   0   0   5   22  0   10  16  23  0   0   0   0   0   0   0   0   0   20  0   0   \n",
      "12  9   3   0   6   20  0   10  0   19  4   0   5   22  7   18  11  0   0   15  0   17  21  14  0   \n",
      "0   0   0   0   1   0   0   0   0   0   17  14  15  10  6   16  0   0   0   0   0   3   0   0   0   \n",
      "14  21  0   0   20  5   0   0   18  0   19  0   13  12  1   3   17  2   0   7   0   0   0   0   0   \n",
      "0   0   4   17  16  0   13  0   0   0   0   0   0   0   11  0   0   0   0   0   0   5   0   19  0   \n",
      "0   0   0   0   10  0   0   4   0   11  0   0   16  3   0   0   0   0   0   0   0   0   0   6   0   \n",
      "16  3   17  0   0   0   0   2   25  0   22  20  0   0   0   0   0   0   0   0   0   15  0   23  0   \n",
      "7   0   0   24  0   0   0   0   0   0   2   0   0   0   0   5   8   21  22  0   6   0   0   17  12  \n",
      "4   0   23  2   0   0   0   0   0   0   7   17  0   0   12  1   9   0   0   10  0   0   0   0   14  \n",
      "0   20  0   0   8   22  0   12  19  0   0   0   24  0   4   0   16  0   0   6   0   2   0   1   21  \n",
      "0   0   6   21  0   23  0   0   0   0   0   10  8   16  0   0   20  0   0   17  0   4   0   0   25  \n",
      "0   6   16  0   18  24  14  0   4   8   0   5   17  0   10  19  0   7   0   0   25  21  0   9   11  \n",
      "0   0   0   0   0   0   22  0   0   0   8   0   20  0   0   0   14  0   0   1   0   7   24  12  0   \n",
      "3   11  0   0   0   17  20  0   0   0   16  6   14  4   23  21  0   12  0   0   8   18  2   0   0   \n",
      "0   0   0   0   0   0   0   0   6   5   0   0   0   0   0   8   0   0   3   0   19  13  16  10  0   \n",
      "0   0   24  1   5   0   0   0   0   0   12  0   0   0   0   0   0   4   0   16  0   6   0   20  23  \n",
      "\n",
      "Solução\n",
      "21  16  14  3   15  1   18  6   12  22  9   25  4   7   2   13  23  10  24  19  11  8   17  5   20  \n",
      "11  23  9   6   4   10  17  24  20  16  1   15  21  8   19  7   25  5   14  18  12  22  3   13  2   \n",
      "22  25  8   10  24  14  21  15  3   23  5   12  6   11  13  17  4   20  2   9   1   19  18  16  7   \n",
      "13  18  5   20  17  4   19  11  2   7   24  3   10  14  16  12  21  22  1   8   23  9   15  25  6   \n",
      "2   1   19  7   12  9   8   25  5   13  23  18  22  17  20  15  6   16  11  3   14  10  4   21  24  \n",
      "5   14  20  18  21  25  7   17  9   1   13  11  12  19  8   22  3   15  6   2   10  24  23  4   16  \n",
      "9   24  1   22  13  2   10  8   15  12  20  4   7   5   17  23  19  25  16  14  21  11  6   18  3   \n",
      "15  2   12  16  11  6   4   19  23  20  14  21  3   18  25  24  7   17  10  13  9   1   8   22  5   \n",
      "19  8   10  4   23  16  24  14  21  3   6   1   2   15  22  20  5   9   18  11  17  12  25  7   13  \n",
      "6   17  7   25  3   13  11  5   22  18  10  16  23  24  9   4   1   8   21  12  15  14  20  2   19  \n",
      "12  9   3   23  6   20  16  10  24  19  4   8   5   22  7   18  11  13  25  15  2   17  21  14  1   \n",
      "25  5   2   19  1   7   12  22  8   21  17  14  15  10  6   16  24  23  9   20  4   3   13  11  18  \n",
      "14  21  15  11  20  5   9   23  18  6   19  24  13  12  1   3   17  2   4   7   16  25  22  8   10  \n",
      "18  7   4   17  16  3   13  1   14  2   25  23  9   20  11  10  22  6   8   21  24  5   12  19  15  \n",
      "24  13  22  8   10  15  25  4   17  11  21  2   16  3   18  14  12  1   19  5   20  23  7   6   9   \n",
      "16  3   17  13  9   21  1   2   25  14  22  20  19  6   5   11  18  24  12  4   7   15  10  23  8   \n",
      "7   19  11  24  14  18  3   16  10  4   2   13  25  1   15  5   8   21  22  23  6   20  9   17  12  \n",
      "4   15  23  2   25  8   6   20  11  24  7   17  18  21  12  1   9   19  13  10  22  16  5   3   14  \n",
      "10  20  18  5   8   22  15  12  19  17  3   9   24  23  4   25  16  14  7   6   13  2   11  1   21  \n",
      "1   12  6   21  22  23  5   13  7   9   11  10  8   16  14  2   20  3   15  17  18  4   19  24  25  \n",
      "23  6   16  12  18  24  14  3   4   8   15  5   17  13  10  19  2   7   20  22  25  21  1   9   11  \n",
      "17  10  13  15  2   11  22  21  16  25  8   19  20  9   3   6   14  18  23  1   5   7   24  12  4   \n",
      "3   11  25  9   19  17  20  7   1   10  16  6   14  4   23  21  13  12  5   24  8   18  2   15  22  \n",
      "20  4   21  14  7   12  23  9   6   5   18  22  1   2   24  8   15  11  3   25  19  13  16  10  17  \n",
      "8   22  24  1   5   19  2   18  13  15  12  7   11  25  21  9   10  4   17  16  3   6   14  20  23  \n",
      "\n",
      "Tempo de execução em segundos: 327.0110289619997\n"
     ]
    }
   ],
   "source": [
    "times[2][2] = timeit.timeit(stmt='test_sudoku(5,0.4)', setup='from __main__ import test_sudoku',number=1)\n",
    "print(\"Tempo de execução em segundos:\",times[2][2])"
   ]
  },
  {
   "cell_type": "markdown",
   "id": "a40182a1",
   "metadata": {},
   "source": [
    "#### Tempos de Execução"
   ]
  },
  {
   "cell_type": "code",
   "execution_count": 57,
   "id": "24235ed4",
   "metadata": {},
   "outputs": [
    {
     "data": {
      "image/png": "[encoded data removed]",
      "text/plain": [
       "<Figure size 432x288 with 1 Axes>"
      ]
     },
     "metadata": {
      "needs_background": "light"
     },
     "output_type": "display_data"
    }
   ],
   "source": [
    "plt.plot(N, times[2])\n",
    "plt.xticks(N)\n",
    "plt.title(\"Tempos de Execução\")\n",
    "plt.ylabel(\"Segundos\")\n",
    "plt.xlabel(\"N\")\n",
    "plt.grid(True)"
   ]
  },
  {
   "cell_type": "markdown",
   "id": "ca5e6a35",
   "metadata": {},
   "source": [
    "### $\\alpha = 0.6$"
   ]
  },
  {
   "cell_type": "markdown",
   "id": "caff554e",
   "metadata": {},
   "source": [
    "#### $N = 3$"
   ]
  },
  {
   "cell_type": "code",
   "execution_count": 48,
   "id": "23a49e0a",
   "metadata": {
    "scrolled": false
   },
   "outputs": [
    {
     "name": "stdout",
     "output_type": "stream",
     "text": [
      "Sudoku\n",
      "-------------------------\n",
      "| 1 3 0 | 5 6 0 | 8 0 0 | \n",
      "| 2 0 0 | 1 0 9 | 3 4 7 | \n",
      "| 0 8 9 | 0 3 4 | 1 0 6 | \n",
      "-------------------------\n",
      "| 3 1 2 | 0 5 6 | 7 8 0 | \n",
      "| 0 6 0 | 0 9 8 | 2 1 3 | \n",
      "| 8 0 7 | 0 1 2 | 4 6 5 | \n",
      "-------------------------\n",
      "| 5 0 1 | 0 0 3 | 0 7 8 | \n",
      "| 9 0 0 | 6 0 1 | 0 0 4 | \n",
      "| 0 0 0 | 0 7 5 | 0 0 1 | \n",
      "-------------------------\n",
      "\n",
      "Solução\n",
      "-------------------------\n",
      "| 1 3 4 | 5 6 7 | 8 9 2 | \n",
      "| 2 5 6 | 1 8 9 | 3 4 7 | \n",
      "| 7 8 9 | 2 3 4 | 1 5 6 | \n",
      "-------------------------\n",
      "| 3 1 2 | 4 5 6 | 7 8 9 | \n",
      "| 4 6 5 | 7 9 8 | 2 1 3 | \n",
      "| 8 9 7 | 3 1 2 | 4 6 5 | \n",
      "-------------------------\n",
      "| 5 2 1 | 9 4 3 | 6 7 8 | \n",
      "| 9 7 8 | 6 2 1 | 5 3 4 | \n",
      "| 6 4 3 | 8 7 5 | 9 2 1 | \n",
      "-------------------------\n",
      "\n",
      "Tempo de execução em segundos: 0.1359284719999323\n"
     ]
    }
   ],
   "source": [
    "times[3][0] = timeit.timeit(stmt='test_sudoku(3,0.6)', setup='from __main__ import test_sudoku',number=1 )\n",
    "print(\"Tempo de execução em segundos:\",times[3][0])"
   ]
  },
  {
   "cell_type": "markdown",
   "id": "d97f361f",
   "metadata": {},
   "source": [
    "#### $N = 4$"
   ]
  },
  {
   "cell_type": "code",
   "execution_count": 49,
   "id": "8cf0d0d4",
   "metadata": {
    "scrolled": false
   },
   "outputs": [
    {
     "name": "stdout",
     "output_type": "stream",
     "text": [
      "Sudoku\n",
      "-------------------------------------------------------------\n",
      "|  14 3  0  5  |  0  10 0  9  |  2  0  13 0  |  0  0  0  0  |  \n",
      "|  6  15 0  0  |  16 8  0  13 |  3  1  0  0  |  0  7  4  12 |  \n",
      "|  7  0  0  8  |  14 3  4  6  |  16 15 9  12 |  5  0  0  0  |  \n",
      "|  12 13 16 10 |  0  0  15 0  |  0  4  5  8  |  0  9  14 0  |  \n",
      "-------------------------------------------------------------\n",
      "|  0  0  13 0  |  8  5  0  0  |  7  2  4  15 |  0  14 0  0  |  \n",
      "|  9  0  0  1  |  15 0  0  7  |  11 0  6  0  |  10 0  16 0  |  \n",
      "|  8  0  0  11 |  0  1  2  14 |  0  12 0  13 |  4  5  6  15 |  \n",
      "|  4  5  2  15 |  0  0  0  12 |  1  14 3  0  |  7  0  13 9  |  \n",
      "-------------------------------------------------------------\n",
      "|  11 12 7  0  |  4  0  6  5  |  10 0  15 0  |  8  2  0  13 |  \n",
      "|  0  9  15 14 |  13 0  0  0  |  0  5  8  7  |  0  6  12 11 |  \n",
      "|  0  0  0  0  |  3  9  0  8  |  0  13 1  0  |  14 15 5  0  |  \n",
      "|  0  0  0  0  |  1  12 7  15 |  0  6  11 0  |  16 0  9  4  |  \n",
      "-------------------------------------------------------------\n",
      "|  0  10 8  7  |  0  13 0  4  |  5  16 0  1  |  2  0  3  6  |  \n",
      "|  3  0  6  0  |  0  16 8  0  |  13 9  0  4  |  0  0  10 5  |  \n",
      "|  0  0  14 0  |  11 0  12 1  |  15 0  0  3  |  0  4  8  16 |  \n",
      "|  0  4  1  13 |  0  15 3  0  |  8  11 0  6  |  9  0  7  14 |  \n",
      "-------------------------------------------------------------\n",
      "\n",
      "Solução\n",
      "-------------------------------------------------------------\n",
      "|  14 3  4  5  |  12 10 1  9  |  2  7  13 11 |  6  16 15 8  |  \n",
      "|  6  15 9  2  |  16 8  5  13 |  3  1  10 14 |  11 7  4  12 |  \n",
      "|  7  1  11 8  |  14 3  4  6  |  16 15 9  12 |  5  13 2  10 |  \n",
      "|  12 13 16 10 |  2  7  15 11 |  6  4  5  8  |  1  9  14 3  |  \n",
      "-------------------------------------------------------------\n",
      "|  10 16 13 6  |  8  5  9  3  |  7  2  4  15 |  12 14 11 1  |  \n",
      "|  9  14 12 1  |  15 4  13 7  |  11 8  6  5  |  10 3  16 2  |  \n",
      "|  8  7  3  11 |  10 1  2  14 |  9  12 16 13 |  4  5  6  15 |  \n",
      "|  4  5  2  15 |  6  11 16 12 |  1  14 3  10 |  7  8  13 9  |  \n",
      "-------------------------------------------------------------\n",
      "|  11 12 7  16 |  4  14 6  5  |  10 3  15 9  |  8  2  1  13 |  \n",
      "|  1  9  15 14 |  13 2  10 16 |  4  5  8  7  |  3  6  12 11 |  \n",
      "|  2  6  10 4  |  3  9  11 8  |  12 13 1  16 |  14 15 5  7  |  \n",
      "|  13 8  5  3  |  1  12 7  15 |  14 6  11 2  |  16 10 9  4  |  \n",
      "-------------------------------------------------------------\n",
      "|  15 10 8  7  |  9  13 14 4  |  5  16 12 1  |  2  11 3  6  |  \n",
      "|  3  11 6  12 |  7  16 8  2  |  13 9  14 4  |  15 1  10 5  |  \n",
      "|  5  2  14 9  |  11 6  12 1  |  15 10 7  3  |  13 4  8  16 |  \n",
      "|  16 4  1  13 |  5  15 3  10 |  8  11 2  6  |  9  12 7  14 |  \n",
      "-------------------------------------------------------------\n",
      "\n",
      "Tempo de execução em segundos: 2.320900717000086\n"
     ]
    }
   ],
   "source": [
    "times[3][1] = timeit.timeit(stmt='test_sudoku(4,0.6)', setup='from __main__ import test_sudoku',number=1)\n",
    "print(\"Tempo de execução em segundos:\",times[3][1])"
   ]
  },
  {
   "cell_type": "markdown",
   "id": "45d30cc3",
   "metadata": {},
   "source": [
    "#### $N = 5$"
   ]
  },
  {
   "cell_type": "code",
   "execution_count": 58,
   "id": "81c51fd2",
   "metadata": {},
   "outputs": [
    {
     "name": "stdout",
     "output_type": "stream",
     "text": [
      "Sudoku\n",
      "13  0   0   21  18  4   1   11  6   0   9   12  5   22  2   0   0   10  16  3   25  14  7   0   19  \n",
      "11  7   0   0   20  10  0   8   0   16  0   6   0   13  21  25  0   0   0   19  0   5   23  17  4   \n",
      "0   22  23  0   1   24  0   0   13  0   16  0   20  0   4   0   11  21  6   5   0   8   2   0   3   \n",
      "0   6   0   10  15  20  0   0   0   5   17  7   3   23  0   2   4   13  0   0   0   12  0   22  11  \n",
      "4   0   5   14  17  22  0   7   0   2   11  0   0   18  25  1   24  15  0   20  6   13  10  16  0   \n",
      "15  20  22  0   0   6   21  3   0   12  0   23  17  0   0   0   8   0   0   13  11  0   4   10  1   \n",
      "0   0   3   23  16  0   0   13  0   11  0   4   14  12  19  0   0   0   0   0   17  9   21  0   24  \n",
      "21  0   0   11  0   19  16  24  0   23  2   20  1   0   10  0   15  4   14  12  0   0   8   0   0   \n",
      "0   1   0   0   0   0   5   20  4   0   13  21  18  8   22  0   0   6   0   0   2   0   0   0   25  \n",
      "0   0   0   0   0   2   0   22  0   1   15  5   0   0   11  21  18  0   0   24  14  3   13  0   20  \n",
      "0   16  20  0   19  0   0   0   0   10  0   2   0   25  18  4   0   0   21  0   23  1   0   0   9   \n",
      "0   5   8   6   0   13  0   19  11  24  12  17  9   21  23  18  1   22  10  0   0   0   15  0   0   \n",
      "0   18  0   0   0   0   0   2   0   0   0   0   0   15  6   0   0   24  19  0   0   25  22  5   14  \n",
      "2   9   15  24  23  18  0   16  12  0   0   1   4   0   5   20  6   11  13  25  19  0   0   8   0   \n",
      "1   0   13  25  11  9   0   21  8   6   22  14  10  0   20  5   0   17  0   0   3   0   18  24  12  \n",
      "22  11  18  5   12  0   0   23  24  0   7   0   0   4   0   16  25  9   20  0   0   17  0   0   2   \n",
      "0   23  17  13  25  0   9   15  1   7   21  0   0   14  24  10  12  18  4   2   22  6   0   0   5   \n",
      "0   21  0   0   0   14  0   0   0   0   0   22  0   9   0   15  19  8   3   0   20  0   24  12  18  \n",
      "14  0   19  0   4   3   6   0   22  18  20  10  0   2   16  0   0   0   11  21  0   23  9   1   0   \n",
      "8   10  0   1   0   0   0   0   0   20  5   18  0   6   17  14  0   7   0   22  21  0   25  0   0   \n",
      "0   15  1   2   0   23  0   4   9   21  10  25  6   17  0   12  0   19  22  11  0   0   20  0   0   \n",
      "16  0   0   8   0   17  24  0   0   0   19  0   21  0   0   0   2   3   15  0   7   0   5   4   23  \n",
      "24  0   12  0   0   5   0   6   25  0   18  0   22  0   15  13  10  0   0   4   1   0   19  3   0   \n",
      "17  0   0   7   0   11  2   0   19  3   0   0   0   5   0   24  21  0   1   9   12  10  6   0   15  \n",
      "23  19  10  3   6   12  15  0   16  13  4   24  0   20  0   8   5   0   0   0   9   11  0   0   22  \n",
      "\n",
      "Solução\n",
      "13  8   24  21  18  4   1   11  6   15  9   12  5   22  2   23  17  10  16  3   25  14  7   20  19  \n",
      "11  7   2   9   20  10  18  8   3   16  1   6   24  13  21  25  22  14  12  19  15  5   23  17  4   \n",
      "19  22  23  12  1   24  17  14  13  25  16  15  20  10  4   7   11  21  6   5   18  8   2   9   3   \n",
      "25  6   16  10  15  20  19  9   21  5   17  7   3   23  14  2   4   13  8   18  24  12  1   22  11  \n",
      "4   3   5   14  17  22  12  7   23  2   11  19  8   18  25  1   24  15  9   20  6   13  10  16  21  \n",
      "15  20  22  18  7   6   21  3   14  12  25  23  17  24  9   19  8   2   5   13  11  16  4   10  1   \n",
      "5   2   3   23  16  25  8   13  15  11  6   4   14  12  19  22  20  1   7   10  17  9   21  18  24  \n",
      "21  17  25  11  13  19  16  24  18  23  2   20  1   3   10  9   15  4   14  12  5   22  8   7   6   \n",
      "10  1   14  19  24  7   5   20  4   9   13  21  18  8   22  11  3   6   17  16  2   15  12  23  25  \n",
      "9   12  6   4   8   2   10  22  17  1   15  5   7   16  11  21  18  23  25  24  14  3   13  19  20  \n",
      "7   16  20  22  19  15  3   17  5   10  24  2   13  25  18  4   14  12  21  8   23  1   11  6   9   \n",
      "3   5   8   6   14  13  25  19  11  24  12  17  9   21  23  18  1   22  10  7   4   20  15  2   16  \n",
      "12  18  21  17  10  1   20  2   7   4   8   11  16  15  6   3   9   24  19  23  13  25  22  5   14  \n",
      "2   9   15  24  23  18  22  16  12  14  3   1   4   7   5   20  6   11  13  25  19  21  17  8   10  \n",
      "1   4   13  25  11  9   23  21  8   6   22  14  10  19  20  5   16  17  2   15  3   7   18  24  12  \n",
      "22  11  18  5   12  21  13  23  24  19  7   8   15  4   1   16  25  9   20  6   10  17  3   14  2   \n",
      "20  23  17  13  25  8   9   15  1   7   21  3   19  14  24  10  12  18  4   2   22  6   16  11  5   \n",
      "6   21  7   16  2   14  11  5   10  17  23  22  25  9   13  15  19  8   3   1   20  4   24  12  18  \n",
      "14  24  19  15  4   3   6   25  22  18  20  10  12  2   16  17  13  5   11  21  8   23  9   1   7   \n",
      "8   10  9   1   3   16  4   12  2   20  5   18  11  6   17  14  23  7   24  22  21  19  25  15  13  \n",
      "18  15  1   2   5   23  14  4   9   21  10  25  6   17  3   12  7   19  22  11  16  24  20  13  8   \n",
      "16  25  11  8   9   17  24  10  20  22  19  13  21  1   12  6   2   3   15  14  7   18  5   4   23  \n",
      "24  14  12  20  21  5   7   6   25  8   18  9   22  11  15  13  10  16  23  4   1   2   19  3   17  \n",
      "17  13  4   7   22  11  2   18  19  3   14  16  23  5   8   24  21  20  1   9   12  10  6   25  15  \n",
      "23  19  10  3   6   12  15  1   16  13  4   24  2   20  7   8   5   25  18  17  9   11  14  21  22  \n",
      "\n",
      "Tempo de execução em segundos: 347.96424793700044\n"
     ]
    }
   ],
   "source": [
    "times[3][2] = timeit.timeit(stmt='test_sudoku(5,0.6)', setup='from __main__ import test_sudoku',number=1)\n",
    "print(\"Tempo de execução em segundos:\",times[3][2])"
   ]
  },
  {
   "cell_type": "markdown",
   "id": "1444d07e",
   "metadata": {},
   "source": [
    "#### Tempos de Execução"
   ]
  },
  {
   "cell_type": "code",
   "execution_count": 59,
   "id": "5547ed8b",
   "metadata": {},
   "outputs": [
    {
     "name": "stdout",
     "output_type": "stream",
     "text": [
      "[0.1359284719999323, 2.320900717000086, 347.96424793700044]\n"
     ]
    },
    {
     "data": {
      "image/png": "[encoded data removed]",
      "text/plain": [
       "<Figure size 432x288 with 1 Axes>"
      ]
     },
     "metadata": {
      "needs_background": "light"
     },
     "output_type": "display_data"
    }
   ],
   "source": [
    "print(times[3])\n",
    "plt.plot(N, times[3])\n",
    "plt.xticks(N)\n",
    "plt.title(\"Tempos de Execução\")\n",
    "plt.ylabel(\"Segundos\")\n",
    "plt.xlabel(\"N\")\n",
    "plt.grid(True)"
   ]
  },
  {
   "cell_type": "markdown",
   "id": "6648fc2d",
   "metadata": {},
   "source": [
    "### Nota"
   ]
  },
  {
   "cell_type": "markdown",
   "id": "3588505a",
   "metadata": {},
   "source": [
    "Para $N = 5$ a função demora varios minutos a executar, pelo que para $N \\geq 5$ ainda vai ser mais lento, o que deve ser provocado pelo ao facto de as soluções terem complexidade exponencial em $N$. Se fizermos uma analise ao número de variaveis em função de $N$ verificamos que:<br>\n",
    "- Para gerar a grelha temos $N^6 - N$ variaveis.\n",
    "- Para resolver o sudoku temos $N^6 \\times (1 - \\alpha)$ variaveis. "
   ]
  },
  {
   "cell_type": "code",
   "execution_count": null,
   "id": "21478acd",
   "metadata": {},
   "outputs": [],
   "source": []
  }
 ],
 "metadata": {
  "kernelspec": {
   "display_name": "Python 3 (ipykernel)",
   "language": "python",
   "name": "python3"
  },
  "language_info": {
   "codemirror_mode": {
    "name": "ipython",
    "version": 3
   },
   "file_extension": ".py",
   "mimetype": "text/x-python",
   "name": "python",
   "nbconvert_exporter": "python",
   "pygments_lexer": "ipython3",
   "version": "3.8.10"
  }
 },
 "nbformat": 4,
 "nbformat_minor": 5
}
