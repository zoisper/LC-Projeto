{
 "cells": [
  {
   "cell_type": "markdown",
   "id": "29e8575a",
   "metadata": {},
   "source": [
    "**Pedro Paulo da Costa Pereira - A88062**<br>\n",
    "**Tiago André Oliveira Leite - A91693**"
   ]
  },
  {
   "cell_type": "markdown",
   "id": "616a574e",
   "metadata": {},
   "source": [
    "# <center>TP1 Logica Computacional</center>"
   ]
  },
  {
   "cell_type": "markdown",
   "id": "38623c85",
   "metadata": {},
   "source": [
    "## Problema 2 - Sudoku\n",
    "Da definição do jogo “Sudoku” generalizado para a dimensão $N$; o problema tradicional corresponde ao caso $N=3$. O objetivo do Sudoku é preencher uma grelha de $\\,N^2\\times N^2\\,$ com inteiros positivos no intervalo $\\,1$ até $\\,N^2\\,$, satisfazendo as seguintes regras:<br><br>\n",
    "        - Cada inteiro no intervalo $\\,1$ até $\\,N^2\\,$ocorre  só uma vez em cada coluna, linha e secção $\\,N\\times N\\,$.<br><br>\n",
    "        - No início do jogo uma fração $\\,0\\leq 𝛼< 1\\,$ das $\\,N^4\\,$ casas da grelha são preenchidas de forma consistente com a regra anterior. "
   ]
  },
  {
   "cell_type": "markdown",
   "id": "1f389e0b",
   "metadata": {},
   "source": [
    "### Variaveis do Problema\n",
    "Para resolver o problema foram utilizadas $\\,N^2\\times N^2\\times N^2\\,$ variavies binarias, que nos premite verificar qual o número que vai ser colocado numa determinada linha e coluna da grelja do sudoku.<br>\n",
    "Assim sendo foi definido o seguinte grupo de variavies:<br>\n",
    "- $\\quad cube_{row,col,depth}$ - variavel que represena o número $depth + 1$ na linha $row$ e na coluna $col$.\n"
   ]
  },
  {
   "cell_type": "markdown",
   "id": "03b57f15",
   "metadata": {},
   "source": [
    "### Restrições\n",
    "- $\\forall_{row,col,row}$  $cube[(row,col,depth)] \\in \\{0,1\\}$<br>\n",
    "- $\\forall_{row,col}\\sum_{depth}$ $cube[(row,col,depth)] == 1$<br>\n",
    "- $\\forall_{row,depth}\\sum_{col}$ $cube[(row,col,depth)] == 1$<br>\n",
    "- $\\forall_{depth,col}\\sum_{row}$ $cube[(row,col,depth)] == 1$\n",
    "\n",
    "Seja $n$ uma secção  $\\,N\\times N\\,$ do cubo: <br>\n",
    "- $\\forall_{n_{row},n_{col}}\\sum_{depth}$ $cube[(n_{row},n_{col},depth)] == 1$<br>\n",
    "- $\\forall_{n_{row},depth}\\sum_{n_{row}}$ $cube[(n_{row},n_{col},depth)] == 1$<br>\n",
    "- $\\forall_{depth,n_{col}}\\sum_{n_{row}}$ $cube[(n_{row},n_{col},depth)] == 1$\n",
    "\n"
   ]
  },
  {
   "cell_type": "code",
   "execution_count": 5,
   "id": "770ac669",
   "metadata": {},
   "outputs": [],
   "source": [
    "import math\n",
    "import random\n",
    "import timeit\n",
    "import time\n",
    "from ortools.linear_solver import pywraplp\n",
    "import matplotlib.pyplot as plt"
   ]
  },
  {
   "cell_type": "markdown",
   "id": "7d3b9341",
   "metadata": {},
   "source": [
    "### Exemplo de sudoku"
   ]
  },
  {
   "cell_type": "markdown",
   "id": "35ef7d69",
   "metadata": {},
   "source": [
    "### Função que imprime a grelha do sudoku"
   ]
  },
  {
   "cell_type": "code",
   "execution_count": 6,
   "id": "7d424a46",
   "metadata": {},
   "outputs": [],
   "source": [
    "def print_sudoku(sudoku):\n",
    "    grid = 0 \n",
    "    l = len(sudoku)\n",
    "    n = int(math.sqrt(l))\n",
    "    pad = 1 + l // 10\n",
    "    r = (l + n) * (pad + 1)  +1\n",
    "    if n > 4 and not grid:\n",
    "        for i in range(l):\n",
    "            for j in range(l):\n",
    "                print(f'{sudoku[i][j]}'.ljust(pad), end = \" \")\n",
    "            print('')\n",
    "        return \n",
    "                \n",
    "    for i in range(l):\n",
    "        if i % n == 0:\n",
    "            print(\"-\"*r)\n",
    "        for j in range(l):\n",
    "            if  j % n == 0:\n",
    "                print(\"|\".ljust(pad), end = \" \")\n",
    "            print(f'{sudoku[i][j]}'.ljust(pad), end = \" \")\n",
    "            if  j == l-1:\n",
    "                print(\"|\".ljust(pad), end = \" \")\n",
    "        print('')\n",
    "    print(\"-\" * r)"
   ]
  },
  {
   "cell_type": "markdown",
   "id": "a51210ba",
   "metadata": {},
   "source": [
    "### Função auxiliar que converte o resultado do solver numa matriz"
   ]
  },
  {
   "cell_type": "code",
   "execution_count": 7,
   "id": "d22b6ef2",
   "metadata": {},
   "outputs": [],
   "source": [
    "def converter(cube,dim):\n",
    "    mat = [[0 for a in range(dim)] for b in range(dim) ]\n",
    "    for row in range(dim):\n",
    "        for col in range(dim):\n",
    "            for depth in range(dim):\n",
    "                if cube[(row,col,depth)].solution_value() == 1:\n",
    "                    mat[row][col] = depth + 1\n",
    "    return mat"
   ]
  },
  {
   "cell_type": "markdown",
   "id": "5aeb3e1a",
   "metadata": {},
   "source": [
    "### Função que inicializa a grelha do sudoku\n",
    "Recebe como parametros a dimensão $N$ e a fracção $0 ≤ α < 1$ de casas que sao preenchidas. Para tal coloca $N$ números aletorios e depois tenta resolver o sudoku. De seguida apaga o número de números necessários para satisfazer α"
   ]
  },
  {
   "cell_type": "code",
   "execution_count": 80,
   "id": "c49d1b6b",
   "metadata": {},
   "outputs": [],
   "source": [
    "def sudoku_generator(N, alpha):\n",
    "    dim = N*N\n",
    "    delete = int(dim * dim * (1-alpha))\n",
    "    num_squares = int(math.sqrt(dim))\n",
    "    solver = pywraplp.Solver.CreateSolver('SCIP')\n",
    "    cube = {}\n",
    "    \n",
    "    if alpha == 0:\n",
    "        mat = [[0 for c in range(dim)] for r in range(dim)]\n",
    "        return mat\n",
    "    \n",
    "    \n",
    "    for row in range(dim):\n",
    "        for col in range(dim):\n",
    "            for depth in range(dim):\n",
    "                cube[(row,col,depth)] = solver.BoolVar('%i%i%i' % (row,col,depth))\n",
    "\n",
    "    for row in range(dim):\n",
    "        for col in range(dim):\n",
    "            val = []\n",
    "            for depth in range(dim):\n",
    "                val.append(cube[(row,col,depth)])\n",
    "            solver.Add(sum(val) == 1)\n",
    "\n",
    "    for row in range(dim):\n",
    "        for depth in range(dim):\n",
    "            val = []\n",
    "            for col in range(dim):\n",
    "                val.append(cube[(row,col,depth)])\n",
    "            solver.Add(sum(val) == 1)\n",
    "\n",
    "    for depth in range(dim):\n",
    "        for col in range(dim):\n",
    "            val = []\n",
    "            for row in range(dim):\n",
    "                val.append(cube[(row, col, depth)])\n",
    "            solver.Add(sum(val) == 1)\n",
    "\n",
    "    for i in range(dim):\n",
    "        corner_y = i - i % N\n",
    "        for j in range(dim):\n",
    "            corner_x = j - j % N\n",
    "            for depth in range(dim):\n",
    "                val = []\n",
    "                for row in range(N):\n",
    "                    for col in range(N):\n",
    "                        val.append(cube[corner_y + row, corner_x + col, depth])\n",
    "                solver.Add(sum(val) == 1)\n",
    "\n",
    "    for i in range(N):\n",
    "        randoms = []\n",
    "        row = random.randint(0,dim-1)\n",
    "        col = random.randint(0,dim-1)\n",
    "        depth = random.randint(1, dim - 1)\n",
    "        while (row,col) in randoms:\n",
    "            row = random.randint(0,dim-1)\n",
    "            col = random.randint(0,dim-1)\n",
    "        solver.Add(cube[(row,col,depth)] == 1)\n",
    "    \n",
    "    status = solver.Solve()\n",
    "    if status == pywraplp.Solver.OPTIMAL:\n",
    "        mat = converter(cube, dim)\n",
    "        while(delete > 0):\n",
    "            row = random.randint(0,dim-1)\n",
    "            col = random.randint(0,dim-1)\n",
    "            while mat[row][col] == 0:\n",
    "                row = random.randint(0, dim-1)\n",
    "                col = random.randint(0, dim-1)\n",
    "            mat[row][col] = 0\n",
    "            delete -=1\n",
    "        \n",
    "        return mat\n",
    "    else:\n",
    "        return False"
   ]
  },
  {
   "cell_type": "code",
   "execution_count": 85,
   "id": "df1bdaf6",
   "metadata": {},
   "outputs": [
    {
     "name": "stdout",
     "output_type": "stream",
     "text": [
      "-------------------------\n",
      "| 0 0 0 | 4 5 0 | 0 0 8 | \n",
      "| 4 0 0 | 0 0 0 | 0 0 0 | \n",
      "| 0 0 9 | 0 0 0 | 0 0 0 | \n",
      "-------------------------\n",
      "| 0 1 0 | 0 0 0 | 0 0 9 | \n",
      "| 0 0 0 | 0 0 0 | 2 0 0 | \n",
      "| 7 0 0 | 0 0 0 | 0 0 0 | \n",
      "-------------------------\n",
      "| 5 3 0 | 0 0 2 | 8 0 0 | \n",
      "| 0 0 0 | 0 0 0 | 0 3 0 | \n",
      "| 0 0 2 | 0 0 0 | 0 5 1 | \n",
      "-------------------------\n"
     ]
    }
   ],
   "source": [
    "mat = sudoku_generator(3,0.2)\n",
    "if mat:\n",
    "    print_sudoku(mat)\n"
   ]
  },
  {
   "cell_type": "markdown",
   "id": "566b0b24",
   "metadata": {},
   "source": [
    "### Outra forma de inicializar o sudoku mas que produz sudokus impossiveis"
   ]
  },
  {
   "cell_type": "code",
   "execution_count": 15,
   "id": "6602ea78",
   "metadata": {},
   "outputs": [],
   "source": [
    "def check(sudoku, row, column, number):\n",
    "    if number in sudoku[row]:\n",
    "        return False\n",
    "    for r in sudoku:\n",
    "        if r[column] == number:\n",
    "            return False\n",
    "    n = int(math.sqrt(len(sudoku)))\n",
    "    r = (row // n) * n\n",
    "    c = (column // n) * n\n",
    "    for i in range(n):\n",
    "        for j in range(n):\n",
    "            if sudoku[r+i][c+j] == number:\n",
    "                return False\n",
    "    return True\n",
    "\n",
    "def sudoku_generator_simple(N, alpha):\n",
    "    dim = N*N\n",
    "    filled = int(dim * dim * alpha)\n",
    "    mat = [[0 for a in range(dim)] for a in range(dim)]\n",
    "    while(filled > 0):\n",
    "        row = random.randint(0,dim-1)\n",
    "        col = random.randint(0,dim-1)\n",
    "        number = random.randint(1, dim - 1)\n",
    "        while(mat[row][col] != 0 or not check(mat,row,col,number)):\n",
    "            row = random.randint(0, dim-1)\n",
    "            col = random.randint(0, dim-1)\n",
    "            number = random.randint(1,dim-1)\n",
    "        mat[row][col] = number\n",
    "        filled -=1\n",
    "\n",
    "    return mat"
   ]
  },
  {
   "cell_type": "code",
   "execution_count": 16,
   "id": "5d2eaa06",
   "metadata": {},
   "outputs": [
    {
     "name": "stdout",
     "output_type": "stream",
     "text": [
      "0   0   0   0   0   4   0   0   1   0   0   0   3   0   0   0   0   0   12  0   0   0   0   0   0   \n",
      "0   0   0   11  0   0   0   0   0   0   17  0   5   0   6   0   0   0   0   0   0   0   8   0   12  \n",
      "0   0   0   0   0   0   21  0   0   22  0   0   7   0   0   0   0   20  10  1   0   0   19  0   0   \n",
      "0   6   0   16  0   0   0   0   9   0   0   0   0   0   0   0   0   0   3   0   0   0   22  5   0   \n",
      "0   0   21  0   0   0   0   0   0   0   0   0   0   0   0   0   0   16  0   14  0   0   0   0   0   \n",
      "0   0   0   24  0   0   0   0   0   0   0   0   0   0   0   8   14  0   0   0   5   0   23  0   20  \n",
      "0   0   0   0   7   0   0   0   0   18  0   0   0   15  0   0   0   0   0   0   8   0   0   3   14  \n",
      "15  0   0   0   0   0   0   19  0   0   0   0   0   0   0   0   1   0   0   0   0   0   0   0   4   \n",
      "0   0   0   21  0   0   24  0   0   0   0   0   0   0   0   23  0   0   0   0   0   0   10  0   0   \n",
      "0   22  1   2   0   0   0   9   14  8   0   0   0   0   0   24  0   0   15  0   0   0   0   0   0   \n",
      "0   0   0   0   0   17  6   0   0   0   0   0   0   5   12  0   0   0   0   0   0   24  21  0   0   \n",
      "21  0   0   0   14  0   22  3   0   0   0   0   0   0   0   9   0   13  1   0   0   2   17  0   0   \n",
      "0   0   0   0   0   0   0   1   0   0   0   23  0   0   0   0   20  0   0   0   0   0   0   0   0   \n",
      "10  0   0   12  0   0   0   0   0   0   0   0   0   0   0   0   11  23  7   0   0   0   0   0   0   \n",
      "0   0   0   0   0   0   0   0   5   0   0   0   0   0   0   0   0   0   0   2   13  0   0   0   0   \n",
      "0   24  0   0   11  0   0   6   0   0   0   0   0   0   0   0   0   0   0   0   20  21  0   9   0   \n",
      "0   5   0   0   22  0   0   0   0   0   0   0   1   0   0   0   0   0   0   0   0   0   0   0   13  \n",
      "6   7   0   0   0   0   0   8   0   0   0   0   0   0   22  0   0   0   0   0   0   0   0   0   0   \n",
      "0   15  2   0   0   0   0   0   0   0   0   0   0   7   0   0   0   0   0   0   0   0   0   0   0   \n",
      "0   0   0   0   0   16  0   0   0   0   0   0   0   0   0   0   0   10  0   23  6   0   0   0   0   \n",
      "0   0   13  0   0   0   2   0   0   0   0   0   16  0   0   0   0   0   0   0   0   0   0   0   0   \n",
      "0   0   0   0   0   0   8   15  0   0   0   0   0   0   0   0   0   14  0   0   0   0   0   0   0   \n",
      "0   4   0   0   0   0   0   0   0   17  10  0   0   0   8   0   0   0   0   9   0   0   0   0   0   \n",
      "0   0   0   20  0   0   0   0   0   0   0   0   0   0   3   0   7   0   0   0   0   0   1   18  0   \n",
      "0   0   0   0   0   18  0   0   0   5   0   20  0   24  0   0   0   8   6   0   0   0   0   11  22  \n"
     ]
    }
   ],
   "source": [
    "mat = sudoku_generator_simple(5,0.2)\n",
    "if mat:\n",
    "    print_sudoku(mat)"
   ]
  },
  {
   "cell_type": "markdown",
   "id": "8e447a43",
   "metadata": {},
   "source": [
    "### Função que resolve o sudoku"
   ]
  },
  {
   "cell_type": "code",
   "execution_count": 10,
   "id": "fd6faaaa",
   "metadata": {},
   "outputs": [],
   "source": [
    "def sudoku_solver(sudoku):\n",
    "    solver = pywraplp.Solver.CreateSolver('SCIP')\n",
    "    dim = len(sudoku)\n",
    "    num_squares = int(math.sqrt(dim))\n",
    "    cube = {}\n",
    "\n",
    "    for row in range(dim):\n",
    "        for col in range(dim):\n",
    "            for depth in range(dim):\n",
    "                cube[(row,col,depth)] = solver.BoolVar('%i%i%i' % (row,col,depth))\n",
    "\n",
    "\n",
    "    for row in range(dim):\n",
    "        for col in range(dim):\n",
    "            val = []\n",
    "            for depth in range(dim):\n",
    "                val.append(cube[(row,col,depth)])\n",
    "            solver.Add(sum(val) == 1)\n",
    "\n",
    "    for row in range(dim):\n",
    "        for depth in range(dim):\n",
    "            val = []\n",
    "            for col in range(dim):\n",
    "                val.append(cube[(row,col,depth)])\n",
    "            solver.Add(sum(val) == 1)\n",
    "\n",
    "    for depth in range(dim):\n",
    "        for col in range(dim):\n",
    "            val = []\n",
    "            for row in range(dim):\n",
    "                val.append(cube[(row, col, depth)])\n",
    "            solver.Add(sum(val) == 1)\n",
    "\n",
    "    for i in range(dim):\n",
    "        corner_y = i - i % num_squares\n",
    "        for j in range(dim):\n",
    "            corner_x = j - j % num_squares\n",
    "            for depth in range(dim):\n",
    "                val = []\n",
    "                for row in range(num_squares):\n",
    "                    for col in range(num_squares):\n",
    "                        val.append(cube[corner_y + row, corner_x + col, depth])\n",
    "                solver.Add(sum(val) == 1)\n",
    "\n",
    "    for i in range(dim):\n",
    "        for j in range(dim):\n",
    "            if sudoku[i][j] != 0:\n",
    "                solver.Add(cube[(i,j,sudoku[i][j]-1)] == 1)\n",
    "\n",
    "\n",
    "    status = solver.Solve()\n",
    "    mat = converter(cube, dim)\n",
    "    if status == pywraplp.Solver.OPTIMAL:\n",
    "        return mat\n",
    "    else:\n",
    "        return False"
   ]
  },
  {
   "cell_type": "markdown",
   "id": "489cc6f3",
   "metadata": {},
   "source": [
    "### Testes"
   ]
  },
  {
   "cell_type": "code",
   "execution_count": 23,
   "id": "b93e22e3",
   "metadata": {},
   "outputs": [],
   "source": [
    "def test_sudoku(N, alpha):\n",
    "    mat = sudoku_generator(N, alpha)\n",
    "    print(\"Sudoku\")\n",
    "    print_sudoku(mat)\n",
    "    print(\"\")\n",
    "    mat = sudoku_solver(mat)\n",
    "    if mat:\n",
    "        print(\"Solução\")\n",
    "        print_sudoku(mat)\n",
    "        print(\"\")\n",
    "    "
   ]
  },
  {
   "cell_type": "code",
   "execution_count": 39,
   "id": "106fb6e7",
   "metadata": {},
   "outputs": [],
   "source": [
    "N = [1,2,3]\n",
    "times = [[0 for n in N] for n in N]"
   ]
  },
  {
   "cell_type": "markdown",
   "id": "7adc4b10",
   "metadata": {},
   "source": [
    "### $\\alpha = 0.0$"
   ]
  },
  {
   "cell_type": "markdown",
   "id": "e5a63183",
   "metadata": {},
   "source": [
    "#### $N = 3$"
   ]
  },
  {
   "cell_type": "code",
   "execution_count": 71,
   "id": "d96b8a57",
   "metadata": {
    "scrolled": false
   },
   "outputs": [
    {
     "name": "stdout",
     "output_type": "stream",
     "text": [
      "Sudoku\n",
      "-------------------------\n",
      "| 0 0 0 | 0 0 0 | 0 0 0 | \n",
      "| 0 0 0 | 0 0 0 | 0 0 0 | \n",
      "| 0 0 0 | 0 0 0 | 0 0 0 | \n",
      "-------------------------\n",
      "| 0 0 0 | 0 0 0 | 0 0 0 | \n",
      "| 0 0 0 | 0 0 0 | 0 0 0 | \n",
      "| 0 0 0 | 0 0 0 | 0 0 0 | \n",
      "-------------------------\n",
      "| 0 0 0 | 0 0 0 | 0 0 0 | \n",
      "| 0 0 0 | 0 0 0 | 0 0 0 | \n",
      "| 0 0 0 | 0 0 0 | 0 0 0 | \n",
      "-------------------------\n",
      "\n",
      "Solução\n",
      "-------------------------\n",
      "| 1 2 3 | 4 5 6 | 8 7 9 | \n",
      "| 8 9 7 | 1 2 3 | 4 5 6 | \n",
      "| 6 4 5 | 7 8 9 | 1 2 3 | \n",
      "-------------------------\n",
      "| 7 1 2 | 3 4 5 | 6 9 8 | \n",
      "| 9 5 6 | 2 1 8 | 3 4 7 | \n",
      "| 4 3 8 | 6 9 7 | 2 1 5 | \n",
      "-------------------------\n",
      "| 5 8 1 | 9 3 2 | 7 6 4 | \n",
      "| 3 7 4 | 5 6 1 | 9 8 2 | \n",
      "| 2 6 9 | 8 7 4 | 5 3 1 | \n",
      "-------------------------\n",
      "\n"
     ]
    },
    {
     "data": {
      "text/plain": [
       "0.17216764199974932"
      ]
     },
     "execution_count": 71,
     "metadata": {},
     "output_type": "execute_result"
    }
   ],
   "source": [
    "times[0][0] = timeit.timeit(stmt='test_sudoku(3,0.0)', setup='from __main__ import test_sudoku',number=1 )\n",
    "times[0][0]"
   ]
  },
  {
   "cell_type": "markdown",
   "id": "f74464d1",
   "metadata": {},
   "source": [
    "#### $N = 4$"
   ]
  },
  {
   "cell_type": "code",
   "execution_count": 50,
   "id": "e3da15e2",
   "metadata": {
    "scrolled": false
   },
   "outputs": [
    {
     "name": "stdout",
     "output_type": "stream",
     "text": [
      "Sudoku\n",
      "-------------------------------------------------------------\n",
      "|  0  0  0  0  |  0  0  0  0  |  0  0  0  0  |  0  0  0  0  |  \n",
      "|  0  0  0  0  |  0  0  0  0  |  0  0  0  0  |  0  0  0  0  |  \n",
      "|  0  0  0  0  |  0  0  0  0  |  0  0  0  0  |  0  0  0  0  |  \n",
      "|  0  0  0  0  |  0  0  0  0  |  0  0  0  0  |  0  0  0  0  |  \n",
      "-------------------------------------------------------------\n",
      "|  0  0  0  0  |  0  0  0  0  |  0  0  0  0  |  0  0  0  0  |  \n",
      "|  0  0  0  0  |  0  0  0  0  |  0  0  0  0  |  0  0  0  0  |  \n",
      "|  0  0  0  0  |  0  0  0  0  |  0  0  0  0  |  0  0  0  0  |  \n",
      "|  0  0  0  0  |  0  0  0  0  |  0  0  0  0  |  0  0  0  0  |  \n",
      "-------------------------------------------------------------\n",
      "|  0  0  0  0  |  0  0  0  0  |  0  0  0  0  |  0  0  0  0  |  \n",
      "|  0  0  0  0  |  0  0  0  0  |  0  0  0  0  |  0  0  0  0  |  \n",
      "|  0  0  0  0  |  0  0  0  0  |  0  0  0  0  |  0  0  0  0  |  \n",
      "|  0  0  0  0  |  0  0  0  0  |  0  0  0  0  |  0  0  0  0  |  \n",
      "-------------------------------------------------------------\n",
      "|  0  0  0  0  |  0  0  0  0  |  0  0  0  0  |  0  0  0  0  |  \n",
      "|  0  0  0  0  |  0  0  0  0  |  0  0  0  0  |  0  0  0  0  |  \n",
      "|  0  0  0  0  |  0  0  0  0  |  0  0  0  0  |  0  0  0  0  |  \n",
      "|  0  0  0  0  |  0  0  0  0  |  0  0  0  0  |  0  0  0  0  |  \n",
      "-------------------------------------------------------------\n",
      "\n",
      "Solução\n",
      "-------------------------------------------------------------\n",
      "|  1  2  3  4  |  5  6  7  8  |  9  10 11 12 |  13 14 15 16 |  \n",
      "|  5  6  7  13 |  1  2  3  4  |  8  14 15 16 |  9  10 11 12 |  \n",
      "|  9  10 11 12 |  13 14 15 16 |  1  2  3  4  |  5  6  7  8  |  \n",
      "|  8  14 15 16 |  9  10 11 12 |  5  6  7  13 |  1  2  3  4  |  \n",
      "-------------------------------------------------------------\n",
      "|  4  1  2  3  |  6  5  8  7  |  10 9  12 11 |  14 13 16 15 |  \n",
      "|  6  7  5  14 |  2  1  4  3  |  13 8  16 15 |  12 9  10 11 |  \n",
      "|  10 12 13 9  |  11 16 14 15 |  2  1  4  3  |  6  5  8  7  |  \n",
      "|  15 8  16 11 |  12 9  10 13 |  6  5  14 7  |  2  1  4  3  |  \n",
      "-------------------------------------------------------------\n",
      "|  14 3  1  2  |  4  7  5  6  |  12 15 8  9  |  16 11 13 10 |  \n",
      "|  16 11 4  5  |  3  8  1  2  |  7  13 6  10 |  15 12 9  14 |  \n",
      "|  13 15 12 10 |  16 11 9  14 |  3  4  1  2  |  7  8  5  6  |  \n",
      "|  7  9  8  6  |  15 12 13 10 |  11 16 5  14 |  3  4  1  2  |  \n",
      "-------------------------------------------------------------\n",
      "|  12 16 10 1  |  7  3  2  5  |  4  11 9  6  |  8  15 14 13 |  \n",
      "|  11 13 9  7  |  14 4  12 1  |  15 3  2  8  |  10 16 6  5  |  \n",
      "|  3  5  14 15 |  8  13 6  11 |  16 12 10 1  |  4  7  2  9  |  \n",
      "|  2  4  6  8  |  10 15 16 9  |  14 7  13 5  |  11 3  12 1  |  \n",
      "-------------------------------------------------------------\n",
      "\n"
     ]
    },
    {
     "data": {
      "text/plain": [
       "1.9958298099998046"
      ]
     },
     "execution_count": 50,
     "metadata": {},
     "output_type": "execute_result"
    }
   ],
   "source": [
    "times[0][1] = timeit.timeit(stmt='test_sudoku(4,0.0)', setup='from __main__ import test_sudoku',number=1)\n",
    "times[0][1]"
   ]
  },
  {
   "cell_type": "markdown",
   "id": "216b4667",
   "metadata": {},
   "source": [
    "#### $N = 5$"
   ]
  },
  {
   "cell_type": "code",
   "execution_count": 51,
   "id": "4569fe68",
   "metadata": {},
   "outputs": [
    {
     "name": "stdout",
     "output_type": "stream",
     "text": [
      "Sudoku\n",
      "0   0   0   0   0   0   0   0   0   0   0   0   0   0   0   0   0   0   0   0   0   0   0   0   0   \n",
      "0   0   0   0   0   0   0   0   0   0   0   0   0   0   0   0   0   0   0   0   0   0   0   0   0   \n",
      "0   0   0   0   0   0   0   0   0   0   0   0   0   0   0   0   0   0   0   0   0   0   0   0   0   \n",
      "0   0   0   0   0   0   0   0   0   0   0   0   0   0   0   0   0   0   0   0   0   0   0   0   0   \n",
      "0   0   0   0   0   0   0   0   0   0   0   0   0   0   0   0   0   0   0   0   0   0   0   0   0   \n",
      "0   0   0   0   0   0   0   0   0   0   0   0   0   0   0   0   0   0   0   0   0   0   0   0   0   \n",
      "0   0   0   0   0   0   0   0   0   0   0   0   0   0   0   0   0   0   0   0   0   0   0   0   0   \n",
      "0   0   0   0   0   0   0   0   0   0   0   0   0   0   0   0   0   0   0   0   0   0   0   0   0   \n",
      "0   0   0   0   0   0   0   0   0   0   0   0   0   0   0   0   0   0   0   0   0   0   0   0   0   \n",
      "0   0   0   0   0   0   0   0   0   0   0   0   0   0   0   0   0   0   0   0   0   0   0   0   0   \n",
      "0   0   0   0   0   0   0   0   0   0   0   0   0   0   0   0   0   0   0   0   0   0   0   0   0   \n",
      "0   0   0   0   0   0   0   0   0   0   0   0   0   0   0   0   0   0   0   0   0   0   0   0   0   \n",
      "0   0   0   0   0   0   0   0   0   0   0   0   0   0   0   0   0   0   0   0   0   0   0   0   0   \n",
      "0   0   0   0   0   0   0   0   0   0   0   0   0   0   0   0   0   0   0   0   0   0   0   0   0   \n",
      "0   0   0   0   0   0   0   0   0   0   0   0   0   0   0   0   0   0   0   0   0   0   0   0   0   \n",
      "0   0   0   0   0   0   0   0   0   0   0   0   0   0   0   0   0   0   0   0   0   0   0   0   0   \n",
      "0   0   0   0   0   0   0   0   0   0   0   0   0   0   0   0   0   0   0   0   0   0   0   0   0   \n",
      "0   0   0   0   0   0   0   0   0   0   0   0   0   0   0   0   0   0   0   0   0   0   0   0   0   \n",
      "0   0   0   0   0   0   0   0   0   0   0   0   0   0   0   0   0   0   0   0   0   0   0   0   0   \n",
      "0   0   0   0   0   0   0   0   0   0   0   0   0   0   0   0   0   0   0   0   0   0   0   0   0   \n",
      "0   0   0   0   0   0   0   0   0   0   0   0   0   0   0   0   0   0   0   0   0   0   0   0   0   \n",
      "0   0   0   0   0   0   0   0   0   0   0   0   0   0   0   0   0   0   0   0   0   0   0   0   0   \n",
      "0   0   0   0   0   0   0   0   0   0   0   0   0   0   0   0   0   0   0   0   0   0   0   0   0   \n",
      "0   0   0   0   0   0   0   0   0   0   0   0   0   0   0   0   0   0   0   0   0   0   0   0   0   \n",
      "0   0   0   0   0   0   0   0   0   0   0   0   0   0   0   0   0   0   0   0   0   0   0   0   0   \n",
      "\n",
      "Solução\n",
      "16  7   23  18  10  19  6   4   11  5   17  21  2   22  9   25  1   24  15  3   13  8   14  20  12  \n",
      "21  20  4   9   12  10  17  2   13  1   24  23  15  16  25  7   14  18  22  8   6   11  19  5   3   \n",
      "15  17  5   14  22  24  7   8   25  23  20  12  6   3   11  16  13  19  21  10  2   1   18  9   4   \n",
      "11  2   24  25  19  3   14  18  15  20  8   1   5   13  4   12  23  9   6   17  21  16  7   22  10  \n",
      "1   8   6   3   13  22  21  16  9   12  7   14  19  18  10  5   20  11  2   4   15  23  17  24  25  \n",
      "17  18  8   19  2   11  25  9   5   13  21  22  10  6   16  23  15  4   7   24  12  14  3   1   20  \n",
      "7   5   15  13  1   12  22  24  6   19  11  2   23  8   18  10  3   16  20  14  4   25  21  17  9   \n",
      "3   6   9   11  4   15  23  21  14  2   25  13  12  20  24  1   19  17  8   18  7   10  22  16  5   \n",
      "25  24  12  10  16  20  4   3   7   8   9   17  1   14  15  21  2   22  13  5   11  19  6   23  18  \n",
      "22  14  20  21  23  18  1   10  17  16  4   19  3   7   5   9   6   25  12  11  8   2   15  13  24  \n",
      "6   13  10  16  3   2   19  15  1   9   12  20  14  25  17  24  7   21  18  22  23  4   5   8   11  \n",
      "20  21  14  22  15  25  11  17  4   6   16  8   18  5   3   19  9   12  23  13  1   24  10  7   2   \n",
      "12  4   18  24  17  13  3   22  20  7   10  15  21  2   23  11  25  8   5   1   16  6   9   14  19  \n",
      "23  19  2   8   11  14  12  5   18  24  13  9   22  1   7   6   10  15  4   16  17  3   20  25  21  \n",
      "9   1   7   5   25  21  8   23  16  10  19  11  24  4   6   20  17  14  3   2   18  22  13  12  15  \n",
      "14  3   1   4   8   16  15  7   19  11  6   24  20  23  21  18  22  10  17  9   25  5   12  2   13  \n",
      "24  9   16  12  7   6   18  13  2   25  1   5   4   19  22  15  8   3   11  21  14  20  23  10  17  \n",
      "19  11  25  2   20  5   10  12  22  17  18  7   13  15  8   4   16  6   14  23  3   9   24  21  1   \n",
      "5   10  17  23  6   4   24  1   21  14  3   25  9   11  2   13  12  20  19  7   22  15  8   18  16  \n",
      "18  22  13  15  21  8   9   20  23  3   14  10  16  17  12  2   24  5   1   25  19  7   11  4   6   \n",
      "13  15  11  17  5   9   16  19  24  18  22  6   7   21  1   14  4   23  25  20  10  12  2   3   8   \n",
      "10  25  22  20  24  7   2   11  3   4   23  16  17  12  19  8   21  13  9   6   5   18  1   15  14  \n",
      "4   12  19  7   18  1   20  14  8   22  5   3   25  9   13  17  11  2   10  15  24  21  16  6   23  \n",
      "2   16  3   6   9   23  13  25  12  21  15  18  8   10  14  22  5   1   24  19  20  17  4   11  7   \n",
      "8   23  21  1   14  17  5   6   10  15  2   4   11  24  20  3   18  7   16  12  9   13  25  19  22  \n",
      "\n"
     ]
    },
    {
     "data": {
      "text/plain": [
       "701.8026671130001"
      ]
     },
     "execution_count": 51,
     "metadata": {},
     "output_type": "execute_result"
    }
   ],
   "source": [
    "times[0][2] = timeit.timeit(stmt='test_sudoku(5,0.0)', setup='from __main__ import test_sudoku',number=1)\n",
    "times[0][2]"
   ]
  },
  {
   "cell_type": "markdown",
   "id": "c75ff070",
   "metadata": {},
   "source": [
    "#### Tempos de Execução"
   ]
  },
  {
   "cell_type": "code",
   "execution_count": 72,
   "id": "bbb9b5ca",
   "metadata": {},
   "outputs": [
    {
     "name": "stdout",
     "output_type": "stream",
     "text": [
      "[0.17216764199974932, 1.9958298099998046, 701.8026671130001]\n"
     ]
    },
    {
     "data": {
      "image/png": "[encoded data removed]",
      "text/plain": [
       "<Figure size 432x288 with 1 Axes>"
      ]
     },
     "metadata": {
      "needs_background": "light"
     },
     "output_type": "display_data"
    }
   ],
   "source": [
    "print(times[0])\n",
    "plt.plot(N, times[0])\n",
    "plt.xticks(N)\n",
    "plt.title(\"Tempos de Execução\")\n",
    "plt.ylabel(\"Segundos\")\n",
    "plt.xlabel(\"N\")\n",
    "plt.grid(True)"
   ]
  },
  {
   "cell_type": "markdown",
   "id": "ee117146",
   "metadata": {},
   "source": [
    "### $\\alpha = 0.2$"
   ]
  },
  {
   "cell_type": "markdown",
   "id": "9a8b9b48",
   "metadata": {},
   "source": [
    "#### $N = 3$"
   ]
  },
  {
   "cell_type": "code",
   "execution_count": 70,
   "id": "a8ecd8c3",
   "metadata": {
    "scrolled": false
   },
   "outputs": [
    {
     "name": "stdout",
     "output_type": "stream",
     "text": [
      "Sudoku\n",
      "-------------------------\n",
      "| 0 0 0 | 0 0 0 | 0 0 0 | \n",
      "| 0 8 0 | 0 0 0 | 0 3 9 | \n",
      "| 0 0 4 | 0 0 0 | 7 0 0 | \n",
      "-------------------------\n",
      "| 0 0 0 | 0 2 1 | 0 6 0 | \n",
      "| 3 0 2 | 0 0 0 | 0 0 0 | \n",
      "| 0 0 0 | 0 5 0 | 0 0 0 | \n",
      "-------------------------\n",
      "| 0 0 0 | 0 3 0 | 0 2 4 | \n",
      "| 0 0 0 | 0 4 0 | 0 9 0 | \n",
      "| 0 0 0 | 0 9 0 | 0 0 0 | \n",
      "-------------------------\n",
      "\n",
      "Solução\n",
      "-------------------------\n",
      "| 1 2 3 | 4 7 9 | 5 8 6 | \n",
      "| 5 8 7 | 2 1 6 | 4 3 9 | \n",
      "| 6 9 4 | 3 8 5 | 7 1 2 | \n",
      "-------------------------\n",
      "| 4 5 8 | 7 2 1 | 9 6 3 | \n",
      "| 3 1 2 | 9 6 4 | 8 5 7 | \n",
      "| 7 6 9 | 8 5 3 | 2 4 1 | \n",
      "-------------------------\n",
      "| 9 7 1 | 5 3 8 | 6 2 4 | \n",
      "| 2 3 5 | 6 4 7 | 1 9 8 | \n",
      "| 8 4 6 | 1 9 2 | 3 7 5 | \n",
      "-------------------------\n",
      "\n"
     ]
    },
    {
     "data": {
      "text/plain": [
       "0.1423791369998071"
      ]
     },
     "execution_count": 70,
     "metadata": {},
     "output_type": "execute_result"
    }
   ],
   "source": [
    "times[1][0] = timeit.timeit(stmt='test_sudoku(3,0.2)', setup='from __main__ import test_sudoku',number=1 )\n",
    "times[1][0]"
   ]
  },
  {
   "cell_type": "markdown",
   "id": "b0e6fda6",
   "metadata": {},
   "source": [
    "#### $N = 4$"
   ]
  },
  {
   "cell_type": "code",
   "execution_count": 50,
   "id": "0bfff0ea",
   "metadata": {
    "scrolled": false
   },
   "outputs": [
    {
     "name": "stdout",
     "output_type": "stream",
     "text": [
      "Sudoku\n",
      "-------------------------------------------------------------\n",
      "|  0  0  0  0  |  0  0  0  0  |  0  0  0  0  |  0  0  0  0  |  \n",
      "|  0  0  0  0  |  0  0  0  0  |  0  0  0  0  |  0  0  0  0  |  \n",
      "|  0  0  0  0  |  0  0  0  0  |  0  0  0  0  |  0  0  0  0  |  \n",
      "|  0  0  0  0  |  0  0  0  0  |  0  0  0  0  |  0  0  0  0  |  \n",
      "-------------------------------------------------------------\n",
      "|  0  0  0  0  |  0  0  0  0  |  0  0  0  0  |  0  0  0  0  |  \n",
      "|  0  0  0  0  |  0  0  0  0  |  0  0  0  0  |  0  0  0  0  |  \n",
      "|  0  0  0  0  |  0  0  0  0  |  0  0  0  0  |  0  0  0  0  |  \n",
      "|  0  0  0  0  |  0  0  0  0  |  0  0  0  0  |  0  0  0  0  |  \n",
      "-------------------------------------------------------------\n",
      "|  0  0  0  0  |  0  0  0  0  |  0  0  0  0  |  0  0  0  0  |  \n",
      "|  0  0  0  0  |  0  0  0  0  |  0  0  0  0  |  0  0  0  0  |  \n",
      "|  0  0  0  0  |  0  0  0  0  |  0  0  0  0  |  0  0  0  0  |  \n",
      "|  0  0  0  0  |  0  0  0  0  |  0  0  0  0  |  0  0  0  0  |  \n",
      "-------------------------------------------------------------\n",
      "|  0  0  0  0  |  0  0  0  0  |  0  0  0  0  |  0  0  0  0  |  \n",
      "|  0  0  0  0  |  0  0  0  0  |  0  0  0  0  |  0  0  0  0  |  \n",
      "|  0  0  0  0  |  0  0  0  0  |  0  0  0  0  |  0  0  0  0  |  \n",
      "|  0  0  0  0  |  0  0  0  0  |  0  0  0  0  |  0  0  0  0  |  \n",
      "-------------------------------------------------------------\n",
      "\n",
      "Solução\n",
      "-------------------------------------------------------------\n",
      "|  1  2  3  4  |  5  6  7  8  |  9  10 11 12 |  13 14 15 16 |  \n",
      "|  5  6  7  13 |  1  2  3  4  |  8  14 15 16 |  9  10 11 12 |  \n",
      "|  9  10 11 12 |  13 14 15 16 |  1  2  3  4  |  5  6  7  8  |  \n",
      "|  8  14 15 16 |  9  10 11 12 |  5  6  7  13 |  1  2  3  4  |  \n",
      "-------------------------------------------------------------\n",
      "|  4  1  2  3  |  6  5  8  7  |  10 9  12 11 |  14 13 16 15 |  \n",
      "|  6  7  5  14 |  2  1  4  3  |  13 8  16 15 |  12 9  10 11 |  \n",
      "|  10 12 13 9  |  11 16 14 15 |  2  1  4  3  |  6  5  8  7  |  \n",
      "|  15 8  16 11 |  12 9  10 13 |  6  5  14 7  |  2  1  4  3  |  \n",
      "-------------------------------------------------------------\n",
      "|  14 3  1  2  |  4  7  5  6  |  12 15 8  9  |  16 11 13 10 |  \n",
      "|  16 11 4  5  |  3  8  1  2  |  7  13 6  10 |  15 12 9  14 |  \n",
      "|  13 15 12 10 |  16 11 9  14 |  3  4  1  2  |  7  8  5  6  |  \n",
      "|  7  9  8  6  |  15 12 13 10 |  11 16 5  14 |  3  4  1  2  |  \n",
      "-------------------------------------------------------------\n",
      "|  12 16 10 1  |  7  3  2  5  |  4  11 9  6  |  8  15 14 13 |  \n",
      "|  11 13 9  7  |  14 4  12 1  |  15 3  2  8  |  10 16 6  5  |  \n",
      "|  3  5  14 15 |  8  13 6  11 |  16 12 10 1  |  4  7  2  9  |  \n",
      "|  2  4  6  8  |  10 15 16 9  |  14 7  13 5  |  11 3  12 1  |  \n",
      "-------------------------------------------------------------\n",
      "\n"
     ]
    },
    {
     "data": {
      "text/plain": [
       "1.9958298099998046"
      ]
     },
     "execution_count": 50,
     "metadata": {},
     "output_type": "execute_result"
    }
   ],
   "source": [
    "times[1][1] = timeit.timeit(stmt='test_sudoku(4,0.2)', setup='from __main__ import test_sudoku',number=1)\n",
    "times[1][1]"
   ]
  },
  {
   "cell_type": "markdown",
   "id": "7340d370",
   "metadata": {},
   "source": [
    "#### $N = 5$"
   ]
  },
  {
   "cell_type": "code",
   "execution_count": 51,
   "id": "f30a4e69",
   "metadata": {},
   "outputs": [
    {
     "name": "stdout",
     "output_type": "stream",
     "text": [
      "Sudoku\n",
      "0   0   0   0   0   0   0   0   0   0   0   0   0   0   0   0   0   0   0   0   0   0   0   0   0   \n",
      "0   0   0   0   0   0   0   0   0   0   0   0   0   0   0   0   0   0   0   0   0   0   0   0   0   \n",
      "0   0   0   0   0   0   0   0   0   0   0   0   0   0   0   0   0   0   0   0   0   0   0   0   0   \n",
      "0   0   0   0   0   0   0   0   0   0   0   0   0   0   0   0   0   0   0   0   0   0   0   0   0   \n",
      "0   0   0   0   0   0   0   0   0   0   0   0   0   0   0   0   0   0   0   0   0   0   0   0   0   \n",
      "0   0   0   0   0   0   0   0   0   0   0   0   0   0   0   0   0   0   0   0   0   0   0   0   0   \n",
      "0   0   0   0   0   0   0   0   0   0   0   0   0   0   0   0   0   0   0   0   0   0   0   0   0   \n",
      "0   0   0   0   0   0   0   0   0   0   0   0   0   0   0   0   0   0   0   0   0   0   0   0   0   \n",
      "0   0   0   0   0   0   0   0   0   0   0   0   0   0   0   0   0   0   0   0   0   0   0   0   0   \n",
      "0   0   0   0   0   0   0   0   0   0   0   0   0   0   0   0   0   0   0   0   0   0   0   0   0   \n",
      "0   0   0   0   0   0   0   0   0   0   0   0   0   0   0   0   0   0   0   0   0   0   0   0   0   \n",
      "0   0   0   0   0   0   0   0   0   0   0   0   0   0   0   0   0   0   0   0   0   0   0   0   0   \n",
      "0   0   0   0   0   0   0   0   0   0   0   0   0   0   0   0   0   0   0   0   0   0   0   0   0   \n",
      "0   0   0   0   0   0   0   0   0   0   0   0   0   0   0   0   0   0   0   0   0   0   0   0   0   \n",
      "0   0   0   0   0   0   0   0   0   0   0   0   0   0   0   0   0   0   0   0   0   0   0   0   0   \n",
      "0   0   0   0   0   0   0   0   0   0   0   0   0   0   0   0   0   0   0   0   0   0   0   0   0   \n",
      "0   0   0   0   0   0   0   0   0   0   0   0   0   0   0   0   0   0   0   0   0   0   0   0   0   \n",
      "0   0   0   0   0   0   0   0   0   0   0   0   0   0   0   0   0   0   0   0   0   0   0   0   0   \n",
      "0   0   0   0   0   0   0   0   0   0   0   0   0   0   0   0   0   0   0   0   0   0   0   0   0   \n",
      "0   0   0   0   0   0   0   0   0   0   0   0   0   0   0   0   0   0   0   0   0   0   0   0   0   \n",
      "0   0   0   0   0   0   0   0   0   0   0   0   0   0   0   0   0   0   0   0   0   0   0   0   0   \n",
      "0   0   0   0   0   0   0   0   0   0   0   0   0   0   0   0   0   0   0   0   0   0   0   0   0   \n",
      "0   0   0   0   0   0   0   0   0   0   0   0   0   0   0   0   0   0   0   0   0   0   0   0   0   \n",
      "0   0   0   0   0   0   0   0   0   0   0   0   0   0   0   0   0   0   0   0   0   0   0   0   0   \n",
      "0   0   0   0   0   0   0   0   0   0   0   0   0   0   0   0   0   0   0   0   0   0   0   0   0   \n",
      "\n",
      "Solução\n",
      "16  7   23  18  10  19  6   4   11  5   17  21  2   22  9   25  1   24  15  3   13  8   14  20  12  \n",
      "21  20  4   9   12  10  17  2   13  1   24  23  15  16  25  7   14  18  22  8   6   11  19  5   3   \n",
      "15  17  5   14  22  24  7   8   25  23  20  12  6   3   11  16  13  19  21  10  2   1   18  9   4   \n",
      "11  2   24  25  19  3   14  18  15  20  8   1   5   13  4   12  23  9   6   17  21  16  7   22  10  \n",
      "1   8   6   3   13  22  21  16  9   12  7   14  19  18  10  5   20  11  2   4   15  23  17  24  25  \n",
      "17  18  8   19  2   11  25  9   5   13  21  22  10  6   16  23  15  4   7   24  12  14  3   1   20  \n",
      "7   5   15  13  1   12  22  24  6   19  11  2   23  8   18  10  3   16  20  14  4   25  21  17  9   \n",
      "3   6   9   11  4   15  23  21  14  2   25  13  12  20  24  1   19  17  8   18  7   10  22  16  5   \n",
      "25  24  12  10  16  20  4   3   7   8   9   17  1   14  15  21  2   22  13  5   11  19  6   23  18  \n",
      "22  14  20  21  23  18  1   10  17  16  4   19  3   7   5   9   6   25  12  11  8   2   15  13  24  \n",
      "6   13  10  16  3   2   19  15  1   9   12  20  14  25  17  24  7   21  18  22  23  4   5   8   11  \n",
      "20  21  14  22  15  25  11  17  4   6   16  8   18  5   3   19  9   12  23  13  1   24  10  7   2   \n",
      "12  4   18  24  17  13  3   22  20  7   10  15  21  2   23  11  25  8   5   1   16  6   9   14  19  \n",
      "23  19  2   8   11  14  12  5   18  24  13  9   22  1   7   6   10  15  4   16  17  3   20  25  21  \n",
      "9   1   7   5   25  21  8   23  16  10  19  11  24  4   6   20  17  14  3   2   18  22  13  12  15  \n",
      "14  3   1   4   8   16  15  7   19  11  6   24  20  23  21  18  22  10  17  9   25  5   12  2   13  \n",
      "24  9   16  12  7   6   18  13  2   25  1   5   4   19  22  15  8   3   11  21  14  20  23  10  17  \n",
      "19  11  25  2   20  5   10  12  22  17  18  7   13  15  8   4   16  6   14  23  3   9   24  21  1   \n",
      "5   10  17  23  6   4   24  1   21  14  3   25  9   11  2   13  12  20  19  7   22  15  8   18  16  \n",
      "18  22  13  15  21  8   9   20  23  3   14  10  16  17  12  2   24  5   1   25  19  7   11  4   6   \n",
      "13  15  11  17  5   9   16  19  24  18  22  6   7   21  1   14  4   23  25  20  10  12  2   3   8   \n",
      "10  25  22  20  24  7   2   11  3   4   23  16  17  12  19  8   21  13  9   6   5   18  1   15  14  \n",
      "4   12  19  7   18  1   20  14  8   22  5   3   25  9   13  17  11  2   10  15  24  21  16  6   23  \n",
      "2   16  3   6   9   23  13  25  12  21  15  18  8   10  14  22  5   1   24  19  20  17  4   11  7   \n",
      "8   23  21  1   14  17  5   6   10  15  2   4   11  24  20  3   18  7   16  12  9   13  25  19  22  \n",
      "\n"
     ]
    },
    {
     "data": {
      "text/plain": [
       "701.8026671130001"
      ]
     },
     "execution_count": 51,
     "metadata": {},
     "output_type": "execute_result"
    }
   ],
   "source": [
    "times[1][2] = timeit.timeit(stmt='test_sudoku(5,0.2)', setup='from __main__ import test_sudoku',number=1)\n",
    "times[1][2]"
   ]
  },
  {
   "cell_type": "markdown",
   "id": "0ffff40f",
   "metadata": {},
   "source": [
    "#### Tempos de Execução"
   ]
  },
  {
   "cell_type": "code",
   "execution_count": 67,
   "id": "54a1d52b",
   "metadata": {
    "scrolled": true
   },
   "outputs": [
    {
     "name": "stdout",
     "output_type": "stream",
     "text": [
      "[0.14464685100006136, 1.9958298099998046, 701.8026671130001]\n"
     ]
    },
    {
     "data": {
      "image/png": "[encoded data removed]",
      "text/plain": [
       "<Figure size 432x288 with 1 Axes>"
      ]
     },
     "metadata": {
      "needs_background": "light"
     },
     "output_type": "display_data"
    }
   ],
   "source": [
    "print(times[1])\n",
    "plt.plot(N, times[1])\n",
    "plt.xticks(N)\n",
    "plt.title(\"Tempos de Execução\")\n",
    "plt.ylabel(\"Segundos\")\n",
    "plt.xlabel(\"N\")\n",
    "plt.grid(True)"
   ]
  },
  {
   "cell_type": "markdown",
   "id": "21888f75",
   "metadata": {},
   "source": [
    "### $\\alpha = 0.4$"
   ]
  },
  {
   "cell_type": "markdown",
   "id": "6a359994",
   "metadata": {},
   "source": [
    "#### $N = 3$"
   ]
  },
  {
   "cell_type": "code",
   "execution_count": 43,
   "id": "722926b9",
   "metadata": {
    "scrolled": false
   },
   "outputs": [
    {
     "name": "stdout",
     "output_type": "stream",
     "text": [
      "Sudoku\n",
      "-------------------------\n",
      "| 0 0 0 | 0 0 0 | 0 0 0 | \n",
      "| 0 0 0 | 0 0 0 | 0 0 0 | \n",
      "| 0 0 0 | 0 0 0 | 0 0 0 | \n",
      "-------------------------\n",
      "| 0 0 0 | 0 0 0 | 0 0 0 | \n",
      "| 0 0 0 | 0 0 0 | 0 0 0 | \n",
      "| 0 0 0 | 0 0 0 | 0 0 0 | \n",
      "-------------------------\n",
      "| 0 0 0 | 0 0 0 | 0 0 0 | \n",
      "| 0 0 0 | 0 0 0 | 0 0 0 | \n",
      "| 0 0 0 | 0 0 0 | 0 0 0 | \n",
      "-------------------------\n",
      "\n",
      "Solução\n",
      "-------------------------\n",
      "| 1 2 3 | 4 5 6 | 8 7 9 | \n",
      "| 8 9 7 | 1 2 3 | 4 5 6 | \n",
      "| 6 4 5 | 7 8 9 | 1 2 3 | \n",
      "-------------------------\n",
      "| 7 1 2 | 3 4 5 | 6 9 8 | \n",
      "| 9 5 6 | 2 1 8 | 3 4 7 | \n",
      "| 4 3 8 | 6 9 7 | 2 1 5 | \n",
      "-------------------------\n",
      "| 5 8 1 | 9 3 2 | 7 6 4 | \n",
      "| 3 7 4 | 5 6 1 | 9 8 2 | \n",
      "| 2 6 9 | 8 7 4 | 5 3 1 | \n",
      "-------------------------\n",
      "\n"
     ]
    },
    {
     "data": {
      "text/plain": [
       "0.14464685100006136"
      ]
     },
     "execution_count": 43,
     "metadata": {},
     "output_type": "execute_result"
    }
   ],
   "source": [
    "times[2][0] = timeit.timeit(stmt='test_sudoku(3,0.4)', setup='from __main__ import test_sudoku',number=1 )\n",
    "times[2][0]"
   ]
  },
  {
   "cell_type": "markdown",
   "id": "2bff3f5b",
   "metadata": {},
   "source": [
    "#### $N = 4$"
   ]
  },
  {
   "cell_type": "code",
   "execution_count": 50,
   "id": "fc2cdd33",
   "metadata": {
    "scrolled": false
   },
   "outputs": [
    {
     "name": "stdout",
     "output_type": "stream",
     "text": [
      "Sudoku\n",
      "-------------------------------------------------------------\n",
      "|  0  0  0  0  |  0  0  0  0  |  0  0  0  0  |  0  0  0  0  |  \n",
      "|  0  0  0  0  |  0  0  0  0  |  0  0  0  0  |  0  0  0  0  |  \n",
      "|  0  0  0  0  |  0  0  0  0  |  0  0  0  0  |  0  0  0  0  |  \n",
      "|  0  0  0  0  |  0  0  0  0  |  0  0  0  0  |  0  0  0  0  |  \n",
      "-------------------------------------------------------------\n",
      "|  0  0  0  0  |  0  0  0  0  |  0  0  0  0  |  0  0  0  0  |  \n",
      "|  0  0  0  0  |  0  0  0  0  |  0  0  0  0  |  0  0  0  0  |  \n",
      "|  0  0  0  0  |  0  0  0  0  |  0  0  0  0  |  0  0  0  0  |  \n",
      "|  0  0  0  0  |  0  0  0  0  |  0  0  0  0  |  0  0  0  0  |  \n",
      "-------------------------------------------------------------\n",
      "|  0  0  0  0  |  0  0  0  0  |  0  0  0  0  |  0  0  0  0  |  \n",
      "|  0  0  0  0  |  0  0  0  0  |  0  0  0  0  |  0  0  0  0  |  \n",
      "|  0  0  0  0  |  0  0  0  0  |  0  0  0  0  |  0  0  0  0  |  \n",
      "|  0  0  0  0  |  0  0  0  0  |  0  0  0  0  |  0  0  0  0  |  \n",
      "-------------------------------------------------------------\n",
      "|  0  0  0  0  |  0  0  0  0  |  0  0  0  0  |  0  0  0  0  |  \n",
      "|  0  0  0  0  |  0  0  0  0  |  0  0  0  0  |  0  0  0  0  |  \n",
      "|  0  0  0  0  |  0  0  0  0  |  0  0  0  0  |  0  0  0  0  |  \n",
      "|  0  0  0  0  |  0  0  0  0  |  0  0  0  0  |  0  0  0  0  |  \n",
      "-------------------------------------------------------------\n",
      "\n",
      "Solução\n",
      "-------------------------------------------------------------\n",
      "|  1  2  3  4  |  5  6  7  8  |  9  10 11 12 |  13 14 15 16 |  \n",
      "|  5  6  7  13 |  1  2  3  4  |  8  14 15 16 |  9  10 11 12 |  \n",
      "|  9  10 11 12 |  13 14 15 16 |  1  2  3  4  |  5  6  7  8  |  \n",
      "|  8  14 15 16 |  9  10 11 12 |  5  6  7  13 |  1  2  3  4  |  \n",
      "-------------------------------------------------------------\n",
      "|  4  1  2  3  |  6  5  8  7  |  10 9  12 11 |  14 13 16 15 |  \n",
      "|  6  7  5  14 |  2  1  4  3  |  13 8  16 15 |  12 9  10 11 |  \n",
      "|  10 12 13 9  |  11 16 14 15 |  2  1  4  3  |  6  5  8  7  |  \n",
      "|  15 8  16 11 |  12 9  10 13 |  6  5  14 7  |  2  1  4  3  |  \n",
      "-------------------------------------------------------------\n",
      "|  14 3  1  2  |  4  7  5  6  |  12 15 8  9  |  16 11 13 10 |  \n",
      "|  16 11 4  5  |  3  8  1  2  |  7  13 6  10 |  15 12 9  14 |  \n",
      "|  13 15 12 10 |  16 11 9  14 |  3  4  1  2  |  7  8  5  6  |  \n",
      "|  7  9  8  6  |  15 12 13 10 |  11 16 5  14 |  3  4  1  2  |  \n",
      "-------------------------------------------------------------\n",
      "|  12 16 10 1  |  7  3  2  5  |  4  11 9  6  |  8  15 14 13 |  \n",
      "|  11 13 9  7  |  14 4  12 1  |  15 3  2  8  |  10 16 6  5  |  \n",
      "|  3  5  14 15 |  8  13 6  11 |  16 12 10 1  |  4  7  2  9  |  \n",
      "|  2  4  6  8  |  10 15 16 9  |  14 7  13 5  |  11 3  12 1  |  \n",
      "-------------------------------------------------------------\n",
      "\n"
     ]
    },
    {
     "data": {
      "text/plain": [
       "1.9958298099998046"
      ]
     },
     "execution_count": 50,
     "metadata": {},
     "output_type": "execute_result"
    }
   ],
   "source": [
    "times[2][1] = timeit.timeit(stmt='test_sudoku(4,0.4)', setup='from __main__ import test_sudoku',number=1)\n",
    "times[2][1]"
   ]
  },
  {
   "cell_type": "markdown",
   "id": "8beaaa2a",
   "metadata": {},
   "source": [
    "#### $N = 5$"
   ]
  },
  {
   "cell_type": "code",
   "execution_count": 51,
   "id": "6389581f",
   "metadata": {},
   "outputs": [
    {
     "name": "stdout",
     "output_type": "stream",
     "text": [
      "Sudoku\n",
      "0   0   0   0   0   0   0   0   0   0   0   0   0   0   0   0   0   0   0   0   0   0   0   0   0   \n",
      "0   0   0   0   0   0   0   0   0   0   0   0   0   0   0   0   0   0   0   0   0   0   0   0   0   \n",
      "0   0   0   0   0   0   0   0   0   0   0   0   0   0   0   0   0   0   0   0   0   0   0   0   0   \n",
      "0   0   0   0   0   0   0   0   0   0   0   0   0   0   0   0   0   0   0   0   0   0   0   0   0   \n",
      "0   0   0   0   0   0   0   0   0   0   0   0   0   0   0   0   0   0   0   0   0   0   0   0   0   \n",
      "0   0   0   0   0   0   0   0   0   0   0   0   0   0   0   0   0   0   0   0   0   0   0   0   0   \n",
      "0   0   0   0   0   0   0   0   0   0   0   0   0   0   0   0   0   0   0   0   0   0   0   0   0   \n",
      "0   0   0   0   0   0   0   0   0   0   0   0   0   0   0   0   0   0   0   0   0   0   0   0   0   \n",
      "0   0   0   0   0   0   0   0   0   0   0   0   0   0   0   0   0   0   0   0   0   0   0   0   0   \n",
      "0   0   0   0   0   0   0   0   0   0   0   0   0   0   0   0   0   0   0   0   0   0   0   0   0   \n",
      "0   0   0   0   0   0   0   0   0   0   0   0   0   0   0   0   0   0   0   0   0   0   0   0   0   \n",
      "0   0   0   0   0   0   0   0   0   0   0   0   0   0   0   0   0   0   0   0   0   0   0   0   0   \n",
      "0   0   0   0   0   0   0   0   0   0   0   0   0   0   0   0   0   0   0   0   0   0   0   0   0   \n",
      "0   0   0   0   0   0   0   0   0   0   0   0   0   0   0   0   0   0   0   0   0   0   0   0   0   \n",
      "0   0   0   0   0   0   0   0   0   0   0   0   0   0   0   0   0   0   0   0   0   0   0   0   0   \n",
      "0   0   0   0   0   0   0   0   0   0   0   0   0   0   0   0   0   0   0   0   0   0   0   0   0   \n",
      "0   0   0   0   0   0   0   0   0   0   0   0   0   0   0   0   0   0   0   0   0   0   0   0   0   \n",
      "0   0   0   0   0   0   0   0   0   0   0   0   0   0   0   0   0   0   0   0   0   0   0   0   0   \n",
      "0   0   0   0   0   0   0   0   0   0   0   0   0   0   0   0   0   0   0   0   0   0   0   0   0   \n",
      "0   0   0   0   0   0   0   0   0   0   0   0   0   0   0   0   0   0   0   0   0   0   0   0   0   \n",
      "0   0   0   0   0   0   0   0   0   0   0   0   0   0   0   0   0   0   0   0   0   0   0   0   0   \n",
      "0   0   0   0   0   0   0   0   0   0   0   0   0   0   0   0   0   0   0   0   0   0   0   0   0   \n",
      "0   0   0   0   0   0   0   0   0   0   0   0   0   0   0   0   0   0   0   0   0   0   0   0   0   \n",
      "0   0   0   0   0   0   0   0   0   0   0   0   0   0   0   0   0   0   0   0   0   0   0   0   0   \n",
      "0   0   0   0   0   0   0   0   0   0   0   0   0   0   0   0   0   0   0   0   0   0   0   0   0   \n",
      "\n",
      "Solução\n",
      "16  7   23  18  10  19  6   4   11  5   17  21  2   22  9   25  1   24  15  3   13  8   14  20  12  \n",
      "21  20  4   9   12  10  17  2   13  1   24  23  15  16  25  7   14  18  22  8   6   11  19  5   3   \n",
      "15  17  5   14  22  24  7   8   25  23  20  12  6   3   11  16  13  19  21  10  2   1   18  9   4   \n",
      "11  2   24  25  19  3   14  18  15  20  8   1   5   13  4   12  23  9   6   17  21  16  7   22  10  \n",
      "1   8   6   3   13  22  21  16  9   12  7   14  19  18  10  5   20  11  2   4   15  23  17  24  25  \n",
      "17  18  8   19  2   11  25  9   5   13  21  22  10  6   16  23  15  4   7   24  12  14  3   1   20  \n",
      "7   5   15  13  1   12  22  24  6   19  11  2   23  8   18  10  3   16  20  14  4   25  21  17  9   \n",
      "3   6   9   11  4   15  23  21  14  2   25  13  12  20  24  1   19  17  8   18  7   10  22  16  5   \n",
      "25  24  12  10  16  20  4   3   7   8   9   17  1   14  15  21  2   22  13  5   11  19  6   23  18  \n",
      "22  14  20  21  23  18  1   10  17  16  4   19  3   7   5   9   6   25  12  11  8   2   15  13  24  \n",
      "6   13  10  16  3   2   19  15  1   9   12  20  14  25  17  24  7   21  18  22  23  4   5   8   11  \n",
      "20  21  14  22  15  25  11  17  4   6   16  8   18  5   3   19  9   12  23  13  1   24  10  7   2   \n",
      "12  4   18  24  17  13  3   22  20  7   10  15  21  2   23  11  25  8   5   1   16  6   9   14  19  \n",
      "23  19  2   8   11  14  12  5   18  24  13  9   22  1   7   6   10  15  4   16  17  3   20  25  21  \n",
      "9   1   7   5   25  21  8   23  16  10  19  11  24  4   6   20  17  14  3   2   18  22  13  12  15  \n",
      "14  3   1   4   8   16  15  7   19  11  6   24  20  23  21  18  22  10  17  9   25  5   12  2   13  \n",
      "24  9   16  12  7   6   18  13  2   25  1   5   4   19  22  15  8   3   11  21  14  20  23  10  17  \n",
      "19  11  25  2   20  5   10  12  22  17  18  7   13  15  8   4   16  6   14  23  3   9   24  21  1   \n",
      "5   10  17  23  6   4   24  1   21  14  3   25  9   11  2   13  12  20  19  7   22  15  8   18  16  \n",
      "18  22  13  15  21  8   9   20  23  3   14  10  16  17  12  2   24  5   1   25  19  7   11  4   6   \n",
      "13  15  11  17  5   9   16  19  24  18  22  6   7   21  1   14  4   23  25  20  10  12  2   3   8   \n",
      "10  25  22  20  24  7   2   11  3   4   23  16  17  12  19  8   21  13  9   6   5   18  1   15  14  \n",
      "4   12  19  7   18  1   20  14  8   22  5   3   25  9   13  17  11  2   10  15  24  21  16  6   23  \n",
      "2   16  3   6   9   23  13  25  12  21  15  18  8   10  14  22  5   1   24  19  20  17  4   11  7   \n",
      "8   23  21  1   14  17  5   6   10  15  2   4   11  24  20  3   18  7   16  12  9   13  25  19  22  \n",
      "\n"
     ]
    },
    {
     "data": {
      "text/plain": [
       "701.8026671130001"
      ]
     },
     "execution_count": 51,
     "metadata": {},
     "output_type": "execute_result"
    }
   ],
   "source": [
    "times[2][2] = timeit.timeit(stmt='test_sudoku(5,0.4)', setup='from __main__ import test_sudoku',number=1)\n",
    "times[2][2]"
   ]
  },
  {
   "cell_type": "markdown",
   "id": "a40182a1",
   "metadata": {},
   "source": [
    "#### Tempos de Execução"
   ]
  },
  {
   "cell_type": "code",
   "execution_count": 67,
   "id": "24235ed4",
   "metadata": {},
   "outputs": [
    {
     "name": "stdout",
     "output_type": "stream",
     "text": [
      "[0.14464685100006136, 1.9958298099998046, 701.8026671130001]\n"
     ]
    },
    {
     "data": {
      "image/png": "[encoded data removed]",
      "text/plain": [
       "<Figure size 432x288 with 1 Axes>"
      ]
     },
     "metadata": {
      "needs_background": "light"
     },
     "output_type": "display_data"
    }
   ],
   "source": [
    "print(times[2])\n",
    "plt.plot(N, times[2])\n",
    "plt.xticks(N)\n",
    "plt.title(\"Tempos de Execução\")\n",
    "plt.ylabel(\"Segundos\")\n",
    "plt.xlabel(\"N\")\n",
    "plt.grid(True)"
   ]
  },
  {
   "cell_type": "code",
   "execution_count": 39,
   "id": "66050535",
   "metadata": {},
   "outputs": [],
   "source": [
    "N = [1,2,3]\n",
    "times = [[0 for n in N] for n in N]"
   ]
  },
  {
   "cell_type": "markdown",
   "id": "ca5e6a35",
   "metadata": {},
   "source": [
    "### $\\alpha = 0.6$"
   ]
  },
  {
   "cell_type": "markdown",
   "id": "caff554e",
   "metadata": {},
   "source": [
    "#### $N = 3$"
   ]
  },
  {
   "cell_type": "code",
   "execution_count": 43,
   "id": "23a49e0a",
   "metadata": {
    "scrolled": false
   },
   "outputs": [
    {
     "name": "stdout",
     "output_type": "stream",
     "text": [
      "Sudoku\n",
      "-------------------------\n",
      "| 0 0 0 | 0 0 0 | 0 0 0 | \n",
      "| 0 0 0 | 0 0 0 | 0 0 0 | \n",
      "| 0 0 0 | 0 0 0 | 0 0 0 | \n",
      "-------------------------\n",
      "| 0 0 0 | 0 0 0 | 0 0 0 | \n",
      "| 0 0 0 | 0 0 0 | 0 0 0 | \n",
      "| 0 0 0 | 0 0 0 | 0 0 0 | \n",
      "-------------------------\n",
      "| 0 0 0 | 0 0 0 | 0 0 0 | \n",
      "| 0 0 0 | 0 0 0 | 0 0 0 | \n",
      "| 0 0 0 | 0 0 0 | 0 0 0 | \n",
      "-------------------------\n",
      "\n",
      "Solução\n",
      "-------------------------\n",
      "| 1 2 3 | 4 5 6 | 8 7 9 | \n",
      "| 8 9 7 | 1 2 3 | 4 5 6 | \n",
      "| 6 4 5 | 7 8 9 | 1 2 3 | \n",
      "-------------------------\n",
      "| 7 1 2 | 3 4 5 | 6 9 8 | \n",
      "| 9 5 6 | 2 1 8 | 3 4 7 | \n",
      "| 4 3 8 | 6 9 7 | 2 1 5 | \n",
      "-------------------------\n",
      "| 5 8 1 | 9 3 2 | 7 6 4 | \n",
      "| 3 7 4 | 5 6 1 | 9 8 2 | \n",
      "| 2 6 9 | 8 7 4 | 5 3 1 | \n",
      "-------------------------\n",
      "\n"
     ]
    },
    {
     "data": {
      "text/plain": [
       "0.14464685100006136"
      ]
     },
     "execution_count": 43,
     "metadata": {},
     "output_type": "execute_result"
    }
   ],
   "source": [
    "times[3][0] = timeit.timeit(stmt='test_sudoku(3,0.6)', setup='from __main__ import test_sudoku',number=1 )\n",
    "times[3][0]"
   ]
  },
  {
   "cell_type": "markdown",
   "id": "d97f361f",
   "metadata": {},
   "source": [
    "#### $N = 4$"
   ]
  },
  {
   "cell_type": "code",
   "execution_count": 50,
   "id": "8cf0d0d4",
   "metadata": {
    "scrolled": false
   },
   "outputs": [
    {
     "name": "stdout",
     "output_type": "stream",
     "text": [
      "Sudoku\n",
      "-------------------------------------------------------------\n",
      "|  0  0  0  0  |  0  0  0  0  |  0  0  0  0  |  0  0  0  0  |  \n",
      "|  0  0  0  0  |  0  0  0  0  |  0  0  0  0  |  0  0  0  0  |  \n",
      "|  0  0  0  0  |  0  0  0  0  |  0  0  0  0  |  0  0  0  0  |  \n",
      "|  0  0  0  0  |  0  0  0  0  |  0  0  0  0  |  0  0  0  0  |  \n",
      "-------------------------------------------------------------\n",
      "|  0  0  0  0  |  0  0  0  0  |  0  0  0  0  |  0  0  0  0  |  \n",
      "|  0  0  0  0  |  0  0  0  0  |  0  0  0  0  |  0  0  0  0  |  \n",
      "|  0  0  0  0  |  0  0  0  0  |  0  0  0  0  |  0  0  0  0  |  \n",
      "|  0  0  0  0  |  0  0  0  0  |  0  0  0  0  |  0  0  0  0  |  \n",
      "-------------------------------------------------------------\n",
      "|  0  0  0  0  |  0  0  0  0  |  0  0  0  0  |  0  0  0  0  |  \n",
      "|  0  0  0  0  |  0  0  0  0  |  0  0  0  0  |  0  0  0  0  |  \n",
      "|  0  0  0  0  |  0  0  0  0  |  0  0  0  0  |  0  0  0  0  |  \n",
      "|  0  0  0  0  |  0  0  0  0  |  0  0  0  0  |  0  0  0  0  |  \n",
      "-------------------------------------------------------------\n",
      "|  0  0  0  0  |  0  0  0  0  |  0  0  0  0  |  0  0  0  0  |  \n",
      "|  0  0  0  0  |  0  0  0  0  |  0  0  0  0  |  0  0  0  0  |  \n",
      "|  0  0  0  0  |  0  0  0  0  |  0  0  0  0  |  0  0  0  0  |  \n",
      "|  0  0  0  0  |  0  0  0  0  |  0  0  0  0  |  0  0  0  0  |  \n",
      "-------------------------------------------------------------\n",
      "\n",
      "Solução\n",
      "-------------------------------------------------------------\n",
      "|  1  2  3  4  |  5  6  7  8  |  9  10 11 12 |  13 14 15 16 |  \n",
      "|  5  6  7  13 |  1  2  3  4  |  8  14 15 16 |  9  10 11 12 |  \n",
      "|  9  10 11 12 |  13 14 15 16 |  1  2  3  4  |  5  6  7  8  |  \n",
      "|  8  14 15 16 |  9  10 11 12 |  5  6  7  13 |  1  2  3  4  |  \n",
      "-------------------------------------------------------------\n",
      "|  4  1  2  3  |  6  5  8  7  |  10 9  12 11 |  14 13 16 15 |  \n",
      "|  6  7  5  14 |  2  1  4  3  |  13 8  16 15 |  12 9  10 11 |  \n",
      "|  10 12 13 9  |  11 16 14 15 |  2  1  4  3  |  6  5  8  7  |  \n",
      "|  15 8  16 11 |  12 9  10 13 |  6  5  14 7  |  2  1  4  3  |  \n",
      "-------------------------------------------------------------\n",
      "|  14 3  1  2  |  4  7  5  6  |  12 15 8  9  |  16 11 13 10 |  \n",
      "|  16 11 4  5  |  3  8  1  2  |  7  13 6  10 |  15 12 9  14 |  \n",
      "|  13 15 12 10 |  16 11 9  14 |  3  4  1  2  |  7  8  5  6  |  \n",
      "|  7  9  8  6  |  15 12 13 10 |  11 16 5  14 |  3  4  1  2  |  \n",
      "-------------------------------------------------------------\n",
      "|  12 16 10 1  |  7  3  2  5  |  4  11 9  6  |  8  15 14 13 |  \n",
      "|  11 13 9  7  |  14 4  12 1  |  15 3  2  8  |  10 16 6  5  |  \n",
      "|  3  5  14 15 |  8  13 6  11 |  16 12 10 1  |  4  7  2  9  |  \n",
      "|  2  4  6  8  |  10 15 16 9  |  14 7  13 5  |  11 3  12 1  |  \n",
      "-------------------------------------------------------------\n",
      "\n"
     ]
    },
    {
     "data": {
      "text/plain": [
       "1.9958298099998046"
      ]
     },
     "execution_count": 50,
     "metadata": {},
     "output_type": "execute_result"
    }
   ],
   "source": [
    "times[3][1] = timeit.timeit(stmt='test_sudoku(4,0.6)', setup='from __main__ import test_sudoku',number=1)\n",
    "times[3][1]"
   ]
  },
  {
   "cell_type": "markdown",
   "id": "45d30cc3",
   "metadata": {},
   "source": [
    "#### $N = 5$"
   ]
  },
  {
   "cell_type": "code",
   "execution_count": 51,
   "id": "81c51fd2",
   "metadata": {},
   "outputs": [
    {
     "name": "stdout",
     "output_type": "stream",
     "text": [
      "Sudoku\n",
      "0   0   0   0   0   0   0   0   0   0   0   0   0   0   0   0   0   0   0   0   0   0   0   0   0   \n",
      "0   0   0   0   0   0   0   0   0   0   0   0   0   0   0   0   0   0   0   0   0   0   0   0   0   \n",
      "0   0   0   0   0   0   0   0   0   0   0   0   0   0   0   0   0   0   0   0   0   0   0   0   0   \n",
      "0   0   0   0   0   0   0   0   0   0   0   0   0   0   0   0   0   0   0   0   0   0   0   0   0   \n",
      "0   0   0   0   0   0   0   0   0   0   0   0   0   0   0   0   0   0   0   0   0   0   0   0   0   \n",
      "0   0   0   0   0   0   0   0   0   0   0   0   0   0   0   0   0   0   0   0   0   0   0   0   0   \n",
      "0   0   0   0   0   0   0   0   0   0   0   0   0   0   0   0   0   0   0   0   0   0   0   0   0   \n",
      "0   0   0   0   0   0   0   0   0   0   0   0   0   0   0   0   0   0   0   0   0   0   0   0   0   \n",
      "0   0   0   0   0   0   0   0   0   0   0   0   0   0   0   0   0   0   0   0   0   0   0   0   0   \n",
      "0   0   0   0   0   0   0   0   0   0   0   0   0   0   0   0   0   0   0   0   0   0   0   0   0   \n",
      "0   0   0   0   0   0   0   0   0   0   0   0   0   0   0   0   0   0   0   0   0   0   0   0   0   \n",
      "0   0   0   0   0   0   0   0   0   0   0   0   0   0   0   0   0   0   0   0   0   0   0   0   0   \n",
      "0   0   0   0   0   0   0   0   0   0   0   0   0   0   0   0   0   0   0   0   0   0   0   0   0   \n",
      "0   0   0   0   0   0   0   0   0   0   0   0   0   0   0   0   0   0   0   0   0   0   0   0   0   \n",
      "0   0   0   0   0   0   0   0   0   0   0   0   0   0   0   0   0   0   0   0   0   0   0   0   0   \n",
      "0   0   0   0   0   0   0   0   0   0   0   0   0   0   0   0   0   0   0   0   0   0   0   0   0   \n",
      "0   0   0   0   0   0   0   0   0   0   0   0   0   0   0   0   0   0   0   0   0   0   0   0   0   \n",
      "0   0   0   0   0   0   0   0   0   0   0   0   0   0   0   0   0   0   0   0   0   0   0   0   0   \n",
      "0   0   0   0   0   0   0   0   0   0   0   0   0   0   0   0   0   0   0   0   0   0   0   0   0   \n",
      "0   0   0   0   0   0   0   0   0   0   0   0   0   0   0   0   0   0   0   0   0   0   0   0   0   \n",
      "0   0   0   0   0   0   0   0   0   0   0   0   0   0   0   0   0   0   0   0   0   0   0   0   0   \n",
      "0   0   0   0   0   0   0   0   0   0   0   0   0   0   0   0   0   0   0   0   0   0   0   0   0   \n",
      "0   0   0   0   0   0   0   0   0   0   0   0   0   0   0   0   0   0   0   0   0   0   0   0   0   \n",
      "0   0   0   0   0   0   0   0   0   0   0   0   0   0   0   0   0   0   0   0   0   0   0   0   0   \n",
      "0   0   0   0   0   0   0   0   0   0   0   0   0   0   0   0   0   0   0   0   0   0   0   0   0   \n",
      "\n",
      "Solução\n",
      "16  7   23  18  10  19  6   4   11  5   17  21  2   22  9   25  1   24  15  3   13  8   14  20  12  \n",
      "21  20  4   9   12  10  17  2   13  1   24  23  15  16  25  7   14  18  22  8   6   11  19  5   3   \n",
      "15  17  5   14  22  24  7   8   25  23  20  12  6   3   11  16  13  19  21  10  2   1   18  9   4   \n",
      "11  2   24  25  19  3   14  18  15  20  8   1   5   13  4   12  23  9   6   17  21  16  7   22  10  \n",
      "1   8   6   3   13  22  21  16  9   12  7   14  19  18  10  5   20  11  2   4   15  23  17  24  25  \n",
      "17  18  8   19  2   11  25  9   5   13  21  22  10  6   16  23  15  4   7   24  12  14  3   1   20  \n",
      "7   5   15  13  1   12  22  24  6   19  11  2   23  8   18  10  3   16  20  14  4   25  21  17  9   \n",
      "3   6   9   11  4   15  23  21  14  2   25  13  12  20  24  1   19  17  8   18  7   10  22  16  5   \n",
      "25  24  12  10  16  20  4   3   7   8   9   17  1   14  15  21  2   22  13  5   11  19  6   23  18  \n",
      "22  14  20  21  23  18  1   10  17  16  4   19  3   7   5   9   6   25  12  11  8   2   15  13  24  \n",
      "6   13  10  16  3   2   19  15  1   9   12  20  14  25  17  24  7   21  18  22  23  4   5   8   11  \n",
      "20  21  14  22  15  25  11  17  4   6   16  8   18  5   3   19  9   12  23  13  1   24  10  7   2   \n",
      "12  4   18  24  17  13  3   22  20  7   10  15  21  2   23  11  25  8   5   1   16  6   9   14  19  \n",
      "23  19  2   8   11  14  12  5   18  24  13  9   22  1   7   6   10  15  4   16  17  3   20  25  21  \n",
      "9   1   7   5   25  21  8   23  16  10  19  11  24  4   6   20  17  14  3   2   18  22  13  12  15  \n",
      "14  3   1   4   8   16  15  7   19  11  6   24  20  23  21  18  22  10  17  9   25  5   12  2   13  \n",
      "24  9   16  12  7   6   18  13  2   25  1   5   4   19  22  15  8   3   11  21  14  20  23  10  17  \n",
      "19  11  25  2   20  5   10  12  22  17  18  7   13  15  8   4   16  6   14  23  3   9   24  21  1   \n",
      "5   10  17  23  6   4   24  1   21  14  3   25  9   11  2   13  12  20  19  7   22  15  8   18  16  \n",
      "18  22  13  15  21  8   9   20  23  3   14  10  16  17  12  2   24  5   1   25  19  7   11  4   6   \n",
      "13  15  11  17  5   9   16  19  24  18  22  6   7   21  1   14  4   23  25  20  10  12  2   3   8   \n",
      "10  25  22  20  24  7   2   11  3   4   23  16  17  12  19  8   21  13  9   6   5   18  1   15  14  \n",
      "4   12  19  7   18  1   20  14  8   22  5   3   25  9   13  17  11  2   10  15  24  21  16  6   23  \n",
      "2   16  3   6   9   23  13  25  12  21  15  18  8   10  14  22  5   1   24  19  20  17  4   11  7   \n",
      "8   23  21  1   14  17  5   6   10  15  2   4   11  24  20  3   18  7   16  12  9   13  25  19  22  \n",
      "\n"
     ]
    },
    {
     "data": {
      "text/plain": [
       "701.8026671130001"
      ]
     },
     "execution_count": 51,
     "metadata": {},
     "output_type": "execute_result"
    }
   ],
   "source": [
    "times[0][3] = timeit.timeit(stmt='test_sudoku(5,0.6)', setup='from __main__ import test_sudoku',number=1)\n",
    "times[0][3]"
   ]
  },
  {
   "cell_type": "markdown",
   "id": "1444d07e",
   "metadata": {},
   "source": [
    "#### Tempos de Execução"
   ]
  },
  {
   "cell_type": "code",
   "execution_count": 67,
   "id": "5547ed8b",
   "metadata": {},
   "outputs": [
    {
     "name": "stdout",
     "output_type": "stream",
     "text": [
      "[0.14464685100006136, 1.9958298099998046, 701.8026671130001]\n"
     ]
    },
    {
     "data": {
      "image/png": "[encoded data removed]",
      "text/plain": [
       "<Figure size 432x288 with 1 Axes>"
      ]
     },
     "metadata": {
      "needs_background": "light"
     },
     "output_type": "display_data"
    }
   ],
   "source": [
    "print(times[3])\n",
    "plt.plot(N, times[3])\n",
    "plt.xticks(N)\n",
    "plt.title(\"Tempos de Execução\")\n",
    "plt.ylabel(\"Segundos\")\n",
    "plt.xlabel(\"N\")\n",
    "plt.grid(True)"
   ]
  },
  {
   "cell_type": "markdown",
   "id": "6648fc2d",
   "metadata": {},
   "source": [
    "### Nota"
   ]
  },
  {
   "cell_type": "markdown",
   "id": "3588505a",
   "metadata": {},
   "source": [
    "Para $N = 5$ a função demora varios minutos a executar, o que deve ser provocado pelo ao facto de as soluções terem complexidade exponencial em $N$. Neste caso, o problema vai ter $\\,5^2\\times 5^2\\times 5^2\\, = \\,25^3\\, = 15625$ variaveis."
   ]
  }
 ],
 "metadata": {
  "kernelspec": {
   "display_name": "Python 3 (ipykernel)",
   "language": "python",
   "name": "python3"
  },
  "language_info": {
   "codemirror_mode": {
    "name": "ipython",
    "version": 3
   },
   "file_extension": ".py",
   "mimetype": "text/x-python",
   "name": "python",
   "nbconvert_exporter": "python",
   "pygments_lexer": "ipython3",
   "version": "3.8.10"
  }
 },
 "nbformat": 4,
 "nbformat_minor": 5
}
