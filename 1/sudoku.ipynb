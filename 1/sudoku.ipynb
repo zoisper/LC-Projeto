{
 "cells": [
  {
   "cell_type": "markdown",
   "id": "29e8575a",
   "metadata": {},
   "source": [
    "**Pedro Paulo da Costa Pereira - A88062**<br>\n",
    "**Tiago André Oliveira Leite - A91693**"
   ]
  },
  {
   "cell_type": "markdown",
   "id": "616a574e",
   "metadata": {},
   "source": [
    "# <center>TP1 Logica Computacional</center>"
   ]
  },
  {
   "cell_type": "markdown",
   "id": "38623c85",
   "metadata": {},
   "source": [
    "## Problema 2 - Sudoku\n",
    "Da definição do jogo “Sudoku” generalizado para a dimensão $N$; o problema tradicional corresponde ao caso $N=3$. O objetivo do Sudoku é preencher uma grelha de $\\,N^2\\times N^2\\,$ com inteiros positivos no intervalo $\\,1$ até $\\,N^2\\,$, satisfazendo as seguintes regras:<br><br>\n",
    "        - Cada inteiro no intervalo $\\,1$ até $\\,N^2\\,$ocorre  só uma vez em cada coluna, linha e secção $\\,N\\times N\\,$.<br><br>\n",
    "        - No início do jogo uma fração $\\,0\\leq 𝛼< 1\\,$ das $\\,N^4\\,$ casas da grelha são preenchidas de forma consistente com a regra anterior. "
   ]
  },
  {
   "cell_type": "markdown",
   "id": "1f389e0b",
   "metadata": {},
   "source": [
    "### Variaveis do Problema\n",
    "Para resolver o problema foram utilizadas $\\,N^2\\times N^2\\times N^2\\,$ variavies binarias, que nos premite verificar qual o número que vai ser colocado numa determinada linha e coluna da grelja do sudoku.<br>\n",
    "Assim sendo foi definido o seguinte grupo de variavies:<br>\n",
    "- $\\quad cube_{row,col,depth}$ - variavel que represena o número $depth + 1$ na linha $row$ e na coluna $col$.\n"
   ]
  },
  {
   "cell_type": "markdown",
   "id": "03b57f15",
   "metadata": {},
   "source": [
    "### Restrições\n",
    "- $\\forall_{row,col,row}$  $cube[(row,col,depth)] \\in \\{0,1\\}$<br>\n",
    "- $\\forall_{row,col}\\sum_{depth}$ $cube[(row,col,depth)] == 1$<br>\n",
    "- $\\forall_{row,depth}\\sum_{col}$ $cube[(row,col,depth)] == 1$<br>\n",
    "- $\\forall_{depth,col}\\sum_{row}$ $cube[(row,col,depth)] == 1$\n",
    "\n",
    "Seja $n$ uma secção  $\\,N\\times N\\,$ do cubo: <br>\n",
    "- $\\forall_{n_{row},n_{col}}\\sum_{depth}$ $cube[(n_{row},n_{col},depth)] == 1$<br>\n",
    "- $\\forall_{n_{row},depth}\\sum_{n_{row}}$ $cube[(n_{row},n_{col},depth)] == 1$<br>\n",
    "- $\\forall_{depth,n_{col}}\\sum_{n_{row}}$ $cube[(n_{row},n_{col},depth)] == 1$\n",
    "\n"
   ]
  },
  {
   "cell_type": "code",
   "execution_count": 9,
   "id": "770ac669",
   "metadata": {},
   "outputs": [],
   "source": [
    "import math\n",
    "import random\n",
    "import timeit\n",
    "import time\n",
    "from ortools.linear_solver import pywraplp\n",
    "import matplotlib.pyplot as plt"
   ]
  },
  {
   "cell_type": "markdown",
   "id": "7d3b9341",
   "metadata": {},
   "source": [
    "### Exemplo de sudoku"
   ]
  },
  {
   "cell_type": "markdown",
   "id": "35ef7d69",
   "metadata": {},
   "source": [
    "### Função que imprime a grelha do sudoku"
   ]
  },
  {
   "cell_type": "code",
   "execution_count": 10,
   "id": "7d424a46",
   "metadata": {},
   "outputs": [],
   "source": [
    "def print_sudoku(sudoku):\n",
    "    grid = 0 \n",
    "    l = len(sudoku)\n",
    "    n = int(math.sqrt(l))\n",
    "    pad = 1 + l // 10\n",
    "    r = (l + n) * (pad + 1)  +1\n",
    "    if n > 4 and not grid:\n",
    "        for i in range(l):\n",
    "            for j in range(l):\n",
    "                print(f'{sudoku[i][j]}'.ljust(pad), end = \" \")\n",
    "            print('')\n",
    "        return \n",
    "                \n",
    "    for i in range(l):\n",
    "        if i % n == 0:\n",
    "            print(\"-\"*r)\n",
    "        for j in range(l):\n",
    "            if  j % n == 0:\n",
    "                print(\"|\".ljust(pad), end = \" \")\n",
    "            print(f'{sudoku[i][j]}'.ljust(pad), end = \" \")\n",
    "            if  j == l-1:\n",
    "                print(\"|\".ljust(pad), end = \" \")\n",
    "        print('')\n",
    "    print(\"-\" * r)"
   ]
  },
  {
   "cell_type": "markdown",
   "id": "a51210ba",
   "metadata": {},
   "source": [
    "### Função auxiliar que converte o resultado do solver numa matriz"
   ]
  },
  {
   "cell_type": "code",
   "execution_count": 11,
   "id": "d22b6ef2",
   "metadata": {},
   "outputs": [],
   "source": [
    "def converter(cube,dim):\n",
    "    mat = [[0 for a in range(dim)] for b in range(dim) ]\n",
    "    for row in range(dim):\n",
    "        for col in range(dim):\n",
    "            for depth in range(dim):\n",
    "                if cube[(row,col,depth)].solution_value() == 1:\n",
    "                    mat[row][col] = depth + 1\n",
    "    return mat"
   ]
  },
  {
   "cell_type": "markdown",
   "id": "5aeb3e1a",
   "metadata": {},
   "source": [
    "### Função que inicializa a grelha do sudoku\n",
    "Recebe como parametros a dimensão $N$ e a fracção $0 ≤ α < 1$ de casas que sao preenchidas. Para tal coloca $N$ números aletorios e depois tenta resolver o sudoku. De seguida apaga o número de números necessários para satisfazer α"
   ]
  },
  {
   "cell_type": "code",
   "execution_count": 12,
   "id": "c49d1b6b",
   "metadata": {},
   "outputs": [],
   "source": [
    "def sudoku_generator(N, alpha):\n",
    "    dim = N*N\n",
    "    delete = int(dim * dim * (1-alpha))\n",
    "    num_squares = int(math.sqrt(dim))\n",
    "    solver = pywraplp.Solver.CreateSolver('SCIP')\n",
    "    cube = {}\n",
    "    \n",
    "    \n",
    "    for row in range(dim):\n",
    "        for col in range(dim):\n",
    "            for depth in range(dim):\n",
    "                cube[(row,col,depth)] = solver.BoolVar('%i%i%i' % (row,col,depth))\n",
    "\n",
    "    for row in range(dim):\n",
    "        for col in range(dim):\n",
    "            val = []\n",
    "            for depth in range(dim):\n",
    "                val.append(cube[(row,col,depth)])\n",
    "            solver.Add(sum(val) == 1)\n",
    "\n",
    "    for row in range(dim):\n",
    "        for depth in range(dim):\n",
    "            val = []\n",
    "            for col in range(dim):\n",
    "                val.append(cube[(row,col,depth)])\n",
    "            solver.Add(sum(val) == 1)\n",
    "\n",
    "    for depth in range(dim):\n",
    "        for col in range(dim):\n",
    "            val = []\n",
    "            for row in range(dim):\n",
    "                val.append(cube[(row, col, depth)])\n",
    "            solver.Add(sum(val) == 1)\n",
    "\n",
    "    for i in range(dim):\n",
    "        corner_y = i - i % N\n",
    "        for j in range(dim):\n",
    "            corner_x = j - j % N\n",
    "            for depth in range(dim):\n",
    "                val = []\n",
    "                for row in range(N):\n",
    "                    for col in range(N):\n",
    "                        val.append(cube[corner_y + row, corner_x + col, depth])\n",
    "                solver.Add(sum(val) == 1)\n",
    "\n",
    "    for i in range(N):\n",
    "        randoms = []\n",
    "        row = random.randint(0,dim-1)\n",
    "        col = random.randint(0,dim-1)\n",
    "        depth = random.randint(1, dim - 1)\n",
    "        while (row,col) in randoms:\n",
    "            row = random.randint(0,dim-1)\n",
    "            col = random.randint(0,dim-1)\n",
    "        solver.Add(cube[(row,col,depth)] == 1)\n",
    "    \n",
    "    status = solver.Solve()\n",
    "    if status == pywraplp.Solver.OPTIMAL:\n",
    "        mat = converter(cube, dim)\n",
    "        while(delete > 0):\n",
    "            row = random.randint(0,dim-1)\n",
    "            col = random.randint(0,dim-1)\n",
    "            while mat[row][col] == 0:\n",
    "                row = random.randint(0, dim-1)\n",
    "                col = random.randint(0, dim-1)\n",
    "            mat[row][col] = 0\n",
    "            delete -=1\n",
    "        \n",
    "        return mat\n",
    "    else:\n",
    "        return False"
   ]
  },
  {
   "cell_type": "code",
   "execution_count": 13,
   "id": "df1bdaf6",
   "metadata": {},
   "outputs": [
    {
     "name": "stdout",
     "output_type": "stream",
     "text": [
      "-------------------------\n",
      "| 0 9 0 | 7 0 0 | 0 3 0 | \n",
      "| 0 5 4 | 2 0 3 | 9 6 0 | \n",
      "| 0 0 0 | 0 4 1 | 8 0 5 | \n",
      "-------------------------\n",
      "| 0 7 0 | 0 5 2 | 0 0 0 | \n",
      "| 0 0 0 | 0 1 9 | 0 0 0 | \n",
      "| 5 0 0 | 0 3 0 | 0 4 0 | \n",
      "-------------------------\n",
      "| 4 8 0 | 0 7 6 | 1 0 3 | \n",
      "| 0 6 0 | 0 2 0 | 0 0 4 | \n",
      "| 0 0 0 | 3 0 4 | 0 0 6 | \n",
      "-------------------------\n"
     ]
    }
   ],
   "source": [
    "mat = sudoku_generator(3,0.4)\n",
    "if mat:\n",
    "    print_sudoku(mat)\n"
   ]
  },
  {
   "cell_type": "markdown",
   "id": "566b0b24",
   "metadata": {},
   "source": [
    "### Outra forma de inicializar o sudoku mas que produz sudokus impossiveis"
   ]
  },
  {
   "cell_type": "code",
   "execution_count": 15,
   "id": "6602ea78",
   "metadata": {},
   "outputs": [],
   "source": [
    "def check(sudoku, row, column, number):\n",
    "    if number in sudoku[row]:\n",
    "        return False\n",
    "    for r in sudoku:\n",
    "        if r[column] == number:\n",
    "            return False\n",
    "    n = int(math.sqrt(len(sudoku)))\n",
    "    r = (row // n) * n\n",
    "    c = (column // n) * n\n",
    "    for i in range(n):\n",
    "        for j in range(n):\n",
    "            if sudoku[r+i][c+j] == number:\n",
    "                return False\n",
    "    return True\n",
    "\n",
    "def sudoku_generator_simple(N, alpha):\n",
    "    dim = N*N\n",
    "    filled = int(dim * dim * alpha)\n",
    "    mat = [[0 for a in range(dim)] for a in range(dim)]\n",
    "    while(filled > 0):\n",
    "        row = random.randint(0,dim-1)\n",
    "        col = random.randint(0,dim-1)\n",
    "        number = random.randint(1, dim - 1)\n",
    "        while(mat[row][col] != 0 or not check(mat,row,col,number)):\n",
    "            row = random.randint(0, dim-1)\n",
    "            col = random.randint(0, dim-1)\n",
    "            number = random.randint(1,dim-1)\n",
    "        mat[row][col] = number\n",
    "        filled -=1\n",
    "\n",
    "    return mat"
   ]
  },
  {
   "cell_type": "code",
   "execution_count": 16,
   "id": "5d2eaa06",
   "metadata": {},
   "outputs": [
    {
     "name": "stdout",
     "output_type": "stream",
     "text": [
      "0   0   0   0   0   4   0   0   1   0   0   0   3   0   0   0   0   0   12  0   0   0   0   0   0   \n",
      "0   0   0   11  0   0   0   0   0   0   17  0   5   0   6   0   0   0   0   0   0   0   8   0   12  \n",
      "0   0   0   0   0   0   21  0   0   22  0   0   7   0   0   0   0   20  10  1   0   0   19  0   0   \n",
      "0   6   0   16  0   0   0   0   9   0   0   0   0   0   0   0   0   0   3   0   0   0   22  5   0   \n",
      "0   0   21  0   0   0   0   0   0   0   0   0   0   0   0   0   0   16  0   14  0   0   0   0   0   \n",
      "0   0   0   24  0   0   0   0   0   0   0   0   0   0   0   8   14  0   0   0   5   0   23  0   20  \n",
      "0   0   0   0   7   0   0   0   0   18  0   0   0   15  0   0   0   0   0   0   8   0   0   3   14  \n",
      "15  0   0   0   0   0   0   19  0   0   0   0   0   0   0   0   1   0   0   0   0   0   0   0   4   \n",
      "0   0   0   21  0   0   24  0   0   0   0   0   0   0   0   23  0   0   0   0   0   0   10  0   0   \n",
      "0   22  1   2   0   0   0   9   14  8   0   0   0   0   0   24  0   0   15  0   0   0   0   0   0   \n",
      "0   0   0   0   0   17  6   0   0   0   0   0   0   5   12  0   0   0   0   0   0   24  21  0   0   \n",
      "21  0   0   0   14  0   22  3   0   0   0   0   0   0   0   9   0   13  1   0   0   2   17  0   0   \n",
      "0   0   0   0   0   0   0   1   0   0   0   23  0   0   0   0   20  0   0   0   0   0   0   0   0   \n",
      "10  0   0   12  0   0   0   0   0   0   0   0   0   0   0   0   11  23  7   0   0   0   0   0   0   \n",
      "0   0   0   0   0   0   0   0   5   0   0   0   0   0   0   0   0   0   0   2   13  0   0   0   0   \n",
      "0   24  0   0   11  0   0   6   0   0   0   0   0   0   0   0   0   0   0   0   20  21  0   9   0   \n",
      "0   5   0   0   22  0   0   0   0   0   0   0   1   0   0   0   0   0   0   0   0   0   0   0   13  \n",
      "6   7   0   0   0   0   0   8   0   0   0   0   0   0   22  0   0   0   0   0   0   0   0   0   0   \n",
      "0   15  2   0   0   0   0   0   0   0   0   0   0   7   0   0   0   0   0   0   0   0   0   0   0   \n",
      "0   0   0   0   0   16  0   0   0   0   0   0   0   0   0   0   0   10  0   23  6   0   0   0   0   \n",
      "0   0   13  0   0   0   2   0   0   0   0   0   16  0   0   0   0   0   0   0   0   0   0   0   0   \n",
      "0   0   0   0   0   0   8   15  0   0   0   0   0   0   0   0   0   14  0   0   0   0   0   0   0   \n",
      "0   4   0   0   0   0   0   0   0   17  10  0   0   0   8   0   0   0   0   9   0   0   0   0   0   \n",
      "0   0   0   20  0   0   0   0   0   0   0   0   0   0   3   0   7   0   0   0   0   0   1   18  0   \n",
      "0   0   0   0   0   18  0   0   0   5   0   20  0   24  0   0   0   8   6   0   0   0   0   11  22  \n"
     ]
    }
   ],
   "source": [
    "mat = sudoku_generator_simple(5,0.2)\n",
    "if mat:\n",
    "    print_sudoku(mat)"
   ]
  },
  {
   "cell_type": "markdown",
   "id": "8e447a43",
   "metadata": {},
   "source": [
    "### Função que resolve o sudoku"
   ]
  },
  {
   "cell_type": "code",
   "execution_count": 8,
   "id": "fd6faaaa",
   "metadata": {},
   "outputs": [],
   "source": [
    "def sudoku_solver(sudoku):\n",
    "    solver = pywraplp.Solver.CreateSolver('SCIP')\n",
    "    dim = len(sudoku)\n",
    "    num_squares = int(math.sqrt(dim))\n",
    "    cube = {}\n",
    "\n",
    "    for row in range(dim):\n",
    "        for col in range(dim):\n",
    "            for depth in range(dim):\n",
    "                cube[(row,col,depth)] = solver.BoolVar('%i%i%i' % (row,col,depth))\n",
    "\n",
    "\n",
    "    for row in range(dim):\n",
    "        for col in range(dim):\n",
    "            val = []\n",
    "            for depth in range(dim):\n",
    "                val.append(cube[(row,col,depth)])\n",
    "            solver.Add(sum(val) == 1)\n",
    "\n",
    "    for row in range(dim):\n",
    "        for depth in range(dim):\n",
    "            val = []\n",
    "            for col in range(dim):\n",
    "                val.append(cube[(row,col,depth)])\n",
    "            solver.Add(sum(val) == 1)\n",
    "\n",
    "    for depth in range(dim):\n",
    "        for col in range(dim):\n",
    "            val = []\n",
    "            for row in range(dim):\n",
    "                val.append(cube[(row, col, depth)])\n",
    "            solver.Add(sum(val) == 1)\n",
    "\n",
    "    for i in range(dim):\n",
    "        corner_y = i - i % num_squares\n",
    "        for j in range(dim):\n",
    "            corner_x = j - j % num_squares\n",
    "            for depth in range(dim):\n",
    "                val = []\n",
    "                for row in range(num_squares):\n",
    "                    for col in range(num_squares):\n",
    "                        val.append(cube[corner_y + row, corner_x + col, depth])\n",
    "                solver.Add(sum(val) == 1)\n",
    "\n",
    "    for i in range(dim):\n",
    "        for j in range(dim):\n",
    "            if sudoku[i][j] != 0:\n",
    "                solver.Add(cube[(i,j,sudoku[i][j]-1)] == 1)\n",
    "\n",
    "\n",
    "    status = solver.Solve()\n",
    "    mat = converter(cube, dim)\n",
    "    if status == pywraplp.Solver.OPTIMAL:\n",
    "        return mat\n",
    "    else:\n",
    "        return False"
   ]
  },
  {
   "cell_type": "markdown",
   "id": "489cc6f3",
   "metadata": {},
   "source": [
    "### Testes"
   ]
  },
  {
   "cell_type": "code",
   "execution_count": 23,
   "id": "b93e22e3",
   "metadata": {},
   "outputs": [],
   "source": [
    "def test_sudoku(N, alpha):\n",
    "    mat = sudoku_generator(N, alpha)\n",
    "    print_sudoku(mat)\n",
    "    print(\"\")\n",
    "    mat = sudoku_solver(mat)\n",
    "    if mat:\n",
    "        print_sudoku(mat)\n",
    "    "
   ]
  },
  {
   "cell_type": "code",
   "execution_count": 32,
   "id": "106fb6e7",
   "metadata": {},
   "outputs": [],
   "source": [
    "times = []"
   ]
  },
  {
   "cell_type": "markdown",
   "id": "7adc4b10",
   "metadata": {},
   "source": [
    "### $N = 3$<br>$\\alpha = 0.5$"
   ]
  },
  {
   "cell_type": "code",
   "execution_count": 33,
   "id": "d96b8a57",
   "metadata": {
    "scrolled": false
   },
   "outputs": [
    {
     "name": "stdout",
     "output_type": "stream",
     "text": [
      "-------------------------\n",
      "| 3 4 1 | 9 2 6 | 8 5 7 | \n",
      "| 5 7 6 | 3 4 8 | 2 9 1 | \n",
      "| 8 9 2 | 5 1 7 | 3 4 6 | \n",
      "-------------------------\n",
      "| 1 2 5 | 8 7 4 | 9 6 3 | \n",
      "| 7 3 9 | 2 6 5 | 1 8 4 | \n",
      "| 4 6 8 | 1 3 9 | 7 2 5 | \n",
      "-------------------------\n",
      "| 9 8 7 | 6 5 3 | 4 1 2 | \n",
      "| 6 1 3 | 4 8 2 | 5 7 9 | \n",
      "| 2 5 4 | 7 9 1 | 6 3 8 | \n",
      "-------------------------\n",
      "\n",
      "-------------------------\n",
      "| 3 4 1 | 9 2 6 | 8 5 7 | \n",
      "| 5 7 6 | 3 4 8 | 2 9 1 | \n",
      "| 8 9 2 | 5 1 7 | 3 4 6 | \n",
      "-------------------------\n",
      "| 1 2 5 | 8 7 4 | 9 6 3 | \n",
      "| 7 3 9 | 2 6 5 | 1 8 4 | \n",
      "| 4 6 8 | 1 3 9 | 7 2 5 | \n",
      "-------------------------\n",
      "| 9 8 7 | 6 5 3 | 4 1 2 | \n",
      "| 6 1 3 | 4 8 2 | 5 7 9 | \n",
      "| 2 5 4 | 7 9 1 | 6 3 8 | \n",
      "-------------------------\n",
      "-------------------------\n",
      "| 2 1 3 | 4 5 6 | 7 8 9 | \n",
      "| 4 6 7 | 1 8 9 | 2 5 3 | \n",
      "| 5 8 9 | 2 3 7 | 1 6 4 | \n",
      "-------------------------\n",
      "| 1 2 4 | 3 9 8 | 6 7 5 | \n",
      "| 3 7 5 | 6 1 2 | 4 9 8 | \n",
      "| 6 9 8 | 5 7 4 | 3 2 1 | \n",
      "-------------------------\n",
      "| 7 3 1 | 9 6 5 | 8 4 2 | \n",
      "| 8 5 2 | 7 4 1 | 9 3 6 | \n",
      "| 9 4 6 | 8 2 3 | 5 1 7 | \n",
      "-------------------------\n",
      "\n",
      "-------------------------\n",
      "| 2 1 3 | 4 5 6 | 7 8 9 | \n",
      "| 4 6 7 | 1 8 9 | 2 5 3 | \n",
      "| 5 8 9 | 2 3 7 | 1 6 4 | \n",
      "-------------------------\n",
      "| 1 2 4 | 3 9 8 | 6 7 5 | \n",
      "| 3 7 5 | 6 1 2 | 4 9 8 | \n",
      "| 6 9 8 | 5 7 4 | 3 2 1 | \n",
      "-------------------------\n",
      "| 7 3 1 | 9 6 5 | 8 4 2 | \n",
      "| 8 5 2 | 7 4 1 | 9 3 6 | \n",
      "| 9 4 6 | 8 2 3 | 5 1 7 | \n",
      "-------------------------\n",
      "-------------------------\n",
      "| 6 3 2 | 9 4 5 | 7 8 1 | \n",
      "| 7 4 1 | 8 2 6 | 3 5 9 | \n",
      "| 5 9 8 | 7 1 3 | 2 4 6 | \n",
      "-------------------------\n",
      "| 2 8 3 | 4 7 1 | 9 6 5 | \n",
      "| 1 7 9 | 5 6 2 | 8 3 4 | \n",
      "| 4 5 6 | 3 8 9 | 1 2 7 | \n",
      "-------------------------\n",
      "| 9 2 5 | 6 3 7 | 4 1 8 | \n",
      "| 3 6 4 | 1 9 8 | 5 7 2 | \n",
      "| 8 1 7 | 2 5 4 | 6 9 3 | \n",
      "-------------------------\n",
      "\n",
      "-------------------------\n",
      "| 6 3 2 | 9 4 5 | 7 8 1 | \n",
      "| 7 4 1 | 8 2 6 | 3 5 9 | \n",
      "| 5 9 8 | 7 1 3 | 2 4 6 | \n",
      "-------------------------\n",
      "| 2 8 3 | 4 7 1 | 9 6 5 | \n",
      "| 1 7 9 | 5 6 2 | 8 3 4 | \n",
      "| 4 5 6 | 3 8 9 | 1 2 7 | \n",
      "-------------------------\n",
      "| 9 2 5 | 6 3 7 | 4 1 8 | \n",
      "| 3 6 4 | 1 9 8 | 5 7 2 | \n",
      "| 8 1 7 | 2 5 4 | 6 9 3 | \n",
      "-------------------------\n"
     ]
    }
   ],
   "source": [
    "times.append((timeit.timeit(stmt='test_sudoku(3,0.0)', setup='from __main__ import test_sudoku',number=3 ))/3)"
   ]
  },
  {
   "cell_type": "code",
   "execution_count": 40,
   "id": "208d7bc3",
   "metadata": {},
   "outputs": [
    {
     "data": {
      "text/plain": [
       "0.1137659060001776"
      ]
     },
     "execution_count": 40,
     "metadata": {},
     "output_type": "execute_result"
    }
   ],
   "source": [
    "times[0]"
   ]
  },
  {
   "cell_type": "markdown",
   "id": "f74464d1",
   "metadata": {},
   "source": [
    "### $N = 4$<br>$\\alpha = 0.3$"
   ]
  },
  {
   "cell_type": "code",
   "execution_count": 35,
   "id": "e3da15e2",
   "metadata": {
    "scrolled": false
   },
   "outputs": [
    {
     "name": "stdout",
     "output_type": "stream",
     "text": [
      "-------------------------------------------------------------\n",
      "|  16 2  8  6  |  5  0  14 9  |  0  0  11 13 |  1  0  0  15 |  \n",
      "|  0  9  0  5  |  7  12 15 4  |  0  8  0  2  |  11 0  13 14 |  \n",
      "|  12 0  15 0  |  11 1  6  8  |  16 14 7  0  |  0  10 9  2  |  \n",
      "|  7  4  0  11 |  0  0  2  0  |  5  1  9  15 |  0  0  8  3  |  \n",
      "-------------------------------------------------------------\n",
      "|  6  14 11 4  |  13 16 1  15 |  9  5  3  0  |  12 2  7  10 |  \n",
      "|  8  7  9  0  |  4  0  5  3  |  0  2  1  12 |  16 11 6  13 |  \n",
      "|  2  10 16 13 |  0  7  9  14 |  4  6  0  11 |  3  1  5  8  |  \n",
      "|  0  1  3  12 |  8  2  11 6  |  13 16 0  7  |  15 4  14 0  |  \n",
      "-------------------------------------------------------------\n",
      "|  14 16 13 1  |  2  4  3  12 |  8  15 5  9  |  7  6  10 0  |  \n",
      "|  0  8  0  2  |  0  5  10 11 |  6  12 13 1  |  4  9  0  16 |  \n",
      "|  11 5  6  9  |  0  8  16 1  |  10 7  4  3  |  13 0  0  12 |  \n",
      "|  15 12 0  0  |  9  6  7  13 |  2  11 16 14 |  8  5  3  1  |  \n",
      "-------------------------------------------------------------\n",
      "|  1  11 12 8  |  0  9  13 2  |  7  4  14 6  |  10 15 0  5  |  \n",
      "|  13 3  10 7  |  1  11 4  5  |  15 9  0  0  |  14 8  12 6  |  \n",
      "|  9  15 5  16 |  6  14 12 0  |  0  13 0  0  |  2  3  11 0  |  \n",
      "|  0  0  2  14 |  10 15 8  16 |  11 3  12 5  |  9  13 0  7  |  \n",
      "-------------------------------------------------------------\n",
      "\n",
      "-------------------------------------------------------------\n",
      "|  16 2  8  6  |  5  3  14 9  |  12 10 11 13 |  1  7  4  15 |  \n",
      "|  10 9  1  5  |  7  12 15 4  |  3  8  6  2  |  11 16 13 14 |  \n",
      "|  12 13 15 3  |  11 1  6  8  |  16 14 7  4  |  5  10 9  2  |  \n",
      "|  7  4  14 11 |  16 13 2  10 |  5  1  9  15 |  6  12 8  3  |  \n",
      "-------------------------------------------------------------\n",
      "|  6  14 11 4  |  13 16 1  15 |  9  5  3  8  |  12 2  7  10 |  \n",
      "|  8  7  9  15 |  4  10 5  3  |  14 2  1  12 |  16 11 6  13 |  \n",
      "|  2  10 16 13 |  12 7  9  14 |  4  6  15 11 |  3  1  5  8  |  \n",
      "|  5  1  3  12 |  8  2  11 6  |  13 16 10 7  |  15 4  14 9  |  \n",
      "-------------------------------------------------------------\n",
      "|  14 16 13 1  |  2  4  3  12 |  8  15 5  9  |  7  6  10 11 |  \n",
      "|  3  8  7  2  |  14 5  10 11 |  6  12 13 1  |  4  9  15 16 |  \n",
      "|  11 5  6  9  |  15 8  16 1  |  10 7  4  3  |  13 14 2  12 |  \n",
      "|  15 12 4  10 |  9  6  7  13 |  2  11 16 14 |  8  5  3  1  |  \n",
      "-------------------------------------------------------------\n",
      "|  1  11 12 8  |  3  9  13 2  |  7  4  14 6  |  10 15 16 5  |  \n",
      "|  13 3  10 7  |  1  11 4  5  |  15 9  2  16 |  14 8  12 6  |  \n",
      "|  9  15 5  16 |  6  14 12 7  |  1  13 8  10 |  2  3  11 4  |  \n",
      "|  4  6  2  14 |  10 15 8  16 |  11 3  12 5  |  9  13 1  7  |  \n",
      "-------------------------------------------------------------\n",
      "-------------------------------------------------------------\n",
      "|  14 11 1  0  |  5  2  0  13 |  16 3  9  10 |  8  6  7  12 |  \n",
      "|  10 6  2  7  |  3  1  14 9  |  12 8  5  0  |  0  0  0  15 |  \n",
      "|  16 8  0  12 |  4  7  11 10 |  6  0  2  15 |  0  3  1  5  |  \n",
      "|  13 3  0  15 |  6  8  16 12 |  0  1  11 7  |  9  14 2  10 |  \n",
      "-------------------------------------------------------------\n",
      "|  6  16 13 11 |  14 12 9  5  |  1  10 8  2  |  15 0  4  3  |  \n",
      "|  8  2  0  0  |  1  15 10 4  |  9  0  0  0  |  12 5  11 6  |  \n",
      "|  1  0  4  10 |  0  6  13 3  |  5  12 0  14 |  2  16 8  9  |  \n",
      "|  0  9  12 5  |  8  16 2  7  |  3  11 4  0  |  14 10 13 1  |  \n",
      "-------------------------------------------------------------\n",
      "|  11 10 6  9  |  2  13 0  15 |  0  0  3  8  |  1  0  0  7  |  \n",
      "|  0  1  8  16 |  7  0  0  0  |  11 15 6  12 |  10 2  3  13 |  \n",
      "|  7  4  14 3  |  12 10 6  8  |  2  13 1  5  |  11 15 9  16 |  \n",
      "|  12 13 15 2  |  0  3  0  11 |  0  4  0  9  |  0  8  5  14 |  \n",
      "-------------------------------------------------------------\n",
      "|  4  15 11 1  |  13 0  0  6  |  7  9  10 3  |  16 0  14 2  |  \n",
      "|  0  12 10 0  |  0  14 3  0  |  0  0  16 11 |  7  13 15 4  |  \n",
      "|  9  0  7  13 |  10 0  12 16 |  15 2  0  4  |  3  1  6  8  |  \n",
      "|  3  14 16 8  |  15 4  7  0  |  13 6  12 0  |  5  9  0  11 |  \n",
      "-------------------------------------------------------------\n",
      "\n",
      "-------------------------------------------------------------\n",
      "|  14 11 1  4  |  5  2  15 13 |  16 3  9  10 |  8  6  7  12 |  \n",
      "|  10 6  2  7  |  3  1  14 9  |  12 8  5  13 |  4  11 16 15 |  \n",
      "|  16 8  9  12 |  4  7  11 10 |  6  14 2  15 |  13 3  1  5  |  \n",
      "|  13 3  5  15 |  6  8  16 12 |  4  1  11 7  |  9  14 2  10 |  \n",
      "-------------------------------------------------------------\n",
      "|  6  16 13 11 |  14 12 9  5  |  1  10 8  2  |  15 7  4  3  |  \n",
      "|  8  2  3  14 |  1  15 10 4  |  9  7  13 16 |  12 5  11 6  |  \n",
      "|  1  7  4  10 |  11 6  13 3  |  5  12 15 14 |  2  16 8  9  |  \n",
      "|  15 9  12 5  |  8  16 2  7  |  3  11 4  6  |  14 10 13 1  |  \n",
      "-------------------------------------------------------------\n",
      "|  11 10 6  9  |  2  13 5  15 |  14 16 3  8  |  1  4  12 7  |  \n",
      "|  5  1  8  16 |  7  9  4  14 |  11 15 6  12 |  10 2  3  13 |  \n",
      "|  7  4  14 3  |  12 10 6  8  |  2  13 1  5  |  11 15 9  16 |  \n",
      "|  12 13 15 2  |  16 3  1  11 |  10 4  7  9  |  6  8  5  14 |  \n",
      "-------------------------------------------------------------\n",
      "|  4  15 11 1  |  13 5  8  6  |  7  9  10 3  |  16 12 14 2  |  \n",
      "|  2  12 10 6  |  9  14 3  1  |  8  5  16 11 |  7  13 15 4  |  \n",
      "|  9  5  7  13 |  10 11 12 16 |  15 2  14 4  |  3  1  6  8  |  \n",
      "|  3  14 16 8  |  15 4  7  2  |  13 6  12 1  |  5  9  10 11 |  \n",
      "-------------------------------------------------------------\n",
      "-------------------------------------------------------------\n",
      "|  1  3  7  6  |  0  0  4  2  |  5  0  9  11 |  12 0  0  8  |  \n",
      "|  0  0  0  12 |  5  8  9  15 |  0  6  14 16 |  1  13 10 7  |  \n",
      "|  9  16 13 5  |  12 3  6  1  |  0  8  7  15 |  14 11 2  4  |  \n",
      "|  15 14 8  10 |  7  11 0  0  |  2  0  4  1  |  3  5  9  6  |  \n",
      "-------------------------------------------------------------\n",
      "|  0  10 15 14 |  0  6  1  8  |  11 5  2  0  |  7  3  12 16 |  \n",
      "|  8  6  5  1  |  15 2  14 7  |  12 3  16 9  |  0  0  13 10 |  \n",
      "|  2  9  0  4  |  10 16 11 3  |  8  7  1  13 |  15 6  14 5  |  \n",
      "|  0  7  3  16 |  0  12 5  4  |  6  14 15 10 |  0  2  1  0  |  \n",
      "-------------------------------------------------------------\n",
      "|  10 12 0  15 |  11 7  3  9  |  1  0  5  6  |  13 0  4  14 |  \n",
      "|  7  5  4  8  |  2  15 10 14 |  9  16 0  0  |  0  1  0  0  |  \n",
      "|  0  11 2  9  |  0  5  13 16 |  14 4  8  12 |  0  7  3  0  |  \n",
      "|  14 13 1  3  |  6  4  8  12 |  0  11 0  7  |  0  0  16 2  |  \n",
      "-------------------------------------------------------------\n",
      "|  16 0  9  11 |  8  13 15 6  |  7  10 0  2  |  4  14 5  0  |  \n",
      "|  5  8  6  13 |  16 1  2  10 |  4  15 3  14 |  9  0  7  11 |  \n",
      "|  3  15 14 7  |  0  9  0  5  |  16 1  11 8  |  2  10 6  0  |  \n",
      "|  12 0  10 2  |  3  0  0  0  |  0  9  6  5  |  16 15 8  1  |  \n",
      "-------------------------------------------------------------\n",
      "\n",
      "-------------------------------------------------------------\n",
      "|  1  3  7  6  |  14 10 4  2  |  5  13 9  11 |  12 16 15 8  |  \n",
      "|  4  2  11 12 |  5  8  9  15 |  3  6  14 16 |  1  13 10 7  |  \n",
      "|  9  16 13 5  |  12 3  6  1  |  10 8  7  15 |  14 11 2  4  |  \n",
      "|  15 14 8  10 |  7  11 16 13 |  2  12 4  1  |  3  5  9  6  |  \n",
      "-------------------------------------------------------------\n",
      "|  13 10 15 14 |  9  6  1  8  |  11 5  2  4  |  7  3  12 16 |  \n",
      "|  8  6  5  1  |  15 2  14 7  |  12 3  16 9  |  11 4  13 10 |  \n",
      "|  2  9  12 4  |  10 16 11 3  |  8  7  1  13 |  15 6  14 5  |  \n",
      "|  11 7  3  16 |  13 12 5  4  |  6  14 15 10 |  8  2  1  9  |  \n",
      "-------------------------------------------------------------\n",
      "|  10 12 16 15 |  11 7  3  9  |  1  2  5  6  |  13 8  4  14 |  \n",
      "|  7  5  4  8  |  2  15 10 14 |  9  16 13 3  |  6  1  11 12 |  \n",
      "|  6  11 2  9  |  1  5  13 16 |  14 4  8  12 |  10 7  3  15 |  \n",
      "|  14 13 1  3  |  6  4  8  12 |  15 11 10 7  |  5  9  16 2  |  \n",
      "-------------------------------------------------------------\n",
      "|  16 1  9  11 |  8  13 15 6  |  7  10 12 2  |  4  14 5  3  |  \n",
      "|  5  8  6  13 |  16 1  2  10 |  4  15 3  14 |  9  12 7  11 |  \n",
      "|  3  15 14 7  |  4  9  12 5  |  16 1  11 8  |  2  10 6  13 |  \n",
      "|  12 4  10 2  |  3  14 7  11 |  13 9  6  5  |  16 15 8  1  |  \n",
      "-------------------------------------------------------------\n"
     ]
    }
   ],
   "source": [
    "times.append((timeit.timeit(stmt='test_sudoku(4,0.2)', setup='from __main__ import test_sudoku',number=3 ))/3)"
   ]
  },
  {
   "cell_type": "code",
   "execution_count": 41,
   "id": "f63d73a6",
   "metadata": {},
   "outputs": [
    {
     "data": {
      "text/plain": [
       "3.3533036086667685"
      ]
     },
     "execution_count": 41,
     "metadata": {},
     "output_type": "execute_result"
    }
   ],
   "source": [
    "times[1]"
   ]
  },
  {
   "cell_type": "markdown",
   "id": "216b4667",
   "metadata": {},
   "source": [
    "### $N = 5$<br>$\\alpha = 0.2$"
   ]
  },
  {
   "cell_type": "code",
   "execution_count": 38,
   "id": "4569fe68",
   "metadata": {},
   "outputs": [
    {
     "name": "stdout",
     "output_type": "stream",
     "text": [
      "7   2   25  23  19  15  22  10  0   0   0   0   12  5   0   13  0   0   11  4   0   8   0   0   24  \n",
      "0   0   3   6   15  7   0   11  0   17  0   25  0   0   2   0   0   24  0   22  4   23  0   0   1   \n",
      "4   9   0   1   22  0   2   20  23  5   11  0   24  7   19  25  0   0   0   18  10  6   0   13  14  \n",
      "0   0   21  10  24  0   18  12  0   8   9   0   3   23  6   7   0   14  2   0   0   25  15  0   11  \n",
      "17  0   11  0   14  0   9   3   25  0   4   0   8   10  0   19  0   5   15  0   7   12  22  0   0   \n",
      "20  0   24  0   12  18  16  19  0   0   10  2   1   22  0   15  5   25  0   17  3   13  0   6   8   \n",
      "11  0   0   9   0   0   0   0   12  1   15  3   0   0   13  24  22  0   6   0   21  5   0   0   2   \n",
      "0   19  0   0   6   0   20  0   11  0   0   0   0   9   7   1   2   13  0   0   15  24  23  0   0   \n",
      "0   0   0   3   13  22  0   0   0   0   17  0   19  0   21  0   0   0   9   0   0   0   4   25  0   \n",
      "8   18  1   25  0   3   0   0   0   13  0   0   23  16  0   14  4   21  19  0   12  22  0   20  9   \n",
      "21  0   20  13  5   2   0   0   15  4   1   0   0   19  11  8   0   12  18  14  0   0   17  23  25  \n",
      "0   16  0   15  8   21  6   18  10  0   14  0   2   17  0   20  0   0   13  5   0   4   12  1   0   \n",
      "25  11  0   0   0   0   13  0   0   9   5   10  20  0   8   4   0   6   21  7   0   16  2   24  15  \n",
      "3   0   2   0   4   20  0   25  16  0   0   12  21  0   0   23  10  1   22  0   14  7   0   8   0   \n",
      "0   0   22  7   0   19  0   5   0   12  25  4   13  6   23  0   0   0   0   0   0   21  10  0   0   \n",
      "6   0   19  0   0   5   21  0   0   14  0   23  0   0   0   0   11  4   17  24  16  9   1   0   3   \n",
      "2   15  18  22  3   0   12  0   0   0   16  21  11  25  9   0   14  19  1   0   13  0   8   0   23  \n",
      "0   0   13  0   0   0   0   0   0   0   0   20  22  14  0   16  3   0   23  2   0   0   0   18  7   \n",
      "9   14  7   5   10  23  3   16  0   0   2   13  6   1   17  22  8   0   20  0   0   11  21  0   12  \n",
      "23  17  16  24  0   6   11  9   22  15  8   19  0   0   0   21  13  7   5   0   2   20  0   14  10  \n",
      "0   13  0   14  25  12  15  6   0   0   0   16  17  2   20  0   23  0   0   0   0   10  9   0   0   \n",
      "0   24  0   2   21  0   4   13  0   0   23  0   0   0   10  5   20  8   0   19  25  0   16  0   6   \n",
      "16  0   4   0   23  11  24  21  0   10  0   6   9   8   1   2   0   22  25  15  5   19  14  3   0   \n",
      "19  22  5   11  7   9   23  14  0   0   3   0   0   0   25  0   17  10  0   0   8   0   20  0   13  \n",
      "10  3   0   18  17  0   0   0   0   20  0   0   5   0   0   0   0   16  12  13  23  2   24  15  22  \n",
      "\n",
      "7   2   25  23  19  15  22  10  14  6   21  17  12  5   16  13  1   3   11  4   20  8   18  9   24  \n",
      "18  8   3   6   15  7   19  11  21  17  20  25  14  13  2   9   12  24  10  22  4   23  5   16  1   \n",
      "4   9   12  1   22  16  2   20  23  5   11  15  24  7   19  25  21  17  8   18  10  6   3   13  14  \n",
      "13  5   21  10  24  1   18  12  4   8   9   22  3   23  6   7   16  14  2   20  17  25  15  19  11  \n",
      "17  20  11  16  14  13  9   3   25  24  4   1   8   10  18  19  6   5   15  23  7   12  22  2   21  \n",
      "20  21  24  4   12  18  16  19  9   23  10  2   1   22  14  15  5   25  7   17  3   13  11  6   8   \n",
      "11  23  10  9   16  25  14  7   12  1   15  3   4   18  13  24  22  20  6   8   21  5   19  17  2   \n",
      "22  19  14  17  6   4   20  8   11  21  12  5   25  9   7   1   2   13  16  3   15  24  23  10  18  \n",
      "5   7   15  3   13  22  10  24  6   2   17  8   19  20  21  12  18  23  9   11  1   14  4   25  16  \n",
      "8   18  1   25  2   3   5   15  17  13  6   11  23  16  24  14  4   21  19  10  12  22  7   20  9   \n",
      "21  10  20  13  5   2   7   22  15  4   1   9   16  19  11  8   24  12  18  14  6   3   17  23  25  \n",
      "24  16  23  15  8   21  6   18  10  3   14  7   2   17  22  20  25  11  13  5   9   4   12  1   19  \n",
      "25  11  17  12  18  14  13  23  1   9   5   10  20  3   8   4   19  6   21  7   22  16  2   24  15  \n",
      "3   6   2   19  4   20  17  25  16  11  18  12  21  24  15  23  10  1   22  9   14  7   13  8   5   \n",
      "14  1   22  7   9   19  8   5   24  12  25  4   13  6   23  17  15  2   3   16  18  21  10  11  20  \n",
      "6   25  19  8   20  5   21  2   13  14  7   23  10  15  12  18  11  4   17  24  16  9   1   22  3   \n",
      "2   15  18  22  3   24  12  4   20  7   16  21  11  25  9   10  14  19  1   6   13  17  8   5   23  \n",
      "12  4   13  21  11  10  1   17  8   25  24  20  22  14  5   16  3   9   23  2   19  15  6   18  7   \n",
      "9   14  7   5   10  23  3   16  19  18  2   13  6   1   17  22  8   15  20  25  24  11  21  4   12  \n",
      "23  17  16  24  1   6   11  9   22  15  8   19  18  4   3   21  13  7   5   12  2   20  25  14  10  \n",
      "1   13  8   14  25  12  15  6   5   19  22  16  17  2   20  3   23  18  24  21  11  10  9   7   4   \n",
      "15  24  9   2   21  17  4   13  3   22  23  18  7   11  10  5   20  8   14  19  25  1   16  12  6   \n",
      "16  12  4   20  23  11  24  21  18  10  13  6   9   8   1   2   7   22  25  15  5   19  14  3   17  \n",
      "19  22  5   11  7   9   23  14  2   16  3   24  15  12  25  6   17  10  4   1   8   18  20  21  13  \n",
      "10  3   6   18  17  8   25  1   7   20  19  14  5   21  4   11  9   16  12  13  23  2   24  15  22  \n"
     ]
    }
   ],
   "source": [
    "times.append(timeit.timeit(stmt='test_sudoku(5,0.4)', setup='from __main__ import test_sudoku',number=1 ))"
   ]
  },
  {
   "cell_type": "code",
   "execution_count": 42,
   "id": "bdee51e2",
   "metadata": {},
   "outputs": [
    {
     "data": {
      "text/plain": [
       "288.8575999910008"
      ]
     },
     "execution_count": 42,
     "metadata": {},
     "output_type": "execute_result"
    }
   ],
   "source": [
    "times[2]"
   ]
  },
  {
   "cell_type": "markdown",
   "id": "c75ff070",
   "metadata": {},
   "source": [
    "### Tempos de Execução"
   ]
  },
  {
   "cell_type": "code",
   "execution_count": 44,
   "id": "bbb9b5ca",
   "metadata": {},
   "outputs": [
    {
     "data": {
      "text/plain": [
       "[0.1137659060001776, 3.3533036086667685, 288.8575999910008]"
      ]
     },
     "execution_count": 44,
     "metadata": {},
     "output_type": "execute_result"
    }
   ],
   "source": [
    "times"
   ]
  },
  {
   "cell_type": "markdown",
   "id": "3588505a",
   "metadata": {},
   "source": [
    "Para $N = 5$ a função demora varios minutos a executar, o que deve ser provocado pelo ao facto de as soluções terem complexidade exponencial em $N$. Neste caso, o problema vai ter $\\,5^2\\times 5^2\\times 5^2\\, = \\,25^3\\, = 15625$ variaveis."
   ]
  }
 ],
 "metadata": {
  "kernelspec": {
   "display_name": "Python 3 (ipykernel)",
   "language": "python",
   "name": "python3"
  },
  "language_info": {
   "codemirror_mode": {
    "name": "ipython",
    "version": 3
   },
   "file_extension": ".py",
   "mimetype": "text/x-python",
   "name": "python",
   "nbconvert_exporter": "python",
   "pygments_lexer": "ipython3",
   "version": "3.8.10"
  }
 },
 "nbformat": 4,
 "nbformat_minor": 5
}
