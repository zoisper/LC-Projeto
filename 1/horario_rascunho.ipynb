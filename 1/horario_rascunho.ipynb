{
 "cells": [
  {
   "cell_type": "markdown",
   "id": "f52c1ae9",
   "metadata": {},
   "source": [
    "**Pedro Paulo da Costa Pereira - A88062**<br>\n",
    "**Tiago André Oliveira Leite - A91693**"
   ]
  },
  {
   "cell_type": "markdown",
   "id": "ac2c1667",
   "metadata": {},
   "source": [
    "# <center>TP1 Logica Computacional</center>"
   ]
  },
  {
   "cell_type": "markdown",
   "id": "2f8402fb",
   "metadata": {},
   "source": [
    "## Problema 1 - Horário"
   ]
  },
  {
   "cell_type": "code",
   "execution_count": 2,
   "id": "f71ca04a",
   "metadata": {},
   "outputs": [],
   "source": [
    "from ortools.linear_solver import pywraplp"
   ]
  },
  {
   "cell_type": "code",
   "execution_count": 1,
   "id": "256dd9b2",
   "metadata": {},
   "outputs": [],
   "source": [
    "def print_schedule(reunions, days, slots, rooms, projects, employes):\n",
    "    for p in projects:\n",
    "        print(f'Projeto:{p}')\n",
    "        leader = projetos[p][0]\n",
    "        for d in days:\n",
    "            for s in slots:\n",
    "                for r in rooms:\n",
    "                    if reunions[(d,s,r,p,leader)].solution_value() == 1:\n",
    "                        print(f'Dia: {d} Slot: {s} Sala: {r}')\n",
    "                        print(\"Colaboradores:\", end= \" \")\n",
    "                        print(f'*{leader}', end=\" \")\n",
    "                        for e in employes:\n",
    "                            if reunions[(d,s,r,p,e)].solution_value()== 1 and e != leader:\n",
    "                                print(f'{e}', end=\" \")\n",
    "                        print(\"\")\n",
    "        print(\"\")\n",
    "    "
   ]
  },
  {
   "cell_type": "code",
   "execution_count": 3,
   "id": "722da0ae",
   "metadata": {},
   "outputs": [],
   "source": [
    "def make_schedule(num_days, num_slots, num_rooms, projs, availability):\n",
    "\n",
    "\n",
    "    rooms = [x for x in range(1,num_rooms+1)]\n",
    "    days = [x for x in range(1,num_days+1)]\n",
    "    slots = [x for x in range(1,num_slots+1)]\n",
    "    projects = [x for x in range(1,len(projs)+1)]\n",
    "    employes = [x for x in range(1, len(availability)+1)]\n",
    "    leaders = {projs[p][0] for p in projects}\n",
    "    \n",
    "\n",
    "    solver = pywraplp.Solver.CreateSolver('SCIP')\n",
    "    reunions ={}\n",
    "\n",
    "    #inicializar vairiaveis\n",
    "    for d in days:\n",
    "        for s in slots:\n",
    "            for r in rooms:\n",
    "                for p in projects:\n",
    "                    for e in employes:\n",
    "                        reunions[(d,s,r,p,e)] = solver.BoolVar('%i%i%i%i%i' %(d,s,r,p,e))\n",
    "\n",
    "    #funcionarios so vao as reunioes que podem\n",
    "    for e in employes:\n",
    "        for d in days:\n",
    "            for s in slots:\n",
    "                if (d,s) not in availability[e]:\n",
    "                    for r in rooms:\n",
    "                        for p in projects:\n",
    "                            solver.Add(reunions[(d,s,r,p,e)] == 0)\n",
    "\n",
    "    #funcionarios so nos seus projetos:\n",
    "    for e in employes:\n",
    "        for p in projects:\n",
    "            if e not in projs[p][1]:\n",
    "                for d in days:\n",
    "                    for s in slots:\n",
    "                        for r in rooms:\n",
    "                            solver.Add(reunions[(d,s,r,p,e)] == 0)\n",
    "\n",
    "\n",
    "    #sala so pode ter uma reuniao ao mesmo tempo\n",
    "    for r in rooms:\n",
    "        for d in days:\n",
    "            for s in slots:\n",
    "                solver.Add(sum([reunions[(d,s,r,p,l)] for p in projects for l in leaders]) <=1)\n",
    "\n",
    "    # reuniao so quando ha lider\n",
    "    for d in days:\n",
    "        for s in slots:\n",
    "            for r in rooms:\n",
    "                for p in projects:\n",
    "                    leader = projs[p][0]\n",
    "                    for e in employes:\n",
    "                        solver.Add(reunions[d,s,r,p,leader] >= reunions[d,s,r,p,e])\n",
    "    \n",
    "    # colaborador so pode esta num sitio ao mesmo tempo\n",
    "    for d in days:\n",
    "        for s in slots:\n",
    "            for p in projects:\n",
    "                for e in employes:\n",
    "                    solver.Add(sum([reunions[(d,s,r,p,e)] for r in rooms]) <=1)\n",
    "        \n",
    "\n",
    "    # reuniao com quorum minimo de 50%:\n",
    "    for d in days:\n",
    "        for s in slots:\n",
    "            for r in rooms:\n",
    "                for p in projects:\n",
    "                    leader = projs[p][0]\n",
    "                    quorum = len(projs[p][1]) /2\n",
    "                    solver.Add(sum([reunions[(d,s,r,p,e)] for e in employes]) >= (reunions[(d,s,r,p,leader)] * quorum))\n",
    "\n",
    "    #numero minimo de reunioes\n",
    "    for p in projects:\n",
    "        num_reunions = projetos[p][2]\n",
    "        leader = projetos[p][0]\n",
    "        solver.Add(sum([reunions[(d,s,r,p,leader)] for d in days for s in slots for r in rooms]) == num_reunions)\n",
    "\n",
    "\n",
    "\n",
    "    status = solver.Solve()\n",
    "    if status == pywraplp.Solver.OPTIMAL:\n",
    "        print_schedule(reunions, days, slots, rooms, projects, employes)\n",
    "    else:\n",
    "        print(\"Nao é possivel construir o hórario\")"
   ]
  },
  {
   "cell_type": "code",
   "execution_count": 4,
   "id": "e3becd93",
   "metadata": {},
   "outputs": [],
   "source": [
    "projetos = {}\n",
    "projetos[1] = (1,[1,2,3],2)\n",
    "projetos[2] = (4,[1,4,2],1)\n",
    "projetos[3] = (3,[3,5,2],2)\n",
    "\n",
    "\n",
    "availability = {}\n",
    "availability[1] = [(a,b) for a in range(1,6) for b in range(1,5)]\n",
    "availability[2] = [(a,b) for a in range(1,6) for b in range(1,8)]\n",
    "availability[3] = [(a,b) for a in range(1,6) for b in range(6,8)]\n",
    "availability[4] = [(a,b) for a in range(1,6) for b in range(4,8)]\n",
    "availability[5] = [(a,b) for a in range(1,6) for b in range(4,8)]"
   ]
  },
  {
   "cell_type": "code",
   "execution_count": 5,
   "id": "3e2627b6",
   "metadata": {},
   "outputs": [
    {
     "name": "stdout",
     "output_type": "stream",
     "text": [
      "Projeto:1\n",
      "Dia: 4 Slot: 1 Sala: 2\n",
      "Colaboradores: *1 2 \n",
      "Dia: 4 Slot: 2 Sala: 2\n",
      "Colaboradores: *1 2 \n",
      "\n",
      "Projeto:2\n",
      "Dia: 1 Slot: 5 Sala: 1\n",
      "Colaboradores: *4 2 \n",
      "\n",
      "Projeto:3\n",
      "Dia: 2 Slot: 7 Sala: 1\n",
      "Colaboradores: *3 2 5 \n",
      "Dia: 5 Slot: 7 Sala: 1\n",
      "Colaboradores: *3 2 5 \n",
      "\n"
     ]
    }
   ],
   "source": [
    "make_schedule(5,8,2,projetos,availability)"
   ]
  },
  {
   "cell_type": "code",
   "execution_count": null,
   "id": "d81e5b81",
   "metadata": {},
   "outputs": [],
   "source": []
  },
  {
   "cell_type": "code",
   "execution_count": null,
   "id": "c6e8febb",
   "metadata": {},
   "outputs": [],
   "source": []
  }
 ],
 "metadata": {
  "kernelspec": {
   "display_name": "Python 3 (ipykernel)",
   "language": "python",
   "name": "python3"
  },
  "language_info": {
   "codemirror_mode": {
    "name": "ipython",
    "version": 3
   },
   "file_extension": ".py",
   "mimetype": "text/x-python",
   "name": "python",
   "nbconvert_exporter": "python",
   "pygments_lexer": "ipython3",
   "version": "3.8.10"
  }
 },
 "nbformat": 4,
 "nbformat_minor": 5
}
