{
 "cells": [
  {
   "cell_type": "markdown",
   "metadata": {
    "id": "FTIEm6c2lYrx"
   },
   "source": [
    "# **TP1 - Grupo 4**\n",
    "Pedro Paulo Costa Pereira - A88062\n",
    "\n",
    "Tiago André Oliveira Leite - A91693"
   ]
  },
  {
   "cell_type": "markdown",
   "metadata": {
    "id": "NmCzJN1XH6FX"
   },
   "source": [
    "# **Problema 1 - Horário de uma StartUp**\n",
    "\n",
    "\n",
    "Pretende-se construir um horário semanal para o plano de reuniões de projeto de uma “StartUp” de acordo com as seguintes condições:\n",
    "1. Cada reunião ocupa uma sala (enumeradas $1...S\\,$) durante um “slot” $(tempo,dia)$.  Assume-se os dias enumerados $1..D$ e, em cada dia, os tempos enumerados $1..T$.\n",
    "2.  Cada reunião tem associado um projeto (enumerados $1..P$) e um conjunto de participantes. Os diferentes colaboradores são enumerados $1..C$.\n",
    "3. Cada projeto tem associado um conjunto de colaboradores, dos quais um  é o líder. Cada projeto realiza um dado número de reuniões semanais. São “inputs” do problema o conjunto de colaboradores de cada projeto, o seu líder e o número de reuniões semanais.\n",
    "4. O líder do projeto participa em todas as reuniões do seu projeto; os restantes colaboradores podem ou não participar consoante a sua disponibilidade, num mínimo (“quorum”) de  $50\\%$ do total de colaboradores do projeto.  A disponibilidade de cada participante, incluindo o lider,  é um conjunto de “slots” (“inputs” do problema)."
   ]
  },
  {
   "cell_type": "markdown",
   "metadata": {
    "id": "PkrOpEJoKA0G"
   },
   "source": [
    "## Análise do problema\n",
    "Pretende-se alocar reuniões de um projecto a salas, ao longo da semana, durante um \"slot\" (tempo, dia).\n",
    "\n",
    "Vamos usar uma família $r_{d,t,s,p,c}$ de variáveis binárias em que\n",
    "$$r_{d,t,s,p,c} == 1 \\quad \\mbox{se e só se} \\quad \\mbox{o colaborador $c$ estará presente numa reunião do projecto $p$ alocada à sala $s$, no \"slot\" ($t$, $d$).}$$\n",
    "\n",
    "Para tal, construíremos uma *matriz de alocação* $R$ com valores $\\{0,1\\}^{C\\times P\\times S\\times T\\times D}$, para representar as $C\\times P\\times S\\times T\\times D$ variáveis binárias.\n",
    "\n",
    "O problema, entretanto, dispõe de algumas limitações que deverão ser tratadas:\n",
    "\n",
    "\n",
    "1. Um colaborador só pode ir a uma reunião que aconteça durante um \"slot\" em que esteja disponível.\n",
    "2. Um colaborador não pode participar de uma reunião de um projecto que não pertença.\n",
    "3. Não pode haver mais de uma reunião numa sala ao mesmo tempo.\n",
    "4. Uma reunião só acontece se o líder do projecto está presente.\n",
    "5. Um colaborador não pode estar em duas reuniões em salas diferentes ao mesmo tempo.\n",
    "6. Uma reunião de um projecto só acontece se, pelo menos, 50% de todos os colaboradores desse projeto estão presentes.\n",
    "7. Cada projecto tem um número de reuniões semanais.\n",
    "\n"
   ]
  },
  {
   "cell_type": "markdown",
   "metadata": {
    "id": "sF9Vu6r31a8u"
   },
   "source": [
    "## Implementação\n",
    "\n",
    "Para a resolução deste problema, utilizaremos a biblioteca de programação linear do OR-Tools, o *pywraplp*. Portanto, começaremos por instalar o OR-Tools, importar tal biblioteca e inicializar o *solver*, que chamaremos de *horario*.\n"
   ]
  },
  {
   "cell_type": "code",
   "execution_count": 127,
   "metadata": {
    "id": "xll24avWRTed"
   },
   "outputs": [
    {
     "name": "stdout",
     "output_type": "stream",
     "text": [
      "Requirement already satisfied: ortools in /usr/local/lib/python3.8/dist-packages (9.1.9490)\n",
      "Requirement already satisfied: absl-py>=0.13 in /usr/local/lib/python3.8/dist-packages (from ortools) (0.14.1)\n",
      "Requirement already satisfied: protobuf>=3.18.0 in /usr/local/lib/python3.8/dist-packages (from ortools) (3.18.1)\n",
      "Requirement already satisfied: six in /usr/lib/python3/dist-packages (from absl-py>=0.13->ortools) (1.14.0)\n"
     ]
    }
   ],
   "source": [
    "!pip install ortools"
   ]
  },
  {
   "cell_type": "code",
   "execution_count": 65,
   "metadata": {
    "id": "UfMAIOU9H5fE"
   },
   "outputs": [],
   "source": [
    "from ortools.linear_solver import pywraplp"
   ]
  },
  {
   "cell_type": "markdown",
   "metadata": {
    "id": "rb_iyV-v3hGP"
   },
   "source": [
    "Nesta seção, serão declaradas as constantes do problema (os primeiros \"inputs\") e algumas variáveis auxiliares."
   ]
  },
  {
   "cell_type": "markdown",
   "metadata": {},
   "source": [
    "Exemplo Input 1 (Possivel)"
   ]
  },
  {
   "cell_type": "code",
   "execution_count": 87,
   "metadata": {
    "id": "gaBU7xYf3x2B"
   },
   "outputs": [],
   "source": [
    "D, T, S = 5, 8, 2    #5 dias, cada dia com um período de 8 horas; 2 salas\n",
    "\n",
    "projectos = {}\n",
    "projectos[1] = (1,[1,2,3],2)\n",
    "projectos[2] = (4,[1,4,2],1)\n",
    "projectos[3] = (3,[3,5,2],2)\n",
    "\n",
    "availability = {}\n",
    "availability[1] = [(t, d) for t in range(1,5) for d in range(1,6)]   #o colaborador 1 está disponível dentre as horas 1 a 4 nos dias 1 a 5.\n",
    "availability[2] = [(t, d) for t in range(1,9) for d in range(1,6)]\n",
    "availability[3] = [(t, d) for t in range(6,9) for d in range(1,6)]\n",
    "availability[4] = [(t, d) for t in range(4,9) for d in range(1,6)]\n",
    "availability[5] = [(t, d) for t in range(4,9) for d in range(1,6)]\n"
   ]
  },
  {
   "cell_type": "markdown",
   "metadata": {},
   "source": [
    "Exemplo Input 2 (Impossivel)"
   ]
  },
  {
   "cell_type": "code",
   "execution_count": 107,
   "metadata": {},
   "outputs": [],
   "source": [
    "D, T, S = 5, 8, 2    \n",
    "\n",
    "projectos = {}\n",
    "projectos[1] = (1,[1,2,3],2)\n",
    "projectos[2] = (4,[1,4,2],1)\n",
    "projectos[3] = (3,[3,5,2],2)\n",
    "\n",
    "availability = {}\n",
    "availability[1] = [(t, d) for t in range(1,3) for d in range(1,6)]   \n",
    "availability[2] = [(t, d) for t in range(3,5) for d in range(1,6)]\n",
    "availability[3] = [(t, d) for t in range(5,9) for d in range(1,6)]\n",
    "availability[4] = [(t, d) for t in range(4,9) for d in range(1,6)]\n",
    "availability[5] = [(t, d) for t in range(4,9) for d in range(1,6)]\n",
    "\n"
   ]
  },
  {
   "cell_type": "markdown",
   "metadata": {},
   "source": [
    "Exemplo Input 3 (Possivel)"
   ]
  },
  {
   "cell_type": "code",
   "execution_count": 117,
   "metadata": {},
   "outputs": [],
   "source": [
    "D, T, S = 5, 8, 2    \n",
    "\n",
    "projectos = {}\n",
    "projectos[1] = (1,[1,2,3,6,7],2)\n",
    "projectos[2] = (4,[1,4,2],1)\n",
    "projectos[3] = (3,[3,5,2],2)\n",
    "\n",
    "\n",
    "availability = {}\n",
    "availability[1] = [(t, d) for t in range(1,3) for d in range(1,6)]   \n",
    "availability[2] = [(t, d) for t in range(2,5) for d in range(1,6)]\n",
    "availability[3] = [(t, d) for t in range(5,9) for d in range(1,6)]\n",
    "availability[4] = [(t, d) for t in range(4,9) for d in range(1,6)]\n",
    "availability[5] = [(t, d) for t in range(4,9) for d in range(1,6)]\n",
    "availability[6] = [(t, d) for t in range(4,9) for d in range(1,6)]\n",
    "availability[7] = [(t, d) for t in range(1,4) for d in range(1,6)]"
   ]
  },
  {
   "cell_type": "markdown",
   "metadata": {
    "id": "0lRU7rtG-JGP"
   },
   "source": [
    "Agora, declaramos a matriz de alocação $R$ como um dicionário."
   ]
  },
  {
   "cell_type": "code",
   "execution_count": 118,
   "metadata": {
    "id": "fV9Dxx3U-Z9p"
   },
   "outputs": [],
   "source": [
    "horario = pywraplp.Solver.CreateSolver('SCIP')\n",
    "P = len(projectos)  #número de projectos\n",
    "L = [projectos[p][0] for p in range(1,P+1)]  #líderes dos projectos\n",
    "C = len(availability)  #número de colaboradores\n",
    "r = {}\n",
    "\n",
    "for c in range(1,C+1):\n",
    "  r[c] = {}\n",
    "  for p in range(1,P+1):\n",
    "    r[c][p] = {}\n",
    "    for s in range(1,S+1):\n",
    "      r[c][p][s] = {}\n",
    "      for t in range(1,T+1):\n",
    "        r[c][p][s][t] = {}\n",
    "        for d in range(1,D+1):\n",
    "          r[c][p][s][t][d] = horario.BoolVar('r[%i][%i][%i][%i][%i]' %(c, p, s, t, d))\n",
    "\n",
    "#abreviatura\n",
    "def R(c, p, s, t, d):\n",
    "  return r[c][p][s][t][d]"
   ]
  },
  {
   "cell_type": "markdown",
   "metadata": {
    "id": "HpdCzYu6-35D"
   },
   "source": [
    "Precisamos, nesta etapa de modelar as restrições e introduzi-las ao *solver*.\n",
    "\n",
    "A restrição\n",
    "\n",
    "1.   Um colaborador não pode comparecer a uma reunião que acontece num \"slot\" em que o mesmo não está disponível.\n",
    "\n",
    "pode ser expressa como:\n",
    "$$\\forall_{c< C} \\cdot \\forall_{p< P} \\cdot \\forall_{s< S} \\cdot \\forall_{t< T} \\cdot \\forall_{d< D} \\cdot r_{c,p,s,t,d} == 0 \\quad \\mbox{se} \\quad \\mbox{o colaborador $c$ não está disponível no \"slot\" ($t$, $d$).}$$\n",
    "\n",
    "Ou seja, se ($t$, $d$) não está na lista correspondente à chave $c$ do dicionário *availability*, o coordenador $c$ não pode estar presente na reunião."
   ]
  },
  {
   "cell_type": "code",
   "execution_count": 119,
   "metadata": {
    "id": "mqgsOqssTq90"
   },
   "outputs": [],
   "source": [
    "for c in range(1,C+1):\n",
    "  for t in range(1,T+1):\n",
    "    for d in range(1,D+1):\n",
    "      if (t, d) not in availability[c]:\n",
    "        for s in range(1,S+1):\n",
    "          for p in range(1,P+1):\n",
    "            horario.Add(R(c, p, s, t, d) == 0)"
   ]
  },
  {
   "cell_type": "markdown",
   "metadata": {
    "id": "JCwJPvFwW8Qp"
   },
   "source": [
    "2. Um colaborador não pode participar numa reunião de um projecto que não pertença\n",
    "\n",
    "pode ser expressa como:\n",
    "$$\\forall_{c< C} \\cdot \\forall_{p< P} \\cdot \\forall_{s< S} \\cdot \\forall_{t< T} \\cdot \\forall_{d< D} \\cdot r_{c,p,s,t,d} == 0 \\quad \\mbox{se} \\quad \\mbox{o colaborador $c$ não faz parte do projeto $p$.}$$\n"
   ]
  },
  {
   "cell_type": "code",
   "execution_count": 120,
   "metadata": {
    "id": "uCFRba7hVteC"
   },
   "outputs": [],
   "source": [
    "for c in range(1,C+1):\n",
    "  for p in range(1,P+1):\n",
    "    if c not in projectos[p][1]:\n",
    "      for s in range(1,S+1):\n",
    "        for t in range(1,T+1):\n",
    "          for d in range(1,D+1):\n",
    "            horario.Add(R(c, p, s, t, d) == 0)"
   ]
  },
  {
   "cell_type": "markdown",
   "metadata": {
    "id": "aABifc_aWwJ8"
   },
   "source": [
    "3.  Não pode haver mais de uma reunião numa sala ao mesmo tempo\n",
    "\n",
    "é equivalente a dizer que, para toda sala e todo \"slot\" ($t$,$d$), a soma de todas as variáveis $r_{l,p,s,t,d}$ tais que $p< P, l< L$ é menor ou igual a 1, onde L é o conjunto de líderes dos projectos, ou seja:\n",
    "$$\\forall_{s< S} \\cdot \\forall_{t< T} \\cdot \\forall_{d< D} \\cdot \\quad \\sum_{p< P,\\,l< L} r_{l,p,s,t,d} \\leq 1$$\n",
    "\n"
   ]
  },
  {
   "cell_type": "code",
   "execution_count": 121,
   "metadata": {
    "id": "xl538t3MJRaE"
   },
   "outputs": [],
   "source": [
    "for s in range(1,S+1):\n",
    "  for t in range(1,T+1):\n",
    "    for d in range(1,D+1):\n",
    "      horario.Add(sum([R(l, p, s, t, d) for p in range(1,P+1) for l in L]) <= 1)"
   ]
  },
  {
   "cell_type": "markdown",
   "metadata": {
    "id": "dkAW3Hh69Fzi"
   },
   "source": [
    "4. Uma reunião de um projecto só acontece quando o líder do mesmo está presente.\n",
    "\n",
    "Em outras palavras, um colaborador de um projecto nunca estará numa reunião em que o líder do projecto não está, ou seja, $$\\forall_{c< C} \\cdot \\forall_{p< P} \\cdot \\forall_{s< S} \\cdot \\forall_{t< T} \\cdot \\forall_{d< D} \\cdot r_{l,p,s,t,d} \\geq r_{c,p,s,t,d}$$\n",
    "sendo $l$ o líder do projecto $p$."
   ]
  },
  {
   "cell_type": "code",
   "execution_count": 122,
   "metadata": {
    "id": "Qbnw38KwKGJd"
   },
   "outputs": [],
   "source": [
    "for p in range(1,P+1):\n",
    "  leader = L[p-1]\n",
    "  for s in range(1,S+1):\n",
    "    for t in range(1,T+1):\n",
    "      for d in range(1,D+1):\n",
    "        for c in range(1,C+1):\n",
    "          horario.Add(R(leader, p, s, t, d) >= R(c, p, s, t, d))"
   ]
  },
  {
   "cell_type": "markdown",
   "metadata": {
    "id": "WdQ1W7yEdslz"
   },
   "source": [
    "5. Um colaborador não pode estar em duas reuniões ao mesmo tempo,\n",
    "\n",
    "ou seja,\n",
    "$$\\forall_{c< C} \\cdot \\forall_{t< T} \\cdot \\forall_{d< D} \\cdot \\quad \\sum_{p< P,\\,s< S} r_{c,p,s,t,d} \\leq 1$$"
   ]
  },
  {
   "cell_type": "code",
   "execution_count": 123,
   "metadata": {
    "id": "6-BUlr1sK0p1"
   },
   "outputs": [],
   "source": [
    "for c in range(1,C+1):\n",
    "  for t in range(1,T+1):\n",
    "    for d in range(1,D+1):\n",
    "      horario.Add(sum([R(c, p, s, t, d) for p in range(1,P+1) for s in range(1,S+1)]) <= 1)"
   ]
  },
  {
   "cell_type": "markdown",
   "metadata": {
    "id": "wvZA5AXye8I-"
   },
   "source": [
    "6. Uma reunião de um projecto só acontece se, pelo menos, 50% de todos os colaboradores desse projecto estão presentes.\n",
    "\n",
    "Para cada projecto $p$, temos o líder $l$ e um quorum tal que $quorum = \\mbox{(número de colaboradores do projecto $p$)} / 2$.\n",
    "\n",
    "Como as reuniões só acontecem se o líder do projecto está presente, usaremos a variável $r_{l,p,s,t,d}$ para garantir que o quorum seja atingido em \"slots\" nos quais o líder pode estar presente. Logo, temos:\n",
    "$$\\forall_{p< P} \\cdot \\forall_{s< S} \\cdot \\forall_{t< T} \\cdot \\forall_{d< D} \\cdot \\sum_{c< C} r_{c,p,s,t,d} \\geq (r_{l,p,s,t,d} * quorum)$$"
   ]
  },
  {
   "cell_type": "code",
   "execution_count": 124,
   "metadata": {
    "id": "xkGzLJ8wLUW0"
   },
   "outputs": [],
   "source": [
    "for p in range(1,P+1):\n",
    "  l = L[p-1]\n",
    "  quorum = len(projectos[p][1]) / 2\n",
    "  for s in range(1,S+1):\n",
    "    for t in range(1,T+1):\n",
    "      for d in range(1,D+1):\n",
    "        horario.Add(sum([R(c, p, s, t, d) for c in range(1,C+1)]) >= (R(l, p, s, t, d) * quorum))"
   ]
  },
  {
   "cell_type": "markdown",
   "metadata": {
    "id": "5k67HbJvh0Fa"
   },
   "source": [
    "7. Cada projecto tem um número de reuniões semanais.\n",
    "\n",
    "Seja $N_p$ o número de reuniões semanais do projecto $p$ (*input* do problema).\n",
    "\n",
    "Então, para cada projecto $p$, temos que garantir que a soma das presenças do líder $l$ em todas as reuniões desse projeto seja igual a $N_p$, ou seja,\n",
    "$$\\forall_{p< P} \\cdot \\sum_{s< S, t< T, d< D} r_{l,p,s,t,d} == N_p$$"
   ]
  },
  {
   "cell_type": "code",
   "execution_count": 125,
   "metadata": {
    "id": "Gy1VX1a3MB3f"
   },
   "outputs": [],
   "source": [
    "for p in range(1,P+1):\n",
    "  N = projectos[p][2]\n",
    "  l = projectos[p][0]\n",
    "  horario.Add(sum([R(l, p, s, t, d) for s in range(1,S+1) for t in range(1,T+1) for d in range(1,D+1)]) == N)"
   ]
  },
  {
   "cell_type": "markdown",
   "metadata": {
    "id": "7PaxuF5q1_t-"
   },
   "source": [
    "Com todas as restrições já introduzidas ao *solver*, basta procurarmos por uma solução.\n",
    "Caso exista, será impresso o horário semanal dividido por projeto."
   ]
  },
  {
   "cell_type": "code",
   "execution_count": 126,
   "metadata": {
    "id": "vy52IhQ4MyYH"
   },
   "outputs": [
    {
     "name": "stdout",
     "output_type": "stream",
     "text": [
      "Projeto:1\n",
      "Dia: 1 Slot: 2 Sala: 2\n",
      "Colaboradores: *1 2 7 \n",
      "Dia: 4 Slot: 2 Sala: 1\n",
      "Colaboradores: *1 2 7 \n",
      "\n",
      "Projeto:2\n",
      "Dia: 1 Slot: 4 Sala: 1\n",
      "Colaboradores: *4 2 \n",
      "\n",
      "Projeto:3\n",
      "Dia: 3 Slot: 5 Sala: 1\n",
      "Colaboradores: *3 5 \n",
      "Dia: 4 Slot: 5 Sala: 1\n",
      "Colaboradores: *3 5 \n",
      "\n"
     ]
    }
   ],
   "source": [
    "status = horario.Solve()\n",
    "if status == pywraplp.Solver.OPTIMAL:\n",
    "  for p in range(1,P+1):\n",
    "        print(f'Projeto:{p}')\n",
    "        l = projectos[p][0]\n",
    "        for d in range(1,D+1):\n",
    "            for t in range(1,T+1):\n",
    "                for s in range(1,S+1):\n",
    "                    if R(l, p, s, t, d).solution_value() == 1:\n",
    "                        print(f'Dia: {d} Slot: {t} Sala: {s}')\n",
    "                        print(\"Colaboradores:\", end= \" \")\n",
    "                        print(f'*{l}', end=\" \")\n",
    "                        for c in range(1,C+1):\n",
    "                            if R(c, p, s, t, d).solution_value()== 1 and c != l:\n",
    "                                print(f'{c}', end=\" \")\n",
    "                        print(\"\")\n",
    "        print(\"\")\n",
    "else:\n",
    "  print(\"Nao é possivel construir o hórario\")"
   ]
  }
 ],
 "metadata": {
  "colab": {
   "collapsed_sections": [],
   "name": "TP1G04-horario.ipynb",
   "provenance": []
  },
  "kernelspec": {
   "display_name": "Python 3 (ipykernel)",
   "language": "python",
   "name": "python3"
  },
  "language_info": {
   "codemirror_mode": {
    "name": "ipython",
    "version": 3
   },
   "file_extension": ".py",
   "mimetype": "text/x-python",
   "name": "python",
   "nbconvert_exporter": "python",
   "pygments_lexer": "ipython3",
   "version": "3.8.10"
  }
 },
 "nbformat": 4,
 "nbformat_minor": 1
}
